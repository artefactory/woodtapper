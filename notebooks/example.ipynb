{
 "cells": [
  {
   "cell_type": "markdown",
   "id": "469c06f0-7ad6-45e5-9587-54b4e97027d6",
   "metadata": {},
   "source": [
    "<center><h1  style=\"color:white; background-color:#000000; border-radius: 0px; padding:25px;\"> Rules extraction </h1></center>"
   ]
  },
  {
   "cell_type": "markdown",
   "id": "37c9f210-d01a-488e-8476-b052bae7c58d",
   "metadata": {},
   "source": [
    "This notebook illustrates rules extraction from decision trees."
   ]
  },
  {
   "cell_type": "code",
   "execution_count": null,
   "id": "376cec6a-3f40-429b-bbc5-4a1aa569b0ba",
   "metadata": {},
   "outputs": [],
   "source": [
    "import os\n",
    "import sys\n",
    "sys.path.insert(1, os.path.abspath(os.path.join(os.getcwd(), os.pardir)))\n",
    "import time\n",
    "\n",
    "import numpy as np"
   ]
  },
  {
   "cell_type": "code",
   "execution_count": null,
   "id": "23c4c3e4-271e-47b7-83d8-50f70f6715a4",
   "metadata": {},
   "outputs": [],
   "source": [
    "from sklearn.datasets import load_iris\n",
    "from sklearn.model_selection import train_test_split\n",
    "from sklearn.metrics import average_precision_score, accuracy_score,roc_auc_score"
   ]
  },
  {
   "cell_type": "code",
   "execution_count": null,
   "id": "45c12d72-f0c2-44b5-914b-fb3e9a5950c5",
   "metadata": {},
   "outputs": [],
   "source": [
    "from sklearn.tree import DecisionTreeClassifier\n",
    "from sklearn.ensemble import RandomForestClassifier,GradientBoostingClassifier\n",
    "from pysirus.models.extractors import SirusDTreeClassifier,SirusRFClassifier,SirusGBClassifier"
   ]
  },
  {
   "cell_type": "code",
   "execution_count": null,
   "id": "d636bbe2-ad93-446d-af0a-1b00c3a73d5c",
   "metadata": {},
   "outputs": [],
   "source": [
    "np.zeros((1,2))"
   ]
  },
  {
   "cell_type": "code",
   "execution_count": null,
   "id": "cb89a2ae-a20a-481b-9f05-3ae5e86d6225",
   "metadata": {},
   "outputs": [],
   "source": [
    "from sklearn import tree"
   ]
  },
  {
   "cell_type": "code",
   "execution_count": null,
   "id": "117ed202-427a-4531-840e-787c753a6747",
   "metadata": {},
   "outputs": [],
   "source": [
    "from pysirus.models.optimizer import train_optimal_extractor_p0"
   ]
  },
  {
   "cell_type": "markdown",
   "id": "4867794f-7b53-4344-8df3-faba07043ed4",
   "metadata": {},
   "source": [
    "## Load data :"
   ]
  },
  {
   "cell_type": "code",
   "execution_count": null,
   "id": "446a433d-0275-48f3-b852-cd2d16d88908",
   "metadata": {},
   "outputs": [],
   "source": [
    "iris = load_iris()\n",
    "X = iris.data\n",
    "y = iris.target\n",
    "X_train, X_test, y_train, y_test = train_test_split(X, y, random_state=0)"
   ]
  },
  {
   "cell_type": "code",
   "execution_count": null,
   "id": "b04f7997-578f-42b8-af47-9eeb241b6d93",
   "metadata": {
    "scrolled": true
   },
   "outputs": [],
   "source": [
    "X"
   ]
  },
  {
   "cell_type": "code",
   "execution_count": null,
   "id": "dc535611-e2fc-49b4-83f7-14735f441b57",
   "metadata": {},
   "outputs": [],
   "source": [
    "y"
   ]
  },
  {
   "cell_type": "markdown",
   "id": "c17b68d4-7652-4d4c-b1af-e5c1bc3038cf",
   "metadata": {},
   "source": [
    "## Single tree : "
   ]
  },
  {
   "cell_type": "code",
   "execution_count": null,
   "id": "6046819a-a10f-4b28-8174-5d2220fbbded",
   "metadata": {},
   "outputs": [],
   "source": [
    "# Usual DecisionTree\n",
    "clf_dtree = DecisionTreeClassifier(max_depth=10, random_state=0)\n",
    "clf_dtree.fit(X_train, y_train)\n",
    "y_pred_dtree = clf_dtree.predict(X_test)\n",
    "y_pred_proba_dtree = clf_dtree.predict_proba(X_test)\n",
    "print('PR AUC :', average_precision_score(y_test, y_pred_proba_dtree))\n",
    "print('ROC AUC :', roc_auc_score(y_test, y_pred_proba_dtree,average='micro',multi_class='ovr'))\n",
    "print('Accuracy :', accuracy_score(y_test, y_pred_dtree))"
   ]
  },
  {
   "cell_type": "code",
   "execution_count": null,
   "id": "12a46408-3a91-4449-84ce-8253231d7311",
   "metadata": {
    "scrolled": true
   },
   "outputs": [],
   "source": [
    "tree.plot_tree(clf_dtree)"
   ]
  },
  {
   "cell_type": "code",
   "execution_count": null,
   "id": "ef288a2f-29ed-4ef5-ba48-5305dd991d16",
   "metadata": {},
   "outputs": [],
   "source": [
    "## DecisionTree rules extraction\n",
    "STree = SirusDTreeClassifier(max_depth=2,p0=0.1,quantile=10, random_state=0)\n",
    "STree.fit(X_train,y_train)\n",
    "y_pred_sirus = STree.predict(X_test)\n",
    "y_pred_proba_sirus = STree.predict_proba(X_test)\n",
    "print('PR AUC :', average_precision_score(y_test, y_pred_proba_sirus))\n",
    "print('ROC AUC :', roc_auc_score(y_test, y_pred_proba_sirus,average='micro',multi_class='ovr'))\n",
    "print('Accuracy :', accuracy_score(y_test, y_pred_sirus))"
   ]
  },
  {
   "cell_type": "code",
   "execution_count": null,
   "id": "e55923ab-b7b6-40b7-b545-adbf044f18fd",
   "metadata": {},
   "outputs": [],
   "source": [
    "STree.feature_names_in_ = ['sepal length','sepal width','petal length','petal width']\n",
    "STree.print_rules(max_rules=3)"
   ]
  },
  {
   "cell_type": "code",
   "execution_count": null,
   "id": "f4e30b8e-ba32-40fb-a2eb-8c5d77dca1f2",
   "metadata": {
    "scrolled": true
   },
   "outputs": [],
   "source": [
    "STree.show_rules(max_rules=16)"
   ]
  },
  {
   "cell_type": "code",
   "execution_count": null,
   "id": "fcc597fc-2e73-4810-93ef-5a467cfac7ea",
   "metadata": {},
   "outputs": [],
   "source": [
    "STree.n_features_in_"
   ]
  },
  {
   "cell_type": "code",
   "execution_count": null,
   "id": "b4d79944-2e81-4ad6-80f5-7d4a8a1e5908",
   "metadata": {},
   "outputs": [],
   "source": [
    "STree.n_classes_ > 2"
   ]
  },
  {
   "cell_type": "markdown",
   "id": "90839d36-29de-47a2-b6b3-ab40ed9cdac1",
   "metadata": {},
   "source": [
    "## Random forest : "
   ]
  },
  {
   "cell_type": "code",
   "execution_count": null,
   "id": "bdc9b6d0-8a08-4206-bd28-6682e6921bf5",
   "metadata": {},
   "outputs": [],
   "source": [
    "# Usual RandomForestClassifier\n",
    "clf_rf = RandomForestClassifier(max_depth=10, random_state=0)\n",
    "start = time.time()\n",
    "clf_rf.fit(X_train, y_train)\n",
    "end = time.time()\n",
    "y_pred_dtree = clf_rf.predict(X_test)\n",
    "y_pred_proba_dtree = clf_rf.predict_proba(X_test)\n",
    "print('PR AUC :', average_precision_score(y_test, y_pred_proba_dtree))\n",
    "print('ROC AUC :', roc_auc_score(y_test, y_pred_proba_dtree,average='micro',multi_class='ovr'))\n",
    "print('Accuracy :', accuracy_score(y_test, y_pred_dtree))\n",
    "time_2 = end-start\n",
    "print('Fitting time = ',time_2 ,'s')"
   ]
  },
  {
   "cell_type": "code",
   "execution_count": null,
   "id": "f4af500e-a0d1-47f2-b7a3-a888f135f48d",
   "metadata": {
    "scrolled": true
   },
   "outputs": [],
   "source": [
    "## RandomForestClassifier rules extraction\n",
    "RFSirus = SirusRFClassifier(n_estimators=1000,max_depth=4,quantile=10,p0=0.01, random_state=0,splitter=\"quantile\")\n",
    "start = time.time()\n",
    "RFSirus.fit(X_train,y_train)\n",
    "end = time.time()\n",
    "y_pred_sirus = RFSirus.predict(X_test,to_add_probas_outside_rules=True)\n",
    "y_pred_proba_sirus = RFSirus.predict_proba(X_test,to_add_probas_outside_rules=True)\n",
    "print('PR AUC :', average_precision_score(y_test, y_pred_proba_sirus))\n",
    "print('ROC AUC :', roc_auc_score(y_test, y_pred_proba_sirus,average='micro',multi_class='ovr'))\n",
    "print('Accuracy :', accuracy_score(y_test, y_pred_sirus))\n",
    "time_2 = end-start\n",
    "print('Fitting time = ',time_2 ,'s')"
   ]
  },
  {
   "cell_type": "code",
   "execution_count": null,
   "id": "6ecbb4fd-4e12-4a86-a2cf-a74546af88d0",
   "metadata": {},
   "outputs": [],
   "source": [
    "RFSirus.n_classes_ > 2"
   ]
  },
  {
   "cell_type": "code",
   "execution_count": null,
   "id": "c5ddf4c7-9c9e-41c2-bb47-28973c31f243",
   "metadata": {},
   "outputs": [],
   "source": [
    "RFSirus.n_classes_"
   ]
  },
  {
   "cell_type": "code",
   "execution_count": null,
   "id": "b48bacd4-2834-431b-80ea-baa22460e37c",
   "metadata": {},
   "outputs": [],
   "source": [
    "RFSirus.feature_names_in_ = ['sepal length','sepal width','petal length','petal width']"
   ]
  },
  {
   "cell_type": "code",
   "execution_count": null,
   "id": "7edd584b-d744-44c5-89fb-f8b5c1f4ae5a",
   "metadata": {},
   "outputs": [],
   "source": [
    "RFSirus.print_rules(max_rules=3)"
   ]
  },
  {
   "cell_type": "code",
   "execution_count": null,
   "id": "c5cf148b-b529-4dcf-877a-6e04870611e1",
   "metadata": {},
   "outputs": [],
   "source": [
    "RFSirus.show_rules(max_rules=20)"
   ]
  },
  {
   "cell_type": "code",
   "execution_count": null,
   "id": "f48be375-8805-4fc2-b6d7-14e674be50c9",
   "metadata": {},
   "outputs": [],
   "source": []
  },
  {
   "cell_type": "code",
   "execution_count": null,
   "id": "f7d2496f-8309-4b62-adc4-81577fc2e5a8",
   "metadata": {},
   "outputs": [],
   "source": []
  },
  {
   "cell_type": "code",
   "execution_count": null,
   "id": "91395abc-e7c2-4e18-af7b-35ed43ceb727",
   "metadata": {},
   "outputs": [],
   "source": []
  },
  {
   "cell_type": "markdown",
   "id": "90968564-70e4-445d-b599-912487785076",
   "metadata": {},
   "source": [
    "## GB :"
   ]
  },
  {
   "cell_type": "code",
   "execution_count": null,
   "id": "6032e05d-3ec8-41ed-b5e7-c88d85d6076d",
   "metadata": {},
   "outputs": [],
   "source": [
    "# Usual GradientBoostingClassifier\n",
    "GB = GradientBoostingClassifier(n_estimators=100,max_depth=3,criterion=\"squared_error\",random_state=19)\n",
    "start = time.time()\n",
    "GB.fit(X_train, y_train)\n",
    "end = time.time()\n",
    "y_pred_dtree = GB.predict(X_test)\n",
    "y_pred_proba_dtree = GB.predict_proba(X_test)\n",
    "print('PR AUC :', average_precision_score(y_test, y_pred_proba_dtree))\n",
    "print('ROC AUC :', roc_auc_score(y_test, y_pred_proba_dtree,average='micro',multi_class='ovr'))\n",
    "print('Accuracy :', accuracy_score(y_test, y_pred_dtree))\n",
    "time_2 = end-start\n",
    "print('Fitting time = ',time_2 ,'s')"
   ]
  },
  {
   "cell_type": "code",
   "execution_count": null,
   "id": "cbf01963-3a6d-4c1d-a87c-a3b06c7a431d",
   "metadata": {
    "scrolled": true
   },
   "outputs": [],
   "source": [
    "# GradientBoostingClassifier rules extraction\n",
    "GBSirus = SirusGBClassifier(n_estimators=1000,max_depth=3,p0=0.01,quantile=10,\n",
    "                            subsample=1.0,criterion=\"squared_error\", random_state=19,splitter=\"quantile\")\n",
    "start = time.time()\n",
    "GBSirus.fit(X_train, y_train)\n",
    "end = time.time()\n",
    "y_pred_dtree = GBSirus.predict(X_test,to_add_probas_outside_rules=True)\n",
    "y_pred_proba_dtree = GBSirus.predict_proba(X_test,to_add_probas_outside_rules=True)\n",
    "print('PR AUC :', average_precision_score(y_test, y_pred_proba_dtree))\n",
    "print('ROC AUC :', roc_auc_score(y_test, y_pred_proba_dtree,average='micro',multi_class='ovr'))\n",
    "print('Accuracy :', accuracy_score(y_test, y_pred_dtree))\n",
    "time_2 = end-start\n",
    "print('Fitting time = ',time_2 ,'s')"
   ]
  },
  {
   "cell_type": "code",
   "execution_count": null,
   "id": "b8eae23d-0364-46c0-a0ba-48c7711fb1dd",
   "metadata": {
    "scrolled": true
   },
   "outputs": [],
   "source": [
    "GBSirus.feature_names_in_ = ['sepal length','sepal width','petal length','petal width']\n",
    "GBSirus.show_rules(max_rules=25)"
   ]
  },
  {
   "cell_type": "code",
   "execution_count": null,
   "id": "4fc30a60-e404-41c5-9ca2-f6d2dc2c89cd",
   "metadata": {},
   "outputs": [],
   "source": []
  },
  {
   "cell_type": "code",
   "execution_count": null,
   "id": "c5f2b4fc-008d-4b53-8ea8-e8b93ce4b16a",
   "metadata": {},
   "outputs": [],
   "source": []
  },
  {
   "cell_type": "code",
   "execution_count": null,
   "id": "13b3b239-72f8-475e-b890-123f89c7f642",
   "metadata": {},
   "outputs": [],
   "source": []
  },
  {
   "cell_type": "code",
   "execution_count": null,
   "id": "f6ba0a0a-e71d-44e2-8a69-2d21d9a58bbc",
   "metadata": {},
   "outputs": [],
   "source": []
  }
 ],
 "metadata": {
  "kernelspec": {
   "display_name": "Python 3 (ipykernel)",
   "language": "python",
   "name": "python3"
  },
  "language_info": {
   "codemirror_mode": {
    "name": "ipython",
    "version": 3
   },
   "file_extension": ".py",
   "mimetype": "text/x-python",
   "name": "python",
   "nbconvert_exporter": "python",
   "pygments_lexer": "ipython3",
   "version": "3.12.11"
  }
 },
 "nbformat": 4,
 "nbformat_minor": 5
}

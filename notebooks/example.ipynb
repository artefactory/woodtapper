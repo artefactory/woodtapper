{
 "cells": [
  {
   "cell_type": "markdown",
   "id": "469c06f0-7ad6-45e5-9587-54b4e97027d6",
   "metadata": {},
   "source": [
    "<center><h1  style=\"color:white; background-color:#000000; border-radius: 0px; padding:25px;\"> Rules extraction </h1></center>"
   ]
  },
  {
   "cell_type": "markdown",
   "id": "37c9f210-d01a-488e-8476-b052bae7c58d",
   "metadata": {},
   "source": [
    "This notebook illustrates rules extraction from decision trees."
   ]
  },
  {
   "cell_type": "code",
   "execution_count": 1,
   "id": "376cec6a-3f40-429b-bbc5-4a1aa569b0ba",
   "metadata": {},
   "outputs": [],
   "source": [
    "import os\n",
    "import sys\n",
    "sys.path.insert(1, os.path.abspath(os.path.join(os.getcwd(), os.pardir)))\n",
    "import time\n",
    "\n",
    "import numpy as np"
   ]
  },
  {
   "cell_type": "code",
   "execution_count": 2,
   "id": "4413736d-543a-4012-9435-9580aa15df1c",
   "metadata": {},
   "outputs": [
    {
     "data": {
      "text/plain": [
       "'/home/abdoulaye_sakho/S3/sirus/rules/notebooks'"
      ]
     },
     "execution_count": 2,
     "metadata": {},
     "output_type": "execute_result"
    }
   ],
   "source": [
    "os.getcwd()"
   ]
  },
  {
   "cell_type": "code",
   "execution_count": 3,
   "id": "23c4c3e4-271e-47b7-83d8-50f70f6715a4",
   "metadata": {},
   "outputs": [],
   "source": [
    "from sklearn.datasets import load_iris\n",
    "from sklearn.model_selection import train_test_split\n",
    "from sklearn.metrics import average_precision_score, accuracy_score,roc_auc_score"
   ]
  },
  {
   "cell_type": "code",
   "execution_count": 4,
   "id": "45c12d72-f0c2-44b5-914b-fb3e9a5950c5",
   "metadata": {},
   "outputs": [],
   "source": [
    "from sklearn.tree import DecisionTreeClassifier\n",
    "from sklearn.ensemble import RandomForestClassifier,GradientBoostingClassifier\n",
    "from extract_rules.extractors import SirusDTreeClassifier,SirusRFClassifier,SirusGBClassifier\n",
    "from extract_rules.visualization import show_rules"
   ]
  },
  {
   "cell_type": "code",
   "execution_count": 5,
   "id": "db6e83fa-732f-493c-bb4a-f5cef3fa6b4c",
   "metadata": {},
   "outputs": [],
   "source": [
    "from extract_rules.building_extractors import SirusGBClassifierDouble"
   ]
  },
  {
   "cell_type": "code",
   "execution_count": 6,
   "id": "cb89a2ae-a20a-481b-9f05-3ae5e86d6225",
   "metadata": {},
   "outputs": [],
   "source": [
    "from sklearn import tree"
   ]
  },
  {
   "cell_type": "markdown",
   "id": "4867794f-7b53-4344-8df3-faba07043ed4",
   "metadata": {},
   "source": [
    "## Load data :"
   ]
  },
  {
   "cell_type": "code",
   "execution_count": 7,
   "id": "446a433d-0275-48f3-b852-cd2d16d88908",
   "metadata": {},
   "outputs": [],
   "source": [
    "iris = load_iris()\n",
    "X = iris.data\n",
    "y = iris.target\n",
    "X_train, X_test, y_train, y_test = train_test_split(X, y, random_state=0)"
   ]
  },
  {
   "cell_type": "code",
   "execution_count": 8,
   "id": "b04f7997-578f-42b8-af47-9eeb241b6d93",
   "metadata": {
    "scrolled": true
   },
   "outputs": [
    {
     "data": {
      "text/plain": [
       "array([[5.1, 3.5, 1.4, 0.2],\n",
       "       [4.9, 3. , 1.4, 0.2],\n",
       "       [4.7, 3.2, 1.3, 0.2],\n",
       "       [4.6, 3.1, 1.5, 0.2],\n",
       "       [5. , 3.6, 1.4, 0.2],\n",
       "       [5.4, 3.9, 1.7, 0.4],\n",
       "       [4.6, 3.4, 1.4, 0.3],\n",
       "       [5. , 3.4, 1.5, 0.2],\n",
       "       [4.4, 2.9, 1.4, 0.2],\n",
       "       [4.9, 3.1, 1.5, 0.1],\n",
       "       [5.4, 3.7, 1.5, 0.2],\n",
       "       [4.8, 3.4, 1.6, 0.2],\n",
       "       [4.8, 3. , 1.4, 0.1],\n",
       "       [4.3, 3. , 1.1, 0.1],\n",
       "       [5.8, 4. , 1.2, 0.2],\n",
       "       [5.7, 4.4, 1.5, 0.4],\n",
       "       [5.4, 3.9, 1.3, 0.4],\n",
       "       [5.1, 3.5, 1.4, 0.3],\n",
       "       [5.7, 3.8, 1.7, 0.3],\n",
       "       [5.1, 3.8, 1.5, 0.3],\n",
       "       [5.4, 3.4, 1.7, 0.2],\n",
       "       [5.1, 3.7, 1.5, 0.4],\n",
       "       [4.6, 3.6, 1. , 0.2],\n",
       "       [5.1, 3.3, 1.7, 0.5],\n",
       "       [4.8, 3.4, 1.9, 0.2],\n",
       "       [5. , 3. , 1.6, 0.2],\n",
       "       [5. , 3.4, 1.6, 0.4],\n",
       "       [5.2, 3.5, 1.5, 0.2],\n",
       "       [5.2, 3.4, 1.4, 0.2],\n",
       "       [4.7, 3.2, 1.6, 0.2],\n",
       "       [4.8, 3.1, 1.6, 0.2],\n",
       "       [5.4, 3.4, 1.5, 0.4],\n",
       "       [5.2, 4.1, 1.5, 0.1],\n",
       "       [5.5, 4.2, 1.4, 0.2],\n",
       "       [4.9, 3.1, 1.5, 0.2],\n",
       "       [5. , 3.2, 1.2, 0.2],\n",
       "       [5.5, 3.5, 1.3, 0.2],\n",
       "       [4.9, 3.6, 1.4, 0.1],\n",
       "       [4.4, 3. , 1.3, 0.2],\n",
       "       [5.1, 3.4, 1.5, 0.2],\n",
       "       [5. , 3.5, 1.3, 0.3],\n",
       "       [4.5, 2.3, 1.3, 0.3],\n",
       "       [4.4, 3.2, 1.3, 0.2],\n",
       "       [5. , 3.5, 1.6, 0.6],\n",
       "       [5.1, 3.8, 1.9, 0.4],\n",
       "       [4.8, 3. , 1.4, 0.3],\n",
       "       [5.1, 3.8, 1.6, 0.2],\n",
       "       [4.6, 3.2, 1.4, 0.2],\n",
       "       [5.3, 3.7, 1.5, 0.2],\n",
       "       [5. , 3.3, 1.4, 0.2],\n",
       "       [7. , 3.2, 4.7, 1.4],\n",
       "       [6.4, 3.2, 4.5, 1.5],\n",
       "       [6.9, 3.1, 4.9, 1.5],\n",
       "       [5.5, 2.3, 4. , 1.3],\n",
       "       [6.5, 2.8, 4.6, 1.5],\n",
       "       [5.7, 2.8, 4.5, 1.3],\n",
       "       [6.3, 3.3, 4.7, 1.6],\n",
       "       [4.9, 2.4, 3.3, 1. ],\n",
       "       [6.6, 2.9, 4.6, 1.3],\n",
       "       [5.2, 2.7, 3.9, 1.4],\n",
       "       [5. , 2. , 3.5, 1. ],\n",
       "       [5.9, 3. , 4.2, 1.5],\n",
       "       [6. , 2.2, 4. , 1. ],\n",
       "       [6.1, 2.9, 4.7, 1.4],\n",
       "       [5.6, 2.9, 3.6, 1.3],\n",
       "       [6.7, 3.1, 4.4, 1.4],\n",
       "       [5.6, 3. , 4.5, 1.5],\n",
       "       [5.8, 2.7, 4.1, 1. ],\n",
       "       [6.2, 2.2, 4.5, 1.5],\n",
       "       [5.6, 2.5, 3.9, 1.1],\n",
       "       [5.9, 3.2, 4.8, 1.8],\n",
       "       [6.1, 2.8, 4. , 1.3],\n",
       "       [6.3, 2.5, 4.9, 1.5],\n",
       "       [6.1, 2.8, 4.7, 1.2],\n",
       "       [6.4, 2.9, 4.3, 1.3],\n",
       "       [6.6, 3. , 4.4, 1.4],\n",
       "       [6.8, 2.8, 4.8, 1.4],\n",
       "       [6.7, 3. , 5. , 1.7],\n",
       "       [6. , 2.9, 4.5, 1.5],\n",
       "       [5.7, 2.6, 3.5, 1. ],\n",
       "       [5.5, 2.4, 3.8, 1.1],\n",
       "       [5.5, 2.4, 3.7, 1. ],\n",
       "       [5.8, 2.7, 3.9, 1.2],\n",
       "       [6. , 2.7, 5.1, 1.6],\n",
       "       [5.4, 3. , 4.5, 1.5],\n",
       "       [6. , 3.4, 4.5, 1.6],\n",
       "       [6.7, 3.1, 4.7, 1.5],\n",
       "       [6.3, 2.3, 4.4, 1.3],\n",
       "       [5.6, 3. , 4.1, 1.3],\n",
       "       [5.5, 2.5, 4. , 1.3],\n",
       "       [5.5, 2.6, 4.4, 1.2],\n",
       "       [6.1, 3. , 4.6, 1.4],\n",
       "       [5.8, 2.6, 4. , 1.2],\n",
       "       [5. , 2.3, 3.3, 1. ],\n",
       "       [5.6, 2.7, 4.2, 1.3],\n",
       "       [5.7, 3. , 4.2, 1.2],\n",
       "       [5.7, 2.9, 4.2, 1.3],\n",
       "       [6.2, 2.9, 4.3, 1.3],\n",
       "       [5.1, 2.5, 3. , 1.1],\n",
       "       [5.7, 2.8, 4.1, 1.3],\n",
       "       [6.3, 3.3, 6. , 2.5],\n",
       "       [5.8, 2.7, 5.1, 1.9],\n",
       "       [7.1, 3. , 5.9, 2.1],\n",
       "       [6.3, 2.9, 5.6, 1.8],\n",
       "       [6.5, 3. , 5.8, 2.2],\n",
       "       [7.6, 3. , 6.6, 2.1],\n",
       "       [4.9, 2.5, 4.5, 1.7],\n",
       "       [7.3, 2.9, 6.3, 1.8],\n",
       "       [6.7, 2.5, 5.8, 1.8],\n",
       "       [7.2, 3.6, 6.1, 2.5],\n",
       "       [6.5, 3.2, 5.1, 2. ],\n",
       "       [6.4, 2.7, 5.3, 1.9],\n",
       "       [6.8, 3. , 5.5, 2.1],\n",
       "       [5.7, 2.5, 5. , 2. ],\n",
       "       [5.8, 2.8, 5.1, 2.4],\n",
       "       [6.4, 3.2, 5.3, 2.3],\n",
       "       [6.5, 3. , 5.5, 1.8],\n",
       "       [7.7, 3.8, 6.7, 2.2],\n",
       "       [7.7, 2.6, 6.9, 2.3],\n",
       "       [6. , 2.2, 5. , 1.5],\n",
       "       [6.9, 3.2, 5.7, 2.3],\n",
       "       [5.6, 2.8, 4.9, 2. ],\n",
       "       [7.7, 2.8, 6.7, 2. ],\n",
       "       [6.3, 2.7, 4.9, 1.8],\n",
       "       [6.7, 3.3, 5.7, 2.1],\n",
       "       [7.2, 3.2, 6. , 1.8],\n",
       "       [6.2, 2.8, 4.8, 1.8],\n",
       "       [6.1, 3. , 4.9, 1.8],\n",
       "       [6.4, 2.8, 5.6, 2.1],\n",
       "       [7.2, 3. , 5.8, 1.6],\n",
       "       [7.4, 2.8, 6.1, 1.9],\n",
       "       [7.9, 3.8, 6.4, 2. ],\n",
       "       [6.4, 2.8, 5.6, 2.2],\n",
       "       [6.3, 2.8, 5.1, 1.5],\n",
       "       [6.1, 2.6, 5.6, 1.4],\n",
       "       [7.7, 3. , 6.1, 2.3],\n",
       "       [6.3, 3.4, 5.6, 2.4],\n",
       "       [6.4, 3.1, 5.5, 1.8],\n",
       "       [6. , 3. , 4.8, 1.8],\n",
       "       [6.9, 3.1, 5.4, 2.1],\n",
       "       [6.7, 3.1, 5.6, 2.4],\n",
       "       [6.9, 3.1, 5.1, 2.3],\n",
       "       [5.8, 2.7, 5.1, 1.9],\n",
       "       [6.8, 3.2, 5.9, 2.3],\n",
       "       [6.7, 3.3, 5.7, 2.5],\n",
       "       [6.7, 3. , 5.2, 2.3],\n",
       "       [6.3, 2.5, 5. , 1.9],\n",
       "       [6.5, 3. , 5.2, 2. ],\n",
       "       [6.2, 3.4, 5.4, 2.3],\n",
       "       [5.9, 3. , 5.1, 1.8]])"
      ]
     },
     "execution_count": 8,
     "metadata": {},
     "output_type": "execute_result"
    }
   ],
   "source": [
    "X"
   ]
  },
  {
   "cell_type": "code",
   "execution_count": 9,
   "id": "dc535611-e2fc-49b4-83f7-14735f441b57",
   "metadata": {},
   "outputs": [
    {
     "data": {
      "text/plain": [
       "array([0, 0, 0, 0, 0, 0, 0, 0, 0, 0, 0, 0, 0, 0, 0, 0, 0, 0, 0, 0, 0, 0,\n",
       "       0, 0, 0, 0, 0, 0, 0, 0, 0, 0, 0, 0, 0, 0, 0, 0, 0, 0, 0, 0, 0, 0,\n",
       "       0, 0, 0, 0, 0, 0, 1, 1, 1, 1, 1, 1, 1, 1, 1, 1, 1, 1, 1, 1, 1, 1,\n",
       "       1, 1, 1, 1, 1, 1, 1, 1, 1, 1, 1, 1, 1, 1, 1, 1, 1, 1, 1, 1, 1, 1,\n",
       "       1, 1, 1, 1, 1, 1, 1, 1, 1, 1, 1, 1, 2, 2, 2, 2, 2, 2, 2, 2, 2, 2,\n",
       "       2, 2, 2, 2, 2, 2, 2, 2, 2, 2, 2, 2, 2, 2, 2, 2, 2, 2, 2, 2, 2, 2,\n",
       "       2, 2, 2, 2, 2, 2, 2, 2, 2, 2, 2, 2, 2, 2, 2, 2, 2, 2])"
      ]
     },
     "execution_count": 9,
     "metadata": {},
     "output_type": "execute_result"
    }
   ],
   "source": [
    "y"
   ]
  },
  {
   "cell_type": "markdown",
   "id": "c17b68d4-7652-4d4c-b1af-e5c1bc3038cf",
   "metadata": {},
   "source": [
    "## Single tree : "
   ]
  },
  {
   "cell_type": "code",
   "execution_count": 10,
   "id": "6046819a-a10f-4b28-8174-5d2220fbbded",
   "metadata": {},
   "outputs": [
    {
     "name": "stdout",
     "output_type": "stream",
     "text": [
      "PR AUC : 0.9546052631578946\n",
      "ROC AUC : 0.980263157894737\n",
      "Accuracy : 0.9736842105263158\n"
     ]
    }
   ],
   "source": [
    "# Usual DecisionTree\n",
    "clf_dtree = DecisionTreeClassifier(max_depth=10, random_state=0)\n",
    "clf_dtree.fit(X_train, y_train)\n",
    "y_pred_dtree = clf_dtree.predict(X_test)\n",
    "y_pred_proba_dtree = clf_dtree.predict_proba(X_test)\n",
    "print('PR AUC :', average_precision_score(y_test, y_pred_proba_dtree))\n",
    "print('ROC AUC :', roc_auc_score(y_test, y_pred_proba_dtree,average='micro',multi_class='ovr'))\n",
    "print('Accuracy :', accuracy_score(y_test, y_pred_dtree))"
   ]
  },
  {
   "cell_type": "code",
   "execution_count": 11,
   "id": "12a46408-3a91-4449-84ce-8253231d7311",
   "metadata": {
    "scrolled": true
   },
   "outputs": [
    {
     "data": {
      "text/plain": [
       "[Text(0.4, 0.9, 'x[3] <= 0.8\\ngini = 0.665\\nsamples = 112\\nvalue = [37, 34, 41]'),\n",
       " Text(0.3, 0.7, 'gini = 0.0\\nsamples = 37\\nvalue = [37, 0, 0]'),\n",
       " Text(0.35, 0.8, 'True  '),\n",
       " Text(0.5, 0.7, 'x[2] <= 4.95\\ngini = 0.496\\nsamples = 75\\nvalue = [0, 34, 41]'),\n",
       " Text(0.45, 0.8, '  False'),\n",
       " Text(0.2, 0.5, 'x[3] <= 1.65\\ngini = 0.153\\nsamples = 36\\nvalue = [0, 33, 3]'),\n",
       " Text(0.1, 0.3, 'gini = 0.0\\nsamples = 32\\nvalue = [0, 32, 0]'),\n",
       " Text(0.3, 0.3, 'x[1] <= 3.1\\ngini = 0.375\\nsamples = 4\\nvalue = [0, 1, 3]'),\n",
       " Text(0.2, 0.1, 'gini = 0.0\\nsamples = 3\\nvalue = [0, 0, 3]'),\n",
       " Text(0.4, 0.1, 'gini = 0.0\\nsamples = 1\\nvalue = [0, 1, 0]'),\n",
       " Text(0.8, 0.5, 'x[3] <= 1.75\\ngini = 0.05\\nsamples = 39\\nvalue = [0, 1, 38]'),\n",
       " Text(0.7, 0.3, 'x[3] <= 1.65\\ngini = 0.375\\nsamples = 4\\nvalue = [0, 1, 3]'),\n",
       " Text(0.6, 0.1, 'gini = 0.0\\nsamples = 3\\nvalue = [0, 0, 3]'),\n",
       " Text(0.8, 0.1, 'gini = 0.0\\nsamples = 1\\nvalue = [0, 1, 0]'),\n",
       " Text(0.9, 0.3, 'gini = 0.0\\nsamples = 35\\nvalue = [0, 0, 35]')]"
      ]
     },
     "execution_count": 11,
     "metadata": {},
     "output_type": "execute_result"
    },
    {
     "data": {
      "image/png": "[encoded data removed]",
      "text/plain": [
       "<Figure size 640x480 with 1 Axes>"
      ]
     },
     "metadata": {},
     "output_type": "display_data"
    }
   ],
   "source": [
    "tree.plot_tree(clf_dtree)"
   ]
  },
  {
   "cell_type": "code",
   "execution_count": 12,
   "id": "ef288a2f-29ed-4ef5-ba48-5305dd991d16",
   "metadata": {
    "scrolled": true
   },
   "outputs": [
    {
     "name": "stdout",
     "output_type": "stream",
     "text": [
      "Pre-processing binarization took in fit_main_clasifier 0.0014 seconds\n",
      "Grow forest took 0.0010 seconds\n",
      "Linear dep post-treatment took 0.0018 seconds\n",
      "Rules extraction took 0.0020 seconds\n",
      "PR AUC : 0.9163432355967078\n",
      "ROC AUC : 0.9802631578947368\n",
      "Accuracy : 0.9473684210526315\n"
     ]
    }
   ],
   "source": [
    "## DecisionTree rules extraction\n",
    "STree = SirusDTreeClassifier(max_depth=2,p0=0.1,quantile=10, random_state=0)\n",
    "STree.fit(X_train,y_train)\n",
    "y_pred_sirus = STree.predict(X_test)\n",
    "y_pred_proba_sirus = STree.predict_proba(X_test)\n",
    "print('PR AUC :', average_precision_score(y_test, y_pred_proba_sirus))\n",
    "print('ROC AUC :', roc_auc_score(y_test, y_pred_proba_sirus,average='micro',multi_class='ovr'))\n",
    "print('Accuracy :', accuracy_score(y_test, y_pred_sirus))"
   ]
  },
  {
   "cell_type": "code",
   "execution_count": 13,
   "id": "e55923ab-b7b6-40b7-b545-adbf044f18fd",
   "metadata": {},
   "outputs": [
    {
     "name": "stdout",
     "output_type": "stream",
     "text": [
      "Estimated average rate for target class 1 (from 'else' clauses) p_s = 19%.\n",
      "(Note: True average rate should be P(Class=1) from training data).\n",
      "\n",
      "IF Condition                                     THEN P(C1)      ELSE P(C1)\n",
      "--------------------------------------------------------------------------------\n",
      "if   petal length <= 4.90                        then 44%                else 7%                \n",
      "if   petal width <= 0.77                         then 0%                 else 45%               \n",
      "if   petal width > 0.77 & petal length <= 4.90   then 94%                else 4%                \n"
     ]
    }
   ],
   "source": [
    "STree.feature_names_in_ = ['sepal length','sepal width','petal length','petal width']\n",
    "show_rules(STree,max_rules=16)"
   ]
  },
  {
   "cell_type": "code",
   "execution_count": 14,
   "id": "fcc597fc-2e73-4810-93ef-5a467cfac7ea",
   "metadata": {},
   "outputs": [
    {
     "data": {
      "text/plain": [
       "4"
      ]
     },
     "execution_count": 14,
     "metadata": {},
     "output_type": "execute_result"
    }
   ],
   "source": [
    "STree.n_features_in_"
   ]
  },
  {
   "cell_type": "code",
   "execution_count": 15,
   "id": "b4d79944-2e81-4ad6-80f5-7d4a8a1e5908",
   "metadata": {},
   "outputs": [
    {
     "data": {
      "text/plain": [
       "np.True_"
      ]
     },
     "execution_count": 15,
     "metadata": {},
     "output_type": "execute_result"
    }
   ],
   "source": [
    "STree.n_classes_ > 2"
   ]
  },
  {
   "cell_type": "markdown",
   "id": "90839d36-29de-47a2-b6b3-ab40ed9cdac1",
   "metadata": {},
   "source": [
    "## Random forest : "
   ]
  },
  {
   "cell_type": "code",
   "execution_count": 16,
   "id": "bdc9b6d0-8a08-4206-bd28-6682e6921bf5",
   "metadata": {},
   "outputs": [
    {
     "name": "stdout",
     "output_type": "stream",
     "text": [
      "PR AUC : 0.9780937683715462\n",
      "ROC AUC : 0.996191135734072\n",
      "Accuracy : 0.9736842105263158\n",
      "Fitting time =  0.06291699409484863 s\n"
     ]
    }
   ],
   "source": [
    "# Usual RandomForestClassifier\n",
    "clf_rf = RandomForestClassifier(max_depth=10, random_state=0)\n",
    "start = time.time()\n",
    "clf_rf.fit(X_train, y_train)\n",
    "end = time.time()\n",
    "y_pred_dtree = clf_rf.predict(X_test)\n",
    "y_pred_proba_dtree = clf_rf.predict_proba(X_test)\n",
    "print('PR AUC :', average_precision_score(y_test, y_pred_proba_dtree))\n",
    "print('ROC AUC :', roc_auc_score(y_test, y_pred_proba_dtree,average='micro',multi_class='ovr'))\n",
    "print('Accuracy :', accuracy_score(y_test, y_pred_dtree))\n",
    "time_2 = end-start\n",
    "print('Fitting time = ',time_2 ,'s')"
   ]
  },
  {
   "cell_type": "code",
   "execution_count": 17,
   "id": "f4af500e-a0d1-47f2-b7a3-a888f135f48d",
   "metadata": {
    "scrolled": true
   },
   "outputs": [
    {
     "name": "stdout",
     "output_type": "stream",
     "text": [
      "Pre-processing binarization took in fit_main_clasifier 0.0013 seconds\n",
      "Grow forest took 0.6034 seconds\n",
      "Linear dep post-treatment took 0.0033 seconds\n",
      "Rules extraction took 0.1925 seconds\n",
      "All fit took 0.8959 seconds\n",
      "Computing stability criterion...\n",
      "***** \n",
      " Stability criterion value: 0.0 \n",
      "*****\n",
      "PR AUC : 0.9770502645502646\n",
      "ROC AUC : 0.9785318559556787\n",
      "Accuracy : 0.9736842105263158\n",
      "Fitting time =  0.9072341918945312 s\n"
     ]
    }
   ],
   "source": [
    "## RandomForestClassifier rules extraction\n",
    "RFSirus = SirusRFClassifier(n_estimators=1000,max_depth=4,quantile=10,p0=0.01, random_state=0,splitter=\"quantile\")\n",
    "start = time.time()\n",
    "RFSirus.fit(X_train,y_train)\n",
    "end = time.time()\n",
    "y_pred_sirus = RFSirus.predict(X_test,to_add_probas_outside_rules=True)\n",
    "y_pred_proba_sirus = RFSirus.predict_proba(X_test,to_add_probas_outside_rules=True)\n",
    "print('PR AUC :', average_precision_score(y_test, y_pred_proba_sirus))\n",
    "print('ROC AUC :', roc_auc_score(y_test, y_pred_proba_sirus,average='micro',multi_class='ovr'))\n",
    "print('Accuracy :', accuracy_score(y_test, y_pred_sirus))\n",
    "time_2 = end-start\n",
    "print('Fitting time = ',time_2 ,'s')"
   ]
  },
  {
   "cell_type": "code",
   "execution_count": 18,
   "id": "6ecbb4fd-4e12-4a86-a2cf-a74546af88d0",
   "metadata": {},
   "outputs": [
    {
     "data": {
      "text/plain": [
       "True"
      ]
     },
     "execution_count": 18,
     "metadata": {},
     "output_type": "execute_result"
    }
   ],
   "source": [
    "RFSirus.n_classes_ > 2"
   ]
  },
  {
   "cell_type": "code",
   "execution_count": 19,
   "id": "c5ddf4c7-9c9e-41c2-bb47-28973c31f243",
   "metadata": {},
   "outputs": [
    {
     "data": {
      "text/plain": [
       "3"
      ]
     },
     "execution_count": 19,
     "metadata": {},
     "output_type": "execute_result"
    }
   ],
   "source": [
    "RFSirus.n_classes_"
   ]
  },
  {
   "cell_type": "code",
   "execution_count": 20,
   "id": "b48bacd4-2834-431b-80ea-baa22460e37c",
   "metadata": {},
   "outputs": [],
   "source": [
    "RFSirus.feature_names_in_ = ['sepal length','sepal width','petal length','petal width']"
   ]
  },
  {
   "cell_type": "code",
   "execution_count": 36,
   "id": "c5cf148b-b529-4dcf-877a-6e04870611e1",
   "metadata": {},
   "outputs": [
    {
     "name": "stdout",
     "output_type": "stream",
     "text": [
      "Estimated average rate for target class 2 (from 'else' clauses) p_s = 73%.\n",
      "(Note: True average rate should be P(Class=2) from training data).\n",
      "\n",
      "IF Condition                                      THEN P(C2)      ELSE P(C2)\n",
      "---------------------------------------------------------------------------------\n",
      "if   petal length <= 4.70                         then 2%                 else 87%               \n",
      "if   petal length > 4.70 & petal length <= 5.10   then 45%                else 36%               \n",
      "if   petal width <= 1.50                          then 3%                 else 91%               \n",
      "if   petal width <= 0.40                          then 0%                 else 53%               \n",
      "if   petal width <= 1.80                          then 5%                 else 97%               \n"
     ]
    }
   ],
   "source": [
    "show_rules(RFSirus,max_rules=20,target_class_index=2)"
   ]
  },
  {
   "cell_type": "code",
   "execution_count": null,
   "id": "f7d2496f-8309-4b62-adc4-81577fc2e5a8",
   "metadata": {},
   "outputs": [],
   "source": []
  },
  {
   "cell_type": "markdown",
   "id": "90968564-70e4-445d-b599-912487785076",
   "metadata": {},
   "source": [
    "## GB :"
   ]
  },
  {
   "cell_type": "code",
   "execution_count": 22,
   "id": "6032e05d-3ec8-41ed-b5e7-c88d85d6076d",
   "metadata": {},
   "outputs": [
    {
     "name": "stdout",
     "output_type": "stream",
     "text": [
      "PR AUC : 0.9780937683715462\n",
      "ROC AUC : 0.9951523545706371\n",
      "Accuracy : 0.9736842105263158\n",
      "Fitting time =  0.13606858253479004 s\n"
     ]
    }
   ],
   "source": [
    "# Usual GradientBoostingClassifier\n",
    "GB = GradientBoostingClassifier(n_estimators=100,max_depth=3,criterion=\"squared_error\",random_state=19)\n",
    "start = time.time()\n",
    "GB.fit(X_train, y_train)\n",
    "end = time.time()\n",
    "y_pred_dtree = GB.predict(X_test)\n",
    "y_pred_proba_dtree = GB.predict_proba(X_test)\n",
    "print('PR AUC :', average_precision_score(y_test, y_pred_proba_dtree))\n",
    "print('ROC AUC :', roc_auc_score(y_test, y_pred_proba_dtree,average='micro',multi_class='ovr'))\n",
    "print('Accuracy :', accuracy_score(y_test, y_pred_dtree))\n",
    "time_2 = end-start\n",
    "print('Fitting time = ',time_2 ,'s')"
   ]
  },
  {
   "cell_type": "code",
   "execution_count": 23,
   "id": "cbf01963-3a6d-4c1d-a87c-a3b06c7a431d",
   "metadata": {
    "scrolled": true
   },
   "outputs": [
    {
     "name": "stdout",
     "output_type": "stream",
     "text": [
      "Pre-processing binarization took in fit_main_clasifier 0.0013 seconds\n",
      "Grow forest took 0.9901 seconds\n",
      "Computing stability criterion...\n",
      "***** \n",
      " Stability criterion value: 0.0 \n",
      "*****\n",
      "PR AUC : 0.95939365645248\n",
      "ROC AUC : 0.993421052631579\n",
      "Accuracy : 0.9736842105263158\n",
      "Fitting time =  1.1013903617858887 s\n"
     ]
    }
   ],
   "source": [
    "# GradientBoostingClassifier rules extraction\n",
    "GBSirus = SirusGBClassifier(n_estimators=1000,max_depth=3,p0=0.01,quantile=10,\n",
    "                            learning_rate=0.1,subsample=1.0,criterion=\"squared_error\",loss=\"log_loss\", \n",
    "                            random_state=19,splitter=\"quantile\")\n",
    "start = time.time()\n",
    "GBSirus.fit(X_train, y_train)\n",
    "end = time.time()\n",
    "y_pred_dtree = GBSirus.predict(X_test,to_add_probas_outside_rules=True)\n",
    "y_pred_proba_dtree = GBSirus.predict_proba(X_test,to_add_probas_outside_rules=True)\n",
    "print('PR AUC :', average_precision_score(y_test, y_pred_proba_dtree))\n",
    "print('ROC AUC :', roc_auc_score(y_test, y_pred_proba_dtree,average='micro',multi_class='ovr'))\n",
    "print('Accuracy :', accuracy_score(y_test, y_pred_dtree))\n",
    "time_2 = end-start\n",
    "print('Fitting time = ',time_2 ,'s')"
   ]
  },
  {
   "cell_type": "code",
   "execution_count": 24,
   "id": "25f5078f-81e3-42c4-bf7a-0bcb50bd6bbb",
   "metadata": {
    "scrolled": true
   },
   "outputs": [
    {
     "data": {
      "text/plain": [
       "array([[ 3.01939515e-05,  8.36991553e-02,  9.16270651e-01],\n",
       "       [ 1.17274370e-03,  9.71009236e-01,  2.78180199e-02],\n",
       "       [ 1.00025170e+00, -1.15820504e-02,  1.13303554e-02],\n",
       "       [-3.17446456e-05, -1.87317851e-02,  1.01876353e+00],\n",
       "       [ 1.00025170e+00, -1.15820504e-02,  1.13303554e-02],\n",
       "       [ 6.88079550e-04,  1.01095499e-01,  8.98216421e-01],\n",
       "       [ 1.00042301e+00,  2.05091000e-02, -2.09321144e-02],\n",
       "       [ 4.12613181e-04,  8.83176759e-01,  1.16410628e-01],\n",
       "       [ 1.32721924e-05,  7.83134626e-01,  2.16852102e-01],\n",
       "       [ 7.52107895e-05,  8.85565567e-01,  1.14359223e-01],\n",
       "       [ 7.52107895e-05,  8.85565567e-01,  1.14359223e-01],\n",
       "       [ 4.74551778e-04,  9.85607699e-01,  1.39177491e-02],\n",
       "       [ 7.52107895e-05,  8.85565567e-01,  1.14359223e-01],\n",
       "       [ 1.32721924e-05,  7.83134626e-01,  2.16852102e-01],\n",
       "       [ 7.52107895e-05,  8.85565567e-01,  1.14359223e-01],\n",
       "       [ 1.00025170e+00, -1.15820504e-02,  1.13303554e-02],\n",
       "       [ 7.52107895e-05,  8.85565567e-01,  1.14359223e-01],\n",
       "       [ 7.52107895e-05,  8.85565567e-01,  1.14359223e-01],\n",
       "       [ 9.99252557e-01, -2.24199923e-02,  2.31674353e-02],\n",
       "       [ 1.00042301e+00,  2.05091000e-02, -2.09321144e-02],\n",
       "       [ 3.01939515e-05,  8.36991553e-02,  9.16270651e-01],\n",
       "       [ 7.52107895e-05,  8.85565567e-01,  1.14359223e-01],\n",
       "       [ 1.00025170e+00, -1.15820504e-02,  1.13303554e-02],\n",
       "       [ 9.99081238e-01, -5.45111427e-02,  5.54299052e-02],\n",
       "       [ 3.01939515e-05,  8.36991553e-02,  9.16270651e-01],\n",
       "       [ 1.00025170e+00, -1.15820504e-02,  1.13303554e-02],\n",
       "       [ 1.00042301e+00,  2.05091000e-02, -2.09321144e-02],\n",
       "       [ 7.52107895e-05,  8.85565567e-01,  1.14359223e-01],\n",
       "       [ 1.17274370e-03,  9.71009236e-01,  2.78180199e-02],\n",
       "       [ 1.00042301e+00,  2.05091000e-02, -2.09321144e-02],\n",
       "       [ 4.29534940e-04,  1.83741288e-01,  8.15829177e-01],\n",
       "       [ 7.52107895e-05,  8.85565567e-01,  1.14359223e-01],\n",
       "       [ 1.00025170e+00, -1.15820504e-02,  1.13303554e-02],\n",
       "       [ 3.01939515e-05,  8.36991553e-02,  9.16270651e-01],\n",
       "       [ 3.01939515e-05,  8.36991553e-02,  9.16270651e-01],\n",
       "       [ 7.52107895e-05,  8.85565567e-01,  1.14359223e-01],\n",
       "       [ 1.00042301e+00,  2.05091000e-02, -2.09321144e-02],\n",
       "       [ 7.52107895e-05,  8.85565567e-01,  1.14359223e-01]])"
      ]
     },
     "execution_count": 24,
     "metadata": {},
     "output_type": "execute_result"
    }
   ],
   "source": [
    "y_pred_proba_dtree"
   ]
  },
  {
   "cell_type": "code",
   "execution_count": 32,
   "id": "1742ab06-4abd-455e-96cb-50fbde910a8e",
   "metadata": {},
   "outputs": [
    {
     "name": "stdout",
     "output_type": "stream",
     "text": [
      "Estimated average rate for target class 2 (from 'else' clauses) p_s = -29%.\n",
      "(Note: True average rate should be P(Class=2) from training data).\n",
      "\n",
      "IF Condition                                     THEN P(C2)      ELSE P(C2)\n",
      "--------------------------------------------------------------------------------\n",
      "if   petal width <= 1.14 & sepal width <= 3.20   then 43%                else 149%              \n",
      "if   petal width <= 1.14 & sepal width > 3.20    then 0%                 else 97%               \n",
      "if   petal width <= 0.40                         then -0%                else -10%              \n",
      "if   sepal width <= 2.50                         then 54%                else 44%               \n",
      "if   sepal width <= 3.20                         then -14%               else -6%               \n",
      "if   petal width > 1.14 & petal width <= 1.80    then -662%              else -581%             \n",
      "if   sepal width > 3.20 & petal width <= 0.40    then 0%                 else 12%               \n",
      "if   sepal width <= 3.10                         then 21%                else 11%               \n",
      "if   petal width > 1.14 & sepal length <= 6.40   then -25%               else -14%              \n",
      "if   petal width <= 1.14 & petal width > 0.20    then 2%                 else 5%                \n"
     ]
    }
   ],
   "source": [
    "GBSirus.feature_names_in_ = ['sepal length','sepal width','petal length','petal width']\n",
    "show_rules(GBSirus,max_rules=25,target_class_index=2)"
   ]
  },
  {
   "cell_type": "code",
   "execution_count": 26,
   "id": "e4fb34e9-2edf-4108-87c6-9e6b9f12c5f1",
   "metadata": {
    "scrolled": true
   },
   "outputs": [
    {
     "data": {
      "text/plain": [
       "array([[ 3.01939515e-05,  8.36991553e-02,  9.16270651e-01],\n",
       "       [ 1.17274370e-03,  9.71009236e-01,  2.78180199e-02],\n",
       "       [ 1.00025170e+00, -1.15820504e-02,  1.13303554e-02],\n",
       "       [-3.17446456e-05, -1.87317851e-02,  1.01876353e+00],\n",
       "       [ 1.00025170e+00, -1.15820504e-02,  1.13303554e-02],\n",
       "       [ 6.88079550e-04,  1.01095499e-01,  8.98216421e-01],\n",
       "       [ 1.00042301e+00,  2.05091000e-02, -2.09321144e-02],\n",
       "       [ 4.12613181e-04,  8.83176759e-01,  1.16410628e-01],\n",
       "       [ 1.32721924e-05,  7.83134626e-01,  2.16852102e-01],\n",
       "       [ 7.52107895e-05,  8.85565567e-01,  1.14359223e-01],\n",
       "       [ 7.52107895e-05,  8.85565567e-01,  1.14359223e-01],\n",
       "       [ 4.74551778e-04,  9.85607699e-01,  1.39177491e-02],\n",
       "       [ 7.52107895e-05,  8.85565567e-01,  1.14359223e-01],\n",
       "       [ 1.32721924e-05,  7.83134626e-01,  2.16852102e-01],\n",
       "       [ 7.52107895e-05,  8.85565567e-01,  1.14359223e-01],\n",
       "       [ 1.00025170e+00, -1.15820504e-02,  1.13303554e-02],\n",
       "       [ 7.52107895e-05,  8.85565567e-01,  1.14359223e-01],\n",
       "       [ 7.52107895e-05,  8.85565567e-01,  1.14359223e-01],\n",
       "       [ 9.99252557e-01, -2.24199923e-02,  2.31674353e-02],\n",
       "       [ 1.00042301e+00,  2.05091000e-02, -2.09321144e-02],\n",
       "       [ 3.01939515e-05,  8.36991553e-02,  9.16270651e-01],\n",
       "       [ 7.52107895e-05,  8.85565567e-01,  1.14359223e-01],\n",
       "       [ 1.00025170e+00, -1.15820504e-02,  1.13303554e-02],\n",
       "       [ 9.99081238e-01, -5.45111427e-02,  5.54299052e-02],\n",
       "       [ 3.01939515e-05,  8.36991553e-02,  9.16270651e-01],\n",
       "       [ 1.00025170e+00, -1.15820504e-02,  1.13303554e-02],\n",
       "       [ 1.00042301e+00,  2.05091000e-02, -2.09321144e-02],\n",
       "       [ 7.52107895e-05,  8.85565567e-01,  1.14359223e-01],\n",
       "       [ 1.17274370e-03,  9.71009236e-01,  2.78180199e-02],\n",
       "       [ 1.00042301e+00,  2.05091000e-02, -2.09321144e-02],\n",
       "       [ 4.29534940e-04,  1.83741288e-01,  8.15829177e-01],\n",
       "       [ 7.52107895e-05,  8.85565567e-01,  1.14359223e-01],\n",
       "       [ 1.00025170e+00, -1.15820504e-02,  1.13303554e-02],\n",
       "       [ 3.01939515e-05,  8.36991553e-02,  9.16270651e-01],\n",
       "       [ 3.01939515e-05,  8.36991553e-02,  9.16270651e-01],\n",
       "       [ 7.52107895e-05,  8.85565567e-01,  1.14359223e-01],\n",
       "       [ 1.00042301e+00,  2.05091000e-02, -2.09321144e-02],\n",
       "       [ 7.52107895e-05,  8.85565567e-01,  1.14359223e-01]])"
      ]
     },
     "execution_count": 26,
     "metadata": {},
     "output_type": "execute_result"
    }
   ],
   "source": [
    "y_pred_proba_dtree"
   ]
  },
  {
   "cell_type": "code",
   "execution_count": 27,
   "id": "1af5731b-cc05-4ec3-a45c-2ab362eaa5f7",
   "metadata": {},
   "outputs": [
    {
     "data": {
      "text/plain": [
       "array([[-1.90065065e-03, -7.70506246e-01, -6.62112161e-01,\n",
       "        -2.60160645e-03, -3.59870020e-04,  3.26372075e-04,\n",
       "         7.85917182e-01, -6.22971942e-04,  1.02830098e-04,\n",
       "        -2.43181540e-04],\n",
       "       [-1.22521863e+00,  2.10820715e-02,  7.27781769e-01,\n",
       "        -4.37619444e-01,  1.15035241e-01,  5.81353148e+00,\n",
       "        -8.82981379e-01, -1.56065727e-01,  1.70055251e-01,\n",
       "        -4.55522035e-02],\n",
       "       [ 1.22711928e+00,  7.49424174e-01, -6.56696087e-02,\n",
       "         4.40221051e-01, -1.14675371e-01, -5.81385785e+00,\n",
       "         9.70641977e-02,  1.56688699e-01, -1.70158081e-01,\n",
       "         4.57953850e-02]])"
      ]
     },
     "execution_count": 27,
     "metadata": {},
     "output_type": "execute_result"
    }
   ],
   "source": [
    "GBSirus.ridge.coef_"
   ]
  },
  {
   "cell_type": "code",
   "execution_count": 28,
   "id": "8b6c4eeb-cb08-4850-b66d-533e21d2eb1c",
   "metadata": {},
   "outputs": [
    {
     "data": {
      "text/plain": [
       "array([ 1.00564317, -3.94290731,  3.93726414])"
      ]
     },
     "execution_count": 28,
     "metadata": {},
     "output_type": "execute_result"
    }
   ],
   "source": [
    "GBSirus.ridge.intercept_"
   ]
  },
  {
   "cell_type": "code",
   "execution_count": null,
   "id": "30d67810-f7ff-4cf6-b0ba-dd48ce9d8f27",
   "metadata": {},
   "outputs": [],
   "source": []
  },
  {
   "cell_type": "markdown",
   "id": "d582efc3-61ba-4a1f-85ec-24a15bcc5673",
   "metadata": {},
   "source": [
    "## New ones:\n"
   ]
  },
  {
   "cell_type": "code",
   "execution_count": null,
   "id": "a46b3ed4-955a-4ca9-aa12-10d2568967cc",
   "metadata": {},
   "outputs": [],
   "source": []
  },
  {
   "cell_type": "code",
   "execution_count": null,
   "id": "55c29088-d946-49e1-9917-efb1c990d848",
   "metadata": {},
   "outputs": [],
   "source": []
  },
  {
   "cell_type": "code",
   "execution_count": null,
   "id": "a2f00408-c976-407b-bde4-875519441967",
   "metadata": {},
   "outputs": [],
   "source": []
  }
 ],
 "metadata": {
  "kernelspec": {
   "display_name": "Python 3 (ipykernel)",
   "language": "python",
   "name": "python3"
  },
  "language_info": {
   "codemirror_mode": {
    "name": "ipython",
    "version": 3
   },
   "file_extension": ".py",
   "mimetype": "text/x-python",
   "name": "python",
   "nbconvert_exporter": "python",
   "pygments_lexer": "ipython3",
   "version": "3.12.11"
  }
 },
 "nbformat": 4,
 "nbformat_minor": 5
}

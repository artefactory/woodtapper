{
 "cells": [
  {
   "cell_type": "markdown",
   "id": "0",
   "metadata": {},
   "source": [
    "<center><h1  style=\"color:white; background-color:#000000; border-radius: 0px; padding:25px;\"> Rules extraction </h1></center>"
   ]
  },
  {
   "cell_type": "markdown",
   "id": "1",
   "metadata": {},
   "source": [
    "This notebook illustrates rules extraction on iris data set from various tree-based models."
   ]
  },
  {
   "cell_type": "code",
   "execution_count": null,
   "id": "2",
   "metadata": {},
   "outputs": [],
   "source": [
    "import os\n",
    "os.chdir('../')\n",
    "import time\n",
    "\n",
    "from sklearn.datasets import load_iris\n",
    "from sklearn.model_selection import train_test_split\n",
    "from sklearn.metrics import average_precision_score, accuracy_score,roc_auc_score\n",
    "from sklearn.tree import DecisionTreeClassifier\n",
    "from sklearn.ensemble import RandomForestClassifier,GradientBoostingClassifier\n",
    "\n",
    "from extract_rules.extractors import DtreeExtractorClassifier,SirusClassifier,GbExtractorClassifier\n",
    "from extract_rules.visualization import show_rules\n"
   ]
  },
  {
   "cell_type": "markdown",
   "id": "3",
   "metadata": {},
   "source": [
    "## Load data :"
   ]
  },
  {
   "cell_type": "code",
   "execution_count": null,
   "id": "4",
   "metadata": {},
   "outputs": [],
   "source": [
    "iris = load_iris()\n",
    "X = iris.data\n",
    "y = iris.target\n",
    "X_train, X_test, y_train, y_test = train_test_split(X, y, random_state=0)"
   ]
  },
  {
   "cell_type": "markdown",
   "id": "5",
   "metadata": {},
   "source": [
    "## Single tree : "
   ]
  },
  {
   "cell_type": "code",
   "execution_count": null,
   "id": "6",
   "metadata": {},
   "outputs": [],
   "source": [
    "# Usual DecisionTree\n",
    "clf_dtree = DecisionTreeClassifier(max_depth=10, random_state=0)\n",
    "clf_dtree.fit(X_train, y_train)\n",
    "y_pred_dtree = clf_dtree.predict(X_test)\n",
    "y_pred_proba_dtree = clf_dtree.predict_proba(X_test)\n",
    "print('PR AUC :', average_precision_score(y_test, y_pred_proba_dtree))\n",
    "print('ROC AUC :', roc_auc_score(y_test, y_pred_proba_dtree,average='micro',multi_class='ovr'))\n",
    "print('Accuracy :', accuracy_score(y_test, y_pred_dtree))"
   ]
  },
  {
   "cell_type": "code",
   "execution_count": null,
   "id": "7",
   "metadata": {},
   "outputs": [],
   "source": [
    "## DecisionTree rules extraction\n",
    "STree = DtreeExtractorClassifier(max_depth=2,p0=0.1,quantile=10, random_state=0)\n",
    "STree.fit(X_train,y_train)\n",
    "y_pred_sirus = STree.predict(X_test)\n",
    "y_pred_proba_sirus = STree.predict_proba(X_test)\n",
    "print('PR AUC :', average_precision_score(y_test, y_pred_proba_sirus))\n",
    "print('ROC AUC :', roc_auc_score(y_test, y_pred_proba_sirus,average='micro',multi_class='ovr'))\n",
    "print('Accuracy :', accuracy_score(y_test, y_pred_sirus))"
   ]
  },
  {
   "cell_type": "code",
   "execution_count": null,
   "id": "8",
   "metadata": {},
   "outputs": [],
   "source": [
    "STree.feature_names_in_ = ['sepal length','sepal width','petal length','petal width']\n",
    "show_rules(STree,max_rules=16)"
   ]
  },
  {
   "cell_type": "markdown",
   "id": "9",
   "metadata": {},
   "source": [
    "## Random forest : "
   ]
  },
  {
   "cell_type": "code",
   "execution_count": null,
   "id": "10",
   "metadata": {},
   "outputs": [],
   "source": [
    "# Usual RandomForestClassifier\n",
    "clf_rf = RandomForestClassifier(max_depth=10, random_state=0)\n",
    "start = time.time()\n",
    "clf_rf.fit(X_train, y_train)\n",
    "end = time.time()\n",
    "y_pred_dtree = clf_rf.predict(X_test)\n",
    "y_pred_proba_dtree = clf_rf.predict_proba(X_test)\n",
    "print('PR AUC :', average_precision_score(y_test, y_pred_proba_dtree))\n",
    "print('ROC AUC :', roc_auc_score(y_test, y_pred_proba_dtree,average='micro',multi_class='ovr'))\n",
    "print('Accuracy :', accuracy_score(y_test, y_pred_dtree))\n",
    "time_2 = end-start\n",
    "print('Fitting time = ',time_2 ,'s')"
   ]
  },
  {
   "cell_type": "code",
   "execution_count": null,
   "id": "11",
   "metadata": {},
   "outputs": [],
   "source": [
    "## RandomForestClassifier rules extraction\n",
    "RFSirus = SirusClassifier(n_estimators=1000,max_depth=4,quantile=10,p0=0.01, random_state=0,splitter=\"quantile\")\n",
    "start = time.time()\n",
    "RFSirus.fit(X_train,y_train)\n",
    "end = time.time()\n",
    "y_pred_sirus = RFSirus.predict(X_test,to_add_probas_outside_rules=True)\n",
    "y_pred_proba_sirus = RFSirus.predict_proba(X_test,to_add_probas_outside_rules=True)\n",
    "print('PR AUC :', average_precision_score(y_test, y_pred_proba_sirus))\n",
    "print('ROC AUC :', roc_auc_score(y_test, y_pred_proba_sirus,average='micro',multi_class='ovr'))\n",
    "print('Accuracy :', accuracy_score(y_test, y_pred_sirus))\n",
    "time_2 = end-start\n",
    "print('Fitting time = ',time_2 ,'s')"
   ]
  },
  {
   "cell_type": "code",
   "execution_count": null,
   "id": "12",
   "metadata": {},
   "outputs": [],
   "source": [
    "RFSirus.feature_names_in_ = ['sepal length','sepal width','petal length','petal width']\n",
    "show_rules(RFSirus,max_rules=20,target_class_index=2)"
   ]
  },
  {
   "cell_type": "markdown",
   "id": "13",
   "metadata": {},
   "source": [
    "## GB :"
   ]
  },
  {
   "cell_type": "code",
   "execution_count": null,
   "id": "14",
   "metadata": {},
   "outputs": [],
   "source": [
    "y_train[y_train==2] = 1\n",
    "y_test[y_test==2] = 1"
   ]
  },
  {
   "cell_type": "code",
   "execution_count": null,
   "id": "15",
   "metadata": {},
   "outputs": [],
   "source": [
    "y_train"
   ]
  },
  {
   "cell_type": "code",
   "execution_count": null,
   "id": "16",
   "metadata": {},
   "outputs": [],
   "source": [
    "y_test"
   ]
  },
  {
   "cell_type": "code",
   "execution_count": null,
   "id": "17",
   "metadata": {},
   "outputs": [],
   "source": [
    "# Usual GradientBoostingClassifier\n",
    "GB = GradientBoostingClassifier(n_estimators=100,max_depth=3,criterion=\"squared_error\",random_state=19)\n",
    "start = time.time()\n",
    "GB.fit(X_train, y_train)\n",
    "end = time.time()\n",
    "y_pred_dtree = GB.predict(X_test)\n",
    "y_pred_proba_dtree = GB.predict_proba(X_test)\n",
    "print('PR AUC :', average_precision_score(y_test, y_pred_proba_dtree[:,1]))\n",
    "print('ROC AUC :', roc_auc_score(y_test, y_pred_proba_dtree[:,1]))\n",
    "print('Accuracy :', accuracy_score(y_test, y_pred_dtree))\n",
    "time_2 = end-start\n",
    "print('Fitting time = ',time_2 ,'s')"
   ]
  },
  {
   "cell_type": "code",
   "execution_count": null,
   "id": "18",
   "metadata": {},
   "outputs": [],
   "source": [
    "# GradientBoostingClassifier rules extraction\n",
    "GBSirus = GbExtractorClassifier(n_estimators=1000,max_depth=3,p0=0.01,quantile=10,\n",
    "                            learning_rate=0.1,subsample=1.0,criterion=\"squared_error\",loss=\"log_loss\", \n",
    "                            random_state=19,splitter=\"quantile\")\n",
    "start = time.time()\n",
    "GBSirus.fit(X_train, y_train)\n",
    "end = time.time()\n",
    "y_pred_dtree = GBSirus.predict(X_test,to_add_probas_outside_rules=True)\n",
    "y_pred_proba_dtree = GBSirus.predict_proba(X_test,to_add_probas_outside_rules=True)\n",
    "print('PR AUC :', average_precision_score(y_test, y_pred_proba_dtree[:,1]))\n",
    "print('ROC AUC :', roc_auc_score(y_test, y_pred_proba_dtree[:,1]))\n",
    "print('Accuracy :', accuracy_score(y_test, y_pred_dtree))\n",
    "time_2 = end-start\n",
    "print('Fitting time = ',time_2 ,'s')"
   ]
  },
  {
   "cell_type": "code",
   "execution_count": null,
   "id": "19",
   "metadata": {},
   "outputs": [],
   "source": [
    "GBSirus.feature_names_in_ = ['sepal length','sepal width','petal length','petal width']\n",
    "show_rules(GBSirus,max_rules=25,target_class_index=1)"
   ]
  }
 ],
 "metadata": {
  "kernelspec": {
   "display_name": "Python 3 (ipykernel)",
   "language": "python",
   "name": "python3"
  },
  "language_info": {
   "codemirror_mode": {
    "name": "ipython",
    "version": 3
   },
   "file_extension": ".py",
   "mimetype": "text/x-python",
   "name": "python",
   "nbconvert_exporter": "python",
   "pygments_lexer": "ipython3",
   "version": "3.12.11"
  }
 },
 "nbformat": 4,
 "nbformat_minor": 5
}

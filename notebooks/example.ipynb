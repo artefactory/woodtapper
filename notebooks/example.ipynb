{
 "cells": [
  {
   "cell_type": "markdown",
   "id": "469c06f0-7ad6-45e5-9587-54b4e97027d6",
   "metadata": {},
   "source": [
    "<center><h1  style=\"color:white; background-color:#000000; border-radius: 0px; padding:25px;\"> Rules extraction </h1></center>"
   ]
  },
  {
   "cell_type": "markdown",
   "id": "37c9f210-d01a-488e-8476-b052bae7c58d",
   "metadata": {},
   "source": [
    "This notebook illustrates rules extraction from decision trees."
   ]
  },
  {
   "cell_type": "code",
   "execution_count": null,
   "id": "376cec6a-3f40-429b-bbc5-4a1aa569b0ba",
   "metadata": {},
   "outputs": [],
   "source": [
    "import os\n",
    "import sys\n",
    "sys.path.insert(1, os.path.abspath(os.path.join(os.getcwd(), os.pardir)))\n",
    "import time\n",
    "\n",
    "import numpy as np"
   ]
  },
  {
   "cell_type": "code",
   "execution_count": null,
   "id": "23c4c3e4-271e-47b7-83d8-50f70f6715a4",
   "metadata": {},
   "outputs": [],
   "source": [
    "#from sklearn.tree import _tree, export_text,plot_tree\n",
    "#from pysirus.models.basic import Node,SirusDTreeClassifier\n",
    "#from sklearn import tree\n",
    "from sklearn.datasets import load_iris\n",
    "from sklearn.model_selection import train_test_split\n",
    "from sklearn.metrics import average_precision_score, accuracy_score,roc_auc_score"
   ]
  },
  {
   "cell_type": "code",
   "execution_count": null,
   "id": "45c12d72-f0c2-44b5-914b-fb3e9a5950c5",
   "metadata": {},
   "outputs": [],
   "source": [
    "from sklearn.tree import DecisionTreeClassifier\n",
    "from sklearn.ensemble import RandomForestClassifier,GradientBoostingClassifier\n",
    "from pysirus.models.basic import SirusDTreeClassifier,SirusRFClassifier,SirusGBClassifier"
   ]
  },
  {
   "cell_type": "markdown",
   "id": "4867794f-7b53-4344-8df3-faba07043ed4",
   "metadata": {},
   "source": [
    "## Load data :"
   ]
  },
  {
   "cell_type": "code",
   "execution_count": null,
   "id": "446a433d-0275-48f3-b852-cd2d16d88908",
   "metadata": {},
   "outputs": [],
   "source": [
    "iris = load_iris()\n",
    "X = iris.data\n",
    "y = iris.target\n",
    "X_train, X_test, y_train, y_test = train_test_split(X, y, random_state=0)"
   ]
  },
  {
   "cell_type": "markdown",
   "id": "c17b68d4-7652-4d4c-b1af-e5c1bc3038cf",
   "metadata": {},
   "source": [
    "## Single tree : "
   ]
  },
  {
   "cell_type": "code",
   "execution_count": null,
   "id": "6046819a-a10f-4b28-8174-5d2220fbbded",
   "metadata": {},
   "outputs": [],
   "source": [
    "# Usual DecisionTree\n",
    "clf_dtree = DecisionTreeClassifier(max_depth=10, random_state=0)\n",
    "clf_dtree.fit(X_train, y_train)\n",
    "y_pred_dtree = clf_dtree.predict(X_test)\n",
    "y_pred_proba_dtree = clf_dtree.predict_proba(X_test)\n",
    "print('PR AUC :', average_precision_score(y_test, y_pred_proba_dtree))\n",
    "print('ROC AUC :', roc_auc_score(y_test, y_pred_proba_dtree,average='micro',multi_class='ovr'))\n",
    "print('Accuracy :', accuracy_score(y_test, y_pred_dtree))"
   ]
  },
  {
   "cell_type": "code",
   "execution_count": null,
   "id": "560b4c68-1a52-465f-9c0e-5a8a3586500f",
   "metadata": {},
   "outputs": [],
   "source": [
    "## DecisionTree rules extraction\n",
    "STree = SirusDTreeClassifier(max_depth=10, random_state=0)\n",
    "STree.fit(X_train,y_train,quantile=10)\n",
    "y_pred_sirus = STree.predict(X_test)\n",
    "y_pred_proba_sirus = STree.predict_proba(X_test)\n",
    "print('PR AUC :', average_precision_score(y_test, y_pred_proba_sirus))\n",
    "print('ROC AUC :', roc_auc_score(y_test, y_pred_proba_sirus,average='micro',multi_class='ovr'))\n",
    "print('Accuracy :', accuracy_score(y_test, y_pred_sirus))"
   ]
  },
  {
   "cell_type": "code",
   "execution_count": null,
   "id": "428324d6-5800-4a28-a3c2-710307442b6c",
   "metadata": {},
   "outputs": [],
   "source": [
    "STree.print_rules(max_rules=10)"
   ]
  },
  {
   "cell_type": "markdown",
   "id": "90839d36-29de-47a2-b6b3-ab40ed9cdac1",
   "metadata": {},
   "source": [
    "## Random forest : "
   ]
  },
  {
   "cell_type": "code",
   "execution_count": null,
   "id": "bdc9b6d0-8a08-4206-bd28-6682e6921bf5",
   "metadata": {},
   "outputs": [],
   "source": [
    "# Usual RandomForestClassifier\n",
    "clf_rf = RandomForestClassifier(max_depth=10, random_state=0)\n",
    "clf_rf.fit(X_train, y_train)\n",
    "y_pred_dtree = clf_rf.predict(X_test)\n",
    "y_pred_proba_dtree = clf_rf.predict_proba(X_test)\n",
    "print('PR AUC :', average_precision_score(y_test, y_pred_proba_dtree))\n",
    "print('ROC AUC :', roc_auc_score(y_test, y_pred_proba_dtree,average='micro',multi_class='ovr'))\n",
    "print('Accuracy :', accuracy_score(y_test, y_pred_dtree))"
   ]
  },
  {
   "cell_type": "code",
   "execution_count": null,
   "id": "048c4903-828f-43e4-8220-d696d114cf2b",
   "metadata": {},
   "outputs": [],
   "source": [
    "## RandomForestClassifier rules extraction\n",
    "RFSirus = SirusRFClassifier(max_depth=10, random_state=0,splitter=\"quantile\")\n",
    "start = time.time()\n",
    "RFSirus.fit(X_train,y_train,quantile=10,batch_size_post_treatment=50,p0=0.01)\n",
    "end = time.time()\n",
    "y_pred_sirus = RFSirus.predict(X_test)\n",
    "y_pred_proba_sirus = RFSirus.predict_proba(X_test)\n",
    "print('PR AUC :', average_precision_score(y_test, y_pred_proba_sirus))\n",
    "print('ROC AUC :', roc_auc_score(y_test, y_pred_proba_sirus,average='micro',multi_class='ovr'))\n",
    "print('Accuracy :', accuracy_score(y_test, y_pred_sirus))\n",
    "time_2 = end-start\n",
    "print('Fitting time = ',time_2 ,'s')"
   ]
  },
  {
   "cell_type": "code",
   "execution_count": null,
   "id": "f7d2496f-8309-4b62-adc4-81577fc2e5a8",
   "metadata": {},
   "outputs": [],
   "source": [
    "RFSirus.print_rules(max_rules=10)"
   ]
  }
 ],
 "metadata": {
  "kernelspec": {
   "display_name": "Python 3 (ipykernel)",
   "language": "python",
   "name": "python3"
  },
  "language_info": {
   "codemirror_mode": {
    "name": "ipython",
    "version": 3
   },
   "file_extension": ".py",
   "mimetype": "text/x-python",
   "name": "python",
   "nbconvert_exporter": "python",
   "pygments_lexer": "ipython3",
   "version": "3.11.9"
  }
 },
 "nbformat": 4,
 "nbformat_minor": 5
}

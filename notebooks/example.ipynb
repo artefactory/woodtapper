{
 "cells": [
  {
   "cell_type": "markdown",
   "id": "469c06f0-7ad6-45e5-9587-54b4e97027d6",
   "metadata": {},
   "source": [
    "<center><h1  style=\"color:white; background-color:#000000; border-radius: 0px; padding:25px;\"> Rules extraction </h1></center>"
   ]
  },
  {
   "cell_type": "markdown",
   "id": "37c9f210-d01a-488e-8476-b052bae7c58d",
   "metadata": {},
   "source": [
    "This notebook illustrates rules extraction from decision trees."
   ]
  },
  {
   "cell_type": "code",
   "execution_count": null,
   "id": "376cec6a-3f40-429b-bbc5-4a1aa569b0ba",
   "metadata": {},
   "outputs": [],
   "source": [
    "\n",
    "import os\n",
    "import sys\n",
    "sys.path.insert(1, os.path.abspath(os.path.join(os.getcwd(), os.pardir)))\n",
    "import time\n",
    "\n",
    "import numpy as np"
   ]
  },
  {
   "cell_type": "code",
   "execution_count": null,
   "id": "23c4c3e4-271e-47b7-83d8-50f70f6715a4",
   "metadata": {},
   "outputs": [],
   "source": [
    "from sklearn.datasets import load_iris\n",
    "from sklearn.model_selection import train_test_split\n",
    "from sklearn.metrics import average_precision_score, accuracy_score,roc_auc_score"
   ]
  },
  {
   "cell_type": "code",
   "execution_count": null,
   "id": "45c12d72-f0c2-44b5-914b-fb3e9a5950c5",
   "metadata": {},
   "outputs": [],
   "source": [
    "from sklearn.tree import DecisionTreeClassifier\n",
    "from sklearn.ensemble import RandomForestClassifier,GradientBoostingClassifier\n",
    "from pysirus.models.extractors import SirusDTreeClassifier,SirusRFClassifier,SirusGBClassifier"
   ]
  },
  {
   "cell_type": "code",
   "execution_count": null,
   "id": "d636bbe2-ad93-446d-af0a-1b00c3a73d5c",
   "metadata": {},
   "outputs": [],
   "source": [
    "np.zeros((1,2))"
   ]
  },
  {
   "cell_type": "code",
   "execution_count": null,
   "id": "cb89a2ae-a20a-481b-9f05-3ae5e86d6225",
   "metadata": {},
   "outputs": [],
   "source": [
    "from sklearn import tree"
   ]
  },
  {
   "cell_type": "markdown",
   "id": "4867794f-7b53-4344-8df3-faba07043ed4",
   "metadata": {},
   "source": [
    "## Load data :"
   ]
  },
  {
   "cell_type": "code",
   "execution_count": null,
   "id": "446a433d-0275-48f3-b852-cd2d16d88908",
   "metadata": {},
   "outputs": [],
   "source": [
    "iris = load_iris()\n",
    "X = iris.data\n",
    "y = iris.target\n",
    "X_train, X_test, y_train, y_test = train_test_split(X, y, random_state=0)"
   ]
  },
  {
   "cell_type": "code",
   "execution_count": null,
   "id": "b04f7997-578f-42b8-af47-9eeb241b6d93",
   "metadata": {},
   "outputs": [],
   "source": [
    "X"
   ]
  },
  {
   "cell_type": "code",
   "execution_count": null,
   "id": "dc535611-e2fc-49b4-83f7-14735f441b57",
   "metadata": {},
   "outputs": [],
   "source": [
    "y"
   ]
  },
  {
   "cell_type": "markdown",
   "id": "c17b68d4-7652-4d4c-b1af-e5c1bc3038cf",
   "metadata": {},
   "source": [
    "## Single tree : "
   ]
  },
  {
   "cell_type": "code",
   "execution_count": null,
   "id": "6046819a-a10f-4b28-8174-5d2220fbbded",
   "metadata": {},
   "outputs": [],
   "source": [
    "# Usual DecisionTree\n",
    "clf_dtree = DecisionTreeClassifier(max_depth=10, random_state=0)\n",
    "clf_dtree.fit(X_train, y_train)\n",
    "y_pred_dtree = clf_dtree.predict(X_test)\n",
    "y_pred_proba_dtree = clf_dtree.predict_proba(X_test)\n",
    "print('PR AUC :', average_precision_score(y_test, y_pred_proba_dtree))\n",
    "print('ROC AUC :', roc_auc_score(y_test, y_pred_proba_dtree,average='micro',multi_class='ovr'))\n",
    "print('Accuracy :', accuracy_score(y_test, y_pred_dtree))"
   ]
  },
  {
   "cell_type": "code",
   "execution_count": null,
   "id": "560b4c68-1a52-465f-9c0e-5a8a3586500f",
   "metadata": {
    "scrolled": true
   },
   "outputs": [],
   "source": [
    "## DecisionTree rules extraction\n",
    "STree = SirusDTreeClassifier(max_depth=2, random_state=0)\n",
    "STree.fit(X_train,y_train,quantile=10)\n",
    "y_pred_sirus = STree.predict(X_test)\n",
    "y_pred_proba_sirus = STree.predict_proba(X_test)\n",
    "print('PR AUC :', average_precision_score(y_test, y_pred_proba_sirus))\n",
    "print('ROC AUC :', roc_auc_score(y_test, y_pred_proba_sirus,average='micro',multi_class='ovr'))\n",
    "print('Accuracy :', accuracy_score(y_test, y_pred_sirus))"
   ]
  },
  {
   "cell_type": "code",
   "execution_count": null,
   "id": "428324d6-5800-4a28-a3c2-710307442b6c",
   "metadata": {},
   "outputs": [],
   "source": [
    "STree.feature_names_in_ = ['sepal length','sepal width','petal length','petal width']\n",
    "STree.print_rules(max_rules=3)"
   ]
  },
  {
   "cell_type": "code",
   "execution_count": null,
   "id": "6d9089a6-2c9b-42cf-b1d8-bae57e89ec85",
   "metadata": {},
   "outputs": [],
   "source": [
    "STree.show_rules(max_rules=16)"
   ]
  },
  {
   "cell_type": "code",
   "execution_count": null,
   "id": "fcc597fc-2e73-4810-93ef-5a467cfac7ea",
   "metadata": {},
   "outputs": [],
   "source": [
    "STree.n_features_in_"
   ]
  },
  {
   "cell_type": "markdown",
   "id": "90839d36-29de-47a2-b6b3-ab40ed9cdac1",
   "metadata": {},
   "source": [
    "## Random forest : "
   ]
  },
  {
   "cell_type": "code",
   "execution_count": null,
   "id": "bdc9b6d0-8a08-4206-bd28-6682e6921bf5",
   "metadata": {},
   "outputs": [],
   "source": [
    "# Usual RandomForestClassifier\n",
    "clf_rf = RandomForestClassifier(max_depth=10, random_state=0)\n",
    "start = time.time()\n",
    "clf_rf.fit(X_train, y_train)\n",
    "end = time.time()\n",
    "y_pred_dtree = clf_rf.predict(X_test)\n",
    "y_pred_proba_dtree = clf_rf.predict_proba(X_test)\n",
    "print('PR AUC :', average_precision_score(y_test, y_pred_proba_dtree))\n",
    "print('ROC AUC :', roc_auc_score(y_test, y_pred_proba_dtree,average='micro',multi_class='ovr'))\n",
    "print('Accuracy :', accuracy_score(y_test, y_pred_dtree))\n",
    "time_2 = end-start\n",
    "print('Fitting time = ',time_2 ,'s')"
   ]
  },
  {
   "cell_type": "code",
   "execution_count": null,
   "id": "f4af500e-a0d1-47f2-b7a3-a888f135f48d",
   "metadata": {},
   "outputs": [],
   "source": [
    "## RandomForestClassifier rules extraction\n",
    "RFSirus = SirusRFClassifier(max_depth=2, random_state=0,splitter=\"quantile\")\n",
    "start = time.time()\n",
    "RFSirus.fit(X_train,y_train,quantile=10,batch_size_post_treatment=50,p0=0.01)\n",
    "end = time.time()\n",
    "y_pred_sirus = RFSirus.predict(X_test,to_add_probas_outside_rules=True)\n",
    "y_pred_proba_sirus = RFSirus.predict_proba(X_test,to_add_probas_outside_rules=True)\n",
    "print('PR AUC :', average_precision_score(y_test, y_pred_proba_sirus))\n",
    "print('ROC AUC :', roc_auc_score(y_test, y_pred_proba_sirus,average='micro',multi_class='ovr'))\n",
    "print('Accuracy :', accuracy_score(y_test, y_pred_sirus))\n",
    "time_2 = end-start\n",
    "print('Fitting time = ',time_2 ,'s')"
   ]
  },
  {
   "cell_type": "code",
   "execution_count": null,
   "id": "048c4903-828f-43e4-8220-d696d114cf2b",
   "metadata": {},
   "outputs": [],
   "source": [
    "## RandomForestClassifier rules extraction\n",
    "RFSirus = SirusRFClassifier(max_depth=2, random_state=0,splitter=\"quantile\")\n",
    "start = time.time()\n",
    "RFSirus.fit(X_train,y_train,quantile=10,batch_size_post_treatment=50,p0=0.01)\n",
    "end = time.time()\n",
    "y_pred_sirus = RFSirus.predict(X_test,to_add_probas_outside_rules=False)\n",
    "y_pred_proba_sirus = RFSirus.predict_proba(X_test,to_add_probas_outside_rules=False)\n",
    "print('PR AUC :', average_precision_score(y_test, y_pred_proba_sirus))\n",
    "print('ROC AUC :', roc_auc_score(y_test, y_pred_proba_sirus,average='micro',multi_class='ovr'))\n",
    "print('Accuracy :', accuracy_score(y_test, y_pred_sirus))\n",
    "time_2 = end-start\n",
    "print('Fitting time = ',time_2 ,'s')"
   ]
  },
  {
   "cell_type": "code",
   "execution_count": null,
   "id": "772b0927-0067-4f00-94e1-99a0b629588e",
   "metadata": {
    "scrolled": true
   },
   "outputs": [],
   "source": [
    "y_pred_proba_sirus"
   ]
  },
  {
   "cell_type": "code",
   "execution_count": null,
   "id": "f9e2193a-7007-4a54-813f-bce9ad0878f3",
   "metadata": {},
   "outputs": [],
   "source": [
    "y_pred_proba_sirus.sum(axis=1)"
   ]
  },
  {
   "cell_type": "code",
   "execution_count": null,
   "id": "b48bacd4-2834-431b-80ea-baa22460e37c",
   "metadata": {},
   "outputs": [],
   "source": [
    "RFSirus.feature_names_in_ = ['sepal length','sepal width','petal length','petal width']"
   ]
  },
  {
   "cell_type": "code",
   "execution_count": null,
   "id": "f7d2496f-8309-4b62-adc4-81577fc2e5a8",
   "metadata": {},
   "outputs": [],
   "source": [
    "RFSirus.show_rules(max_rules=10)"
   ]
  },
  {
   "cell_type": "code",
   "execution_count": null,
   "id": "91395abc-e7c2-4e18-af7b-35ed43ceb727",
   "metadata": {},
   "outputs": [],
   "source": [
    "from pysirus.models.optimizer import train_optimal_extractor_p0\n",
    "from sklearn.metrics import roc_auc_score"
   ]
  },
  {
   "cell_type": "code",
   "execution_count": null,
   "id": "fabe7f07-c321-47a8-8ceb-b176a1651fc2",
   "metadata": {},
   "outputs": [],
   "source": [
    "def my_roc(y_true,y_pred_probas):\n",
    "    return roc_auc_score(y_true, y_pred_probas,average='micro',multi_class='ovr')\n",
    "    "
   ]
  },
  {
   "cell_type": "code",
   "execution_count": null,
   "id": "0d6935ea-7f08-4ab5-977e-00f8e2093c1b",
   "metadata": {},
   "outputs": [],
   "source": [
    "final_sirus_model = train_optimal_extractor_p0(clf=RFSirus,X_train=X,y_train=y,quantile=20,\n",
    "                           scoring=my_roc,scoring_on_probas=True,p0_exploration_grid=np.linspace(0.01, 0.05, 15),\n",
    "                           n_cv_splits=5,n_cv_repeats=1)"
   ]
  },
  {
   "cell_type": "markdown",
   "id": "90968564-70e4-445d-b599-912487785076",
   "metadata": {},
   "source": [
    "## GB :"
   ]
  },
  {
   "cell_type": "code",
   "execution_count": null,
   "id": "6032e05d-3ec8-41ed-b5e7-c88d85d6076d",
   "metadata": {},
   "outputs": [],
   "source": [
    "# Usual GradientBoostingClassifier\n",
    "GB = GradientBoostingClassifier(n_estimators=100,max_depth=2,random_state=19)\n",
    "start = time.time()\n",
    "GB.fit(X_train, y_train)\n",
    "end = time.time()\n",
    "y_pred_dtree = GB.predict(X_test)\n",
    "y_pred_proba_dtree = GB.predict_proba(X_test)\n",
    "print('PR AUC :', average_precision_score(y_test, y_pred_proba_dtree))\n",
    "print('ROC AUC :', roc_auc_score(y_test, y_pred_proba_dtree,average='micro',multi_class='ovr'))\n",
    "print('Accuracy :', accuracy_score(y_test, y_pred_dtree))\n",
    "time_2 = end-start\n",
    "print('Fitting time = ',time_2 ,'s')"
   ]
  },
  {
   "cell_type": "code",
   "execution_count": null,
   "id": "cbf01963-3a6d-4c1d-a87c-a3b06c7a431d",
   "metadata": {},
   "outputs": [],
   "source": [
    "# GradientBoostingClassifier rules extraction\n",
    "GBSirus = SirusGBClassifier(n_estimators=100,max_depth=2, random_state=19,splitter=\"quantile\")\n",
    "start = time.time()\n",
    "GBSirus.fit(X_train, y_train,p0=0.05,quantile=20)\n",
    "end = time.time()\n",
    "y_pred_dtree = GBSirus.predict(X_test,to_add_probas_outside_rules=True)\n",
    "y_pred_proba_dtree = GBSirus.predict_proba(X_test,to_add_probas_outside_rules=True)\n",
    "print('PR AUC :', average_precision_score(y_test, y_pred_proba_dtree))\n",
    "print('ROC AUC :', roc_auc_score(y_test, y_pred_proba_dtree,average='micro',multi_class='ovr'))\n",
    "print('Accuracy :', accuracy_score(y_test, y_pred_dtree))\n",
    "time_2 = end-start\n",
    "print('Fitting time = ',time_2 ,'s')"
   ]
  },
  {
   "cell_type": "code",
   "execution_count": null,
   "id": "19ca8fbe-84c5-46f7-a341-19ae747ff3f6",
   "metadata": {
    "scrolled": true
   },
   "outputs": [],
   "source": [
    "# GradientBoostingClassifier rules extraction\n",
    "GBSirus = SirusGBClassifier(n_estimators=100,max_depth=2, random_state=19,splitter=\"quantile\")\n",
    "start = time.time()\n",
    "GBSirus.fit(X_train, y_train,p0=0.01,quantile=20)\n",
    "end = time.time()\n",
    "y_pred_gbsirus = GBSirus.predict(X_test,to_add_probas_outside_rules=False)\n",
    "y_pred_proba_gbsirus = GBSirus.predict_proba(X_test,to_add_probas_outside_rules=False)\n",
    "print('PR AUC :', average_precision_score(y_test, y_pred_proba_gbsirus))\n",
    "print('ROC AUC :', roc_auc_score(y_test, y_pred_proba_gbsirus,average='micro',multi_class='ovr'))\n",
    "print('Accuracy :', accuracy_score(y_test, y_pred_gbsirus))\n",
    "time_2 = end-start\n",
    "print('Fitting time = ',time_2 ,'s')"
   ]
  },
  {
   "cell_type": "code",
   "execution_count": null,
   "id": "e318f9dc-ef8f-4bdb-b50d-c4ca2c7b66ba",
   "metadata": {},
   "outputs": [],
   "source": [
    "GBSirus.feature_names_in_ = ['sepal length','sepal width','petal length','petal width']\n",
    "GBSirus.show_rules(max_rules=16)"
   ]
  },
  {
   "cell_type": "code",
   "execution_count": null,
   "id": "df2f697b-60f2-444b-b77f-f05f5dd87b56",
   "metadata": {
    "scrolled": true
   },
   "outputs": [],
   "source": [
    "GBSirus.print_rules(max_rules=10)"
   ]
  },
  {
   "cell_type": "code",
   "execution_count": null,
   "id": "8fa1773a-2907-4499-aeba-38b7743b5cb9",
   "metadata": {},
   "outputs": [],
   "source": []
  },
  {
   "cell_type": "markdown",
   "id": "945abbec-fb36-4305-bdab-250ad1f3cf41",
   "metadata": {},
   "source": [
    "# Tests : "
   ]
  },
  {
   "cell_type": "markdown",
   "id": "29e3af82-02db-4a61-8b14-7d8feee54af5",
   "metadata": {},
   "source": [
    "## Essais :"
   ]
  },
  {
   "cell_type": "code",
   "execution_count": null,
   "id": "19b0b271-d972-4975-93f1-19e673652652",
   "metadata": {},
   "outputs": [],
   "source": [
    "iris.feature_names"
   ]
  },
  {
   "cell_type": "code",
   "execution_count": null,
   "id": "b44bf42e-b9aa-4b3e-8f58-a3121e7c623f",
   "metadata": {},
   "outputs": [],
   "source": [
    "y"
   ]
  },
  {
   "cell_type": "code",
   "execution_count": null,
   "id": "503c2528-a79f-43b5-8ea1-ca283c4a4789",
   "metadata": {},
   "outputs": [],
   "source": [
    "y[y==1] = -1\n",
    "y[y==2] = -1\n",
    "y[y==0] = 1\n",
    "y[y==-1]=0\n",
    "y"
   ]
  },
  {
   "cell_type": "code",
   "execution_count": null,
   "id": "614fc54b-1fd6-4867-b7c4-c3259eca408d",
   "metadata": {
    "scrolled": true
   },
   "outputs": [],
   "source": [
    "y.sum()"
   ]
  },
  {
   "cell_type": "markdown",
   "id": "bef2389a-8c36-49dc-9aef-b35ebfd39b4d",
   "metadata": {
    "jp-MarkdownHeadingCollapsed": true
   },
   "source": [
    "## Essais 2:"
   ]
  },
  {
   "cell_type": "code",
   "execution_count": null,
   "id": "7b62e8e0-2790-4250-b495-d7163886eda6",
   "metadata": {
    "scrolled": true
   },
   "outputs": [],
   "source": [
    "## RandomForestClassifier rules extraction\n",
    "RFSirus = SirusRFClassifier(n_estimators=1,max_features=4,max_depth=2,bootstrap=False, random_state=19,splitter=\"quantile\")\n",
    "start = time.time()\n",
    "RFSirus.fit(X,y,quantile=10,p0=0.01)\n",
    "end = time.time()\n",
    "time_2 = end-start\n",
    "print('Fitting time = ',time_2 ,'s')\n",
    "RFSirus.feature_names_in_ = ['sepal length','sepal width','petal length','petal width']\n",
    "RFSirus.show_rules(max_rules=16)\n",
    "tree.plot_tree(RFSirus.estimators_[0])"
   ]
  },
  {
   "cell_type": "code",
   "execution_count": null,
   "id": "14ff8a3c-24a3-4629-b3cb-e57bb146d638",
   "metadata": {},
   "outputs": [],
   "source": [
    "def implies(single_rule_a,single_rule_b):\n",
    "        \"\"\"\"\"\n",
    "        Check if single_rule_a implies single_rule_b.\n",
    "        Args:\n",
    "            single_rule_a (tuple): First single rule in the form (var, thr, dir).\n",
    "            single_rule_b (tuple): Second single rule in the form (var, thr, dir).\n",
    "        \"\"\"\"\"\n",
    "        if single_rule_a[0] == single_rule_b[0]:\n",
    "            if single_rule_a[2] == 'L':\n",
    "                if single_rule_b[2] == 'L':\n",
    "                    return single_rule_a[1] <= single_rule_b[1]\n",
    "                else:\n",
    "                    return False\n",
    "            else:\n",
    "                if single_rule_b[2] == 'R':\n",
    "                    return single_rule_a[1] >= single_rule_b[1]\n",
    "                else:\n",
    "                    return False\n",
    "        else:\n",
    "            return False"
   ]
  },
  {
   "cell_type": "code",
   "execution_count": null,
   "id": "cb82a3c5-9677-4eda-9b1d-107e5ed9fb7d",
   "metadata": {},
   "outputs": [],
   "source": [
    "implies(single_rule_a=(2, 1.7000000476837158, 'L'),single_rule_b=(2, 1.7000000476837158, 'L'))"
   ]
  },
  {
   "cell_type": "code",
   "execution_count": null,
   "id": "dc04eb8e-e4eb-42bd-9f7b-6b0d731c0117",
   "metadata": {},
   "outputs": [],
   "source": [
    "implies(single_rule_a=(2, 1.7000000476837158, 'L'),single_rule_b=(3, 0.4000000059604645, 'L'))"
   ]
  },
  {
   "cell_type": "code",
   "execution_count": null,
   "id": "115330f9-fcf9-4778-a3ab-78d1073a9597",
   "metadata": {},
   "outputs": [],
   "source": []
  },
  {
   "cell_type": "code",
   "execution_count": null,
   "id": "3990e2b8-763c-4334-acfa-d4934c9a759c",
   "metadata": {},
   "outputs": [],
   "source": []
  },
  {
   "cell_type": "code",
   "execution_count": null,
   "id": "a0ed5260-dae7-4804-aae7-f6306897b018",
   "metadata": {},
   "outputs": [],
   "source": [
    "## RandomForestClassifier rules extraction\n",
    "RFSirus = SirusRFClassifier(n_estimators=1000,max_features=4,max_depth=2,bootstrap=True, random_state=0,splitter=\"quantile\")\n",
    "start = time.time()\n",
    "RFSirus.fit(X,y,quantile=10,p0=0.01)\n",
    "end = time.time()\n",
    "time_2 = end-start\n",
    "print('Fitting time = ',time_2 ,'s')\n",
    "RFSirus.feature_names_in_ = ['sepal length','sepal width','petal length','petal width']\n",
    "RFSirus.show_rules(max_rules=16)"
   ]
  },
  {
   "cell_type": "code",
   "execution_count": null,
   "id": "8b9f5e37-b419-4995-9e9c-d4c5ee9d5816",
   "metadata": {},
   "outputs": [],
   "source": []
  },
  {
   "cell_type": "markdown",
   "id": "2cd3927e-25d6-401d-a93f-4b939081572b",
   "metadata": {},
   "source": [
    "## RF : "
   ]
  },
  {
   "cell_type": "code",
   "execution_count": null,
   "id": "e9caca3b-e471-420b-9de6-8ef4bb9f3b70",
   "metadata": {},
   "outputs": [],
   "source": [
    "## RandomForestClassifier rules extraction\n",
    "RFSirus = SirusRFClassifier(n_estimators=1000,max_features=4,max_depth=2,bootstrap=False, random_state=1,splitter=\"quantile\")\n",
    "start = time.time()\n",
    "RFSirus.fit(X,y,quantile=10,p0=0.01)\n",
    "end = time.time()\n",
    "time_2 = end-start\n",
    "print('Fitting time = ',time_2 ,'s')"
   ]
  },
  {
   "cell_type": "code",
   "execution_count": null,
   "id": "2eac69fb-ff71-4d86-9f62-481fde614706",
   "metadata": {},
   "outputs": [],
   "source": [
    "RFSirus.feature_names_in_ = ['sepal length','sepal width','petal length','petal width']\n",
    "RFSirus.show_rules(max_rules=16)"
   ]
  },
  {
   "cell_type": "code",
   "execution_count": null,
   "id": "a1218b85-c2d7-4c31-b386-dfdb77b26dae",
   "metadata": {},
   "outputs": [],
   "source": [
    "tree.plot_tree(RFSirus.estimators_[0])"
   ]
  },
  {
   "cell_type": "code",
   "execution_count": null,
   "id": "30959c4c-42d4-4b5e-ac29-7650e3e2880d",
   "metadata": {},
   "outputs": [],
   "source": [
    "tree.plot_tree(RFSirus.estimators_[800])"
   ]
  },
  {
   "cell_type": "code",
   "execution_count": null,
   "id": "aa336515-c44c-4704-9404-85ea2c3dd0ee",
   "metadata": {},
   "outputs": [],
   "source": [
    "## RandomForestClassifier rules extraction\n",
    "RFSirus = SirusRFClassifier(n_estimators=1,max_features=4,max_depth=2,bootstrap=False, random_state=0,splitter=\"quantile\")\n",
    "start = time.time()\n",
    "RFSirus.fit(X,y,quantile=10,batch_size_post_treatment=50,p0=0.01)\n",
    "end = time.time()\n",
    "time_2 = end-start\n",
    "print('Fitting time = ',time_2 ,'s')\n",
    "RFSirus.feature_names_in_ = ['sepal length','sepal width','petal length','petal width']\n",
    "RFSirus.show_rules(max_rules=16)\n",
    "tree.plot_tree(RFSirus.estimators_[0])\n",
    "tree.plot_tree(RFSirus.estimators_[0])"
   ]
  },
  {
   "cell_type": "code",
   "execution_count": null,
   "id": "85dbb399-80c3-4d44-bb9e-e7f132b48b20",
   "metadata": {},
   "outputs": [],
   "source": [
    "## RandomForestClassifier rules extraction\n",
    "RFSirus = SirusRFClassifier(n_estimators=1,max_features=4,max_depth=2,bootstrap=False, random_state=19,splitter=\"quantile\")\n",
    "start = time.time()\n",
    "RFSirus.fit(X,y,quantile=10,p0=0.01)\n",
    "end = time.time()\n",
    "time_2 = end-start\n",
    "print('Fitting time = ',time_2 ,'s')\n",
    "RFSirus.feature_names_in_ = ['sepal length','sepal width','petal length','petal width']\n",
    "RFSirus.show_rules(max_rules=16)\n",
    "tree.plot_tree(RFSirus.estimators_[0])"
   ]
  },
  {
   "cell_type": "code",
   "execution_count": null,
   "id": "c953ee5d-22e3-46a2-8f7d-334648876737",
   "metadata": {},
   "outputs": [],
   "source": [
    "## RandomForestClassifier\n",
    "RF = RandomForestClassifier(n_estimators=1,max_features=4,max_depth=2,bootstrap=False, random_state=19)\n",
    "start = time.time()\n",
    "RF.fit(X,y)\n",
    "end = time.time()\n",
    "time_2 = end-start\n",
    "print('Fitting time = ',time_2 ,'s')\n",
    "tree.plot_tree(RF.estimators_[0])"
   ]
  },
  {
   "cell_type": "code",
   "execution_count": null,
   "id": "4f6a7ade-bec6-4ba4-9f4d-8660e8fd5f5b",
   "metadata": {},
   "outputs": [],
   "source": [
    "## RandomForestClassifier\n",
    "RF = RandomForestClassifier(n_estimators=1,max_features=4,max_depth=2,bootstrap=False, random_state=0)\n",
    "start = time.time()\n",
    "RF.fit(X,y)\n",
    "end = time.time()\n",
    "time_2 = end-start\n",
    "print('Fitting time = ',time_2 ,'s')\n",
    "tree.plot_tree(RF.estimators_[0])"
   ]
  },
  {
   "cell_type": "code",
   "execution_count": null,
   "id": "672dd46c-cc5a-490a-8abd-2445b7642a56",
   "metadata": {},
   "outputs": [],
   "source": [
    "## RandomForestClassifier rules extraction\n",
    "RFSirus = SirusRFClassifier(n_estimators=1000,max_features=2,max_depth=2,bootstrap=True, random_state=0,splitter=\"quantile\")\n",
    "start = time.time()\n",
    "RFSirus.fit(X,y,quantile=10,p0=0.01)\n",
    "end = time.time()\n",
    "time_2 = end-start\n",
    "print('Fitting time = ',time_2 ,'s')\n",
    "RFSirus.feature_names_in_ = ['sepal length','sepal width','petal length','petal width']\n",
    "RFSirus.show_rules(max_rules=16)"
   ]
  },
  {
   "cell_type": "code",
   "execution_count": null,
   "id": "615e00c0-8498-4f14-9e77-a60c1cbc0375",
   "metadata": {},
   "outputs": [],
   "source": [
    "## RandomForestClassifier rules extraction\n",
    "RFSirus = SirusRFClassifier(n_estimators=1000,max_features=2,max_depth=2,bootstrap=True, random_state=19,splitter=\"quantile\")\n",
    "start = time.time()\n",
    "RFSirus.fit(X,y,quantile=10,p0=0.01)\n",
    "end = time.time()\n",
    "time_2 = end-start\n",
    "print('Fitting time = ',time_2 ,'s')\n",
    "RFSirus.feature_names_in_ = ['sepal length','sepal width','petal length','petal width']\n",
    "RFSirus.show_rules(max_rules=16)"
   ]
  },
  {
   "cell_type": "markdown",
   "id": "3cc4ac1f-8092-4447-b448-843a5195a97c",
   "metadata": {},
   "source": [
    "## optimizing p0 :"
   ]
  },
  {
   "cell_type": "code",
   "execution_count": null,
   "id": "17b62542-c7ba-4115-9282-3a6e916aa4ee",
   "metadata": {
    "scrolled": true
   },
   "outputs": [],
   "source": [
    "## RandomForestClassifier rules extraction\n",
    "RFSirus = SirusRFClassifier(n_estimators=1000,max_features=4,max_depth=2,bootstrap=True, random_state=1,splitter=\"quantile\")\n",
    "start = time.time()\n",
    "RFSirus.fit(X,y,quantile=10,p0=0.01)\n",
    "end = time.time()\n",
    "time_2 = end-start\n",
    "print('Fitting time = ',time_2 ,'s')\n",
    "RFSirus.feature_names_in_ = ['sepal length','sepal width','petal length','petal width']\n",
    "RFSirus.show_rules(max_rules=16)"
   ]
  },
  {
   "cell_type": "code",
   "execution_count": null,
   "id": "5f5e2540-3332-42d9-95f9-8ab6403f8b3d",
   "metadata": {},
   "outputs": [],
   "source": [
    "from pysirus.models.optimizer import train_optimal_extractor_p0\n",
    "from sklearn.metrics import roc_auc_score"
   ]
  },
  {
   "cell_type": "code",
   "execution_count": null,
   "id": "dbc47ec7-bf15-4146-a1d9-34ce1854b7e6",
   "metadata": {
    "scrolled": true
   },
   "outputs": [],
   "source": [
    "final_sirus_model = train_optimal_extractor_p0(clf=RFSirus,X_train=X,y_train=y,\n",
    "                           scoring=roc_auc_score,p0_exploration_grid=np.linspace(0.01, 0.05, 15),\n",
    "                           n_cv_splits=5,n_cv_repeats=5)"
   ]
  },
  {
   "cell_type": "raw",
   "id": "b32c5100-07f1-4300-893f-79f39c74df17",
   "metadata": {},
   "source": [
    "--- Optimal Selection ---\n",
    "Optimal p0: 0.0289\n",
    "Achieved Mean (1-AUC): 0.0006\n",
    "Achieved Mean Number of Rules: 7.92"
   ]
  },
  {
   "cell_type": "code",
   "execution_count": null,
   "id": "3448d392-ff5c-4390-ae38-150da35edbe9",
   "metadata": {},
   "outputs": [],
   "source": [
    "final_sirus_model"
   ]
  },
  {
   "cell_type": "code",
   "execution_count": null,
   "id": "40f65a2a-dd30-4719-a375-cefae68b3556",
   "metadata": {},
   "outputs": [],
   "source": [
    "final_sirus_model.feature_names_in_ = ['sepal length','sepal width','petal length','petal width']\n",
    "final_sirus_model.show_rules(max_rules=16)"
   ]
  },
  {
   "cell_type": "markdown",
   "id": "2c320c0e-ccaa-43a4-899d-1efd9c3896b7",
   "metadata": {
    "jp-MarkdownHeadingCollapsed": true
   },
   "source": [
    "## GB : "
   ]
  },
  {
   "cell_type": "code",
   "execution_count": null,
   "id": "505c768f-295a-4be6-bcfd-aea746661bec",
   "metadata": {
    "scrolled": true
   },
   "outputs": [],
   "source": [
    "## SirusGBClassifier rules extraction\n",
    "GBSirus = SirusGBClassifier(n_estimators=100,max_depth=2, random_state=19,splitter=\"quantile\")\n",
    "start = time.time()\n",
    "GBSirus.fit(X,y,quantile=10,p0=0.01)\n",
    "end = time.time()\n",
    "time_2 = end-start\n",
    "print('Fitting time = ',time_2 ,'s')\n",
    "#GBSirus.feature_names_in_ = ['sepal length','sepal width','petal length','petal width']\n",
    "#GBSirus.show_rules(max_rules=16)"
   ]
  },
  {
   "cell_type": "code",
   "execution_count": null,
   "id": "27a866b8-7152-4f1f-8fbf-155fcb419fec",
   "metadata": {},
   "outputs": [],
   "source": [
    "GBSirus.feature_names_in_ = ['sepal length','sepal width','petal length','petal width']\n",
    "GBSirus.print_rules(max_rules=4)"
   ]
  },
  {
   "cell_type": "code",
   "execution_count": null,
   "id": "645ae680-d385-4078-87c8-f08a381e2482",
   "metadata": {},
   "outputs": [],
   "source": [
    "tree.plot_tree(GBSirus.estimators_[0,0])"
   ]
  },
  {
   "cell_type": "code",
   "execution_count": null,
   "id": "a2ea8d7d-55ae-4a89-9218-d3fb20699447",
   "metadata": {},
   "outputs": [],
   "source": [
    "tree.plot_tree(GBSirus.estimators_[1,0])"
   ]
  },
  {
   "cell_type": "code",
   "execution_count": null,
   "id": "4de9a02a-d7c2-404d-a7d2-e529f6e8af94",
   "metadata": {},
   "outputs": [],
   "source": [
    "tree.plot_tree(GBSirus.estimators_[2,0])"
   ]
  },
  {
   "cell_type": "code",
   "execution_count": null,
   "id": "3ee305a2-1963-46cb-8d3b-d106cf53ada3",
   "metadata": {},
   "outputs": [],
   "source": [
    "tree.plot_tree(GBSirus.estimators_[3,0])"
   ]
  },
  {
   "cell_type": "code",
   "execution_count": null,
   "id": "9adb97c8-5612-4802-a7c7-cdc4e3b1bb6b",
   "metadata": {},
   "outputs": [],
   "source": [
    "tree.plot_tree(GBSirus.estimators_[4,0])"
   ]
  },
  {
   "cell_type": "code",
   "execution_count": null,
   "id": "9859e00d-3916-4563-810a-87fdda3e129e",
   "metadata": {},
   "outputs": [],
   "source": [
    "tree.plot_tree(GBSirus.estimators_[99,0])"
   ]
  },
  {
   "cell_type": "code",
   "execution_count": null,
   "id": "0016ee2f-6b46-4149-9440-374b5c77c302",
   "metadata": {},
   "outputs": [],
   "source": []
  }
 ],
 "metadata": {
  "kernelspec": {
   "display_name": "Python 3 (ipykernel)",
   "language": "python",
   "name": "python3"
  },
  "language_info": {
   "codemirror_mode": {
    "name": "ipython",
    "version": 3
   },
   "file_extension": ".py",
   "mimetype": "text/x-python",
   "name": "python",
   "nbconvert_exporter": "python",
   "pygments_lexer": "ipython3",
   "version": "3.11.9"
  }
 },
 "nbformat": 4,
 "nbformat_minor": 5
}

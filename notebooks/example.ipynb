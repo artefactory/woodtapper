{
 "cells": [
  {
   "cell_type": "markdown",
   "id": "469c06f0-7ad6-45e5-9587-54b4e97027d6",
   "metadata": {},
   "source": [
    "<center><h1  style=\"color:white; background-color:#000000; border-radius: 0px; padding:25px;\"> Rules extraction </h1></center>"
   ]
  },
  {
   "cell_type": "markdown",
   "id": "37c9f210-d01a-488e-8476-b052bae7c58d",
   "metadata": {},
   "source": [
    "This notebook illustrates rules extraction from decision trees."
   ]
  },
  {
   "cell_type": "code",
   "execution_count": 1,
   "id": "376cec6a-3f40-429b-bbc5-4a1aa569b0ba",
   "metadata": {},
   "outputs": [],
   "source": [
    "import os\n",
    "import sys\n",
    "sys.path.insert(1, os.path.abspath(os.path.join(os.getcwd(), os.pardir)))\n",
    "import time\n",
    "\n",
    "import numpy as np"
   ]
  },
  {
   "cell_type": "code",
   "execution_count": 2,
   "id": "23c4c3e4-271e-47b7-83d8-50f70f6715a4",
   "metadata": {},
   "outputs": [],
   "source": [
    "from sklearn.datasets import load_iris\n",
    "from sklearn.model_selection import train_test_split\n",
    "from sklearn.metrics import average_precision_score, accuracy_score,roc_auc_score"
   ]
  },
  {
   "cell_type": "code",
   "execution_count": 3,
   "id": "45c12d72-f0c2-44b5-914b-fb3e9a5950c5",
   "metadata": {},
   "outputs": [],
   "source": [
    "from sklearn.tree import DecisionTreeClassifier\n",
    "from sklearn.ensemble import RandomForestClassifier,GradientBoostingClassifier\n",
    "from pysirus.models.extractors import SirusDTreeClassifier,SirusRFClassifier,SirusGBClassifier"
   ]
  },
  {
   "cell_type": "code",
   "execution_count": 4,
   "id": "d636bbe2-ad93-446d-af0a-1b00c3a73d5c",
   "metadata": {},
   "outputs": [
    {
     "data": {
      "text/plain": [
       "array([[0., 0.]])"
      ]
     },
     "execution_count": 4,
     "metadata": {},
     "output_type": "execute_result"
    }
   ],
   "source": [
    "np.zeros((1,2))"
   ]
  },
  {
   "cell_type": "code",
   "execution_count": 5,
   "id": "cb89a2ae-a20a-481b-9f05-3ae5e86d6225",
   "metadata": {},
   "outputs": [],
   "source": [
    "from sklearn import tree"
   ]
  },
  {
   "cell_type": "markdown",
   "id": "4867794f-7b53-4344-8df3-faba07043ed4",
   "metadata": {},
   "source": [
    "## Load data :"
   ]
  },
  {
   "cell_type": "code",
   "execution_count": 6,
   "id": "446a433d-0275-48f3-b852-cd2d16d88908",
   "metadata": {},
   "outputs": [],
   "source": [
    "iris = load_iris()\n",
    "X = iris.data\n",
    "y = iris.target\n",
    "X_train, X_test, y_train, y_test = train_test_split(X, y, random_state=0)"
   ]
  },
  {
   "cell_type": "code",
   "execution_count": 7,
   "id": "b04f7997-578f-42b8-af47-9eeb241b6d93",
   "metadata": {},
   "outputs": [
    {
     "data": {
      "text/plain": [
       "array([[5.1, 3.5, 1.4, 0.2],\n",
       "       [4.9, 3. , 1.4, 0.2],\n",
       "       [4.7, 3.2, 1.3, 0.2],\n",
       "       [4.6, 3.1, 1.5, 0.2],\n",
       "       [5. , 3.6, 1.4, 0.2],\n",
       "       [5.4, 3.9, 1.7, 0.4],\n",
       "       [4.6, 3.4, 1.4, 0.3],\n",
       "       [5. , 3.4, 1.5, 0.2],\n",
       "       [4.4, 2.9, 1.4, 0.2],\n",
       "       [4.9, 3.1, 1.5, 0.1],\n",
       "       [5.4, 3.7, 1.5, 0.2],\n",
       "       [4.8, 3.4, 1.6, 0.2],\n",
       "       [4.8, 3. , 1.4, 0.1],\n",
       "       [4.3, 3. , 1.1, 0.1],\n",
       "       [5.8, 4. , 1.2, 0.2],\n",
       "       [5.7, 4.4, 1.5, 0.4],\n",
       "       [5.4, 3.9, 1.3, 0.4],\n",
       "       [5.1, 3.5, 1.4, 0.3],\n",
       "       [5.7, 3.8, 1.7, 0.3],\n",
       "       [5.1, 3.8, 1.5, 0.3],\n",
       "       [5.4, 3.4, 1.7, 0.2],\n",
       "       [5.1, 3.7, 1.5, 0.4],\n",
       "       [4.6, 3.6, 1. , 0.2],\n",
       "       [5.1, 3.3, 1.7, 0.5],\n",
       "       [4.8, 3.4, 1.9, 0.2],\n",
       "       [5. , 3. , 1.6, 0.2],\n",
       "       [5. , 3.4, 1.6, 0.4],\n",
       "       [5.2, 3.5, 1.5, 0.2],\n",
       "       [5.2, 3.4, 1.4, 0.2],\n",
       "       [4.7, 3.2, 1.6, 0.2],\n",
       "       [4.8, 3.1, 1.6, 0.2],\n",
       "       [5.4, 3.4, 1.5, 0.4],\n",
       "       [5.2, 4.1, 1.5, 0.1],\n",
       "       [5.5, 4.2, 1.4, 0.2],\n",
       "       [4.9, 3.1, 1.5, 0.2],\n",
       "       [5. , 3.2, 1.2, 0.2],\n",
       "       [5.5, 3.5, 1.3, 0.2],\n",
       "       [4.9, 3.6, 1.4, 0.1],\n",
       "       [4.4, 3. , 1.3, 0.2],\n",
       "       [5.1, 3.4, 1.5, 0.2],\n",
       "       [5. , 3.5, 1.3, 0.3],\n",
       "       [4.5, 2.3, 1.3, 0.3],\n",
       "       [4.4, 3.2, 1.3, 0.2],\n",
       "       [5. , 3.5, 1.6, 0.6],\n",
       "       [5.1, 3.8, 1.9, 0.4],\n",
       "       [4.8, 3. , 1.4, 0.3],\n",
       "       [5.1, 3.8, 1.6, 0.2],\n",
       "       [4.6, 3.2, 1.4, 0.2],\n",
       "       [5.3, 3.7, 1.5, 0.2],\n",
       "       [5. , 3.3, 1.4, 0.2],\n",
       "       [7. , 3.2, 4.7, 1.4],\n",
       "       [6.4, 3.2, 4.5, 1.5],\n",
       "       [6.9, 3.1, 4.9, 1.5],\n",
       "       [5.5, 2.3, 4. , 1.3],\n",
       "       [6.5, 2.8, 4.6, 1.5],\n",
       "       [5.7, 2.8, 4.5, 1.3],\n",
       "       [6.3, 3.3, 4.7, 1.6],\n",
       "       [4.9, 2.4, 3.3, 1. ],\n",
       "       [6.6, 2.9, 4.6, 1.3],\n",
       "       [5.2, 2.7, 3.9, 1.4],\n",
       "       [5. , 2. , 3.5, 1. ],\n",
       "       [5.9, 3. , 4.2, 1.5],\n",
       "       [6. , 2.2, 4. , 1. ],\n",
       "       [6.1, 2.9, 4.7, 1.4],\n",
       "       [5.6, 2.9, 3.6, 1.3],\n",
       "       [6.7, 3.1, 4.4, 1.4],\n",
       "       [5.6, 3. , 4.5, 1.5],\n",
       "       [5.8, 2.7, 4.1, 1. ],\n",
       "       [6.2, 2.2, 4.5, 1.5],\n",
       "       [5.6, 2.5, 3.9, 1.1],\n",
       "       [5.9, 3.2, 4.8, 1.8],\n",
       "       [6.1, 2.8, 4. , 1.3],\n",
       "       [6.3, 2.5, 4.9, 1.5],\n",
       "       [6.1, 2.8, 4.7, 1.2],\n",
       "       [6.4, 2.9, 4.3, 1.3],\n",
       "       [6.6, 3. , 4.4, 1.4],\n",
       "       [6.8, 2.8, 4.8, 1.4],\n",
       "       [6.7, 3. , 5. , 1.7],\n",
       "       [6. , 2.9, 4.5, 1.5],\n",
       "       [5.7, 2.6, 3.5, 1. ],\n",
       "       [5.5, 2.4, 3.8, 1.1],\n",
       "       [5.5, 2.4, 3.7, 1. ],\n",
       "       [5.8, 2.7, 3.9, 1.2],\n",
       "       [6. , 2.7, 5.1, 1.6],\n",
       "       [5.4, 3. , 4.5, 1.5],\n",
       "       [6. , 3.4, 4.5, 1.6],\n",
       "       [6.7, 3.1, 4.7, 1.5],\n",
       "       [6.3, 2.3, 4.4, 1.3],\n",
       "       [5.6, 3. , 4.1, 1.3],\n",
       "       [5.5, 2.5, 4. , 1.3],\n",
       "       [5.5, 2.6, 4.4, 1.2],\n",
       "       [6.1, 3. , 4.6, 1.4],\n",
       "       [5.8, 2.6, 4. , 1.2],\n",
       "       [5. , 2.3, 3.3, 1. ],\n",
       "       [5.6, 2.7, 4.2, 1.3],\n",
       "       [5.7, 3. , 4.2, 1.2],\n",
       "       [5.7, 2.9, 4.2, 1.3],\n",
       "       [6.2, 2.9, 4.3, 1.3],\n",
       "       [5.1, 2.5, 3. , 1.1],\n",
       "       [5.7, 2.8, 4.1, 1.3],\n",
       "       [6.3, 3.3, 6. , 2.5],\n",
       "       [5.8, 2.7, 5.1, 1.9],\n",
       "       [7.1, 3. , 5.9, 2.1],\n",
       "       [6.3, 2.9, 5.6, 1.8],\n",
       "       [6.5, 3. , 5.8, 2.2],\n",
       "       [7.6, 3. , 6.6, 2.1],\n",
       "       [4.9, 2.5, 4.5, 1.7],\n",
       "       [7.3, 2.9, 6.3, 1.8],\n",
       "       [6.7, 2.5, 5.8, 1.8],\n",
       "       [7.2, 3.6, 6.1, 2.5],\n",
       "       [6.5, 3.2, 5.1, 2. ],\n",
       "       [6.4, 2.7, 5.3, 1.9],\n",
       "       [6.8, 3. , 5.5, 2.1],\n",
       "       [5.7, 2.5, 5. , 2. ],\n",
       "       [5.8, 2.8, 5.1, 2.4],\n",
       "       [6.4, 3.2, 5.3, 2.3],\n",
       "       [6.5, 3. , 5.5, 1.8],\n",
       "       [7.7, 3.8, 6.7, 2.2],\n",
       "       [7.7, 2.6, 6.9, 2.3],\n",
       "       [6. , 2.2, 5. , 1.5],\n",
       "       [6.9, 3.2, 5.7, 2.3],\n",
       "       [5.6, 2.8, 4.9, 2. ],\n",
       "       [7.7, 2.8, 6.7, 2. ],\n",
       "       [6.3, 2.7, 4.9, 1.8],\n",
       "       [6.7, 3.3, 5.7, 2.1],\n",
       "       [7.2, 3.2, 6. , 1.8],\n",
       "       [6.2, 2.8, 4.8, 1.8],\n",
       "       [6.1, 3. , 4.9, 1.8],\n",
       "       [6.4, 2.8, 5.6, 2.1],\n",
       "       [7.2, 3. , 5.8, 1.6],\n",
       "       [7.4, 2.8, 6.1, 1.9],\n",
       "       [7.9, 3.8, 6.4, 2. ],\n",
       "       [6.4, 2.8, 5.6, 2.2],\n",
       "       [6.3, 2.8, 5.1, 1.5],\n",
       "       [6.1, 2.6, 5.6, 1.4],\n",
       "       [7.7, 3. , 6.1, 2.3],\n",
       "       [6.3, 3.4, 5.6, 2.4],\n",
       "       [6.4, 3.1, 5.5, 1.8],\n",
       "       [6. , 3. , 4.8, 1.8],\n",
       "       [6.9, 3.1, 5.4, 2.1],\n",
       "       [6.7, 3.1, 5.6, 2.4],\n",
       "       [6.9, 3.1, 5.1, 2.3],\n",
       "       [5.8, 2.7, 5.1, 1.9],\n",
       "       [6.8, 3.2, 5.9, 2.3],\n",
       "       [6.7, 3.3, 5.7, 2.5],\n",
       "       [6.7, 3. , 5.2, 2.3],\n",
       "       [6.3, 2.5, 5. , 1.9],\n",
       "       [6.5, 3. , 5.2, 2. ],\n",
       "       [6.2, 3.4, 5.4, 2.3],\n",
       "       [5.9, 3. , 5.1, 1.8]])"
      ]
     },
     "execution_count": 7,
     "metadata": {},
     "output_type": "execute_result"
    }
   ],
   "source": [
    "X"
   ]
  },
  {
   "cell_type": "code",
   "execution_count": 8,
   "id": "dc535611-e2fc-49b4-83f7-14735f441b57",
   "metadata": {},
   "outputs": [
    {
     "data": {
      "text/plain": [
       "array([0, 0, 0, 0, 0, 0, 0, 0, 0, 0, 0, 0, 0, 0, 0, 0, 0, 0, 0, 0, 0, 0,\n",
       "       0, 0, 0, 0, 0, 0, 0, 0, 0, 0, 0, 0, 0, 0, 0, 0, 0, 0, 0, 0, 0, 0,\n",
       "       0, 0, 0, 0, 0, 0, 1, 1, 1, 1, 1, 1, 1, 1, 1, 1, 1, 1, 1, 1, 1, 1,\n",
       "       1, 1, 1, 1, 1, 1, 1, 1, 1, 1, 1, 1, 1, 1, 1, 1, 1, 1, 1, 1, 1, 1,\n",
       "       1, 1, 1, 1, 1, 1, 1, 1, 1, 1, 1, 1, 2, 2, 2, 2, 2, 2, 2, 2, 2, 2,\n",
       "       2, 2, 2, 2, 2, 2, 2, 2, 2, 2, 2, 2, 2, 2, 2, 2, 2, 2, 2, 2, 2, 2,\n",
       "       2, 2, 2, 2, 2, 2, 2, 2, 2, 2, 2, 2, 2, 2, 2, 2, 2, 2])"
      ]
     },
     "execution_count": 8,
     "metadata": {},
     "output_type": "execute_result"
    }
   ],
   "source": [
    "y"
   ]
  },
  {
   "cell_type": "markdown",
   "id": "c17b68d4-7652-4d4c-b1af-e5c1bc3038cf",
   "metadata": {},
   "source": [
    "## Single tree : "
   ]
  },
  {
   "cell_type": "code",
   "execution_count": 9,
   "id": "6046819a-a10f-4b28-8174-5d2220fbbded",
   "metadata": {},
   "outputs": [
    {
     "name": "stdout",
     "output_type": "stream",
     "text": [
      "PR AUC : 0.9546052631578946\n",
      "ROC AUC : 0.980263157894737\n",
      "Accuracy : 0.9736842105263158\n"
     ]
    }
   ],
   "source": [
    "# Usual DecisionTree\n",
    "clf_dtree = DecisionTreeClassifier(max_depth=10, random_state=0)\n",
    "clf_dtree.fit(X_train, y_train)\n",
    "y_pred_dtree = clf_dtree.predict(X_test)\n",
    "y_pred_proba_dtree = clf_dtree.predict_proba(X_test)\n",
    "print('PR AUC :', average_precision_score(y_test, y_pred_proba_dtree))\n",
    "print('ROC AUC :', roc_auc_score(y_test, y_pred_proba_dtree,average='micro',multi_class='ovr'))\n",
    "print('Accuracy :', accuracy_score(y_test, y_pred_dtree))"
   ]
  },
  {
   "cell_type": "code",
   "execution_count": 10,
   "id": "560b4c68-1a52-465f-9c0e-5a8a3586500f",
   "metadata": {
    "scrolled": true
   },
   "outputs": [
    {
     "name": "stdout",
     "output_type": "stream",
     "text": [
      "PR AUC : 0.9163432355967078\n",
      "ROC AUC : 0.9802631578947368\n",
      "Accuracy : 0.9473684210526315\n"
     ]
    }
   ],
   "source": [
    "## DecisionTree rules extraction\n",
    "STree = SirusDTreeClassifier(max_depth=2, random_state=0)\n",
    "STree.fit(X_train,y_train,quantile=10)\n",
    "y_pred_sirus = STree.predict(X_test)\n",
    "y_pred_proba_sirus = STree.predict_proba(X_test)\n",
    "print('PR AUC :', average_precision_score(y_test, y_pred_proba_sirus))\n",
    "print('ROC AUC :', roc_auc_score(y_test, y_pred_proba_sirus,average='micro',multi_class='ovr'))\n",
    "print('Accuracy :', accuracy_score(y_test, y_pred_sirus))"
   ]
  },
  {
   "cell_type": "code",
   "execution_count": 11,
   "id": "428324d6-5800-4a28-a3c2-710307442b6c",
   "metadata": {},
   "outputs": [
    {
     "name": "stdout",
     "output_type": "stream",
     "text": [
      "########\n",
      "Rules 0 \n",
      "       &( petal length <= 4.8999998569488525 )\n",
      "########\n",
      "Rules 1 \n",
      "       &( petal width <= 0.7699999958276749 )\n",
      "########\n",
      "Rules 2 \n",
      "       &( petal width > 0.7699999958276749 )\n",
      "       &( petal length <= 4.8999998569488525 )\n"
     ]
    }
   ],
   "source": [
    "STree.feature_names_in_ = ['sepal length','sepal width','petal length','petal width']\n",
    "STree.print_rules(max_rules=3)"
   ]
  },
  {
   "cell_type": "code",
   "execution_count": 12,
   "id": "6d9089a6-2c9b-42cf-b1d8-bae57e89ec85",
   "metadata": {},
   "outputs": [
    {
     "name": "stdout",
     "output_type": "stream",
     "text": [
      "Estimated average rate for target class 1 (from 'else' clauses) p_s = 19%.\n",
      "(Note: True average rate should be P(Class=1) from training data).\n",
      "\n",
      "IF Condition                                     THEN P(C1)      ELSE P(C1)\n",
      "---------------------------------------------------------------------------\n",
      "if   petal length <= 4.90                   then 44%          else 7%          \n",
      "if   petal width <= 0.77                    then 0%           else 45%         \n",
      "if   petal width > 0.77 & petal length <= 4.90 then 94%          else 4%          \n"
     ]
    }
   ],
   "source": [
    "STree.show_rules(max_rules=16)"
   ]
  },
  {
   "cell_type": "code",
   "execution_count": 13,
   "id": "fcc597fc-2e73-4810-93ef-5a467cfac7ea",
   "metadata": {},
   "outputs": [
    {
     "data": {
      "text/plain": [
       "4"
      ]
     },
     "execution_count": 13,
     "metadata": {},
     "output_type": "execute_result"
    }
   ],
   "source": [
    "STree.n_features_in_"
   ]
  },
  {
   "cell_type": "markdown",
   "id": "90839d36-29de-47a2-b6b3-ab40ed9cdac1",
   "metadata": {},
   "source": [
    "## Random forest : "
   ]
  },
  {
   "cell_type": "code",
   "execution_count": 14,
   "id": "bdc9b6d0-8a08-4206-bd28-6682e6921bf5",
   "metadata": {},
   "outputs": [
    {
     "name": "stdout",
     "output_type": "stream",
     "text": [
      "PR AUC : 0.9780937683715462\n",
      "ROC AUC : 0.996191135734072\n",
      "Accuracy : 0.9736842105263158\n"
     ]
    }
   ],
   "source": [
    "# Usual RandomForestClassifier\n",
    "clf_rf = RandomForestClassifier(max_depth=10, random_state=0)\n",
    "clf_rf.fit(X_train, y_train)\n",
    "y_pred_dtree = clf_rf.predict(X_test)\n",
    "y_pred_proba_dtree = clf_rf.predict_proba(X_test)\n",
    "print('PR AUC :', average_precision_score(y_test, y_pred_proba_dtree))\n",
    "print('ROC AUC :', roc_auc_score(y_test, y_pred_proba_dtree,average='micro',multi_class='ovr'))\n",
    "print('Accuracy :', accuracy_score(y_test, y_pred_dtree))"
   ]
  },
  {
   "cell_type": "code",
   "execution_count": 15,
   "id": "048c4903-828f-43e4-8220-d696d114cf2b",
   "metadata": {},
   "outputs": [
    {
     "name": "stdout",
     "output_type": "stream",
     "text": [
      "PR AUC : 0.9786189784555798\n",
      "ROC AUC : 0.9844182825484765\n",
      "Accuracy : 0.9210526315789473\n",
      "Fitting time =  0.0668642520904541 s\n"
     ]
    }
   ],
   "source": [
    "## RandomForestClassifier rules extraction\n",
    "RFSirus = SirusRFClassifier(max_depth=2, random_state=0,splitter=\"quantile\")\n",
    "start = time.time()\n",
    "RFSirus.fit(X_train,y_train,quantile=10,batch_size_post_treatment=50,p0=0.01)\n",
    "end = time.time()\n",
    "y_pred_sirus = RFSirus.predict(X_test)\n",
    "y_pred_proba_sirus = RFSirus.predict_proba(X_test)\n",
    "print('PR AUC :', average_precision_score(y_test, y_pred_proba_sirus))\n",
    "print('ROC AUC :', roc_auc_score(y_test, y_pred_proba_sirus,average='micro',multi_class='ovr'))\n",
    "print('Accuracy :', accuracy_score(y_test, y_pred_sirus))\n",
    "time_2 = end-start\n",
    "print('Fitting time = ',time_2 ,'s')"
   ]
  },
  {
   "cell_type": "code",
   "execution_count": 16,
   "id": "b48bacd4-2834-431b-80ea-baa22460e37c",
   "metadata": {},
   "outputs": [],
   "source": [
    "RFSirus.feature_names_in_ = ['sepal length','sepal width','petal length','petal width']"
   ]
  },
  {
   "cell_type": "code",
   "execution_count": 17,
   "id": "f7d2496f-8309-4b62-adc4-81577fc2e5a8",
   "metadata": {
    "scrolled": true
   },
   "outputs": [
    {
     "name": "stdout",
     "output_type": "stream",
     "text": [
      "########\n",
      "Rules 0 \n",
      "       &( petal width <= 0.4000000059604645 )\n",
      "########\n",
      "Rules 1 \n",
      "       &( petal width <= 1.5 )\n",
      "########\n",
      "Rules 2 \n",
      "       &( petal length <= 4.699999809265137 )\n",
      "########\n",
      "Rules 3 \n",
      "       &( petal length <= 1.6299999952316284 )\n",
      "########\n",
      "Rules 4 \n",
      "       &( petal width <= 1.7999999523162842 )\n",
      "########\n",
      "Rules 5 \n",
      "       &( petal length > 1.6299999952316284 )\n",
      "       &( petal width > 1.5 )\n",
      "########\n",
      "Rules 6 \n",
      "       &( petal length > 1.6299999952316284 )\n",
      "       &( petal width <= 1.5 )\n",
      "########\n",
      "Rules 7 \n",
      "       &( sepal length <= 5.599999904632568 )\n",
      "########\n",
      "Rules 8 \n",
      "       &( sepal length <= 6.159999847412109 )\n",
      "########\n",
      "Rules 9 \n",
      "       &( petal length <= 5.099999904632568 )\n"
     ]
    }
   ],
   "source": [
    "RFSirus.print_rules(max_rules=10)"
   ]
  },
  {
   "cell_type": "code",
   "execution_count": null,
   "id": "0d6935ea-7f08-4ab5-977e-00f8e2093c1b",
   "metadata": {},
   "outputs": [],
   "source": []
  },
  {
   "cell_type": "markdown",
   "id": "90968564-70e4-445d-b599-912487785076",
   "metadata": {},
   "source": [
    "## GB :"
   ]
  },
  {
   "cell_type": "code",
   "execution_count": 18,
   "id": "6032e05d-3ec8-41ed-b5e7-c88d85d6076d",
   "metadata": {},
   "outputs": [
    {
     "name": "stdout",
     "output_type": "stream",
     "text": [
      "PR AUC : 0.9780937683715463\n",
      "ROC AUC : 0.996191135734072\n",
      "Accuracy : 0.9736842105263158\n"
     ]
    }
   ],
   "source": [
    "# Usual GradientBoostingClassifier\n",
    "GBSirus = GradientBoostingClassifier(n_estimators=100,max_depth=2,random_state=19)\n",
    "GBSirus.fit(X_train, y_train)\n",
    "y_pred_dtree = GBSirus.predict(X_test)\n",
    "y_pred_proba_dtree = GBSirus.predict_proba(X_test)\n",
    "print('PR AUC :', average_precision_score(y_test, y_pred_proba_dtree))\n",
    "print('ROC AUC :', roc_auc_score(y_test, y_pred_proba_dtree,average='micro',multi_class='ovr'))\n",
    "print('Accuracy :', accuracy_score(y_test, y_pred_dtree))"
   ]
  },
  {
   "cell_type": "code",
   "execution_count": 27,
   "id": "19ca8fbe-84c5-46f7-a341-19ae747ff3f6",
   "metadata": {
    "scrolled": true
   },
   "outputs": [
    {
     "name": "stdout",
     "output_type": "stream",
     "text": [
      "PR AUC : 0.9654311528620262\n",
      "ROC AUC : 0.9241689750692521\n",
      "Accuracy : 0.6842105263157895\n"
     ]
    }
   ],
   "source": [
    "# GradientBoostingClassifier rules extraction\n",
    "GBSirus = SirusGBClassifier(n_estimators=100,max_depth=2, random_state=19,splitter=\"quantile\")\n",
    "GBSirus.fit(X_train, y_train,p0=0.01,quantile=20)\n",
    "y_pred_dtree = GBSirus.predict(X_test)\n",
    "y_pred_proba_dtree = GBSirus.predict_proba(X_test)\n",
    "print('PR AUC :', average_precision_score(y_test, y_pred_proba_dtree))\n",
    "print('ROC AUC :', roc_auc_score(y_test, y_pred_proba_dtree,average='micro',multi_class='ovr'))\n",
    "print('Accuracy :', accuracy_score(y_test, y_pred_dtree))"
   ]
  },
  {
   "cell_type": "code",
   "execution_count": 28,
   "id": "6d28fff0-e22d-4616-92f6-2a52ca8c55f7",
   "metadata": {},
   "outputs": [
    {
     "data": {
      "text/plain": [
       "16"
      ]
     },
     "execution_count": 28,
     "metadata": {},
     "output_type": "execute_result"
    }
   ],
   "source": [
    "len(GBSirus.all_possible_rules_list)"
   ]
  },
  {
   "cell_type": "code",
   "execution_count": 29,
   "id": "c4ba8fcc-fae8-4c87-9c2a-5479b32697c9",
   "metadata": {},
   "outputs": [
    {
     "data": {
      "text/plain": [
       "16"
      ]
     },
     "execution_count": 29,
     "metadata": {},
     "output_type": "execute_result"
    }
   ],
   "source": [
    "len(GBSirus.list_probas_by_rules)"
   ]
  },
  {
   "cell_type": "code",
   "execution_count": null,
   "id": "2a3836d4-92ac-45ba-b076-977848a6bc85",
   "metadata": {},
   "outputs": [],
   "source": []
  },
  {
   "cell_type": "code",
   "execution_count": 30,
   "id": "e318f9dc-ef8f-4bdb-b50d-c4ca2c7b66ba",
   "metadata": {},
   "outputs": [
    {
     "name": "stdout",
     "output_type": "stream",
     "text": [
      "Estimated average rate for target class 1 (from 'else' clauses) p_s = 24%.\n",
      "(Note: True average rate should be P(Class=1) from training data).\n",
      "\n",
      "IF Condition                                    THEN P(C1)      ELSE P(C1)\n",
      "--------------------------------------------------------------------------\n",
      "if   sepal width <= 2.70                   then 59%          else 21%         \n",
      "if   petal width <= 1.14                   then 18%          else 39%         \n",
      "if   petal width <= 1.14 & sepal width > 2.70 then 0%           else 45%         \n",
      "if   petal length <= 1.50                  then 0%           else 40%         \n",
      "if   sepal width <= 3.10                   then 47%          else 12%         \n",
      "if   petal length <= 4.70                  then 42%          else 13%         \n",
      "if   petal length <= 5.48                  then 38%          else 0%          \n",
      "if   petal width <= 1.50                   then 43%          else 9%          \n",
      "if   petal width <= 0.20                   then 0%           else 40%         \n",
      "if   petal length <= 3.90                  then 20%          else 38%         \n",
      "if   sepal length <= 5.02                  then 9%           else 36%         \n",
      "if   sepal length <= 5.60                  then 16%          else 39%         \n",
      "if   sepal length <= 6.16                  then 34%          else 24%         \n",
      "if   petal width > 1.14 & sepal width <= 3.00 then 43%          else 21%         \n",
      "if   sepal width <= 3.00                   then 47%          else 12%         \n",
      "if   sepal width <= 3.40                   then 36%          else 0%          \n"
     ]
    }
   ],
   "source": [
    "GBSirus.feature_names_in_ = ['sepal length','sepal width','petal length','petal width']\n",
    "GBSirus.show_rules(max_rules=16)"
   ]
  },
  {
   "cell_type": "code",
   "execution_count": 31,
   "id": "df2f697b-60f2-444b-b77f-f05f5dd87b56",
   "metadata": {
    "scrolled": true
   },
   "outputs": [
    {
     "name": "stdout",
     "output_type": "stream",
     "text": [
      "########\n",
      "Rules 0 \n",
      "       &( sepal width <= 2.700000047683716 )\n",
      "########\n",
      "Rules 1 \n",
      "       &( petal width <= 1.1399999856948853 )\n",
      "########\n",
      "Rules 2 \n",
      "       &( petal width <= 1.1399999856948853 )\n",
      "       &( sepal width > 2.700000047683716 )\n",
      "########\n",
      "Rules 3 \n",
      "       &( petal length <= 1.5 )\n",
      "########\n",
      "Rules 4 \n",
      "       &( sepal width <= 3.0999999046325684 )\n",
      "########\n",
      "Rules 5 \n",
      "       &( petal length <= 4.699999809265137 )\n",
      "########\n",
      "Rules 6 \n",
      "       &( petal length <= 5.480000019073486 )\n",
      "########\n",
      "Rules 7 \n",
      "       &( petal width <= 1.5 )\n",
      "########\n",
      "Rules 8 \n",
      "       &( petal width <= 0.20000000298023224 )\n",
      "########\n",
      "Rules 9 \n",
      "       &( petal length <= 3.9000000953674316 )\n"
     ]
    }
   ],
   "source": [
    "GBSirus.print_rules(max_rules=10)"
   ]
  },
  {
   "cell_type": "code",
   "execution_count": null,
   "id": "8fa1773a-2907-4499-aeba-38b7743b5cb9",
   "metadata": {},
   "outputs": [],
   "source": []
  },
  {
   "cell_type": "markdown",
   "id": "945abbec-fb36-4305-bdab-250ad1f3cf41",
   "metadata": {
    "jp-MarkdownHeadingCollapsed": true
   },
   "source": [
    "# Tests : "
   ]
  },
  {
   "cell_type": "markdown",
   "id": "29e3af82-02db-4a61-8b14-7d8feee54af5",
   "metadata": {},
   "source": [
    "## Essais :"
   ]
  },
  {
   "cell_type": "code",
   "execution_count": 16,
   "id": "19b0b271-d972-4975-93f1-19e673652652",
   "metadata": {},
   "outputs": [
    {
     "data": {
      "text/plain": [
       "['sepal length (cm)',\n",
       " 'sepal width (cm)',\n",
       " 'petal length (cm)',\n",
       " 'petal width (cm)']"
      ]
     },
     "execution_count": 16,
     "metadata": {},
     "output_type": "execute_result"
    }
   ],
   "source": [
    "iris.feature_names"
   ]
  },
  {
   "cell_type": "code",
   "execution_count": 17,
   "id": "b44bf42e-b9aa-4b3e-8f58-a3121e7c623f",
   "metadata": {},
   "outputs": [
    {
     "data": {
      "text/plain": [
       "array([0, 0, 0, 0, 0, 0, 0, 0, 0, 0, 0, 0, 0, 0, 0, 0, 0, 0, 0, 0, 0, 0,\n",
       "       0, 0, 0, 0, 0, 0, 0, 0, 0, 0, 0, 0, 0, 0, 0, 0, 0, 0, 0, 0, 0, 0,\n",
       "       0, 0, 0, 0, 0, 0, 1, 1, 1, 1, 1, 1, 1, 1, 1, 1, 1, 1, 1, 1, 1, 1,\n",
       "       1, 1, 1, 1, 1, 1, 1, 1, 1, 1, 1, 1, 1, 1, 1, 1, 1, 1, 1, 1, 1, 1,\n",
       "       1, 1, 1, 1, 1, 1, 1, 1, 1, 1, 1, 1, 2, 2, 2, 2, 2, 2, 2, 2, 2, 2,\n",
       "       2, 2, 2, 2, 2, 2, 2, 2, 2, 2, 2, 2, 2, 2, 2, 2, 2, 2, 2, 2, 2, 2,\n",
       "       2, 2, 2, 2, 2, 2, 2, 2, 2, 2, 2, 2, 2, 2, 2, 2, 2, 2])"
      ]
     },
     "execution_count": 17,
     "metadata": {},
     "output_type": "execute_result"
    }
   ],
   "source": [
    "y"
   ]
  },
  {
   "cell_type": "code",
   "execution_count": 18,
   "id": "503c2528-a79f-43b5-8ea1-ca283c4a4789",
   "metadata": {},
   "outputs": [
    {
     "data": {
      "text/plain": [
       "array([1, 1, 1, 1, 1, 1, 1, 1, 1, 1, 1, 1, 1, 1, 1, 1, 1, 1, 1, 1, 1, 1,\n",
       "       1, 1, 1, 1, 1, 1, 1, 1, 1, 1, 1, 1, 1, 1, 1, 1, 1, 1, 1, 1, 1, 1,\n",
       "       1, 1, 1, 1, 1, 1, 0, 0, 0, 0, 0, 0, 0, 0, 0, 0, 0, 0, 0, 0, 0, 0,\n",
       "       0, 0, 0, 0, 0, 0, 0, 0, 0, 0, 0, 0, 0, 0, 0, 0, 0, 0, 0, 0, 0, 0,\n",
       "       0, 0, 0, 0, 0, 0, 0, 0, 0, 0, 0, 0, 0, 0, 0, 0, 0, 0, 0, 0, 0, 0,\n",
       "       0, 0, 0, 0, 0, 0, 0, 0, 0, 0, 0, 0, 0, 0, 0, 0, 0, 0, 0, 0, 0, 0,\n",
       "       0, 0, 0, 0, 0, 0, 0, 0, 0, 0, 0, 0, 0, 0, 0, 0, 0, 0])"
      ]
     },
     "execution_count": 18,
     "metadata": {},
     "output_type": "execute_result"
    }
   ],
   "source": [
    "y[y==1] = -1\n",
    "y[y==2] = -1\n",
    "y[y==0] = 1\n",
    "y[y==-1]=0\n",
    "y"
   ]
  },
  {
   "cell_type": "code",
   "execution_count": 19,
   "id": "614fc54b-1fd6-4867-b7c4-c3259eca408d",
   "metadata": {
    "scrolled": true
   },
   "outputs": [
    {
     "data": {
      "text/plain": [
       "50"
      ]
     },
     "execution_count": 19,
     "metadata": {},
     "output_type": "execute_result"
    }
   ],
   "source": [
    "y.sum()"
   ]
  },
  {
   "cell_type": "markdown",
   "id": "bef2389a-8c36-49dc-9aef-b35ebfd39b4d",
   "metadata": {
    "jp-MarkdownHeadingCollapsed": true
   },
   "source": [
    "## Essais 2:"
   ]
  },
  {
   "cell_type": "code",
   "execution_count": 20,
   "id": "7b62e8e0-2790-4250-b495-d7163886eda6",
   "metadata": {
    "scrolled": true
   },
   "outputs": [
    {
     "name": "stdout",
     "output_type": "stream",
     "text": [
      "array_quantile :  [[4.3  2.   1.   0.1 ]\n",
      " [4.8  2.5  1.4  0.2 ]\n",
      " [5.   2.7  1.5  0.2 ]\n",
      " [5.27 2.8  1.7  0.4 ]\n",
      " [5.6  3.   3.9  1.16]\n",
      " [5.8  3.   4.35 1.3 ]\n",
      " [6.1  3.1  4.64 1.5 ]\n",
      " [6.3  3.2  5.   1.8 ]\n",
      " [6.52 3.4  5.32 1.9 ]\n",
      " [6.9  3.61 5.8  2.2 ]\n",
      " [7.9  4.4  6.9  2.5 ]]\n",
      "n_rules before post-treatment :  6\n",
      "25 all_possible_rules_list :  [[(2, 1.7000000476837158, 'L')], [(2, 1.7000000476837158, 'R'), (3, 0.4000000059604645, 'L')], [(2, 1.7000000476837158, 'R'), (3, 0.4000000059604645, 'R')], [(2, 1.7000000476837158, 'R')], [(3, 0.4000000059604645, 'L')], [(3, 0.4000000059604645, 'R')]]\n",
      "####################\n",
      "25 proportions_count_sort :  [0.16666667 0.16666667 0.16666667 0.16666667 0.16666667 0.16666667]\n",
      "####################\n",
      "**********************************************************************\n",
      "Compared ruled paths_left:  [(2, 1.7000000476837158, 'L')]\n",
      "Paths:  [(2, 1.7000000476837158, 'L')]\n",
      "Path ftr:  []\n",
      "**********************************************************************\n",
      "Compared ruled paths_left:  [(2, 1.7000000476837158, 'R'), (3, 0.4000000059604645, 'L')]\n",
      "Paths:  [(2, 1.7000000476837158, 'R'), (3, 0.4000000059604645, 'L')]\n",
      "Path ftr:  [[(2, 1.7000000476837158, 'L')]]\n",
      "related_paths_ftr : [[(2, 1.7000000476837158, 'L')]]\n",
      "rules_ensemble : [[(2, 1.7000000476837158, 'L')], [(2, 1.7000000476837158, 'R'), (3, 0.4000000059604645, 'L')]]\n",
      "aa\n",
      "bb\n",
      "**********************************************************************\n",
      "Compared ruled paths_left:  [(2, 1.7000000476837158, 'R'), (3, 0.4000000059604645, 'R')]\n",
      "Paths:  [(2, 1.7000000476837158, 'R'), (3, 0.4000000059604645, 'R')]\n",
      "Path ftr:  [[(2, 1.7000000476837158, 'L')], [(2, 1.7000000476837158, 'R'), (3, 0.4000000059604645, 'L')]]\n",
      "related_paths_ftr : [[(2, 1.7000000476837158, 'L')], [(2, 1.7000000476837158, 'R'), (3, 0.4000000059604645, 'L')]]\n",
      "rules_ensemble : [[(2, 1.7000000476837158, 'L')], [(2, 1.7000000476837158, 'R'), (3, 0.4000000059604645, 'L')], [(2, 1.7000000476837158, 'R'), (3, 0.4000000059604645, 'R')]]\n",
      "implied len(2) : [False]\n",
      "implied len(2) : [False]\n",
      "implied len(2) : [True]\n",
      "implied len(2) : [True]\n",
      "implied len(2) : [True, True]\n",
      "implied len(2) : [True, False]\n",
      "implied len(2) : [False, True]\n",
      "implied len(2) : [False, False]\n",
      "implied len(2) : [True, False]\n",
      "implied len(2) : [True, True]\n",
      "implied len(2) : [False, False]\n",
      "implied len(2) : [False, True]\n",
      "curr_matrix : [[False  True False]\n",
      " [False False  True]\n",
      " [ True False False]\n",
      " [ True False False]]\n",
      "list_matrix :  [array([[False,  True, False],\n",
      "       [False, False,  True],\n",
      "       [ True, False, False],\n",
      "       [ True, False, False]])]\n",
      "matrix :  [[0. 1. 0. 1.]\n",
      " [0. 0. 1. 1.]\n",
      " [1. 0. 0. 1.]\n",
      " [1. 0. 0. 1.]]\n",
      "matrix_rank : 3\n",
      "**********************************************************************\n",
      "Compared ruled paths_left:  [(2, 1.7000000476837158, 'L')]\n",
      "Paths:  [(2, 1.7000000476837158, 'R')]\n",
      "Path ftr:  [[(2, 1.7000000476837158, 'L')], [(2, 1.7000000476837158, 'R'), (3, 0.4000000059604645, 'L')]]\n",
      "**********************************************************************\n",
      "Compared ruled paths_left:  [(3, 0.4000000059604645, 'L')]\n",
      "Paths:  [(3, 0.4000000059604645, 'L')]\n",
      "Path ftr:  [[(2, 1.7000000476837158, 'L')], [(2, 1.7000000476837158, 'R'), (3, 0.4000000059604645, 'L')]]\n",
      "related_paths_ftr : [[(2, 1.7000000476837158, 'R'), (3, 0.4000000059604645, 'L')]]\n",
      "rules_ensemble : [[(2, 1.7000000476837158, 'R'), (3, 0.4000000059604645, 'L')], [(3, 0.4000000059604645, 'L')]]\n",
      "implied len(2) : [True, True]\n",
      "implied len(2) : [True, False]\n",
      "implied len(2) : [False, True]\n",
      "implied len(2) : [False, False]\n",
      "implied len(2) : [True]\n",
      "implied len(2) : [False]\n",
      "implied len(2) : [True]\n",
      "implied len(2) : [False]\n",
      "curr_matrix : [[ True  True]\n",
      " [False False]\n",
      " [False  True]\n",
      " [False False]]\n",
      "list_matrix :  [array([[ True,  True],\n",
      "       [False, False],\n",
      "       [False,  True],\n",
      "       [False, False]])]\n",
      "matrix :  [[1. 1. 1.]\n",
      " [0. 0. 1.]\n",
      " [0. 1. 1.]\n",
      " [0. 0. 1.]]\n",
      "matrix_rank : 3\n",
      "**********************************************************************\n",
      "Compared ruled paths_left:  [(3, 0.4000000059604645, 'L')]\n",
      "Paths:  [(3, 0.4000000059604645, 'R')]\n",
      "Path ftr:  [[(2, 1.7000000476837158, 'L')], [(2, 1.7000000476837158, 'R'), (3, 0.4000000059604645, 'L')], [(3, 0.4000000059604645, 'L')]]\n",
      "after paths_filtering_2d res :  [[(2, 1.7000000476837158, 'L')], [(2, 1.7000000476837158, 'R'), (3, 0.4000000059604645, 'L')], [(3, 0.4000000059604645, 'L')]]\n",
      "####################\n",
      "Fitting time =  0.004690885543823242 s\n",
      "Estimated average rate for target class 1 (from 'else' clauses) p_s = 12%.\n",
      "(Note: True average rate should be P(Class=1) from training data).\n",
      "\n",
      "IF Condition                                     THEN P(C1)      ELSE P(C1)\n",
      "---------------------------------------------------------------------------\n",
      "if   petal length < 1.70                    then 100%         else 2%          \n",
      "if   petal length >= 1.70 & petal width < 0.40 then 100%         else 32%         \n",
      "if   petal width < 0.40                     then 100%         else 2%          \n"
     ]
    },
    {
     "data": {
      "text/plain": [
       "[Text(0.4, 0.8333333333333334, 'x[2] <= 1.7\\ngini = 0.444\\nsamples = 150\\nvalue = [100, 50]'),\n",
       " Text(0.2, 0.5, 'gini = 0.0\\nsamples = 48\\nvalue = [0, 48]'),\n",
       " Text(0.30000000000000004, 0.6666666666666667, 'True  '),\n",
       " Text(0.6, 0.5, 'x[3] <= 0.4\\ngini = 0.038\\nsamples = 102\\nvalue = [100, 2]'),\n",
       " Text(0.5, 0.6666666666666667, '  False'),\n",
       " Text(0.4, 0.16666666666666666, 'gini = 0.0\\nsamples = 2\\nvalue = [0, 2]'),\n",
       " Text(0.8, 0.16666666666666666, 'gini = 0.0\\nsamples = 100\\nvalue = [100, 0]')]"
      ]
     },
     "execution_count": 20,
     "metadata": {},
     "output_type": "execute_result"
    },
    {
     "data": {
      "image/png": "[encoded data removed]",
      "text/plain": [
       "<Figure size 640x480 with 1 Axes>"
      ]
     },
     "metadata": {},
     "output_type": "display_data"
    }
   ],
   "source": [
    "## RandomForestClassifier rules extraction\n",
    "RFSirus = SirusRFClassifier(n_estimators=1,max_features=4,max_depth=2,bootstrap=False, random_state=19,splitter=\"quantile\")\n",
    "start = time.time()\n",
    "RFSirus.fit(X,y,quantile=10,p0=0.01)\n",
    "end = time.time()\n",
    "time_2 = end-start\n",
    "print('Fitting time = ',time_2 ,'s')\n",
    "RFSirus.feature_names_in_ = ['sepal length','sepal width','petal length','petal width']\n",
    "RFSirus.show_rules(max_rules=16)\n",
    "tree.plot_tree(RFSirus.estimators_[0])"
   ]
  },
  {
   "cell_type": "code",
   "execution_count": 26,
   "id": "14ff8a3c-24a3-4629-b3cb-e57bb146d638",
   "metadata": {},
   "outputs": [],
   "source": [
    "def implies(single_rule_a,single_rule_b):\n",
    "        \"\"\"\"\"\n",
    "        Check if single_rule_a implies single_rule_b.\n",
    "        Args:\n",
    "            single_rule_a (tuple): First single rule in the form (var, thr, dir).\n",
    "            single_rule_b (tuple): Second single rule in the form (var, thr, dir).\n",
    "        \"\"\"\"\"\n",
    "        if single_rule_a[0] == single_rule_b[0]:\n",
    "            if single_rule_a[2] == 'L':\n",
    "                if single_rule_b[2] == 'L':\n",
    "                    return single_rule_a[1] <= single_rule_b[1]\n",
    "                else:\n",
    "                    return False\n",
    "            else:\n",
    "                if single_rule_b[2] == 'R':\n",
    "                    return single_rule_a[1] >= single_rule_b[1]\n",
    "                else:\n",
    "                    return False\n",
    "        else:\n",
    "            return False"
   ]
  },
  {
   "cell_type": "code",
   "execution_count": 27,
   "id": "cb82a3c5-9677-4eda-9b1d-107e5ed9fb7d",
   "metadata": {},
   "outputs": [
    {
     "data": {
      "text/plain": [
       "True"
      ]
     },
     "execution_count": 27,
     "metadata": {},
     "output_type": "execute_result"
    }
   ],
   "source": [
    "implies(single_rule_a=(2, 1.7000000476837158, 'L'),single_rule_b=(2, 1.7000000476837158, 'L'))"
   ]
  },
  {
   "cell_type": "code",
   "execution_count": 28,
   "id": "dc04eb8e-e4eb-42bd-9f7b-6b0d731c0117",
   "metadata": {},
   "outputs": [
    {
     "data": {
      "text/plain": [
       "False"
      ]
     },
     "execution_count": 28,
     "metadata": {},
     "output_type": "execute_result"
    }
   ],
   "source": [
    "implies(single_rule_a=(2, 1.7000000476837158, 'L'),single_rule_b=(3, 0.4000000059604645, 'L'))"
   ]
  },
  {
   "cell_type": "code",
   "execution_count": null,
   "id": "115330f9-fcf9-4778-a3ab-78d1073a9597",
   "metadata": {},
   "outputs": [],
   "source": []
  },
  {
   "cell_type": "code",
   "execution_count": null,
   "id": "3990e2b8-763c-4334-acfa-d4934c9a759c",
   "metadata": {},
   "outputs": [],
   "source": []
  },
  {
   "cell_type": "code",
   "execution_count": 38,
   "id": "a0ed5260-dae7-4804-aae7-f6306897b018",
   "metadata": {},
   "outputs": [
    {
     "name": "stdout",
     "output_type": "stream",
     "text": [
      "array_quantile :  [[4.3  2.   1.   0.1 ]\n",
      " [4.8  2.5  1.4  0.2 ]\n",
      " [5.   2.7  1.5  0.2 ]\n",
      " [5.27 2.8  1.7  0.4 ]\n",
      " [5.6  3.   3.9  1.16]\n",
      " [5.8  3.   4.35 1.3 ]\n",
      " [6.1  3.1  4.64 1.5 ]\n",
      " [6.3  3.2  5.   1.8 ]\n",
      " [6.52 3.4  5.32 1.9 ]\n",
      " [6.9  3.61 5.8  2.2 ]\n",
      " [7.9  4.4  6.9  2.5 ]]\n",
      "n_rules before post-treatment :  30\n",
      "25 all_possible_rules_list :  [[(2, 1.7000000476837158, 'R')], [(2, 1.7000000476837158, 'L')], [(3, 0.4000000059604645, 'R')], [(3, 0.4000000059604645, 'L')], [(3, 0.4000000059604645, 'R'), (2, 1.7000000476837158, 'L')], [(3, 0.4000000059604645, 'R'), (2, 1.7000000476837158, 'R')], [(2, 1.7000000476837158, 'R'), (3, 0.4000000059604645, 'R')], [(2, 1.7000000476837158, 'R'), (3, 0.4000000059604645, 'L')], [(2, 1.7000000476837158, 'R'), (0, 4.800000190734863, 'R')], [(0, 4.800000190734863, 'L')], [(0, 4.800000190734863, 'R')], [(2, 1.7000000476837158, 'R'), (0, 4.800000190734863, 'L')], [(3, 0.20000000298023224, 'R')], [(3, 0.20000000298023224, 'L')], [(2, 1.7000000476837158, 'R'), (3, 0.20000000298023224, 'L')], [(2, 1.7000000476837158, 'R'), (3, 0.20000000298023224, 'R')], [(1, 3.609999895095825, 'R')], [(1, 3.4000000953674316, 'L')], [(2, 1.7000000476837158, 'R'), (1, 3.609999895095825, 'R')], [(1, 3.609999895095825, 'L')], [(2, 1.7000000476837158, 'R'), (1, 3.609999895095825, 'L')], [(1, 3.4000000953674316, 'R')], [(2, 1.7000000476837158, 'R'), (1, 3.4000000953674316, 'R')], [(3, 0.4000000059604645, 'R'), (1, 3.4000000953674316, 'L')], [(3, 0.4000000059604645, 'R'), (1, 3.4000000953674316, 'R')]]\n",
      "####################\n",
      "25 proportions_count_sort :  [29.56666667 29.56666667 23.86666667 23.86666667 12.1        12.1\n",
      "  8.          8.          2.53333333  2.53333333  2.53333333  2.53333333\n",
      "  2.4         2.4         2.4         2.4         0.13333333  0.13333333\n",
      "  0.13333333  0.13333333  0.13333333  0.13333333  0.06666667  0.06666667\n",
      "  0.06666667]\n",
      "####################\n",
      "**********************************************************************\n",
      "Compared ruled paths_left:  [(2, 1.7000000476837158, 'L')]\n",
      "Paths:  [(2, 1.7000000476837158, 'R')]\n",
      "Path ftr:  []\n",
      "**********************************************************************\n",
      "Compared ruled paths_left:  [(2, 1.7000000476837158, 'L')]\n",
      "Paths:  [(2, 1.7000000476837158, 'L')]\n",
      "Path ftr:  [[(2, 1.7000000476837158, 'L')]]\n",
      "**********************************************************************\n",
      "Compared ruled paths_left:  [(3, 0.4000000059604645, 'L')]\n",
      "Paths:  [(3, 0.4000000059604645, 'R')]\n",
      "Path ftr:  [[(2, 1.7000000476837158, 'L')]]\n",
      "related_paths_ftr : []\n",
      "**********************************************************************\n",
      "Compared ruled paths_left:  [(3, 0.4000000059604645, 'L')]\n",
      "Paths:  [(3, 0.4000000059604645, 'L')]\n",
      "Path ftr:  [[(2, 1.7000000476837158, 'L')], [(3, 0.4000000059604645, 'L')]]\n",
      "**********************************************************************\n",
      "Compared ruled paths_left:  [(3, 0.4000000059604645, 'R'), (2, 1.7000000476837158, 'L')]\n",
      "Paths:  [(3, 0.4000000059604645, 'R'), (2, 1.7000000476837158, 'L')]\n",
      "Path ftr:  [[(2, 1.7000000476837158, 'L')], [(3, 0.4000000059604645, 'L')]]\n",
      "related_paths_ftr : [[(2, 1.7000000476837158, 'L')], [(3, 0.4000000059604645, 'L')]]\n",
      "rules_ensemble : [[(2, 1.7000000476837158, 'L')], [(3, 0.4000000059604645, 'L')], [(3, 0.4000000059604645, 'R'), (2, 1.7000000476837158, 'L')]]\n",
      "aa\n",
      "bb\n",
      "**********************************************************************\n",
      "Compared ruled paths_left:  [(3, 0.4000000059604645, 'R'), (2, 1.7000000476837158, 'R')]\n",
      "Paths:  [(3, 0.4000000059604645, 'R'), (2, 1.7000000476837158, 'R')]\n",
      "Path ftr:  [[(2, 1.7000000476837158, 'L')], [(3, 0.4000000059604645, 'L')], [(3, 0.4000000059604645, 'R'), (2, 1.7000000476837158, 'L')]]\n",
      "related_paths_ftr : [[(2, 1.7000000476837158, 'L')], [(3, 0.4000000059604645, 'L')], [(3, 0.4000000059604645, 'R'), (2, 1.7000000476837158, 'L')]]\n",
      "rules_ensemble : [[(2, 1.7000000476837158, 'L')], [(3, 0.4000000059604645, 'L')], [(3, 0.4000000059604645, 'R'), (2, 1.7000000476837158, 'L')], [(3, 0.4000000059604645, 'R'), (2, 1.7000000476837158, 'R')]]\n",
      "implied len(2) : [True]\n",
      "implied len(2) : [False]\n",
      "implied len(2) : [True]\n",
      "implied len(2) : [False]\n",
      "implied len(2) : [False]\n",
      "implied len(2) : [False]\n",
      "implied len(2) : [True]\n",
      "implied len(2) : [True]\n",
      "implied len(2) : [True, True]\n",
      "implied len(2) : [True, False]\n",
      "implied len(2) : [False, True]\n",
      "implied len(2) : [False, False]\n",
      "implied len(2) : [True, False]\n",
      "implied len(2) : [True, True]\n",
      "implied len(2) : [False, False]\n",
      "implied len(2) : [False, True]\n",
      "curr_matrix : [[ True False  True False]\n",
      " [False False False  True]\n",
      " [ True  True False False]\n",
      " [False  True False False]]\n",
      "list_matrix :  [array([[ True, False,  True, False],\n",
      "       [False, False, False,  True],\n",
      "       [ True,  True, False, False],\n",
      "       [False,  True, False, False]])]\n",
      "matrix :  [[1. 0. 1. 0. 1.]\n",
      " [0. 0. 0. 1. 1.]\n",
      " [1. 1. 0. 0. 1.]\n",
      " [0. 1. 0. 0. 1.]]\n",
      "matrix_rank : 4\n",
      "**********************************************************************\n",
      "Compared ruled paths_left:  [(2, 1.7000000476837158, 'R'), (3, 0.4000000059604645, 'R')]\n",
      "Paths:  [(2, 1.7000000476837158, 'R'), (3, 0.4000000059604645, 'R')]\n",
      "Path ftr:  [[(2, 1.7000000476837158, 'L')], [(3, 0.4000000059604645, 'L')], [(3, 0.4000000059604645, 'R'), (2, 1.7000000476837158, 'L')]]\n",
      "related_paths_ftr : [[(2, 1.7000000476837158, 'L')], [(3, 0.4000000059604645, 'L')], [(3, 0.4000000059604645, 'R'), (2, 1.7000000476837158, 'L')]]\n",
      "rules_ensemble : [[(2, 1.7000000476837158, 'L')], [(3, 0.4000000059604645, 'L')], [(3, 0.4000000059604645, 'R'), (2, 1.7000000476837158, 'L')], [(2, 1.7000000476837158, 'R'), (3, 0.4000000059604645, 'R')]]\n",
      "implied len(2) : [True]\n",
      "implied len(2) : [False]\n",
      "implied len(2) : [True]\n",
      "implied len(2) : [False]\n",
      "implied len(2) : [False]\n",
      "implied len(2) : [False]\n",
      "implied len(2) : [True]\n",
      "implied len(2) : [True]\n",
      "implied len(2) : [True, True]\n",
      "implied len(2) : [True, False]\n",
      "implied len(2) : [False, True]\n",
      "implied len(2) : [False, False]\n",
      "implied len(2) : [False, True]\n",
      "implied len(2) : [True, True]\n",
      "implied len(2) : [False, False]\n",
      "implied len(2) : [True, False]\n",
      "curr_matrix : [[ True False  True False]\n",
      " [False False False  True]\n",
      " [ True  True False False]\n",
      " [False  True False False]]\n",
      "list_matrix :  [array([[ True, False,  True, False],\n",
      "       [False, False, False,  True],\n",
      "       [ True,  True, False, False],\n",
      "       [False,  True, False, False]])]\n",
      "matrix :  [[1. 0. 1. 0. 1.]\n",
      " [0. 0. 0. 1. 1.]\n",
      " [1. 1. 0. 0. 1.]\n",
      " [0. 1. 0. 0. 1.]]\n",
      "matrix_rank : 4\n",
      "**********************************************************************\n",
      "Compared ruled paths_left:  [(2, 1.7000000476837158, 'R'), (3, 0.4000000059604645, 'L')]\n",
      "Paths:  [(2, 1.7000000476837158, 'R'), (3, 0.4000000059604645, 'L')]\n",
      "Path ftr:  [[(2, 1.7000000476837158, 'L')], [(3, 0.4000000059604645, 'L')], [(3, 0.4000000059604645, 'R'), (2, 1.7000000476837158, 'L')]]\n",
      "related_paths_ftr : [[(2, 1.7000000476837158, 'L')], [(3, 0.4000000059604645, 'L')], [(3, 0.4000000059604645, 'R'), (2, 1.7000000476837158, 'L')]]\n",
      "rules_ensemble : [[(2, 1.7000000476837158, 'L')], [(3, 0.4000000059604645, 'L')], [(3, 0.4000000059604645, 'R'), (2, 1.7000000476837158, 'L')], [(2, 1.7000000476837158, 'R'), (3, 0.4000000059604645, 'L')]]\n",
      "implied len(2) : [True]\n",
      "implied len(2) : [False]\n",
      "implied len(2) : [True]\n",
      "implied len(2) : [False]\n",
      "implied len(2) : [False]\n",
      "implied len(2) : [False]\n",
      "implied len(2) : [True]\n",
      "implied len(2) : [True]\n",
      "implied len(2) : [True, True]\n",
      "implied len(2) : [True, False]\n",
      "implied len(2) : [False, True]\n",
      "implied len(2) : [False, False]\n",
      "implied len(2) : [False, False]\n",
      "implied len(2) : [True, False]\n",
      "implied len(2) : [False, True]\n",
      "implied len(2) : [True, True]\n",
      "curr_matrix : [[ True False  True False]\n",
      " [False False False False]\n",
      " [ True  True False False]\n",
      " [False  True False  True]]\n",
      "list_matrix :  [array([[ True, False,  True, False],\n",
      "       [False, False, False, False],\n",
      "       [ True,  True, False, False],\n",
      "       [False,  True, False,  True]])]\n",
      "matrix :  [[1. 0. 1. 0. 1.]\n",
      " [0. 0. 0. 0. 1.]\n",
      " [1. 1. 0. 0. 1.]\n",
      " [0. 1. 0. 1. 1.]]\n",
      "matrix_rank : 4\n",
      "**********************************************************************\n",
      "Compared ruled paths_left:  [(2, 1.7000000476837158, 'R'), (0, 4.800000190734863, 'R')]\n",
      "Paths:  [(2, 1.7000000476837158, 'R'), (0, 4.800000190734863, 'R')]\n",
      "Path ftr:  [[(2, 1.7000000476837158, 'L')], [(3, 0.4000000059604645, 'L')], [(3, 0.4000000059604645, 'R'), (2, 1.7000000476837158, 'L')]]\n",
      "related_paths_ftr : [[(2, 1.7000000476837158, 'L')], [(3, 0.4000000059604645, 'R'), (2, 1.7000000476837158, 'L')]]\n",
      "rules_ensemble : [[(2, 1.7000000476837158, 'L')], [(3, 0.4000000059604645, 'R'), (2, 1.7000000476837158, 'L')], [(2, 1.7000000476837158, 'R'), (0, 4.800000190734863, 'R')]]\n",
      "implied len(2) : [True]\n",
      "implied len(2) : [False]\n",
      "implied len(2) : [True]\n",
      "implied len(2) : [False]\n",
      "implied len(2) : [True, True]\n",
      "implied len(2) : [True, False]\n",
      "implied len(2) : [False, True]\n",
      "implied len(2) : [False, False]\n",
      "implied len(2) : [False, False]\n",
      "implied len(2) : [True, False]\n",
      "implied len(2) : [False, False]\n",
      "implied len(2) : [True, False]\n",
      "curr_matrix : [[ True  True False]\n",
      " [False False False]\n",
      " [ True False False]\n",
      " [False False False]]\n",
      "list_matrix :  [array([[ True,  True, False],\n",
      "       [False, False, False],\n",
      "       [ True, False, False],\n",
      "       [False, False, False]])]\n",
      "matrix :  [[1. 1. 0. 1.]\n",
      " [0. 0. 0. 1.]\n",
      " [1. 0. 0. 1.]\n",
      " [0. 0. 0. 1.]]\n",
      "matrix_rank : 3\n",
      "**********************************************************************\n",
      "Compared ruled paths_left:  [(0, 4.800000190734863, 'L')]\n",
      "Paths:  [(0, 4.800000190734863, 'L')]\n",
      "Path ftr:  [[(2, 1.7000000476837158, 'L')], [(3, 0.4000000059604645, 'L')], [(3, 0.4000000059604645, 'R'), (2, 1.7000000476837158, 'L')]]\n",
      "related_paths_ftr : []\n",
      "**********************************************************************\n",
      "Compared ruled paths_left:  [(0, 4.800000190734863, 'L')]\n",
      "Paths:  [(0, 4.800000190734863, 'R')]\n",
      "Path ftr:  [[(2, 1.7000000476837158, 'L')], [(3, 0.4000000059604645, 'L')], [(3, 0.4000000059604645, 'R'), (2, 1.7000000476837158, 'L')], [(0, 4.800000190734863, 'L')]]\n",
      "**********************************************************************\n",
      "Compared ruled paths_left:  [(2, 1.7000000476837158, 'R'), (0, 4.800000190734863, 'L')]\n",
      "Paths:  [(2, 1.7000000476837158, 'R'), (0, 4.800000190734863, 'L')]\n",
      "Path ftr:  [[(2, 1.7000000476837158, 'L')], [(3, 0.4000000059604645, 'L')], [(3, 0.4000000059604645, 'R'), (2, 1.7000000476837158, 'L')], [(0, 4.800000190734863, 'L')]]\n",
      "related_paths_ftr : [[(2, 1.7000000476837158, 'L')], [(3, 0.4000000059604645, 'R'), (2, 1.7000000476837158, 'L')], [(0, 4.800000190734863, 'L')]]\n",
      "rules_ensemble : [[(2, 1.7000000476837158, 'L')], [(3, 0.4000000059604645, 'R'), (2, 1.7000000476837158, 'L')], [(0, 4.800000190734863, 'L')], [(2, 1.7000000476837158, 'R'), (0, 4.800000190734863, 'L')]]\n",
      "implied len(2) : [True]\n",
      "implied len(2) : [False]\n",
      "implied len(2) : [True]\n",
      "implied len(2) : [False]\n",
      "implied len(2) : [True, True]\n",
      "implied len(2) : [True, False]\n",
      "implied len(2) : [False, True]\n",
      "implied len(2) : [False, False]\n",
      "implied len(2) : [False]\n",
      "implied len(2) : [False]\n",
      "implied len(2) : [False]\n",
      "implied len(2) : [False]\n",
      "implied len(2) : [False, False]\n",
      "implied len(2) : [True, False]\n",
      "implied len(2) : [False, False]\n",
      "implied len(2) : [True, False]\n",
      "curr_matrix : [[ True  True False False]\n",
      " [False False False False]\n",
      " [ True False False False]\n",
      " [False False False False]]\n",
      "list_matrix :  [array([[ True,  True, False, False],\n",
      "       [False, False, False, False],\n",
      "       [ True, False, False, False],\n",
      "       [False, False, False, False]])]\n",
      "matrix :  [[1. 1. 0. 0. 1.]\n",
      " [0. 0. 0. 0. 1.]\n",
      " [1. 0. 0. 0. 1.]\n",
      " [0. 0. 0. 0. 1.]]\n",
      "matrix_rank : 3\n",
      "**********************************************************************\n",
      "Compared ruled paths_left:  [(3, 0.20000000298023224, 'L')]\n",
      "Paths:  [(3, 0.20000000298023224, 'R')]\n",
      "Path ftr:  [[(2, 1.7000000476837158, 'L')], [(3, 0.4000000059604645, 'L')], [(3, 0.4000000059604645, 'R'), (2, 1.7000000476837158, 'L')], [(0, 4.800000190734863, 'L')]]\n",
      "related_paths_ftr : []\n",
      "**********************************************************************\n",
      "Compared ruled paths_left:  [(3, 0.20000000298023224, 'L')]\n",
      "Paths:  [(3, 0.20000000298023224, 'L')]\n",
      "Path ftr:  [[(2, 1.7000000476837158, 'L')], [(3, 0.4000000059604645, 'L')], [(3, 0.4000000059604645, 'R'), (2, 1.7000000476837158, 'L')], [(0, 4.800000190734863, 'L')], [(3, 0.20000000298023224, 'L')]]\n",
      "**********************************************************************\n",
      "Compared ruled paths_left:  [(2, 1.7000000476837158, 'R'), (3, 0.20000000298023224, 'L')]\n",
      "Paths:  [(2, 1.7000000476837158, 'R'), (3, 0.20000000298023224, 'L')]\n",
      "Path ftr:  [[(2, 1.7000000476837158, 'L')], [(3, 0.4000000059604645, 'L')], [(3, 0.4000000059604645, 'R'), (2, 1.7000000476837158, 'L')], [(0, 4.800000190734863, 'L')], [(3, 0.20000000298023224, 'L')]]\n",
      "related_paths_ftr : [[(2, 1.7000000476837158, 'L')], [(3, 0.4000000059604645, 'R'), (2, 1.7000000476837158, 'L')], [(3, 0.20000000298023224, 'L')]]\n",
      "rules_ensemble : [[(2, 1.7000000476837158, 'L')], [(3, 0.4000000059604645, 'R'), (2, 1.7000000476837158, 'L')], [(3, 0.20000000298023224, 'L')], [(2, 1.7000000476837158, 'R'), (3, 0.20000000298023224, 'L')]]\n",
      "implied len(2) : [True]\n",
      "implied len(2) : [False]\n",
      "implied len(2) : [True]\n",
      "implied len(2) : [False]\n",
      "implied len(2) : [True, True]\n",
      "implied len(2) : [True, False]\n",
      "implied len(2) : [False, True]\n",
      "implied len(2) : [False, False]\n",
      "implied len(2) : [False]\n",
      "implied len(2) : [False]\n",
      "implied len(2) : [False]\n",
      "implied len(2) : [False]\n",
      "implied len(2) : [False, False]\n",
      "implied len(2) : [True, False]\n",
      "implied len(2) : [False, False]\n",
      "implied len(2) : [True, False]\n",
      "curr_matrix : [[ True  True False False]\n",
      " [False False False False]\n",
      " [ True False False False]\n",
      " [False False False False]]\n",
      "list_matrix :  [array([[ True,  True, False, False],\n",
      "       [False, False, False, False],\n",
      "       [ True, False, False, False],\n",
      "       [False, False, False, False]])]\n",
      "matrix :  [[1. 1. 0. 0. 1.]\n",
      " [0. 0. 0. 0. 1.]\n",
      " [1. 0. 0. 0. 1.]\n",
      " [0. 0. 0. 0. 1.]]\n",
      "matrix_rank : 3\n",
      "**********************************************************************\n",
      "Compared ruled paths_left:  [(2, 1.7000000476837158, 'R'), (3, 0.20000000298023224, 'R')]\n",
      "Paths:  [(2, 1.7000000476837158, 'R'), (3, 0.20000000298023224, 'R')]\n",
      "Path ftr:  [[(2, 1.7000000476837158, 'L')], [(3, 0.4000000059604645, 'L')], [(3, 0.4000000059604645, 'R'), (2, 1.7000000476837158, 'L')], [(0, 4.800000190734863, 'L')], [(3, 0.20000000298023224, 'L')]]\n",
      "related_paths_ftr : [[(2, 1.7000000476837158, 'L')], [(3, 0.4000000059604645, 'R'), (2, 1.7000000476837158, 'L')], [(3, 0.20000000298023224, 'L')]]\n",
      "rules_ensemble : [[(2, 1.7000000476837158, 'L')], [(3, 0.4000000059604645, 'R'), (2, 1.7000000476837158, 'L')], [(3, 0.20000000298023224, 'L')], [(2, 1.7000000476837158, 'R'), (3, 0.20000000298023224, 'R')]]\n",
      "implied len(2) : [True]\n",
      "implied len(2) : [False]\n",
      "implied len(2) : [True]\n",
      "implied len(2) : [False]\n",
      "implied len(2) : [True, True]\n",
      "implied len(2) : [True, False]\n",
      "implied len(2) : [False, True]\n",
      "implied len(2) : [False, False]\n",
      "implied len(2) : [False]\n",
      "implied len(2) : [False]\n",
      "implied len(2) : [False]\n",
      "implied len(2) : [False]\n",
      "implied len(2) : [False, True]\n",
      "implied len(2) : [True, True]\n",
      "implied len(2) : [False, False]\n",
      "implied len(2) : [True, False]\n",
      "curr_matrix : [[ True  True False False]\n",
      " [False False False  True]\n",
      " [ True False False False]\n",
      " [False False False False]]\n",
      "list_matrix :  [array([[ True,  True, False, False],\n",
      "       [False, False, False,  True],\n",
      "       [ True, False, False, False],\n",
      "       [False, False, False, False]])]\n",
      "matrix :  [[1. 1. 0. 0. 1.]\n",
      " [0. 0. 0. 1. 1.]\n",
      " [1. 0. 0. 0. 1.]\n",
      " [0. 0. 0. 0. 1.]]\n",
      "matrix_rank : 4\n",
      "**********************************************************************\n",
      "Compared ruled paths_left:  [(1, 3.609999895095825, 'L')]\n",
      "Paths:  [(1, 3.609999895095825, 'R')]\n",
      "Path ftr:  [[(2, 1.7000000476837158, 'L')], [(3, 0.4000000059604645, 'L')], [(3, 0.4000000059604645, 'R'), (2, 1.7000000476837158, 'L')], [(0, 4.800000190734863, 'L')], [(3, 0.20000000298023224, 'L')]]\n",
      "related_paths_ftr : []\n",
      "**********************************************************************\n",
      "Compared ruled paths_left:  [(1, 3.4000000953674316, 'L')]\n",
      "Paths:  [(1, 3.4000000953674316, 'L')]\n",
      "Path ftr:  [[(2, 1.7000000476837158, 'L')], [(3, 0.4000000059604645, 'L')], [(3, 0.4000000059604645, 'R'), (2, 1.7000000476837158, 'L')], [(0, 4.800000190734863, 'L')], [(3, 0.20000000298023224, 'L')], [(1, 3.609999895095825, 'L')]]\n",
      "related_paths_ftr : []\n",
      "**********************************************************************\n",
      "Compared ruled paths_left:  [(2, 1.7000000476837158, 'R'), (1, 3.609999895095825, 'R')]\n",
      "Paths:  [(2, 1.7000000476837158, 'R'), (1, 3.609999895095825, 'R')]\n",
      "Path ftr:  [[(2, 1.7000000476837158, 'L')], [(3, 0.4000000059604645, 'L')], [(3, 0.4000000059604645, 'R'), (2, 1.7000000476837158, 'L')], [(0, 4.800000190734863, 'L')], [(3, 0.20000000298023224, 'L')], [(1, 3.609999895095825, 'L')], [(1, 3.4000000953674316, 'L')]]\n",
      "related_paths_ftr : [[(2, 1.7000000476837158, 'L')], [(3, 0.4000000059604645, 'R'), (2, 1.7000000476837158, 'L')], [(1, 3.609999895095825, 'L')]]\n",
      "rules_ensemble : [[(2, 1.7000000476837158, 'L')], [(3, 0.4000000059604645, 'R'), (2, 1.7000000476837158, 'L')], [(1, 3.609999895095825, 'L')], [(2, 1.7000000476837158, 'R'), (1, 3.609999895095825, 'R')]]\n",
      "implied len(2) : [True]\n",
      "implied len(2) : [False]\n",
      "implied len(2) : [True]\n",
      "implied len(2) : [False]\n",
      "implied len(2) : [True, True]\n",
      "implied len(2) : [True, False]\n",
      "implied len(2) : [False, True]\n",
      "implied len(2) : [False, False]\n",
      "implied len(2) : [False]\n",
      "implied len(2) : [False]\n",
      "implied len(2) : [False]\n",
      "implied len(2) : [False]\n",
      "implied len(2) : [False, False]\n",
      "implied len(2) : [True, False]\n",
      "implied len(2) : [False, False]\n",
      "implied len(2) : [True, False]\n",
      "curr_matrix : [[ True  True False False]\n",
      " [False False False False]\n",
      " [ True False False False]\n",
      " [False False False False]]\n",
      "list_matrix :  [array([[ True,  True, False, False],\n",
      "       [False, False, False, False],\n",
      "       [ True, False, False, False],\n",
      "       [False, False, False, False]])]\n",
      "matrix :  [[1. 1. 0. 0. 1.]\n",
      " [0. 0. 0. 0. 1.]\n",
      " [1. 0. 0. 0. 1.]\n",
      " [0. 0. 0. 0. 1.]]\n",
      "matrix_rank : 3\n",
      "**********************************************************************\n",
      "Compared ruled paths_left:  [(1, 3.609999895095825, 'L')]\n",
      "Paths:  [(1, 3.609999895095825, 'L')]\n",
      "Path ftr:  [[(2, 1.7000000476837158, 'L')], [(3, 0.4000000059604645, 'L')], [(3, 0.4000000059604645, 'R'), (2, 1.7000000476837158, 'L')], [(0, 4.800000190734863, 'L')], [(3, 0.20000000298023224, 'L')], [(1, 3.609999895095825, 'L')], [(1, 3.4000000953674316, 'L')]]\n",
      "**********************************************************************\n",
      "Compared ruled paths_left:  [(2, 1.7000000476837158, 'R'), (1, 3.609999895095825, 'L')]\n",
      "Paths:  [(2, 1.7000000476837158, 'R'), (1, 3.609999895095825, 'L')]\n",
      "Path ftr:  [[(2, 1.7000000476837158, 'L')], [(3, 0.4000000059604645, 'L')], [(3, 0.4000000059604645, 'R'), (2, 1.7000000476837158, 'L')], [(0, 4.800000190734863, 'L')], [(3, 0.20000000298023224, 'L')], [(1, 3.609999895095825, 'L')], [(1, 3.4000000953674316, 'L')]]\n",
      "related_paths_ftr : [[(2, 1.7000000476837158, 'L')], [(3, 0.4000000059604645, 'R'), (2, 1.7000000476837158, 'L')], [(1, 3.609999895095825, 'L')]]\n",
      "rules_ensemble : [[(2, 1.7000000476837158, 'L')], [(3, 0.4000000059604645, 'R'), (2, 1.7000000476837158, 'L')], [(1, 3.609999895095825, 'L')], [(2, 1.7000000476837158, 'R'), (1, 3.609999895095825, 'L')]]\n",
      "implied len(2) : [True]\n",
      "implied len(2) : [False]\n",
      "implied len(2) : [True]\n",
      "implied len(2) : [False]\n",
      "implied len(2) : [True, True]\n",
      "implied len(2) : [True, False]\n",
      "implied len(2) : [False, True]\n",
      "implied len(2) : [False, False]\n",
      "implied len(2) : [False]\n",
      "implied len(2) : [False]\n",
      "implied len(2) : [False]\n",
      "implied len(2) : [False]\n",
      "implied len(2) : [False, False]\n",
      "implied len(2) : [True, False]\n",
      "implied len(2) : [False, False]\n",
      "implied len(2) : [True, False]\n",
      "curr_matrix : [[ True  True False False]\n",
      " [False False False False]\n",
      " [ True False False False]\n",
      " [False False False False]]\n",
      "list_matrix :  [array([[ True,  True, False, False],\n",
      "       [False, False, False, False],\n",
      "       [ True, False, False, False],\n",
      "       [False, False, False, False]])]\n",
      "matrix :  [[1. 1. 0. 0. 1.]\n",
      " [0. 0. 0. 0. 1.]\n",
      " [1. 0. 0. 0. 1.]\n",
      " [0. 0. 0. 0. 1.]]\n",
      "matrix_rank : 3\n",
      "**********************************************************************\n",
      "Compared ruled paths_left:  [(1, 3.4000000953674316, 'L')]\n",
      "Paths:  [(1, 3.4000000953674316, 'R')]\n",
      "Path ftr:  [[(2, 1.7000000476837158, 'L')], [(3, 0.4000000059604645, 'L')], [(3, 0.4000000059604645, 'R'), (2, 1.7000000476837158, 'L')], [(0, 4.800000190734863, 'L')], [(3, 0.20000000298023224, 'L')], [(1, 3.609999895095825, 'L')], [(1, 3.4000000953674316, 'L')]]\n",
      "**********************************************************************\n",
      "Compared ruled paths_left:  [(2, 1.7000000476837158, 'R'), (1, 3.4000000953674316, 'R')]\n",
      "Paths:  [(2, 1.7000000476837158, 'R'), (1, 3.4000000953674316, 'R')]\n",
      "Path ftr:  [[(2, 1.7000000476837158, 'L')], [(3, 0.4000000059604645, 'L')], [(3, 0.4000000059604645, 'R'), (2, 1.7000000476837158, 'L')], [(0, 4.800000190734863, 'L')], [(3, 0.20000000298023224, 'L')], [(1, 3.609999895095825, 'L')], [(1, 3.4000000953674316, 'L')]]\n",
      "related_paths_ftr : [[(2, 1.7000000476837158, 'L')], [(3, 0.4000000059604645, 'R'), (2, 1.7000000476837158, 'L')], [(1, 3.4000000953674316, 'L')]]\n",
      "rules_ensemble : [[(2, 1.7000000476837158, 'L')], [(3, 0.4000000059604645, 'R'), (2, 1.7000000476837158, 'L')], [(1, 3.4000000953674316, 'L')], [(2, 1.7000000476837158, 'R'), (1, 3.4000000953674316, 'R')]]\n",
      "implied len(2) : [True]\n",
      "implied len(2) : [False]\n",
      "implied len(2) : [True]\n",
      "implied len(2) : [False]\n",
      "implied len(2) : [True, True]\n",
      "implied len(2) : [True, False]\n",
      "implied len(2) : [False, True]\n",
      "implied len(2) : [False, False]\n",
      "implied len(2) : [False]\n",
      "implied len(2) : [False]\n",
      "implied len(2) : [False]\n",
      "implied len(2) : [False]\n",
      "implied len(2) : [False, False]\n",
      "implied len(2) : [True, False]\n",
      "implied len(2) : [False, False]\n",
      "implied len(2) : [True, False]\n",
      "curr_matrix : [[ True  True False False]\n",
      " [False False False False]\n",
      " [ True False False False]\n",
      " [False False False False]]\n",
      "list_matrix :  [array([[ True,  True, False, False],\n",
      "       [False, False, False, False],\n",
      "       [ True, False, False, False],\n",
      "       [False, False, False, False]])]\n",
      "matrix :  [[1. 1. 0. 0. 1.]\n",
      " [0. 0. 0. 0. 1.]\n",
      " [1. 0. 0. 0. 1.]\n",
      " [0. 0. 0. 0. 1.]]\n",
      "matrix_rank : 3\n",
      "**********************************************************************\n",
      "Compared ruled paths_left:  [(3, 0.4000000059604645, 'R'), (1, 3.4000000953674316, 'L')]\n",
      "Paths:  [(3, 0.4000000059604645, 'R'), (1, 3.4000000953674316, 'L')]\n",
      "Path ftr:  [[(2, 1.7000000476837158, 'L')], [(3, 0.4000000059604645, 'L')], [(3, 0.4000000059604645, 'R'), (2, 1.7000000476837158, 'L')], [(0, 4.800000190734863, 'L')], [(3, 0.20000000298023224, 'L')], [(1, 3.609999895095825, 'L')], [(1, 3.4000000953674316, 'L')]]\n",
      "related_paths_ftr : [[(3, 0.4000000059604645, 'L')], [(1, 3.4000000953674316, 'L')]]\n",
      "rules_ensemble : [[(3, 0.4000000059604645, 'L')], [(1, 3.4000000953674316, 'L')], [(3, 0.4000000059604645, 'R'), (1, 3.4000000953674316, 'L')]]\n",
      "implied len(2) : [False]\n",
      "implied len(2) : [False]\n",
      "implied len(2) : [True]\n",
      "implied len(2) : [True]\n",
      "implied len(2) : [False]\n",
      "implied len(2) : [False]\n",
      "implied len(2) : [False]\n",
      "implied len(2) : [False]\n",
      "implied len(2) : [True, False]\n",
      "implied len(2) : [True, False]\n",
      "implied len(2) : [False, False]\n",
      "implied len(2) : [False, False]\n",
      "curr_matrix : [[False False False]\n",
      " [False False False]\n",
      " [ True False False]\n",
      " [ True False False]]\n",
      "list_matrix :  [array([[False, False, False],\n",
      "       [False, False, False],\n",
      "       [ True, False, False],\n",
      "       [ True, False, False]])]\n",
      "matrix :  [[0. 0. 0. 1.]\n",
      " [0. 0. 0. 1.]\n",
      " [1. 0. 0. 1.]\n",
      " [1. 0. 0. 1.]]\n",
      "matrix_rank : 2\n",
      "**********************************************************************\n",
      "Compared ruled paths_left:  [(3, 0.4000000059604645, 'R'), (1, 3.4000000953674316, 'R')]\n",
      "Paths:  [(3, 0.4000000059604645, 'R'), (1, 3.4000000953674316, 'R')]\n",
      "Path ftr:  [[(2, 1.7000000476837158, 'L')], [(3, 0.4000000059604645, 'L')], [(3, 0.4000000059604645, 'R'), (2, 1.7000000476837158, 'L')], [(0, 4.800000190734863, 'L')], [(3, 0.20000000298023224, 'L')], [(1, 3.609999895095825, 'L')], [(1, 3.4000000953674316, 'L')]]\n",
      "related_paths_ftr : [[(3, 0.4000000059604645, 'L')], [(1, 3.4000000953674316, 'L')]]\n",
      "rules_ensemble : [[(3, 0.4000000059604645, 'L')], [(1, 3.4000000953674316, 'L')], [(3, 0.4000000059604645, 'R'), (1, 3.4000000953674316, 'R')]]\n",
      "implied len(2) : [False]\n",
      "implied len(2) : [False]\n",
      "implied len(2) : [True]\n",
      "implied len(2) : [True]\n",
      "implied len(2) : [False]\n",
      "implied len(2) : [False]\n",
      "implied len(2) : [False]\n",
      "implied len(2) : [False]\n",
      "implied len(2) : [True, False]\n",
      "implied len(2) : [True, False]\n",
      "implied len(2) : [False, False]\n",
      "implied len(2) : [False, False]\n",
      "curr_matrix : [[False False False]\n",
      " [False False False]\n",
      " [ True False False]\n",
      " [ True False False]]\n",
      "list_matrix :  [array([[False, False, False],\n",
      "       [False, False, False],\n",
      "       [ True, False, False],\n",
      "       [ True, False, False]])]\n",
      "matrix :  [[0. 0. 0. 1.]\n",
      " [0. 0. 0. 1.]\n",
      " [1. 0. 0. 1.]\n",
      " [1. 0. 0. 1.]]\n",
      "matrix_rank : 2\n",
      "**********************************************************************\n",
      "Compared ruled paths_left:  [(2, 1.7000000476837158, 'R'), (1, 3.4000000953674316, 'L')]\n",
      "Paths:  [(2, 1.7000000476837158, 'R'), (1, 3.4000000953674316, 'L')]\n",
      "Path ftr:  [[(2, 1.7000000476837158, 'L')], [(3, 0.4000000059604645, 'L')], [(3, 0.4000000059604645, 'R'), (2, 1.7000000476837158, 'L')], [(0, 4.800000190734863, 'L')], [(3, 0.20000000298023224, 'L')], [(1, 3.609999895095825, 'L')], [(1, 3.4000000953674316, 'L')]]\n",
      "related_paths_ftr : [[(2, 1.7000000476837158, 'L')], [(3, 0.4000000059604645, 'R'), (2, 1.7000000476837158, 'L')], [(1, 3.4000000953674316, 'L')]]\n",
      "rules_ensemble : [[(2, 1.7000000476837158, 'L')], [(3, 0.4000000059604645, 'R'), (2, 1.7000000476837158, 'L')], [(1, 3.4000000953674316, 'L')], [(2, 1.7000000476837158, 'R'), (1, 3.4000000953674316, 'L')]]\n",
      "implied len(2) : [True]\n",
      "implied len(2) : [False]\n",
      "implied len(2) : [True]\n",
      "implied len(2) : [False]\n",
      "implied len(2) : [True, True]\n",
      "implied len(2) : [True, False]\n",
      "implied len(2) : [False, True]\n",
      "implied len(2) : [False, False]\n",
      "implied len(2) : [False]\n",
      "implied len(2) : [False]\n",
      "implied len(2) : [False]\n",
      "implied len(2) : [False]\n",
      "implied len(2) : [False, False]\n",
      "implied len(2) : [True, False]\n",
      "implied len(2) : [False, False]\n",
      "implied len(2) : [True, False]\n",
      "curr_matrix : [[ True  True False False]\n",
      " [False False False False]\n",
      " [ True False False False]\n",
      " [False False False False]]\n",
      "list_matrix :  [array([[ True,  True, False, False],\n",
      "       [False, False, False, False],\n",
      "       [ True, False, False, False],\n",
      "       [False, False, False, False]])]\n",
      "matrix :  [[1. 1. 0. 0. 1.]\n",
      " [0. 0. 0. 0. 1.]\n",
      " [1. 0. 0. 0. 1.]\n",
      " [0. 0. 0. 0. 1.]]\n",
      "matrix_rank : 3\n",
      "**********************************************************************\n",
      "Compared ruled paths_left:  [(0, 5.0, 'L')]\n",
      "Paths:  [(0, 5.0, 'L')]\n",
      "Path ftr:  [[(2, 1.7000000476837158, 'L')], [(3, 0.4000000059604645, 'L')], [(3, 0.4000000059604645, 'R'), (2, 1.7000000476837158, 'L')], [(0, 4.800000190734863, 'L')], [(3, 0.20000000298023224, 'L')], [(1, 3.609999895095825, 'L')], [(1, 3.4000000953674316, 'L')]]\n",
      "related_paths_ftr : []\n",
      "**********************************************************************\n",
      "Compared ruled paths_left:  [(3, 0.4000000059604645, 'R'), (0, 5.0, 'L')]\n",
      "Paths:  [(3, 0.4000000059604645, 'R'), (0, 5.0, 'L')]\n",
      "Path ftr:  [[(2, 1.7000000476837158, 'L')], [(3, 0.4000000059604645, 'L')], [(3, 0.4000000059604645, 'R'), (2, 1.7000000476837158, 'L')], [(0, 4.800000190734863, 'L')], [(3, 0.20000000298023224, 'L')], [(1, 3.609999895095825, 'L')], [(1, 3.4000000953674316, 'L')], [(0, 5.0, 'L')]]\n",
      "related_paths_ftr : [[(3, 0.4000000059604645, 'L')], [(0, 5.0, 'L')]]\n",
      "rules_ensemble : [[(3, 0.4000000059604645, 'L')], [(0, 5.0, 'L')], [(3, 0.4000000059604645, 'R'), (0, 5.0, 'L')]]\n",
      "implied len(2) : [False]\n",
      "implied len(2) : [False]\n",
      "implied len(2) : [True]\n",
      "implied len(2) : [True]\n",
      "implied len(2) : [False]\n",
      "implied len(2) : [False]\n",
      "implied len(2) : [False]\n",
      "implied len(2) : [False]\n",
      "implied len(2) : [True, False]\n",
      "implied len(2) : [True, False]\n",
      "implied len(2) : [False, False]\n",
      "implied len(2) : [False, False]\n",
      "curr_matrix : [[False False False]\n",
      " [False False False]\n",
      " [ True False False]\n",
      " [ True False False]]\n",
      "list_matrix :  [array([[False, False, False],\n",
      "       [False, False, False],\n",
      "       [ True, False, False],\n",
      "       [ True, False, False]])]\n",
      "matrix :  [[0. 0. 0. 1.]\n",
      " [0. 0. 0. 1.]\n",
      " [1. 0. 0. 1.]\n",
      " [1. 0. 0. 1.]]\n",
      "matrix_rank : 2\n",
      "**********************************************************************\n",
      "Compared ruled paths_left:  [(3, 0.4000000059604645, 'R'), (0, 5.0, 'R')]\n",
      "Paths:  [(3, 0.4000000059604645, 'R'), (0, 5.0, 'R')]\n",
      "Path ftr:  [[(2, 1.7000000476837158, 'L')], [(3, 0.4000000059604645, 'L')], [(3, 0.4000000059604645, 'R'), (2, 1.7000000476837158, 'L')], [(0, 4.800000190734863, 'L')], [(3, 0.20000000298023224, 'L')], [(1, 3.609999895095825, 'L')], [(1, 3.4000000953674316, 'L')], [(0, 5.0, 'L')]]\n",
      "related_paths_ftr : [[(3, 0.4000000059604645, 'L')], [(0, 5.0, 'L')]]\n",
      "rules_ensemble : [[(3, 0.4000000059604645, 'L')], [(0, 5.0, 'L')], [(3, 0.4000000059604645, 'R'), (0, 5.0, 'R')]]\n",
      "implied len(2) : [False]\n",
      "implied len(2) : [False]\n",
      "implied len(2) : [True]\n",
      "implied len(2) : [True]\n",
      "implied len(2) : [False]\n",
      "implied len(2) : [False]\n",
      "implied len(2) : [False]\n",
      "implied len(2) : [False]\n",
      "implied len(2) : [True, False]\n",
      "implied len(2) : [True, False]\n",
      "implied len(2) : [False, False]\n",
      "implied len(2) : [False, False]\n",
      "curr_matrix : [[False False False]\n",
      " [False False False]\n",
      " [ True False False]\n",
      " [ True False False]]\n",
      "list_matrix :  [array([[False, False, False],\n",
      "       [False, False, False],\n",
      "       [ True, False, False],\n",
      "       [ True, False, False]])]\n",
      "matrix :  [[0. 0. 0. 1.]\n",
      " [0. 0. 0. 1.]\n",
      " [1. 0. 0. 1.]\n",
      " [1. 0. 0. 1.]]\n",
      "matrix_rank : 2\n",
      "**********************************************************************\n",
      "Compared ruled paths_left:  [(0, 5.0, 'L')]\n",
      "Paths:  [(0, 5.0, 'R')]\n",
      "Path ftr:  [[(2, 1.7000000476837158, 'L')], [(3, 0.4000000059604645, 'L')], [(3, 0.4000000059604645, 'R'), (2, 1.7000000476837158, 'L')], [(0, 4.800000190734863, 'L')], [(3, 0.20000000298023224, 'L')], [(1, 3.609999895095825, 'L')], [(1, 3.4000000953674316, 'L')], [(0, 5.0, 'L')]]\n",
      "after paths_filtering_2d res :  [[(2, 1.7000000476837158, 'L')], [(3, 0.4000000059604645, 'L')], [(3, 0.4000000059604645, 'R'), (2, 1.7000000476837158, 'L')], [(0, 4.800000190734863, 'L')], [(3, 0.20000000298023224, 'L')], [(1, 3.609999895095825, 'L')], [(1, 3.4000000953674316, 'L')], [(0, 5.0, 'L')]]\n",
      "####################\n",
      "Fitting time =  0.5870623588562012 s\n",
      "Estimated average rate for target class 1 (from 'else' clauses) p_s = 34%.\n",
      "(Note: True average rate should be P(Class=1) from training data).\n",
      "\n",
      "IF Condition                                     THEN P(C1)      ELSE P(C1)\n",
      "---------------------------------------------------------------------------\n",
      "if   petal length < 1.70                    then 100%         else 2%          \n",
      "if   petal width < 0.40                     then 100%         else 2%          \n",
      "if   petal width >= 0.40 & petal length < 1.70 then 100%         else 32%         \n",
      "if   sepal length < 4.80                    then 100%         else 25%         \n",
      "if   petal width < 0.20                     then 100%         else 14%         \n",
      "if   sepal width < 3.61                     then 27%          else 87%         \n",
      "if   sepal width < 3.40                     then 22%          else 88%         \n",
      "if   sepal length < 5.00                    then 91%          else 23%         \n"
     ]
    }
   ],
   "source": [
    "## RandomForestClassifier rules extraction\n",
    "RFSirus = SirusRFClassifier(n_estimators=1000,max_features=4,max_depth=2,bootstrap=True, random_state=0,splitter=\"quantile\")\n",
    "start = time.time()\n",
    "RFSirus.fit(X,y,quantile=10,p0=0.01)\n",
    "end = time.time()\n",
    "time_2 = end-start\n",
    "print('Fitting time = ',time_2 ,'s')\n",
    "RFSirus.feature_names_in_ = ['sepal length','sepal width','petal length','petal width']\n",
    "RFSirus.show_rules(max_rules=16)"
   ]
  },
  {
   "cell_type": "code",
   "execution_count": null,
   "id": "8b9f5e37-b419-4995-9e9c-d4c5ee9d5816",
   "metadata": {},
   "outputs": [],
   "source": []
  },
  {
   "cell_type": "markdown",
   "id": "2cd3927e-25d6-401d-a93f-4b939081572b",
   "metadata": {},
   "source": [
    "## RF : "
   ]
  },
  {
   "cell_type": "code",
   "execution_count": null,
   "id": "e9caca3b-e471-420b-9de6-8ef4bb9f3b70",
   "metadata": {},
   "outputs": [],
   "source": [
    "## RandomForestClassifier rules extraction\n",
    "RFSirus = SirusRFClassifier(n_estimators=1000,max_features=4,max_depth=2,bootstrap=False, random_state=1,splitter=\"quantile\")\n",
    "start = time.time()\n",
    "RFSirus.fit(X,y,quantile=10,p0=0.01)\n",
    "end = time.time()\n",
    "time_2 = end-start\n",
    "print('Fitting time = ',time_2 ,'s')"
   ]
  },
  {
   "cell_type": "code",
   "execution_count": null,
   "id": "2eac69fb-ff71-4d86-9f62-481fde614706",
   "metadata": {},
   "outputs": [],
   "source": [
    "RFSirus.feature_names_in_ = ['sepal length','sepal width','petal length','petal width']\n",
    "RFSirus.show_rules(max_rules=16)"
   ]
  },
  {
   "cell_type": "code",
   "execution_count": null,
   "id": "a1218b85-c2d7-4c31-b386-dfdb77b26dae",
   "metadata": {},
   "outputs": [],
   "source": [
    "tree.plot_tree(RFSirus.estimators_[0])"
   ]
  },
  {
   "cell_type": "code",
   "execution_count": null,
   "id": "30959c4c-42d4-4b5e-ac29-7650e3e2880d",
   "metadata": {},
   "outputs": [],
   "source": [
    "tree.plot_tree(RFSirus.estimators_[800])"
   ]
  },
  {
   "cell_type": "code",
   "execution_count": null,
   "id": "aa336515-c44c-4704-9404-85ea2c3dd0ee",
   "metadata": {},
   "outputs": [],
   "source": [
    "## RandomForestClassifier rules extraction\n",
    "RFSirus = SirusRFClassifier(n_estimators=1,max_features=4,max_depth=2,bootstrap=False, random_state=0,splitter=\"quantile\")\n",
    "start = time.time()\n",
    "RFSirus.fit(X,y,quantile=10,batch_size_post_treatment=50,p0=0.01)\n",
    "end = time.time()\n",
    "time_2 = end-start\n",
    "print('Fitting time = ',time_2 ,'s')\n",
    "RFSirus.feature_names_in_ = ['sepal length','sepal width','petal length','petal width']\n",
    "RFSirus.show_rules(max_rules=16)\n",
    "tree.plot_tree(RFSirus.estimators_[0])\n",
    "tree.plot_tree(RFSirus.estimators_[0])"
   ]
  },
  {
   "cell_type": "code",
   "execution_count": null,
   "id": "85dbb399-80c3-4d44-bb9e-e7f132b48b20",
   "metadata": {},
   "outputs": [],
   "source": [
    "## RandomForestClassifier rules extraction\n",
    "RFSirus = SirusRFClassifier(n_estimators=1,max_features=4,max_depth=2,bootstrap=False, random_state=19,splitter=\"quantile\")\n",
    "start = time.time()\n",
    "RFSirus.fit(X,y,quantile=10,p0=0.01)\n",
    "end = time.time()\n",
    "time_2 = end-start\n",
    "print('Fitting time = ',time_2 ,'s')\n",
    "RFSirus.feature_names_in_ = ['sepal length','sepal width','petal length','petal width']\n",
    "RFSirus.show_rules(max_rules=16)\n",
    "tree.plot_tree(RFSirus.estimators_[0])"
   ]
  },
  {
   "cell_type": "code",
   "execution_count": null,
   "id": "c953ee5d-22e3-46a2-8f7d-334648876737",
   "metadata": {},
   "outputs": [],
   "source": [
    "## RandomForestClassifier\n",
    "RF = RandomForestClassifier(n_estimators=1,max_features=4,max_depth=2,bootstrap=False, random_state=19)\n",
    "start = time.time()\n",
    "RF.fit(X,y)\n",
    "end = time.time()\n",
    "time_2 = end-start\n",
    "print('Fitting time = ',time_2 ,'s')\n",
    "tree.plot_tree(RF.estimators_[0])"
   ]
  },
  {
   "cell_type": "code",
   "execution_count": null,
   "id": "4f6a7ade-bec6-4ba4-9f4d-8660e8fd5f5b",
   "metadata": {},
   "outputs": [],
   "source": [
    "## RandomForestClassifier\n",
    "RF = RandomForestClassifier(n_estimators=1,max_features=4,max_depth=2,bootstrap=False, random_state=0)\n",
    "start = time.time()\n",
    "RF.fit(X,y)\n",
    "end = time.time()\n",
    "time_2 = end-start\n",
    "print('Fitting time = ',time_2 ,'s')\n",
    "tree.plot_tree(RF.estimators_[0])"
   ]
  },
  {
   "cell_type": "code",
   "execution_count": null,
   "id": "672dd46c-cc5a-490a-8abd-2445b7642a56",
   "metadata": {},
   "outputs": [],
   "source": [
    "## RandomForestClassifier rules extraction\n",
    "RFSirus = SirusRFClassifier(n_estimators=1000,max_features=2,max_depth=2,bootstrap=True, random_state=0,splitter=\"quantile\")\n",
    "start = time.time()\n",
    "RFSirus.fit(X,y,quantile=10,p0=0.01)\n",
    "end = time.time()\n",
    "time_2 = end-start\n",
    "print('Fitting time = ',time_2 ,'s')\n",
    "RFSirus.feature_names_in_ = ['sepal length','sepal width','petal length','petal width']\n",
    "RFSirus.show_rules(max_rules=16)"
   ]
  },
  {
   "cell_type": "code",
   "execution_count": null,
   "id": "615e00c0-8498-4f14-9e77-a60c1cbc0375",
   "metadata": {},
   "outputs": [],
   "source": [
    "## RandomForestClassifier rules extraction\n",
    "RFSirus = SirusRFClassifier(n_estimators=1000,max_features=2,max_depth=2,bootstrap=True, random_state=19,splitter=\"quantile\")\n",
    "start = time.time()\n",
    "RFSirus.fit(X,y,quantile=10,p0=0.01)\n",
    "end = time.time()\n",
    "time_2 = end-start\n",
    "print('Fitting time = ',time_2 ,'s')\n",
    "RFSirus.feature_names_in_ = ['sepal length','sepal width','petal length','petal width']\n",
    "RFSirus.show_rules(max_rules=16)"
   ]
  },
  {
   "cell_type": "markdown",
   "id": "3cc4ac1f-8092-4447-b448-843a5195a97c",
   "metadata": {},
   "source": [
    "## optimizing p0 :"
   ]
  },
  {
   "cell_type": "code",
   "execution_count": null,
   "id": "17b62542-c7ba-4115-9282-3a6e916aa4ee",
   "metadata": {
    "scrolled": true
   },
   "outputs": [],
   "source": [
    "## RandomForestClassifier rules extraction\n",
    "RFSirus = SirusRFClassifier(n_estimators=1000,max_features=4,max_depth=2,bootstrap=True, random_state=1,splitter=\"quantile\")\n",
    "start = time.time()\n",
    "RFSirus.fit(X,y,quantile=10,p0=0.01)\n",
    "end = time.time()\n",
    "time_2 = end-start\n",
    "print('Fitting time = ',time_2 ,'s')\n",
    "RFSirus.feature_names_in_ = ['sepal length','sepal width','petal length','petal width']\n",
    "RFSirus.show_rules(max_rules=16)"
   ]
  },
  {
   "cell_type": "code",
   "execution_count": null,
   "id": "5f5e2540-3332-42d9-95f9-8ab6403f8b3d",
   "metadata": {},
   "outputs": [],
   "source": [
    "from pysirus.models.optimizer import train_optimal_extractor_p0\n",
    "from sklearn.metrics import roc_auc_score"
   ]
  },
  {
   "cell_type": "code",
   "execution_count": null,
   "id": "dbc47ec7-bf15-4146-a1d9-34ce1854b7e6",
   "metadata": {
    "scrolled": true
   },
   "outputs": [],
   "source": [
    "final_sirus_model = train_optimal_extractor_p0(clf=RFSirus,X_train=X,y_train=y,\n",
    "                           scoring=roc_auc_score,p0_exploration_grid=np.linspace(0.01, 0.05, 15),\n",
    "                           n_cv_splits=5,n_cv_repeats=5)"
   ]
  },
  {
   "cell_type": "raw",
   "id": "b32c5100-07f1-4300-893f-79f39c74df17",
   "metadata": {},
   "source": [
    "--- Optimal Selection ---\n",
    "Optimal p0: 0.0289\n",
    "Achieved Mean (1-AUC): 0.0006\n",
    "Achieved Mean Number of Rules: 7.92"
   ]
  },
  {
   "cell_type": "code",
   "execution_count": null,
   "id": "3448d392-ff5c-4390-ae38-150da35edbe9",
   "metadata": {},
   "outputs": [],
   "source": [
    "final_sirus_model"
   ]
  },
  {
   "cell_type": "code",
   "execution_count": null,
   "id": "40f65a2a-dd30-4719-a375-cefae68b3556",
   "metadata": {},
   "outputs": [],
   "source": [
    "final_sirus_model.feature_names_in_ = ['sepal length','sepal width','petal length','petal width']\n",
    "final_sirus_model.show_rules(max_rules=16)"
   ]
  },
  {
   "cell_type": "markdown",
   "id": "2c320c0e-ccaa-43a4-899d-1efd9c3896b7",
   "metadata": {},
   "source": [
    "## GB : "
   ]
  },
  {
   "cell_type": "code",
   "execution_count": null,
   "id": "505c768f-295a-4be6-bcfd-aea746661bec",
   "metadata": {
    "scrolled": true
   },
   "outputs": [],
   "source": [
    "## SirusGBClassifier rules extraction\n",
    "GBSirus = SirusGBClassifier(n_estimators=100,max_depth=2, random_state=19,splitter=\"quantile\")\n",
    "start = time.time()\n",
    "GBSirus.fit(X,y,quantile=10,p0=0.01)\n",
    "end = time.time()\n",
    "time_2 = end-start\n",
    "print('Fitting time = ',time_2 ,'s')\n",
    "#GBSirus.feature_names_in_ = ['sepal length','sepal width','petal length','petal width']\n",
    "#GBSirus.show_rules(max_rules=16)"
   ]
  },
  {
   "cell_type": "code",
   "execution_count": null,
   "id": "27a866b8-7152-4f1f-8fbf-155fcb419fec",
   "metadata": {},
   "outputs": [],
   "source": [
    "GBSirus.feature_names_in_ = ['sepal length','sepal width','petal length','petal width']\n",
    "GBSirus.print_rules(max_rules=4)"
   ]
  },
  {
   "cell_type": "code",
   "execution_count": null,
   "id": "645ae680-d385-4078-87c8-f08a381e2482",
   "metadata": {},
   "outputs": [],
   "source": [
    "tree.plot_tree(GBSirus.estimators_[0,0])"
   ]
  },
  {
   "cell_type": "code",
   "execution_count": null,
   "id": "a2ea8d7d-55ae-4a89-9218-d3fb20699447",
   "metadata": {},
   "outputs": [],
   "source": [
    "tree.plot_tree(GBSirus.estimators_[1,0])"
   ]
  },
  {
   "cell_type": "code",
   "execution_count": null,
   "id": "4de9a02a-d7c2-404d-a7d2-e529f6e8af94",
   "metadata": {},
   "outputs": [],
   "source": [
    "tree.plot_tree(GBSirus.estimators_[2,0])"
   ]
  },
  {
   "cell_type": "code",
   "execution_count": null,
   "id": "3ee305a2-1963-46cb-8d3b-d106cf53ada3",
   "metadata": {},
   "outputs": [],
   "source": [
    "tree.plot_tree(GBSirus.estimators_[3,0])"
   ]
  },
  {
   "cell_type": "code",
   "execution_count": null,
   "id": "9adb97c8-5612-4802-a7c7-cdc4e3b1bb6b",
   "metadata": {},
   "outputs": [],
   "source": [
    "tree.plot_tree(GBSirus.estimators_[4,0])"
   ]
  },
  {
   "cell_type": "code",
   "execution_count": null,
   "id": "9859e00d-3916-4563-810a-87fdda3e129e",
   "metadata": {},
   "outputs": [],
   "source": [
    "tree.plot_tree(GBSirus.estimators_[99,0])"
   ]
  },
  {
   "cell_type": "code",
   "execution_count": null,
   "id": "0016ee2f-6b46-4149-9440-374b5c77c302",
   "metadata": {},
   "outputs": [],
   "source": []
  }
 ],
 "metadata": {
  "kernelspec": {
   "display_name": "Python 3 (ipykernel)",
   "language": "python",
   "name": "python3"
  },
  "language_info": {
   "codemirror_mode": {
    "name": "ipython",
    "version": 3
   },
   "file_extension": ".py",
   "mimetype": "text/x-python",
   "name": "python",
   "nbconvert_exporter": "python",
   "pygments_lexer": "ipython3",
   "version": "3.11.9"
  }
 },
 "nbformat": 4,
 "nbformat_minor": 5
}

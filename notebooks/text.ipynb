{
 "cells": [
  {
   "cell_type": "markdown",
   "metadata": {},
   "source": [
    "<center><h1  style=\"color:white; background-color:#000000; border-radius: 0px; padding:25px;\"> pySIRUS </h1></center>"
   ]
  },
  {
   "cell_type": "markdown",
   "metadata": {},
   "source": [
    "Notebbok de test de pysirus avec une RF.\n"
   ]
  },
  {
   "cell_type": "code",
   "execution_count": 1,
   "metadata": {},
   "outputs": [],
   "source": [
    "import os\n",
    "import sys\n",
    "sys.path.insert(1, os.path.abspath(os.path.join(os.getcwd(), os.pardir)))\n",
    "import time\n",
    "\n",
    "import numpy as np\n",
    "\n",
    "from sklearn.tree import _tree, export_text,plot_tree\n",
    "from pysirus.models.basic import Node,SirusDTreeClassifier"
   ]
  },
  {
   "cell_type": "code",
   "execution_count": 2,
   "metadata": {},
   "outputs": [
    {
     "name": "stdout",
     "output_type": "stream",
     "text": [
      "/home/abdoulaye_sakho/S3/sirus/rules/notebook\n"
     ]
    }
   ],
   "source": [
    "print(os.getcwd())"
   ]
  },
  {
   "cell_type": "code",
   "execution_count": 3,
   "metadata": {},
   "outputs": [
    {
     "data": {
      "text/plain": [
       "'/home/abdoulaye_sakho/S3/sirus/rules/notebook/..'"
      ]
     },
     "execution_count": 3,
     "metadata": {},
     "output_type": "execute_result"
    }
   ],
   "source": [
    "os.path.join(os.getcwd(), os.pardir)"
   ]
  },
  {
   "cell_type": "code",
   "execution_count": 4,
   "metadata": {},
   "outputs": [
    {
     "data": {
      "text/plain": [
       "'..'"
      ]
     },
     "execution_count": 4,
     "metadata": {},
     "output_type": "execute_result"
    }
   ],
   "source": [
    "os.pardir"
   ]
  },
  {
   "cell_type": "code",
   "execution_count": 5,
   "metadata": {},
   "outputs": [],
   "source": [
    "from sklearn import tree\n",
    "from sklearn.datasets import load_iris\n",
    "from sklearn.model_selection import train_test_split\n",
    "from sklearn.tree import DecisionTreeClassifier"
   ]
  },
  {
   "cell_type": "code",
   "execution_count": 6,
   "metadata": {},
   "outputs": [],
   "source": [
    "iris = load_iris()\n",
    "X = iris.data\n",
    "y = iris.target\n",
    "X_train, X_test, y_train, y_test = train_test_split(X, y, random_state=0)"
   ]
  },
  {
   "cell_type": "code",
   "execution_count": 7,
   "metadata": {},
   "outputs": [
    {
     "data": {
      "text/plain": [
       "(112, 4)"
      ]
     },
     "execution_count": 7,
     "metadata": {},
     "output_type": "execute_result"
    }
   ],
   "source": [
    "X_train.shape"
   ]
  },
  {
   "cell_type": "code",
   "execution_count": 8,
   "metadata": {
    "scrolled": true
   },
   "outputs": [
    {
     "data": {
      "text/plain": [
       "array([4.8, 2.5, 1.4, 0.2])"
      ]
     },
     "execution_count": 8,
     "metadata": {},
     "output_type": "execute_result"
    }
   ],
   "source": [
    "np.quantile(X,q=0.1,axis=0) # puis np.clip avec la liste des quantiles. \n",
    "#On replace les valeurs de chaque features par ça avec le clip. la RF est ensuite apprise sur ça"
   ]
  },
  {
   "cell_type": "code",
   "execution_count": 9,
   "metadata": {
    "scrolled": true
   },
   "outputs": [
    {
     "name": "stdout",
     "output_type": "stream",
     "text": [
      "10\n"
     ]
    },
    {
     "data": {
      "text/plain": [
       "[array([4.3, 2. , 1.1, 0.1]),\n",
       " array([4.81, 2.5 , 1.4 , 0.2 ]),\n",
       " array([5.02, 2.7 , 1.5 , 0.2 ]),\n",
       " array([5.33, 2.9 , 1.63, 0.4 ]),\n",
       " array([5.6 , 3.  , 3.9 , 1.14]),\n",
       " array([5.8 , 3.  , 4.25, 1.3 ]),\n",
       " array([6.16, 3.1 , 4.7 , 1.5 ]),\n",
       " array([6.4, 3.2, 5.1, 1.8]),\n",
       " array([6.7 , 3.4 , 5.48, 2.  ]),\n",
       " array([6.99, 3.6 , 5.8 , 2.29]),\n",
       " array([7.9, 4.4, 6.9, 2.5])]"
      ]
     },
     "execution_count": 9,
     "metadata": {},
     "output_type": "execute_result"
    }
   ],
   "source": [
    "quantile =0.1\n",
    "print(int(100//(quantile*100)))\n",
    "list_quantile = [np.quantile(X_train,q=i*quantile,axis=0) for i in range(int(100//(quantile*100))+1)]\n",
    "list_quantile"
   ]
  },
  {
   "cell_type": "code",
   "execution_count": 10,
   "metadata": {},
   "outputs": [
    {
     "data": {
      "text/plain": [
       "array([[4.3 , 2.  , 1.1 , 0.1 ],\n",
       "       [4.81, 2.5 , 1.4 , 0.2 ],\n",
       "       [5.02, 2.7 , 1.5 , 0.2 ],\n",
       "       [5.33, 2.9 , 1.63, 0.4 ],\n",
       "       [5.6 , 3.  , 3.9 , 1.14],\n",
       "       [5.8 , 3.  , 4.25, 1.3 ],\n",
       "       [6.16, 3.1 , 4.7 , 1.5 ],\n",
       "       [6.4 , 3.2 , 5.1 , 1.8 ],\n",
       "       [6.7 , 3.4 , 5.48, 2.  ],\n",
       "       [6.99, 3.6 , 5.8 , 2.29],\n",
       "       [7.9 , 4.4 , 6.9 , 2.5 ]])"
      ]
     },
     "execution_count": 10,
     "metadata": {},
     "output_type": "execute_result"
    }
   ],
   "source": [
    "array_quantile = np.array(list_quantile )\n",
    "array_quantile"
   ]
  },
  {
   "cell_type": "code",
   "execution_count": 11,
   "metadata": {},
   "outputs": [],
   "source": [
    "X_train_2 = X_train.copy()\n",
    "#X_train_2[:,0] = array_quantile[out,0]\n",
    "#X_train_2[:,0]"
   ]
  },
  {
   "cell_type": "code",
   "execution_count": 12,
   "metadata": {},
   "outputs": [],
   "source": [
    "for dim in range(X_train.shape[1]):\n",
    "    out = np.searchsorted(array_quantile[:,dim], X_train[:,dim],side='left')\n",
    "    X_train_2[:,dim] = array_quantile[out,dim]"
   ]
  },
  {
   "cell_type": "code",
   "execution_count": 13,
   "metadata": {
    "scrolled": true
   },
   "outputs": [
    {
     "data": {
      "text/plain": [
       "array([[6.16, 3.  , 4.25, 1.5 ],\n",
       "       [5.8 , 2.7 , 4.25, 1.3 ],\n",
       "       [6.99, 3.  , 5.8 , 2.29],\n",
       "       [4.81, 3.2 , 1.4 , 0.2 ],\n",
       "       [6.99, 3.1 , 5.1 , 2.5 ],\n",
       "       [5.02, 3.6 , 1.63, 1.14],\n",
       "       [5.6 , 4.4 , 1.5 , 0.2 ],\n",
       "       [5.02, 2.  , 3.9 , 1.14],\n",
       "       [6.7 , 3.  , 5.8 , 1.8 ],\n",
       "       [6.7 , 3.4 , 5.8 , 2.5 ],\n",
       "       [6.16, 2.5 , 5.1 , 1.5 ],\n",
       "       [6.7 , 2.5 , 5.8 , 1.8 ],\n",
       "       [5.6 , 2.5 , 3.9 , 1.14],\n",
       "       [7.9 , 3.  , 6.9 , 2.5 ],\n",
       "       [6.4 , 3.4 , 4.7 , 1.8 ],\n",
       "       [5.6 , 2.5 , 3.9 , 1.14],\n",
       "       [6.4 , 2.7 , 5.1 , 1.8 ],\n",
       "       [6.4 , 2.9 , 5.1 , 1.5 ],\n",
       "       [5.02, 2.5 , 4.7 , 1.8 ],\n",
       "       [6.4 , 2.5 , 5.1 , 2.  ],\n",
       "       [7.9 , 3.2 , 4.7 , 1.5 ],\n",
       "       [6.7 , 3.  , 5.48, 2.  ],\n",
       "       [6.16, 3.4 , 4.7 , 1.8 ],\n",
       "       [4.81, 3.1 , 1.63, 0.2 ],\n",
       "       [5.8 , 2.7 , 5.1 , 2.  ],\n",
       "       [5.6 , 2.7 , 4.25, 1.3 ],\n",
       "       [5.6 , 2.9 , 3.9 , 1.3 ],\n",
       "       [5.6 , 2.5 , 4.25, 1.3 ],\n",
       "       [6.16, 3.  , 4.7 , 1.5 ],\n",
       "       [7.9 , 3.2 , 6.9 , 1.8 ],\n",
       "       [5.33, 4.4 , 1.5 , 0.2 ],\n",
       "       [4.3 , 3.  , 1.1 , 0.1 ],\n",
       "       [6.4 , 2.7 , 5.48, 2.  ],\n",
       "       [5.8 , 3.  , 4.25, 1.3 ],\n",
       "       [5.6 , 3.4 , 3.9 , 0.2 ],\n",
       "       [5.8 , 4.4 , 1.5 , 0.4 ],\n",
       "       [6.99, 3.1 , 5.1 , 1.5 ],\n",
       "       [4.81, 3.1 , 1.5 , 0.2 ],\n",
       "       [6.16, 3.  , 5.1 , 1.8 ],\n",
       "       [5.33, 2.5 , 3.9 , 1.14],\n",
       "       [4.81, 3.4 , 1.4 , 0.4 ],\n",
       "       [6.4 , 2.5 , 4.7 , 1.5 ],\n",
       "       [7.9 , 3.6 , 6.9 , 2.5 ],\n",
       "       [5.8 , 2.9 , 4.25, 1.3 ],\n",
       "       [4.81, 3.  , 1.4 , 0.1 ],\n",
       "       [7.9 , 3.  , 6.9 , 2.29],\n",
       "       [6.99, 3.2 , 5.8 , 2.5 ],\n",
       "       [6.7 , 3.  , 5.8 , 2.29],\n",
       "       [6.4 , 2.9 , 5.8 , 2.29],\n",
       "       [5.33, 4.4 , 1.63, 0.2 ],\n",
       "       [4.81, 3.4 , 1.63, 0.2 ],\n",
       "       [6.7 , 3.2 , 5.1 , 2.  ],\n",
       "       [6.7 , 3.4 , 5.8 , 2.29],\n",
       "       [4.81, 2.5 , 1.4 , 0.4 ],\n",
       "       [6.4 , 3.4 , 5.48, 2.5 ],\n",
       "       [5.02, 3.  , 1.4 , 0.2 ],\n",
       "       [5.8 , 2.5 , 5.1 , 2.  ],\n",
       "       [6.99, 3.1 , 5.48, 2.29],\n",
       "       [4.81, 3.2 , 1.4 , 0.2 ],\n",
       "       [5.02, 3.6 , 1.4 , 0.2 ],\n",
       "       [7.9 , 3.  , 5.8 , 1.8 ],\n",
       "       [5.33, 3.6 , 1.4 , 0.4 ],\n",
       "       [4.81, 3.  , 1.4 , 0.2 ],\n",
       "       [5.6 , 4.4 , 3.9 , 0.4 ],\n",
       "       [5.6 , 2.5 , 4.25, 1.3 ],\n",
       "       [6.99, 3.2 , 6.9 , 2.5 ],\n",
       "       [7.9 , 3.  , 6.9 , 2.29],\n",
       "       [5.33, 3.6 , 1.4 , 0.2 ],\n",
       "       [5.02, 3.1 , 1.5 , 0.2 ],\n",
       "       [5.33, 3.4 , 1.4 , 0.2 ],\n",
       "       [5.8 , 2.9 , 4.7 , 1.3 ],\n",
       "       [6.7 , 3.  , 4.7 , 1.5 ],\n",
       "       [5.02, 3.2 , 1.4 , 0.2 ],\n",
       "       [5.33, 3.4 , 3.9 , 1.14],\n",
       "       [6.4 , 2.9 , 4.7 , 1.3 ],\n",
       "       [5.6 , 3.4 , 1.5 , 0.4 ],\n",
       "       [7.9 , 2.7 , 6.9 , 2.5 ],\n",
       "       [5.02, 2.5 , 3.9 , 1.14],\n",
       "       [7.9 , 4.4 , 6.9 , 2.  ],\n",
       "       [6.7 , 3.1 , 4.7 , 1.5 ],\n",
       "       [5.33, 4.4 , 1.5 , 0.1 ],\n",
       "       [6.16, 3.  , 5.1 , 1.8 ],\n",
       "       [5.8 , 4.4 , 1.4 , 0.2 ],\n",
       "       [7.9 , 2.9 , 6.9 , 2.  ],\n",
       "       [5.33, 4.4 , 1.5 , 0.4 ],\n",
       "       [4.81, 3.2 , 1.63, 0.2 ],\n",
       "       [7.9 , 2.9 , 6.9 , 2.  ],\n",
       "       [5.02, 3.4 , 1.4 , 0.2 ],\n",
       "       [6.4 , 3.4 , 5.8 , 2.5 ],\n",
       "       [5.8 , 2.9 , 4.25, 1.3 ],\n",
       "       [5.8 , 2.7 , 3.9 , 1.3 ],\n",
       "       [5.8 , 2.7 , 3.9 , 1.14],\n",
       "       [6.4 , 3.2 , 5.48, 2.5 ],\n",
       "       [6.7 , 3.  , 5.48, 2.5 ],\n",
       "       [6.4 , 2.5 , 5.1 , 1.5 ],\n",
       "       [6.7 , 3.  , 5.1 , 1.8 ],\n",
       "       [5.02, 3.  , 1.63, 0.2 ],\n",
       "       [5.6 , 2.5 , 3.9 , 1.14],\n",
       "       [6.7 , 3.1 , 5.8 , 2.5 ],\n",
       "       [5.8 , 2.7 , 5.1 , 2.  ],\n",
       "       [5.33, 3.4 , 1.5 , 0.2 ],\n",
       "       [6.7 , 2.9 , 4.7 , 1.3 ],\n",
       "       [5.6 , 3.  , 4.25, 1.3 ],\n",
       "       [6.16, 3.2 , 5.1 , 1.8 ],\n",
       "       [6.4 , 2.5 , 4.7 , 1.3 ],\n",
       "       [5.6 , 3.6 , 1.4 , 0.2 ],\n",
       "       [5.33, 4.4 , 1.5 , 0.4 ],\n",
       "       [5.02, 3.1 , 1.5 , 0.1 ],\n",
       "       [6.4 , 2.9 , 5.8 , 1.8 ],\n",
       "       [5.8 , 2.7 , 4.25, 1.14],\n",
       "       [7.9 , 4.4 , 6.9 , 2.29],\n",
       "       [4.81, 3.2 , 1.4 , 0.2 ]])"
      ]
     },
     "execution_count": 13,
     "metadata": {},
     "output_type": "execute_result"
    }
   ],
   "source": [
    "X_train_2"
   ]
  },
  {
   "cell_type": "code",
   "execution_count": 14,
   "metadata": {
    "scrolled": true
   },
   "outputs": [
    {
     "data": {
      "text/plain": [
       "array([[5.9, 3. , 4.2, 1.5],\n",
       "       [5.8, 2.6, 4. , 1.2],\n",
       "       [6.8, 3. , 5.5, 2.1],\n",
       "       [4.7, 3.2, 1.3, 0.2],\n",
       "       [6.9, 3.1, 5.1, 2.3],\n",
       "       [5. , 3.5, 1.6, 0.6],\n",
       "       [5.4, 3.7, 1.5, 0.2],\n",
       "       [5. , 2. , 3.5, 1. ],\n",
       "       [6.5, 3. , 5.5, 1.8],\n",
       "       [6.7, 3.3, 5.7, 2.5],\n",
       "       [6. , 2.2, 5. , 1.5],\n",
       "       [6.7, 2.5, 5.8, 1.8],\n",
       "       [5.6, 2.5, 3.9, 1.1],\n",
       "       [7.7, 3. , 6.1, 2.3],\n",
       "       [6.3, 3.3, 4.7, 1.6],\n",
       "       [5.5, 2.4, 3.8, 1.1],\n",
       "       [6.3, 2.7, 4.9, 1.8],\n",
       "       [6.3, 2.8, 5.1, 1.5],\n",
       "       [4.9, 2.5, 4.5, 1.7],\n",
       "       [6.3, 2.5, 5. , 1.9],\n",
       "       [7. , 3.2, 4.7, 1.4],\n",
       "       [6.5, 3. , 5.2, 2. ],\n",
       "       [6. , 3.4, 4.5, 1.6],\n",
       "       [4.8, 3.1, 1.6, 0.2],\n",
       "       [5.8, 2.7, 5.1, 1.9],\n",
       "       [5.6, 2.7, 4.2, 1.3],\n",
       "       [5.6, 2.9, 3.6, 1.3],\n",
       "       [5.5, 2.5, 4. , 1.3],\n",
       "       [6.1, 3. , 4.6, 1.4],\n",
       "       [7.2, 3.2, 6. , 1.8],\n",
       "       [5.3, 3.7, 1.5, 0.2],\n",
       "       [4.3, 3. , 1.1, 0.1],\n",
       "       [6.4, 2.7, 5.3, 1.9],\n",
       "       [5.7, 3. , 4.2, 1.2],\n",
       "       [5.4, 3.4, 1.7, 0.2],\n",
       "       [5.7, 4.4, 1.5, 0.4],\n",
       "       [6.9, 3.1, 4.9, 1.5],\n",
       "       [4.6, 3.1, 1.5, 0.2],\n",
       "       [5.9, 3. , 5.1, 1.8],\n",
       "       [5.1, 2.5, 3. , 1.1],\n",
       "       [4.6, 3.4, 1.4, 0.3],\n",
       "       [6.2, 2.2, 4.5, 1.5],\n",
       "       [7.2, 3.6, 6.1, 2.5],\n",
       "       [5.7, 2.9, 4.2, 1.3],\n",
       "       [4.8, 3. , 1.4, 0.1],\n",
       "       [7.1, 3. , 5.9, 2.1],\n",
       "       [6.9, 3.2, 5.7, 2.3],\n",
       "       [6.5, 3. , 5.8, 2.2],\n",
       "       [6.4, 2.8, 5.6, 2.1],\n",
       "       [5.1, 3.8, 1.6, 0.2],\n",
       "       [4.8, 3.4, 1.6, 0.2],\n",
       "       [6.5, 3.2, 5.1, 2. ],\n",
       "       [6.7, 3.3, 5.7, 2.1],\n",
       "       [4.5, 2.3, 1.3, 0.3],\n",
       "       [6.2, 3.4, 5.4, 2.3],\n",
       "       [4.9, 3. , 1.4, 0.2],\n",
       "       [5.7, 2.5, 5. , 2. ],\n",
       "       [6.9, 3.1, 5.4, 2.1],\n",
       "       [4.4, 3.2, 1.3, 0.2],\n",
       "       [5. , 3.6, 1.4, 0.2],\n",
       "       [7.2, 3. , 5.8, 1.6],\n",
       "       [5.1, 3.5, 1.4, 0.3],\n",
       "       [4.4, 3. , 1.3, 0.2],\n",
       "       [5.4, 3.9, 1.7, 0.4],\n",
       "       [5.5, 2.3, 4. , 1.3],\n",
       "       [6.8, 3.2, 5.9, 2.3],\n",
       "       [7.6, 3. , 6.6, 2.1],\n",
       "       [5.1, 3.5, 1.4, 0.2],\n",
       "       [4.9, 3.1, 1.5, 0.2],\n",
       "       [5.2, 3.4, 1.4, 0.2],\n",
       "       [5.7, 2.8, 4.5, 1.3],\n",
       "       [6.6, 3. , 4.4, 1.4],\n",
       "       [5. , 3.2, 1.2, 0.2],\n",
       "       [5.1, 3.3, 1.7, 0.5],\n",
       "       [6.4, 2.9, 4.3, 1.3],\n",
       "       [5.4, 3.4, 1.5, 0.4],\n",
       "       [7.7, 2.6, 6.9, 2.3],\n",
       "       [4.9, 2.4, 3.3, 1. ],\n",
       "       [7.9, 3.8, 6.4, 2. ],\n",
       "       [6.7, 3.1, 4.4, 1.4],\n",
       "       [5.2, 4.1, 1.5, 0.1],\n",
       "       [6. , 3. , 4.8, 1.8],\n",
       "       [5.8, 4. , 1.2, 0.2],\n",
       "       [7.7, 2.8, 6.7, 2. ],\n",
       "       [5.1, 3.8, 1.5, 0.3],\n",
       "       [4.7, 3.2, 1.6, 0.2],\n",
       "       [7.4, 2.8, 6.1, 1.9],\n",
       "       [5. , 3.3, 1.4, 0.2],\n",
       "       [6.3, 3.4, 5.6, 2.4],\n",
       "       [5.7, 2.8, 4.1, 1.3],\n",
       "       [5.8, 2.7, 3.9, 1.2],\n",
       "       [5.7, 2.6, 3.5, 1. ],\n",
       "       [6.4, 3.2, 5.3, 2.3],\n",
       "       [6.7, 3. , 5.2, 2.3],\n",
       "       [6.3, 2.5, 4.9, 1.5],\n",
       "       [6.7, 3. , 5. , 1.7],\n",
       "       [5. , 3. , 1.6, 0.2],\n",
       "       [5.5, 2.4, 3.7, 1. ],\n",
       "       [6.7, 3.1, 5.6, 2.4],\n",
       "       [5.8, 2.7, 5.1, 1.9],\n",
       "       [5.1, 3.4, 1.5, 0.2],\n",
       "       [6.6, 2.9, 4.6, 1.3],\n",
       "       [5.6, 3. , 4.1, 1.3],\n",
       "       [5.9, 3.2, 4.8, 1.8],\n",
       "       [6.3, 2.3, 4.4, 1.3],\n",
       "       [5.5, 3.5, 1.3, 0.2],\n",
       "       [5.1, 3.7, 1.5, 0.4],\n",
       "       [4.9, 3.1, 1.5, 0.1],\n",
       "       [6.3, 2.9, 5.6, 1.8],\n",
       "       [5.8, 2.7, 4.1, 1. ],\n",
       "       [7.7, 3.8, 6.7, 2.2],\n",
       "       [4.6, 3.2, 1.4, 0.2]])"
      ]
     },
     "execution_count": 14,
     "metadata": {},
     "output_type": "execute_result"
    }
   ],
   "source": [
    "X_train"
   ]
  },
  {
   "cell_type": "code",
   "execution_count": 15,
   "metadata": {},
   "outputs": [],
   "source": [
    "X_train_original = X_train"
   ]
  },
  {
   "cell_type": "code",
   "execution_count": 16,
   "metadata": {},
   "outputs": [],
   "source": [
    "X_train = X_train_2"
   ]
  },
  {
   "cell_type": "code",
   "execution_count": 17,
   "metadata": {
    "scrolled": true
   },
   "outputs": [
    {
     "data": {
      "text/plain": [
       "array([[6.16, 3.  , 4.25, 1.5 ],\n",
       "       [5.8 , 2.7 , 4.25, 1.3 ],\n",
       "       [6.99, 3.  , 5.8 , 2.29],\n",
       "       [4.81, 3.2 , 1.4 , 0.2 ],\n",
       "       [6.99, 3.1 , 5.1 , 2.5 ],\n",
       "       [5.02, 3.6 , 1.63, 1.14],\n",
       "       [5.6 , 4.4 , 1.5 , 0.2 ],\n",
       "       [5.02, 2.  , 3.9 , 1.14],\n",
       "       [6.7 , 3.  , 5.8 , 1.8 ],\n",
       "       [6.7 , 3.4 , 5.8 , 2.5 ],\n",
       "       [6.16, 2.5 , 5.1 , 1.5 ],\n",
       "       [6.7 , 2.5 , 5.8 , 1.8 ],\n",
       "       [5.6 , 2.5 , 3.9 , 1.14],\n",
       "       [7.9 , 3.  , 6.9 , 2.5 ],\n",
       "       [6.4 , 3.4 , 4.7 , 1.8 ],\n",
       "       [5.6 , 2.5 , 3.9 , 1.14],\n",
       "       [6.4 , 2.7 , 5.1 , 1.8 ],\n",
       "       [6.4 , 2.9 , 5.1 , 1.5 ],\n",
       "       [5.02, 2.5 , 4.7 , 1.8 ],\n",
       "       [6.4 , 2.5 , 5.1 , 2.  ],\n",
       "       [7.9 , 3.2 , 4.7 , 1.5 ],\n",
       "       [6.7 , 3.  , 5.48, 2.  ],\n",
       "       [6.16, 3.4 , 4.7 , 1.8 ],\n",
       "       [4.81, 3.1 , 1.63, 0.2 ],\n",
       "       [5.8 , 2.7 , 5.1 , 2.  ],\n",
       "       [5.6 , 2.7 , 4.25, 1.3 ],\n",
       "       [5.6 , 2.9 , 3.9 , 1.3 ],\n",
       "       [5.6 , 2.5 , 4.25, 1.3 ],\n",
       "       [6.16, 3.  , 4.7 , 1.5 ],\n",
       "       [7.9 , 3.2 , 6.9 , 1.8 ],\n",
       "       [5.33, 4.4 , 1.5 , 0.2 ],\n",
       "       [4.3 , 3.  , 1.1 , 0.1 ],\n",
       "       [6.4 , 2.7 , 5.48, 2.  ],\n",
       "       [5.8 , 3.  , 4.25, 1.3 ],\n",
       "       [5.6 , 3.4 , 3.9 , 0.2 ],\n",
       "       [5.8 , 4.4 , 1.5 , 0.4 ],\n",
       "       [6.99, 3.1 , 5.1 , 1.5 ],\n",
       "       [4.81, 3.1 , 1.5 , 0.2 ],\n",
       "       [6.16, 3.  , 5.1 , 1.8 ],\n",
       "       [5.33, 2.5 , 3.9 , 1.14],\n",
       "       [4.81, 3.4 , 1.4 , 0.4 ],\n",
       "       [6.4 , 2.5 , 4.7 , 1.5 ],\n",
       "       [7.9 , 3.6 , 6.9 , 2.5 ],\n",
       "       [5.8 , 2.9 , 4.25, 1.3 ],\n",
       "       [4.81, 3.  , 1.4 , 0.1 ],\n",
       "       [7.9 , 3.  , 6.9 , 2.29],\n",
       "       [6.99, 3.2 , 5.8 , 2.5 ],\n",
       "       [6.7 , 3.  , 5.8 , 2.29],\n",
       "       [6.4 , 2.9 , 5.8 , 2.29],\n",
       "       [5.33, 4.4 , 1.63, 0.2 ],\n",
       "       [4.81, 3.4 , 1.63, 0.2 ],\n",
       "       [6.7 , 3.2 , 5.1 , 2.  ],\n",
       "       [6.7 , 3.4 , 5.8 , 2.29],\n",
       "       [4.81, 2.5 , 1.4 , 0.4 ],\n",
       "       [6.4 , 3.4 , 5.48, 2.5 ],\n",
       "       [5.02, 3.  , 1.4 , 0.2 ],\n",
       "       [5.8 , 2.5 , 5.1 , 2.  ],\n",
       "       [6.99, 3.1 , 5.48, 2.29],\n",
       "       [4.81, 3.2 , 1.4 , 0.2 ],\n",
       "       [5.02, 3.6 , 1.4 , 0.2 ],\n",
       "       [7.9 , 3.  , 5.8 , 1.8 ],\n",
       "       [5.33, 3.6 , 1.4 , 0.4 ],\n",
       "       [4.81, 3.  , 1.4 , 0.2 ],\n",
       "       [5.6 , 4.4 , 3.9 , 0.4 ],\n",
       "       [5.6 , 2.5 , 4.25, 1.3 ],\n",
       "       [6.99, 3.2 , 6.9 , 2.5 ],\n",
       "       [7.9 , 3.  , 6.9 , 2.29],\n",
       "       [5.33, 3.6 , 1.4 , 0.2 ],\n",
       "       [5.02, 3.1 , 1.5 , 0.2 ],\n",
       "       [5.33, 3.4 , 1.4 , 0.2 ],\n",
       "       [5.8 , 2.9 , 4.7 , 1.3 ],\n",
       "       [6.7 , 3.  , 4.7 , 1.5 ],\n",
       "       [5.02, 3.2 , 1.4 , 0.2 ],\n",
       "       [5.33, 3.4 , 3.9 , 1.14],\n",
       "       [6.4 , 2.9 , 4.7 , 1.3 ],\n",
       "       [5.6 , 3.4 , 1.5 , 0.4 ],\n",
       "       [7.9 , 2.7 , 6.9 , 2.5 ],\n",
       "       [5.02, 2.5 , 3.9 , 1.14],\n",
       "       [7.9 , 4.4 , 6.9 , 2.  ],\n",
       "       [6.7 , 3.1 , 4.7 , 1.5 ],\n",
       "       [5.33, 4.4 , 1.5 , 0.1 ],\n",
       "       [6.16, 3.  , 5.1 , 1.8 ],\n",
       "       [5.8 , 4.4 , 1.4 , 0.2 ],\n",
       "       [7.9 , 2.9 , 6.9 , 2.  ],\n",
       "       [5.33, 4.4 , 1.5 , 0.4 ],\n",
       "       [4.81, 3.2 , 1.63, 0.2 ],\n",
       "       [7.9 , 2.9 , 6.9 , 2.  ],\n",
       "       [5.02, 3.4 , 1.4 , 0.2 ],\n",
       "       [6.4 , 3.4 , 5.8 , 2.5 ],\n",
       "       [5.8 , 2.9 , 4.25, 1.3 ],\n",
       "       [5.8 , 2.7 , 3.9 , 1.3 ],\n",
       "       [5.8 , 2.7 , 3.9 , 1.14],\n",
       "       [6.4 , 3.2 , 5.48, 2.5 ],\n",
       "       [6.7 , 3.  , 5.48, 2.5 ],\n",
       "       [6.4 , 2.5 , 5.1 , 1.5 ],\n",
       "       [6.7 , 3.  , 5.1 , 1.8 ],\n",
       "       [5.02, 3.  , 1.63, 0.2 ],\n",
       "       [5.6 , 2.5 , 3.9 , 1.14],\n",
       "       [6.7 , 3.1 , 5.8 , 2.5 ],\n",
       "       [5.8 , 2.7 , 5.1 , 2.  ],\n",
       "       [5.33, 3.4 , 1.5 , 0.2 ],\n",
       "       [6.7 , 2.9 , 4.7 , 1.3 ],\n",
       "       [5.6 , 3.  , 4.25, 1.3 ],\n",
       "       [6.16, 3.2 , 5.1 , 1.8 ],\n",
       "       [6.4 , 2.5 , 4.7 , 1.3 ],\n",
       "       [5.6 , 3.6 , 1.4 , 0.2 ],\n",
       "       [5.33, 4.4 , 1.5 , 0.4 ],\n",
       "       [5.02, 3.1 , 1.5 , 0.1 ],\n",
       "       [6.4 , 2.9 , 5.8 , 1.8 ],\n",
       "       [5.8 , 2.7 , 4.25, 1.14],\n",
       "       [7.9 , 4.4 , 6.9 , 2.29],\n",
       "       [4.81, 3.2 , 1.4 , 0.2 ]])"
      ]
     },
     "execution_count": 17,
     "metadata": {},
     "output_type": "execute_result"
    }
   ],
   "source": [
    "X_train"
   ]
  },
  {
   "cell_type": "code",
   "execution_count": 18,
   "metadata": {},
   "outputs": [
    {
     "data": {
      "text/html": [
       "<style>#sk-container-id-1 {\n",
       "  /* Definition of color scheme common for light and dark mode */\n",
       "  --sklearn-color-text: #000;\n",
       "  --sklearn-color-text-muted: #666;\n",
       "  --sklearn-color-line: gray;\n",
       "  /* Definition of color scheme for unfitted estimators */\n",
       "  --sklearn-color-unfitted-level-0: #fff5e6;\n",
       "  --sklearn-color-unfitted-level-1: #f6e4d2;\n",
       "  --sklearn-color-unfitted-level-2: #ffe0b3;\n",
       "  --sklearn-color-unfitted-level-3: chocolate;\n",
       "  /* Definition of color scheme for fitted estimators */\n",
       "  --sklearn-color-fitted-level-0: #f0f8ff;\n",
       "  --sklearn-color-fitted-level-1: #d4ebff;\n",
       "  --sklearn-color-fitted-level-2: #b3dbfd;\n",
       "  --sklearn-color-fitted-level-3: cornflowerblue;\n",
       "\n",
       "  /* Specific color for light theme */\n",
       "  --sklearn-color-text-on-default-background: var(--sg-text-color, var(--theme-code-foreground, var(--jp-content-font-color1, black)));\n",
       "  --sklearn-color-background: var(--sg-background-color, var(--theme-background, var(--jp-layout-color0, white)));\n",
       "  --sklearn-color-border-box: var(--sg-text-color, var(--theme-code-foreground, var(--jp-content-font-color1, black)));\n",
       "  --sklearn-color-icon: #696969;\n",
       "\n",
       "  @media (prefers-color-scheme: dark) {\n",
       "    /* Redefinition of color scheme for dark theme */\n",
       "    --sklearn-color-text-on-default-background: var(--sg-text-color, var(--theme-code-foreground, var(--jp-content-font-color1, white)));\n",
       "    --sklearn-color-background: var(--sg-background-color, var(--theme-background, var(--jp-layout-color0, #111)));\n",
       "    --sklearn-color-border-box: var(--sg-text-color, var(--theme-code-foreground, var(--jp-content-font-color1, white)));\n",
       "    --sklearn-color-icon: #878787;\n",
       "  }\n",
       "}\n",
       "\n",
       "#sk-container-id-1 {\n",
       "  color: var(--sklearn-color-text);\n",
       "}\n",
       "\n",
       "#sk-container-id-1 pre {\n",
       "  padding: 0;\n",
       "}\n",
       "\n",
       "#sk-container-id-1 input.sk-hidden--visually {\n",
       "  border: 0;\n",
       "  clip: rect(1px 1px 1px 1px);\n",
       "  clip: rect(1px, 1px, 1px, 1px);\n",
       "  height: 1px;\n",
       "  margin: -1px;\n",
       "  overflow: hidden;\n",
       "  padding: 0;\n",
       "  position: absolute;\n",
       "  width: 1px;\n",
       "}\n",
       "\n",
       "#sk-container-id-1 div.sk-dashed-wrapped {\n",
       "  border: 1px dashed var(--sklearn-color-line);\n",
       "  margin: 0 0.4em 0.5em 0.4em;\n",
       "  box-sizing: border-box;\n",
       "  padding-bottom: 0.4em;\n",
       "  background-color: var(--sklearn-color-background);\n",
       "}\n",
       "\n",
       "#sk-container-id-1 div.sk-container {\n",
       "  /* jupyter's `normalize.less` sets `[hidden] { display: none; }`\n",
       "     but bootstrap.min.css set `[hidden] { display: none !important; }`\n",
       "     so we also need the `!important` here to be able to override the\n",
       "     default hidden behavior on the sphinx rendered scikit-learn.org.\n",
       "     See: https://github.com/scikit-learn/scikit-learn/issues/21755 */\n",
       "  display: inline-block !important;\n",
       "  position: relative;\n",
       "}\n",
       "\n",
       "#sk-container-id-1 div.sk-text-repr-fallback {\n",
       "  display: none;\n",
       "}\n",
       "\n",
       "div.sk-parallel-item,\n",
       "div.sk-serial,\n",
       "div.sk-item {\n",
       "  /* draw centered vertical line to link estimators */\n",
       "  background-image: linear-gradient(var(--sklearn-color-text-on-default-background), var(--sklearn-color-text-on-default-background));\n",
       "  background-size: 2px 100%;\n",
       "  background-repeat: no-repeat;\n",
       "  background-position: center center;\n",
       "}\n",
       "\n",
       "/* Parallel-specific style estimator block */\n",
       "\n",
       "#sk-container-id-1 div.sk-parallel-item::after {\n",
       "  content: \"\";\n",
       "  width: 100%;\n",
       "  border-bottom: 2px solid var(--sklearn-color-text-on-default-background);\n",
       "  flex-grow: 1;\n",
       "}\n",
       "\n",
       "#sk-container-id-1 div.sk-parallel {\n",
       "  display: flex;\n",
       "  align-items: stretch;\n",
       "  justify-content: center;\n",
       "  background-color: var(--sklearn-color-background);\n",
       "  position: relative;\n",
       "}\n",
       "\n",
       "#sk-container-id-1 div.sk-parallel-item {\n",
       "  display: flex;\n",
       "  flex-direction: column;\n",
       "}\n",
       "\n",
       "#sk-container-id-1 div.sk-parallel-item:first-child::after {\n",
       "  align-self: flex-end;\n",
       "  width: 50%;\n",
       "}\n",
       "\n",
       "#sk-container-id-1 div.sk-parallel-item:last-child::after {\n",
       "  align-self: flex-start;\n",
       "  width: 50%;\n",
       "}\n",
       "\n",
       "#sk-container-id-1 div.sk-parallel-item:only-child::after {\n",
       "  width: 0;\n",
       "}\n",
       "\n",
       "/* Serial-specific style estimator block */\n",
       "\n",
       "#sk-container-id-1 div.sk-serial {\n",
       "  display: flex;\n",
       "  flex-direction: column;\n",
       "  align-items: center;\n",
       "  background-color: var(--sklearn-color-background);\n",
       "  padding-right: 1em;\n",
       "  padding-left: 1em;\n",
       "}\n",
       "\n",
       "\n",
       "/* Toggleable style: style used for estimator/Pipeline/ColumnTransformer box that is\n",
       "clickable and can be expanded/collapsed.\n",
       "- Pipeline and ColumnTransformer use this feature and define the default style\n",
       "- Estimators will overwrite some part of the style using the `sk-estimator` class\n",
       "*/\n",
       "\n",
       "/* Pipeline and ColumnTransformer style (default) */\n",
       "\n",
       "#sk-container-id-1 div.sk-toggleable {\n",
       "  /* Default theme specific background. It is overwritten whether we have a\n",
       "  specific estimator or a Pipeline/ColumnTransformer */\n",
       "  background-color: var(--sklearn-color-background);\n",
       "}\n",
       "\n",
       "/* Toggleable label */\n",
       "#sk-container-id-1 label.sk-toggleable__label {\n",
       "  cursor: pointer;\n",
       "  display: flex;\n",
       "  width: 100%;\n",
       "  margin-bottom: 0;\n",
       "  padding: 0.5em;\n",
       "  box-sizing: border-box;\n",
       "  text-align: center;\n",
       "  align-items: start;\n",
       "  justify-content: space-between;\n",
       "  gap: 0.5em;\n",
       "}\n",
       "\n",
       "#sk-container-id-1 label.sk-toggleable__label .caption {\n",
       "  font-size: 0.6rem;\n",
       "  font-weight: lighter;\n",
       "  color: var(--sklearn-color-text-muted);\n",
       "}\n",
       "\n",
       "#sk-container-id-1 label.sk-toggleable__label-arrow:before {\n",
       "  /* Arrow on the left of the label */\n",
       "  content: \"▸\";\n",
       "  float: left;\n",
       "  margin-right: 0.25em;\n",
       "  color: var(--sklearn-color-icon);\n",
       "}\n",
       "\n",
       "#sk-container-id-1 label.sk-toggleable__label-arrow:hover:before {\n",
       "  color: var(--sklearn-color-text);\n",
       "}\n",
       "\n",
       "/* Toggleable content - dropdown */\n",
       "\n",
       "#sk-container-id-1 div.sk-toggleable__content {\n",
       "  max-height: 0;\n",
       "  max-width: 0;\n",
       "  overflow: hidden;\n",
       "  text-align: left;\n",
       "  /* unfitted */\n",
       "  background-color: var(--sklearn-color-unfitted-level-0);\n",
       "}\n",
       "\n",
       "#sk-container-id-1 div.sk-toggleable__content.fitted {\n",
       "  /* fitted */\n",
       "  background-color: var(--sklearn-color-fitted-level-0);\n",
       "}\n",
       "\n",
       "#sk-container-id-1 div.sk-toggleable__content pre {\n",
       "  margin: 0.2em;\n",
       "  border-radius: 0.25em;\n",
       "  color: var(--sklearn-color-text);\n",
       "  /* unfitted */\n",
       "  background-color: var(--sklearn-color-unfitted-level-0);\n",
       "}\n",
       "\n",
       "#sk-container-id-1 div.sk-toggleable__content.fitted pre {\n",
       "  /* unfitted */\n",
       "  background-color: var(--sklearn-color-fitted-level-0);\n",
       "}\n",
       "\n",
       "#sk-container-id-1 input.sk-toggleable__control:checked~div.sk-toggleable__content {\n",
       "  /* Expand drop-down */\n",
       "  max-height: 200px;\n",
       "  max-width: 100%;\n",
       "  overflow: auto;\n",
       "}\n",
       "\n",
       "#sk-container-id-1 input.sk-toggleable__control:checked~label.sk-toggleable__label-arrow:before {\n",
       "  content: \"▾\";\n",
       "}\n",
       "\n",
       "/* Pipeline/ColumnTransformer-specific style */\n",
       "\n",
       "#sk-container-id-1 div.sk-label input.sk-toggleable__control:checked~label.sk-toggleable__label {\n",
       "  color: var(--sklearn-color-text);\n",
       "  background-color: var(--sklearn-color-unfitted-level-2);\n",
       "}\n",
       "\n",
       "#sk-container-id-1 div.sk-label.fitted input.sk-toggleable__control:checked~label.sk-toggleable__label {\n",
       "  background-color: var(--sklearn-color-fitted-level-2);\n",
       "}\n",
       "\n",
       "/* Estimator-specific style */\n",
       "\n",
       "/* Colorize estimator box */\n",
       "#sk-container-id-1 div.sk-estimator input.sk-toggleable__control:checked~label.sk-toggleable__label {\n",
       "  /* unfitted */\n",
       "  background-color: var(--sklearn-color-unfitted-level-2);\n",
       "}\n",
       "\n",
       "#sk-container-id-1 div.sk-estimator.fitted input.sk-toggleable__control:checked~label.sk-toggleable__label {\n",
       "  /* fitted */\n",
       "  background-color: var(--sklearn-color-fitted-level-2);\n",
       "}\n",
       "\n",
       "#sk-container-id-1 div.sk-label label.sk-toggleable__label,\n",
       "#sk-container-id-1 div.sk-label label {\n",
       "  /* The background is the default theme color */\n",
       "  color: var(--sklearn-color-text-on-default-background);\n",
       "}\n",
       "\n",
       "/* On hover, darken the color of the background */\n",
       "#sk-container-id-1 div.sk-label:hover label.sk-toggleable__label {\n",
       "  color: var(--sklearn-color-text);\n",
       "  background-color: var(--sklearn-color-unfitted-level-2);\n",
       "}\n",
       "\n",
       "/* Label box, darken color on hover, fitted */\n",
       "#sk-container-id-1 div.sk-label.fitted:hover label.sk-toggleable__label.fitted {\n",
       "  color: var(--sklearn-color-text);\n",
       "  background-color: var(--sklearn-color-fitted-level-2);\n",
       "}\n",
       "\n",
       "/* Estimator label */\n",
       "\n",
       "#sk-container-id-1 div.sk-label label {\n",
       "  font-family: monospace;\n",
       "  font-weight: bold;\n",
       "  display: inline-block;\n",
       "  line-height: 1.2em;\n",
       "}\n",
       "\n",
       "#sk-container-id-1 div.sk-label-container {\n",
       "  text-align: center;\n",
       "}\n",
       "\n",
       "/* Estimator-specific */\n",
       "#sk-container-id-1 div.sk-estimator {\n",
       "  font-family: monospace;\n",
       "  border: 1px dotted var(--sklearn-color-border-box);\n",
       "  border-radius: 0.25em;\n",
       "  box-sizing: border-box;\n",
       "  margin-bottom: 0.5em;\n",
       "  /* unfitted */\n",
       "  background-color: var(--sklearn-color-unfitted-level-0);\n",
       "}\n",
       "\n",
       "#sk-container-id-1 div.sk-estimator.fitted {\n",
       "  /* fitted */\n",
       "  background-color: var(--sklearn-color-fitted-level-0);\n",
       "}\n",
       "\n",
       "/* on hover */\n",
       "#sk-container-id-1 div.sk-estimator:hover {\n",
       "  /* unfitted */\n",
       "  background-color: var(--sklearn-color-unfitted-level-2);\n",
       "}\n",
       "\n",
       "#sk-container-id-1 div.sk-estimator.fitted:hover {\n",
       "  /* fitted */\n",
       "  background-color: var(--sklearn-color-fitted-level-2);\n",
       "}\n",
       "\n",
       "/* Specification for estimator info (e.g. \"i\" and \"?\") */\n",
       "\n",
       "/* Common style for \"i\" and \"?\" */\n",
       "\n",
       ".sk-estimator-doc-link,\n",
       "a:link.sk-estimator-doc-link,\n",
       "a:visited.sk-estimator-doc-link {\n",
       "  float: right;\n",
       "  font-size: smaller;\n",
       "  line-height: 1em;\n",
       "  font-family: monospace;\n",
       "  background-color: var(--sklearn-color-background);\n",
       "  border-radius: 1em;\n",
       "  height: 1em;\n",
       "  width: 1em;\n",
       "  text-decoration: none !important;\n",
       "  margin-left: 0.5em;\n",
       "  text-align: center;\n",
       "  /* unfitted */\n",
       "  border: var(--sklearn-color-unfitted-level-1) 1pt solid;\n",
       "  color: var(--sklearn-color-unfitted-level-1);\n",
       "}\n",
       "\n",
       ".sk-estimator-doc-link.fitted,\n",
       "a:link.sk-estimator-doc-link.fitted,\n",
       "a:visited.sk-estimator-doc-link.fitted {\n",
       "  /* fitted */\n",
       "  border: var(--sklearn-color-fitted-level-1) 1pt solid;\n",
       "  color: var(--sklearn-color-fitted-level-1);\n",
       "}\n",
       "\n",
       "/* On hover */\n",
       "div.sk-estimator:hover .sk-estimator-doc-link:hover,\n",
       ".sk-estimator-doc-link:hover,\n",
       "div.sk-label-container:hover .sk-estimator-doc-link:hover,\n",
       ".sk-estimator-doc-link:hover {\n",
       "  /* unfitted */\n",
       "  background-color: var(--sklearn-color-unfitted-level-3);\n",
       "  color: var(--sklearn-color-background);\n",
       "  text-decoration: none;\n",
       "}\n",
       "\n",
       "div.sk-estimator.fitted:hover .sk-estimator-doc-link.fitted:hover,\n",
       ".sk-estimator-doc-link.fitted:hover,\n",
       "div.sk-label-container:hover .sk-estimator-doc-link.fitted:hover,\n",
       ".sk-estimator-doc-link.fitted:hover {\n",
       "  /* fitted */\n",
       "  background-color: var(--sklearn-color-fitted-level-3);\n",
       "  color: var(--sklearn-color-background);\n",
       "  text-decoration: none;\n",
       "}\n",
       "\n",
       "/* Span, style for the box shown on hovering the info icon */\n",
       ".sk-estimator-doc-link span {\n",
       "  display: none;\n",
       "  z-index: 9999;\n",
       "  position: relative;\n",
       "  font-weight: normal;\n",
       "  right: .2ex;\n",
       "  padding: .5ex;\n",
       "  margin: .5ex;\n",
       "  width: min-content;\n",
       "  min-width: 20ex;\n",
       "  max-width: 50ex;\n",
       "  color: var(--sklearn-color-text);\n",
       "  box-shadow: 2pt 2pt 4pt #999;\n",
       "  /* unfitted */\n",
       "  background: var(--sklearn-color-unfitted-level-0);\n",
       "  border: .5pt solid var(--sklearn-color-unfitted-level-3);\n",
       "}\n",
       "\n",
       ".sk-estimator-doc-link.fitted span {\n",
       "  /* fitted */\n",
       "  background: var(--sklearn-color-fitted-level-0);\n",
       "  border: var(--sklearn-color-fitted-level-3);\n",
       "}\n",
       "\n",
       ".sk-estimator-doc-link:hover span {\n",
       "  display: block;\n",
       "}\n",
       "\n",
       "/* \"?\"-specific style due to the `<a>` HTML tag */\n",
       "\n",
       "#sk-container-id-1 a.estimator_doc_link {\n",
       "  float: right;\n",
       "  font-size: 1rem;\n",
       "  line-height: 1em;\n",
       "  font-family: monospace;\n",
       "  background-color: var(--sklearn-color-background);\n",
       "  border-radius: 1rem;\n",
       "  height: 1rem;\n",
       "  width: 1rem;\n",
       "  text-decoration: none;\n",
       "  /* unfitted */\n",
       "  color: var(--sklearn-color-unfitted-level-1);\n",
       "  border: var(--sklearn-color-unfitted-level-1) 1pt solid;\n",
       "}\n",
       "\n",
       "#sk-container-id-1 a.estimator_doc_link.fitted {\n",
       "  /* fitted */\n",
       "  border: var(--sklearn-color-fitted-level-1) 1pt solid;\n",
       "  color: var(--sklearn-color-fitted-level-1);\n",
       "}\n",
       "\n",
       "/* On hover */\n",
       "#sk-container-id-1 a.estimator_doc_link:hover {\n",
       "  /* unfitted */\n",
       "  background-color: var(--sklearn-color-unfitted-level-3);\n",
       "  color: var(--sklearn-color-background);\n",
       "  text-decoration: none;\n",
       "}\n",
       "\n",
       "#sk-container-id-1 a.estimator_doc_link.fitted:hover {\n",
       "  /* fitted */\n",
       "  background-color: var(--sklearn-color-fitted-level-3);\n",
       "}\n",
       "</style><div id=\"sk-container-id-1\" class=\"sk-top-container\"><div class=\"sk-text-repr-fallback\"><pre>DecisionTreeClassifier(max_depth=10, random_state=0)</pre><b>In a Jupyter environment, please rerun this cell to show the HTML representation or trust the notebook. <br />On GitHub, the HTML representation is unable to render, please try loading this page with nbviewer.org.</b></div><div class=\"sk-container\" hidden><div class=\"sk-item\"><div class=\"sk-estimator fitted sk-toggleable\"><input class=\"sk-toggleable__control sk-hidden--visually\" id=\"sk-estimator-id-1\" type=\"checkbox\" checked><label for=\"sk-estimator-id-1\" class=\"sk-toggleable__label fitted sk-toggleable__label-arrow\"><div><div>DecisionTreeClassifier</div></div><div><a class=\"sk-estimator-doc-link fitted\" rel=\"noreferrer\" target=\"_blank\" href=\"https://scikit-learn.org/1.6/modules/generated/sklearn.tree.DecisionTreeClassifier.html\">?<span>Documentation for DecisionTreeClassifier</span></a><span class=\"sk-estimator-doc-link fitted\">i<span>Fitted</span></span></div></label><div class=\"sk-toggleable__content fitted\"><pre>DecisionTreeClassifier(max_depth=10, random_state=0)</pre></div> </div></div></div></div>"
      ],
      "text/plain": [
       "DecisionTreeClassifier(max_depth=10, random_state=0)"
      ]
     },
     "execution_count": 18,
     "metadata": {},
     "output_type": "execute_result"
    }
   ],
   "source": [
    "clf = DecisionTreeClassifier(max_depth=10, random_state=0)\n",
    "clf.fit(X_train, y_train)"
   ]
  },
  {
   "cell_type": "code",
   "execution_count": 19,
   "metadata": {
    "scrolled": true
   },
   "outputs": [
    {
     "data": {
      "text/plain": [
       "[Text(0.5, 0.9444444444444444, 'x[3] <= 0.77\\ngini = 0.665\\nsamples = 112\\nvalue = [37, 34, 41]'),\n",
       " Text(0.4, 0.8333333333333334, 'gini = 0.0\\nsamples = 35\\nvalue = [35, 0, 0]'),\n",
       " Text(0.45, 0.8888888888888888, 'True  '),\n",
       " Text(0.6, 0.8333333333333334, 'x[2] <= 4.9\\ngini = 0.521\\nsamples = 77\\nvalue = [2, 34, 41]'),\n",
       " Text(0.55, 0.8888888888888888, '  False'),\n",
       " Text(0.4, 0.7222222222222222, 'x[0] <= 5.465\\ngini = 0.169\\nsamples = 33\\nvalue = [2, 30, 1]'),\n",
       " Text(0.3, 0.6111111111111112, 'x[1] <= 2.95\\ngini = 0.611\\nsamples = 6\\nvalue = [2, 3, 1]'),\n",
       " Text(0.2, 0.5, 'x[3] <= 1.47\\ngini = 0.375\\nsamples = 4\\nvalue = [0, 3, 1]'),\n",
       " Text(0.1, 0.3888888888888889, 'gini = 0.0\\nsamples = 3\\nvalue = [0, 3, 0]'),\n",
       " Text(0.3, 0.3888888888888889, 'gini = 0.0\\nsamples = 1\\nvalue = [0, 0, 1]'),\n",
       " Text(0.4, 0.5, 'gini = 0.0\\nsamples = 2\\nvalue = [2, 0, 0]'),\n",
       " Text(0.5, 0.6111111111111112, 'gini = 0.0\\nsamples = 27\\nvalue = [0, 27, 0]'),\n",
       " Text(0.8, 0.7222222222222222, 'x[3] <= 1.9\\ngini = 0.165\\nsamples = 44\\nvalue = [0, 4, 40]'),\n",
       " Text(0.7, 0.6111111111111112, 'x[2] <= 5.45\\ngini = 0.408\\nsamples = 14\\nvalue = [0, 4, 10]'),\n",
       " Text(0.6, 0.5, 'x[0] <= 6.55\\ngini = 0.494\\nsamples = 9\\nvalue = [0, 4, 5]'),\n",
       " Text(0.5, 0.3888888888888889, 'x[1] <= 3.1\\ngini = 0.408\\nsamples = 7\\nvalue = [0, 2, 5]'),\n",
       " Text(0.4, 0.2777777777777778, 'x[1] <= 2.6\\ngini = 0.278\\nsamples = 6\\nvalue = [0, 1, 5]'),\n",
       " Text(0.3, 0.16666666666666666, 'x[0] <= 6.28\\ngini = 0.5\\nsamples = 2\\nvalue = [0, 1, 1]'),\n",
       " Text(0.2, 0.05555555555555555, 'gini = 0.0\\nsamples = 1\\nvalue = [0, 0, 1]'),\n",
       " Text(0.4, 0.05555555555555555, 'gini = 0.0\\nsamples = 1\\nvalue = [0, 1, 0]'),\n",
       " Text(0.5, 0.16666666666666666, 'gini = 0.0\\nsamples = 4\\nvalue = [0, 0, 4]'),\n",
       " Text(0.6, 0.2777777777777778, 'gini = 0.0\\nsamples = 1\\nvalue = [0, 1, 0]'),\n",
       " Text(0.7, 0.3888888888888889, 'gini = 0.0\\nsamples = 2\\nvalue = [0, 2, 0]'),\n",
       " Text(0.8, 0.5, 'gini = 0.0\\nsamples = 5\\nvalue = [0, 0, 5]'),\n",
       " Text(0.9, 0.6111111111111112, 'gini = 0.0\\nsamples = 30\\nvalue = [0, 0, 30]')]"
      ]
     },
     "execution_count": 19,
     "metadata": {},
     "output_type": "execute_result"
    },
    {
     "data": {
      "image/png": "[encoded data removed]",
      "text/plain": [
       "<Figure size 640x480 with 1 Axes>"
      ]
     },
     "metadata": {},
     "output_type": "display_data"
    }
   ],
   "source": [
    "tree.plot_tree(clf)"
   ]
  },
  {
   "cell_type": "markdown",
   "metadata": {},
   "source": [
    "## Essai .fit() :"
   ]
  },
  {
   "cell_type": "code",
   "execution_count": 20,
   "metadata": {},
   "outputs": [
    {
     "data": {
      "text/plain": [
       "'|--- petal width (cm) <= 0.77\\n|   |--- weights: [35.00, 0.00, 0.00] class: 0\\n|--- petal width (cm) >  0.77\\n|   |--- petal length (cm) <= 4.90\\n|   |   |--- sepal length (cm) <= 5.46\\n|   |   |   |--- sepal width (cm) <= 2.95\\n|   |   |   |   |--- petal width (cm) <= 1.47\\n|   |   |   |   |   |--- weights: [0.00, 3.00, 0.00] class: 1\\n|   |   |   |   |--- petal width (cm) >  1.47\\n|   |   |   |   |   |--- weights: [0.00, 0.00, 1.00] class: 2\\n|   |   |   |--- sepal width (cm) >  2.95\\n|   |   |   |   |--- weights: [2.00, 0.00, 0.00] class: 0\\n|   |   |--- sepal length (cm) >  5.46\\n|   |   |   |--- weights: [0.00, 27.00, 0.00] class: 1\\n|   |--- petal length (cm) >  4.90\\n|   |   |--- petal width (cm) <= 1.90\\n|   |   |   |--- petal length (cm) <= 5.45\\n|   |   |   |   |--- sepal length (cm) <= 6.55\\n|   |   |   |   |   |--- sepal width (cm) <= 3.10\\n|   |   |   |   |   |   |--- sepal width (cm) <= 2.60\\n|   |   |   |   |   |   |   |--- sepal length (cm) <= 6.28\\n|   |   |   |   |   |   |   |   |--- weights: [0.00, 0.00, 1.00] class: 2\\n|   |   |   |   |   |   |   |--- sepal length (cm) >  6.28\\n|   |   |   |   |   |   |   |   |--- weights: [0.00, 1.00, 0.00] class: 1\\n|   |   |   |   |   |   |--- sepal width (cm) >  2.60\\n|   |   |   |   |   |   |   |--- weights: [0.00, 0.00, 4.00] class: 2\\n|   |   |   |   |   |--- sepal width (cm) >  3.10\\n|   |   |   |   |   |   |--- weights: [0.00, 1.00, 0.00] class: 1\\n|   |   |   |   |--- sepal length (cm) >  6.55\\n|   |   |   |   |   |--- weights: [0.00, 2.00, 0.00] class: 1\\n|   |   |   |--- petal length (cm) >  5.45\\n|   |   |   |   |--- weights: [0.00, 0.00, 5.00] class: 2\\n|   |   |--- petal width (cm) >  1.90\\n|   |   |   |--- weights: [0.00, 0.00, 30.00] class: 2\\n'"
      ]
     },
     "execution_count": 20,
     "metadata": {},
     "output_type": "execute_result"
    }
   ],
   "source": [
    "rule = export_text(clf,feature_names=iris.feature_names,show_weights=True,max_depth=10)\n",
    "rule"
   ]
  },
  {
   "cell_type": "code",
   "execution_count": 21,
   "metadata": {
    "scrolled": true
   },
   "outputs": [
    {
     "data": {
      "text/plain": [
       "'-'"
      ]
     },
     "execution_count": 21,
     "metadata": {},
     "output_type": "execute_result"
    }
   ],
   "source": [
    "rule[1]"
   ]
  },
  {
   "cell_type": "code",
   "execution_count": 22,
   "metadata": {
    "scrolled": true
   },
   "outputs": [
    {
     "name": "stdout",
     "output_type": "stream",
     "text": [
      "|--- petal width (cm) <= 0.77\n",
      "|   |--- weights: [35.00, 0.00, 0.00] class: 0\n",
      "|--- petal width (cm) >  0.77\n",
      "|   |--- petal length (cm) <= 4.90\n",
      "|   |   |--- sepal length (cm) <= 5.46\n",
      "|   |   |   |--- sepal width (cm) <= 2.95\n",
      "|   |   |   |   |--- petal width (cm) <= 1.47\n",
      "|   |   |   |   |   |--- weights: [0.00, 3.00, 0.00] class: 1\n",
      "|   |   |   |   |--- petal width (cm) >  1.47\n",
      "|   |   |   |   |   |--- weights: [0.00, 0.00, 1.00] class: 2\n",
      "|   |   |   |--- sepal width (cm) >  2.95\n",
      "|   |   |   |   |--- weights: [2.00, 0.00, 0.00] class: 0\n",
      "|   |   |--- sepal length (cm) >  5.46\n",
      "|   |   |   |--- weights: [0.00, 27.00, 0.00] class: 1\n",
      "|   |--- petal length (cm) >  4.90\n",
      "|   |   |--- petal width (cm) <= 1.90\n",
      "|   |   |   |--- petal length (cm) <= 5.45\n",
      "|   |   |   |   |--- sepal length (cm) <= 6.55\n",
      "|   |   |   |   |   |--- sepal width (cm) <= 3.10\n",
      "|   |   |   |   |   |   |--- sepal width (cm) <= 2.60\n",
      "|   |   |   |   |   |   |   |--- sepal length (cm) <= 6.28\n",
      "|   |   |   |   |   |   |   |   |--- weights: [0.00, 0.00, 1.00] class: 2\n",
      "|   |   |   |   |   |   |   |--- sepal length (cm) >  6.28\n",
      "|   |   |   |   |   |   |   |   |--- weights: [0.00, 1.00, 0.00] class: 1\n",
      "|   |   |   |   |   |   |--- sepal width (cm) >  2.60\n",
      "|   |   |   |   |   |   |   |--- weights: [0.00, 0.00, 4.00] class: 2\n",
      "|   |   |   |   |   |--- sepal width (cm) >  3.10\n",
      "|   |   |   |   |   |   |--- weights: [0.00, 1.00, 0.00] class: 1\n",
      "|   |   |   |   |--- sepal length (cm) >  6.55\n",
      "|   |   |   |   |   |--- weights: [0.00, 2.00, 0.00] class: 1\n",
      "|   |   |   |--- petal length (cm) >  5.45\n",
      "|   |   |   |   |--- weights: [0.00, 0.00, 5.00] class: 2\n",
      "|   |   |--- petal width (cm) >  1.90\n",
      "|   |   |   |--- weights: [0.00, 0.00, 30.00] class: 2\n",
      "\n"
     ]
    }
   ],
   "source": [
    "print(rule)"
   ]
  },
  {
   "cell_type": "code",
   "execution_count": 23,
   "metadata": {
    "scrolled": true
   },
   "outputs": [
    {
     "name": "stdout",
     "output_type": "stream",
     "text": [
      "[[0.33035714 0.30357143 0.36607143]]\n",
      "0 NODE: if feature[3] < 0.7699999958276749 then next=1 else next=2\n",
      "[[1. 0. 0.]]\n",
      "1 LEAF: return class=0\n",
      "[[0.02597403 0.44155844 0.53246753]]\n",
      "2 NODE: if feature[2] < 4.8999998569488525 then next=3 else next=10\n",
      "[[0.06060606 0.90909091 0.03030303]]\n",
      "3 NODE: if feature[0] < 5.4649999141693115 then next=4 else next=9\n",
      "[[0.33333333 0.5        0.16666667]]\n",
      "4 NODE: if feature[1] < 2.950000047683716 then next=5 else next=8\n",
      "[[0.   0.75 0.25]]\n",
      "5 NODE: if feature[3] < 1.4699999690055847 then next=6 else next=7\n",
      "[[0. 1. 0.]]\n",
      "6 LEAF: return class=1\n",
      "[[0. 0. 1.]]\n",
      "7 LEAF: return class=2\n",
      "[[1. 0. 0.]]\n",
      "8 LEAF: return class=0\n",
      "[[0. 1. 0.]]\n",
      "9 LEAF: return class=1\n",
      "[[0.         0.09090909 0.90909091]]\n",
      "10 NODE: if feature[3] < 1.899999976158142 then next=11 else next=22\n",
      "[[0.         0.28571429 0.71428571]]\n",
      "11 NODE: if feature[2] < 5.450000047683716 then next=12 else next=21\n",
      "[[0.         0.44444444 0.55555556]]\n",
      "12 NODE: if feature[0] < 6.549999952316284 then next=13 else next=20\n",
      "[[0.         0.28571429 0.71428571]]\n",
      "13 NODE: if feature[1] < 3.100000023841858 then next=14 else next=19\n",
      "[[0.         0.16666667 0.83333333]]\n",
      "14 NODE: if feature[1] < 2.600000023841858 then next=15 else next=18\n",
      "[[0.  0.5 0.5]]\n",
      "15 NODE: if feature[0] < 6.2799999713897705 then next=16 else next=17\n",
      "[[0. 0. 1.]]\n",
      "16 LEAF: return class=2\n",
      "[[0. 1. 0.]]\n",
      "17 LEAF: return class=1\n",
      "[[0. 0. 1.]]\n",
      "18 LEAF: return class=2\n",
      "[[0. 1. 0.]]\n",
      "19 LEAF: return class=1\n",
      "[[0. 1. 0.]]\n",
      "20 LEAF: return class=1\n",
      "[[0. 0. 1.]]\n",
      "21 LEAF: return class=2\n",
      "[[0. 0. 1.]]\n",
      "22 LEAF: return class=2\n"
     ]
    }
   ],
   "source": [
    "tree = clf.tree_\n",
    "iterator = enumerate(zip(tree.children_left, tree.children_right, tree.feature, tree.threshold, tree.value))\n",
    "for node_idx, data in iterator:\n",
    "    left, right, feature, th, value = data\n",
    "\n",
    "    # left: index of left child (if any)\n",
    "    # right: index of right child (if any)\n",
    "    # feature: index of the feature to check\n",
    "    # th: the threshold to compare against\n",
    "    # value: values associated with classes            \n",
    "\n",
    "    # for classifier, value is 0 except the index of the class to return\n",
    "    print(value)\n",
    "    class_idx = np.argmax(value[0])\n",
    "\n",
    "    if left == -1 and right == -1:\n",
    "        print('{} LEAF: return class={}'.format(node_idx, class_idx))\n",
    "    else:\n",
    "        print('{} NODE: if feature[{}] < {} then next={} else next={}'.format(node_idx, feature, th, left, right)) "
   ]
  },
  {
   "cell_type": "code",
   "execution_count": 24,
   "metadata": {},
   "outputs": [
    {
     "data": {
      "text/plain": [
       "True"
      ]
     },
     "execution_count": 24,
     "metadata": {},
     "output_type": "execute_result"
    }
   ],
   "source": [
    "(5,2,'R') == (5,2,'R')"
   ]
  },
  {
   "cell_type": "code",
   "execution_count": 25,
   "metadata": {},
   "outputs": [
    {
     "data": {
      "text/plain": [
       "1"
      ]
     },
     "execution_count": 25,
     "metadata": {},
     "output_type": "execute_result"
    }
   ],
   "source": [
    "tree.children_left[0]"
   ]
  },
  {
   "cell_type": "code",
   "execution_count": 26,
   "metadata": {},
   "outputs": [
    {
     "data": {
      "text/plain": [
       "8"
      ]
     },
     "execution_count": 26,
     "metadata": {},
     "output_type": "execute_result"
    }
   ],
   "source": [
    "tree.max_depth"
   ]
  },
  {
   "cell_type": "markdown",
   "metadata": {},
   "source": [
    "## Functions :"
   ]
  },
  {
   "cell_type": "code",
   "execution_count": 27,
   "metadata": {},
   "outputs": [],
   "source": [
    "def explore_tree(tree,node_id,side):\n",
    "    if tree.children_left[node_id] != _tree.TREE_LEAF: # possible to add a max_depth constraint exploration value\n",
    "        id_left_child = tree.children_left[node_id]\n",
    "        id_right_child = tree.children_right[node_id]\n",
    "        #children = [\n",
    "        #        (tree.feature[id_left_child],tree.threshold[id_left_child],'L'),\n",
    "        #        (tree.feature[id_right_child],tree.threshold[id_right_child],'R'),\n",
    "        #        ]\n",
    "        children = [\n",
    "            explore_tree(tree,id_left_child,'L'),\n",
    "            explore_tree(tree,id_right_child,'R')\n",
    "        ]\n",
    "    else:\n",
    "        return Node(feature=tree.feature[node_id],treshold=tree.threshold[node_id],side=side,node_id=node_id)\n",
    "    \n",
    "    return Node(tree.feature[node_id],tree.threshold[node_id],side,node_id,*children)"
   ]
  },
  {
   "cell_type": "code",
   "execution_count": 28,
   "metadata": {},
   "outputs": [],
   "source": [
    "res = explore_tree(tree=tree,node_id=0,side='Root')\n"
   ]
  },
  {
   "cell_type": "code",
   "execution_count": 29,
   "metadata": {},
   "outputs": [
    {
     "data": {
      "text/plain": [
       "(<pysirus.models.basic.Node at 0x7dccc9b04ad0>,\n",
       " <pysirus.models.basic.Node at 0x7dccc9b05e90>)"
      ]
     },
     "execution_count": 29,
     "metadata": {},
     "output_type": "execute_result"
    }
   ],
   "source": [
    "res.children"
   ]
  },
  {
   "cell_type": "code",
   "execution_count": 30,
   "metadata": {},
   "outputs": [
    {
     "data": {
      "text/plain": [
       "-2"
      ]
     },
     "execution_count": 30,
     "metadata": {},
     "output_type": "execute_result"
    }
   ],
   "source": [
    "res.children[0].feature\n",
    "\n"
   ]
  },
  {
   "cell_type": "raw",
   "metadata": {},
   "source": [
    "def generate_longest_chain_rules(tree,rule,tree_structure=[[]]):\n",
    "    \n",
    "    \n",
    "    # = [[rule_left],[rule_right]]\n",
    "    if rule.feature != -2:\n",
    "        rule_left = (rule.feature,rule.treshold,'L')\n",
    "        rule_right = (rule.feature,rule.treshold,'R')\n",
    "        n_rules = len(tree_structure)\n",
    "        tree_structure.extend(tree_structure)\n",
    "        for j in range(n_rules):\n",
    "            tree_structure[j].append(rule_left)\n",
    "            tree_structure[j+n_rules].append(rule_right)\n",
    "\n",
    "        #generate_longest_chain_rules(tree,rule,tree_structure=[[]])\n",
    "    else:\n",
    "        return tree_structure\n",
    "    \n",
    "    "
   ]
  },
  {
   "cell_type": "code",
   "execution_count": 31,
   "metadata": {},
   "outputs": [],
   "source": [
    "tree_structure = [[]]\n",
    "stack = [(res,0)]  # start with the root node id (0) and its depth (0)\n",
    "depth = 0\n",
    "while len(stack) > 0:\n",
    "    curr_rule,indice_in_tree_struct = stack.pop()\n",
    "    is_split_node = (curr_rule.feature != -2)\n",
    "\n",
    "    if is_split_node:\n",
    "        rule_left = (curr_rule.feature,curr_rule.treshold,'L')\n",
    "        rule_right = (curr_rule.feature,curr_rule.treshold,'R')\n",
    "        common_path_rules = tree_structure[indice_in_tree_struct].copy()\n",
    "        common_path_rules.append(rule_right)\n",
    "        tree_structure.append(common_path_rules) ## DROITE : Ajouté à la fin\n",
    "        tree_structure[indice_in_tree_struct].append(rule_left) ## GAUCHE  : On le rajoute selon indice_in_tree_struct\n",
    "\n",
    "        stack.append((curr_rule.children[0],indice_in_tree_struct))\n",
    "        stack.append(( curr_rule.children[1],len(tree_structure)-1 ))\n",
    "    else:\n",
    "        #print('c')\n",
    "        continue"
   ]
  },
  {
   "cell_type": "code",
   "execution_count": 32,
   "metadata": {
    "scrolled": true
   },
   "outputs": [
    {
     "data": {
      "text/plain": [
       "[[(3, 0.7699999958276749, 'L')],\n",
       " [(3, 0.7699999958276749, 'R'),\n",
       "  (2, 4.8999998569488525, 'L'),\n",
       "  (0, 5.4649999141693115, 'L'),\n",
       "  (1, 2.950000047683716, 'L'),\n",
       "  (3, 1.4699999690055847, 'L')],\n",
       " [(3, 0.7699999958276749, 'R'),\n",
       "  (2, 4.8999998569488525, 'R'),\n",
       "  (3, 1.899999976158142, 'L'),\n",
       "  (2, 5.450000047683716, 'L'),\n",
       "  (0, 6.549999952316284, 'L'),\n",
       "  (1, 3.100000023841858, 'L'),\n",
       "  (1, 2.600000023841858, 'L'),\n",
       "  (0, 6.2799999713897705, 'L')],\n",
       " [(3, 0.7699999958276749, 'R'),\n",
       "  (2, 4.8999998569488525, 'R'),\n",
       "  (3, 1.899999976158142, 'R')],\n",
       " [(3, 0.7699999958276749, 'R'),\n",
       "  (2, 4.8999998569488525, 'R'),\n",
       "  (3, 1.899999976158142, 'L'),\n",
       "  (2, 5.450000047683716, 'R')],\n",
       " [(3, 0.7699999958276749, 'R'),\n",
       "  (2, 4.8999998569488525, 'R'),\n",
       "  (3, 1.899999976158142, 'L'),\n",
       "  (2, 5.450000047683716, 'L'),\n",
       "  (0, 6.549999952316284, 'R')],\n",
       " [(3, 0.7699999958276749, 'R'),\n",
       "  (2, 4.8999998569488525, 'R'),\n",
       "  (3, 1.899999976158142, 'L'),\n",
       "  (2, 5.450000047683716, 'L'),\n",
       "  (0, 6.549999952316284, 'L'),\n",
       "  (1, 3.100000023841858, 'R')],\n",
       " [(3, 0.7699999958276749, 'R'),\n",
       "  (2, 4.8999998569488525, 'R'),\n",
       "  (3, 1.899999976158142, 'L'),\n",
       "  (2, 5.450000047683716, 'L'),\n",
       "  (0, 6.549999952316284, 'L'),\n",
       "  (1, 3.100000023841858, 'L'),\n",
       "  (1, 2.600000023841858, 'R')],\n",
       " [(3, 0.7699999958276749, 'R'),\n",
       "  (2, 4.8999998569488525, 'R'),\n",
       "  (3, 1.899999976158142, 'L'),\n",
       "  (2, 5.450000047683716, 'L'),\n",
       "  (0, 6.549999952316284, 'L'),\n",
       "  (1, 3.100000023841858, 'L'),\n",
       "  (1, 2.600000023841858, 'L'),\n",
       "  (0, 6.2799999713897705, 'R')],\n",
       " [(3, 0.7699999958276749, 'R'),\n",
       "  (2, 4.8999998569488525, 'L'),\n",
       "  (0, 5.4649999141693115, 'R')],\n",
       " [(3, 0.7699999958276749, 'R'),\n",
       "  (2, 4.8999998569488525, 'L'),\n",
       "  (0, 5.4649999141693115, 'L'),\n",
       "  (1, 2.950000047683716, 'R')],\n",
       " [(3, 0.7699999958276749, 'R'),\n",
       "  (2, 4.8999998569488525, 'L'),\n",
       "  (0, 5.4649999141693115, 'L'),\n",
       "  (1, 2.950000047683716, 'L'),\n",
       "  (3, 1.4699999690055847, 'R')]]"
      ]
     },
     "execution_count": 32,
     "metadata": {},
     "output_type": "execute_result"
    }
   ],
   "source": [
    "tree_structure"
   ]
  },
  {
   "cell_type": "code",
   "execution_count": 33,
   "metadata": {},
   "outputs": [
    {
     "data": {
      "text/plain": [
       "12"
      ]
     },
     "execution_count": 33,
     "metadata": {},
     "output_type": "execute_result"
    }
   ],
   "source": [
    "len(tree_structure)"
   ]
  },
  {
   "cell_type": "code",
   "execution_count": 34,
   "metadata": {},
   "outputs": [],
   "source": [
    "all_paths_list = []\n",
    "for i in range(len(tree_structure)):\n",
    "    #print('*****'*10)\n",
    "    #print(tree_structure[i])\n",
    "    max_size_curr_path = len(tree_structure[i])\n",
    "    #for k in range()\n",
    "    for j in range(max_size_curr_path): ## fonction\n",
    "        #print('####')\n",
    "        #print('curr sous path :', tree_structure[i][:(max_size_curr_path-j)])\n",
    "        all_paths_list.append(tree_structure[i][:(max_size_curr_path-j)])"
   ]
  },
  {
   "cell_type": "code",
   "execution_count": 35,
   "metadata": {
    "scrolled": true
   },
   "outputs": [
    {
     "data": {
      "text/plain": [
       "[[(3, 0.7699999958276749, 'L')],\n",
       " [(3, 0.7699999958276749, 'R'),\n",
       "  (2, 4.8999998569488525, 'L'),\n",
       "  (0, 5.4649999141693115, 'L'),\n",
       "  (1, 2.950000047683716, 'L'),\n",
       "  (3, 1.4699999690055847, 'L')],\n",
       " [(3, 0.7699999958276749, 'R'),\n",
       "  (2, 4.8999998569488525, 'L'),\n",
       "  (0, 5.4649999141693115, 'L'),\n",
       "  (1, 2.950000047683716, 'L')],\n",
       " [(3, 0.7699999958276749, 'R'),\n",
       "  (2, 4.8999998569488525, 'L'),\n",
       "  (0, 5.4649999141693115, 'L')],\n",
       " [(3, 0.7699999958276749, 'R'), (2, 4.8999998569488525, 'L')],\n",
       " [(3, 0.7699999958276749, 'R')],\n",
       " [(3, 0.7699999958276749, 'R'),\n",
       "  (2, 4.8999998569488525, 'R'),\n",
       "  (3, 1.899999976158142, 'L'),\n",
       "  (2, 5.450000047683716, 'L'),\n",
       "  (0, 6.549999952316284, 'L'),\n",
       "  (1, 3.100000023841858, 'L'),\n",
       "  (1, 2.600000023841858, 'L'),\n",
       "  (0, 6.2799999713897705, 'L')],\n",
       " [(3, 0.7699999958276749, 'R'),\n",
       "  (2, 4.8999998569488525, 'R'),\n",
       "  (3, 1.899999976158142, 'L'),\n",
       "  (2, 5.450000047683716, 'L'),\n",
       "  (0, 6.549999952316284, 'L'),\n",
       "  (1, 3.100000023841858, 'L'),\n",
       "  (1, 2.600000023841858, 'L')],\n",
       " [(3, 0.7699999958276749, 'R'),\n",
       "  (2, 4.8999998569488525, 'R'),\n",
       "  (3, 1.899999976158142, 'L'),\n",
       "  (2, 5.450000047683716, 'L'),\n",
       "  (0, 6.549999952316284, 'L'),\n",
       "  (1, 3.100000023841858, 'L')],\n",
       " [(3, 0.7699999958276749, 'R'),\n",
       "  (2, 4.8999998569488525, 'R'),\n",
       "  (3, 1.899999976158142, 'L'),\n",
       "  (2, 5.450000047683716, 'L'),\n",
       "  (0, 6.549999952316284, 'L')],\n",
       " [(3, 0.7699999958276749, 'R'),\n",
       "  (2, 4.8999998569488525, 'R'),\n",
       "  (3, 1.899999976158142, 'L'),\n",
       "  (2, 5.450000047683716, 'L')],\n",
       " [(3, 0.7699999958276749, 'R'),\n",
       "  (2, 4.8999998569488525, 'R'),\n",
       "  (3, 1.899999976158142, 'L')],\n",
       " [(3, 0.7699999958276749, 'R'), (2, 4.8999998569488525, 'R')],\n",
       " [(3, 0.7699999958276749, 'R')],\n",
       " [(3, 0.7699999958276749, 'R'),\n",
       "  (2, 4.8999998569488525, 'R'),\n",
       "  (3, 1.899999976158142, 'R')],\n",
       " [(3, 0.7699999958276749, 'R'), (2, 4.8999998569488525, 'R')],\n",
       " [(3, 0.7699999958276749, 'R')],\n",
       " [(3, 0.7699999958276749, 'R'),\n",
       "  (2, 4.8999998569488525, 'R'),\n",
       "  (3, 1.899999976158142, 'L'),\n",
       "  (2, 5.450000047683716, 'R')],\n",
       " [(3, 0.7699999958276749, 'R'),\n",
       "  (2, 4.8999998569488525, 'R'),\n",
       "  (3, 1.899999976158142, 'L')],\n",
       " [(3, 0.7699999958276749, 'R'), (2, 4.8999998569488525, 'R')],\n",
       " [(3, 0.7699999958276749, 'R')],\n",
       " [(3, 0.7699999958276749, 'R'),\n",
       "  (2, 4.8999998569488525, 'R'),\n",
       "  (3, 1.899999976158142, 'L'),\n",
       "  (2, 5.450000047683716, 'L'),\n",
       "  (0, 6.549999952316284, 'R')],\n",
       " [(3, 0.7699999958276749, 'R'),\n",
       "  (2, 4.8999998569488525, 'R'),\n",
       "  (3, 1.899999976158142, 'L'),\n",
       "  (2, 5.450000047683716, 'L')],\n",
       " [(3, 0.7699999958276749, 'R'),\n",
       "  (2, 4.8999998569488525, 'R'),\n",
       "  (3, 1.899999976158142, 'L')],\n",
       " [(3, 0.7699999958276749, 'R'), (2, 4.8999998569488525, 'R')],\n",
       " [(3, 0.7699999958276749, 'R')],\n",
       " [(3, 0.7699999958276749, 'R'),\n",
       "  (2, 4.8999998569488525, 'R'),\n",
       "  (3, 1.899999976158142, 'L'),\n",
       "  (2, 5.450000047683716, 'L'),\n",
       "  (0, 6.549999952316284, 'L'),\n",
       "  (1, 3.100000023841858, 'R')],\n",
       " [(3, 0.7699999958276749, 'R'),\n",
       "  (2, 4.8999998569488525, 'R'),\n",
       "  (3, 1.899999976158142, 'L'),\n",
       "  (2, 5.450000047683716, 'L'),\n",
       "  (0, 6.549999952316284, 'L')],\n",
       " [(3, 0.7699999958276749, 'R'),\n",
       "  (2, 4.8999998569488525, 'R'),\n",
       "  (3, 1.899999976158142, 'L'),\n",
       "  (2, 5.450000047683716, 'L')],\n",
       " [(3, 0.7699999958276749, 'R'),\n",
       "  (2, 4.8999998569488525, 'R'),\n",
       "  (3, 1.899999976158142, 'L')],\n",
       " [(3, 0.7699999958276749, 'R'), (2, 4.8999998569488525, 'R')],\n",
       " [(3, 0.7699999958276749, 'R')],\n",
       " [(3, 0.7699999958276749, 'R'),\n",
       "  (2, 4.8999998569488525, 'R'),\n",
       "  (3, 1.899999976158142, 'L'),\n",
       "  (2, 5.450000047683716, 'L'),\n",
       "  (0, 6.549999952316284, 'L'),\n",
       "  (1, 3.100000023841858, 'L'),\n",
       "  (1, 2.600000023841858, 'R')],\n",
       " [(3, 0.7699999958276749, 'R'),\n",
       "  (2, 4.8999998569488525, 'R'),\n",
       "  (3, 1.899999976158142, 'L'),\n",
       "  (2, 5.450000047683716, 'L'),\n",
       "  (0, 6.549999952316284, 'L'),\n",
       "  (1, 3.100000023841858, 'L')],\n",
       " [(3, 0.7699999958276749, 'R'),\n",
       "  (2, 4.8999998569488525, 'R'),\n",
       "  (3, 1.899999976158142, 'L'),\n",
       "  (2, 5.450000047683716, 'L'),\n",
       "  (0, 6.549999952316284, 'L')],\n",
       " [(3, 0.7699999958276749, 'R'),\n",
       "  (2, 4.8999998569488525, 'R'),\n",
       "  (3, 1.899999976158142, 'L'),\n",
       "  (2, 5.450000047683716, 'L')],\n",
       " [(3, 0.7699999958276749, 'R'),\n",
       "  (2, 4.8999998569488525, 'R'),\n",
       "  (3, 1.899999976158142, 'L')],\n",
       " [(3, 0.7699999958276749, 'R'), (2, 4.8999998569488525, 'R')],\n",
       " [(3, 0.7699999958276749, 'R')],\n",
       " [(3, 0.7699999958276749, 'R'),\n",
       "  (2, 4.8999998569488525, 'R'),\n",
       "  (3, 1.899999976158142, 'L'),\n",
       "  (2, 5.450000047683716, 'L'),\n",
       "  (0, 6.549999952316284, 'L'),\n",
       "  (1, 3.100000023841858, 'L'),\n",
       "  (1, 2.600000023841858, 'L'),\n",
       "  (0, 6.2799999713897705, 'R')],\n",
       " [(3, 0.7699999958276749, 'R'),\n",
       "  (2, 4.8999998569488525, 'R'),\n",
       "  (3, 1.899999976158142, 'L'),\n",
       "  (2, 5.450000047683716, 'L'),\n",
       "  (0, 6.549999952316284, 'L'),\n",
       "  (1, 3.100000023841858, 'L'),\n",
       "  (1, 2.600000023841858, 'L')],\n",
       " [(3, 0.7699999958276749, 'R'),\n",
       "  (2, 4.8999998569488525, 'R'),\n",
       "  (3, 1.899999976158142, 'L'),\n",
       "  (2, 5.450000047683716, 'L'),\n",
       "  (0, 6.549999952316284, 'L'),\n",
       "  (1, 3.100000023841858, 'L')],\n",
       " [(3, 0.7699999958276749, 'R'),\n",
       "  (2, 4.8999998569488525, 'R'),\n",
       "  (3, 1.899999976158142, 'L'),\n",
       "  (2, 5.450000047683716, 'L'),\n",
       "  (0, 6.549999952316284, 'L')],\n",
       " [(3, 0.7699999958276749, 'R'),\n",
       "  (2, 4.8999998569488525, 'R'),\n",
       "  (3, 1.899999976158142, 'L'),\n",
       "  (2, 5.450000047683716, 'L')],\n",
       " [(3, 0.7699999958276749, 'R'),\n",
       "  (2, 4.8999998569488525, 'R'),\n",
       "  (3, 1.899999976158142, 'L')],\n",
       " [(3, 0.7699999958276749, 'R'), (2, 4.8999998569488525, 'R')],\n",
       " [(3, 0.7699999958276749, 'R')],\n",
       " [(3, 0.7699999958276749, 'R'),\n",
       "  (2, 4.8999998569488525, 'L'),\n",
       "  (0, 5.4649999141693115, 'R')],\n",
       " [(3, 0.7699999958276749, 'R'), (2, 4.8999998569488525, 'L')],\n",
       " [(3, 0.7699999958276749, 'R')],\n",
       " [(3, 0.7699999958276749, 'R'),\n",
       "  (2, 4.8999998569488525, 'L'),\n",
       "  (0, 5.4649999141693115, 'L'),\n",
       "  (1, 2.950000047683716, 'R')],\n",
       " [(3, 0.7699999958276749, 'R'),\n",
       "  (2, 4.8999998569488525, 'L'),\n",
       "  (0, 5.4649999141693115, 'L')],\n",
       " [(3, 0.7699999958276749, 'R'), (2, 4.8999998569488525, 'L')],\n",
       " [(3, 0.7699999958276749, 'R')],\n",
       " [(3, 0.7699999958276749, 'R'),\n",
       "  (2, 4.8999998569488525, 'L'),\n",
       "  (0, 5.4649999141693115, 'L'),\n",
       "  (1, 2.950000047683716, 'L'),\n",
       "  (3, 1.4699999690055847, 'R')],\n",
       " [(3, 0.7699999958276749, 'R'),\n",
       "  (2, 4.8999998569488525, 'L'),\n",
       "  (0, 5.4649999141693115, 'L'),\n",
       "  (1, 2.950000047683716, 'L')],\n",
       " [(3, 0.7699999958276749, 'R'),\n",
       "  (2, 4.8999998569488525, 'L'),\n",
       "  (0, 5.4649999141693115, 'L')],\n",
       " [(3, 0.7699999958276749, 'R'), (2, 4.8999998569488525, 'L')],\n",
       " [(3, 0.7699999958276749, 'R')]]"
      ]
     },
     "execution_count": 35,
     "metadata": {},
     "output_type": "execute_result"
    }
   ],
   "source": [
    "all_paths_list"
   ]
  },
  {
   "cell_type": "code",
   "execution_count": 36,
   "metadata": {
    "scrolled": true
   },
   "outputs": [
    {
     "name": "stdout",
     "output_type": "stream",
     "text": [
      "**************************************************\n",
      "ici :  [[(3, 0.7699999958276749, 'L')]]\n",
      "SKIIIIP\n",
      "**************************************************\n",
      "ici :  [[(3, 0.7699999958276749, 'R'), (2, 4.8999998569488525, 'L'), (0, 5.4649999141693115, 'L'), (1, 2.950000047683716, 'L'), (3, 1.4699999690055847, 'L')], [(3, 0.7699999958276749, 'R'), (2, 4.8999998569488525, 'L'), (0, 5.4649999141693115, 'L'), (1, 2.950000047683716, 'L')], [(3, 0.7699999958276749, 'R'), (2, 4.8999998569488525, 'L'), (0, 5.4649999141693115, 'L')], [(3, 0.7699999958276749, 'R'), (2, 4.8999998569488525, 'L')], [(3, 0.7699999958276749, 'R')]]\n",
      "ici :  [[(2, 4.8999998569488525, 'L'), (0, 5.4649999141693115, 'L'), (1, 2.950000047683716, 'L'), (3, 1.4699999690055847, 'L')], [(2, 4.8999998569488525, 'L'), (0, 5.4649999141693115, 'L'), (1, 2.950000047683716, 'L')], [(2, 4.8999998569488525, 'L'), (0, 5.4649999141693115, 'L')], [(2, 4.8999998569488525, 'L')]]\n",
      "ici :  [[(0, 5.4649999141693115, 'L'), (1, 2.950000047683716, 'L'), (3, 1.4699999690055847, 'L')], [(0, 5.4649999141693115, 'L'), (1, 2.950000047683716, 'L')], [(0, 5.4649999141693115, 'L')]]\n",
      "ici :  [[(1, 2.950000047683716, 'L'), (3, 1.4699999690055847, 'L')], [(1, 2.950000047683716, 'L')]]\n",
      "ici :  [[(3, 1.4699999690055847, 'L')]]\n",
      "TAIIIILLE :  5\n",
      "b\n",
      "curr path :  [(2, 4.8999998569488525, 'L'), (0, 5.4649999141693115, 'L'), (1, 2.950000047683716, 'L')]\n",
      "list_sub_path :  [[(2, 4.8999998569488525, 'L'), (0, 5.4649999141693115, 'L'), (1, 2.950000047683716, 'L')], [(2, 4.8999998569488525, 'L'), (0, 5.4649999141693115, 'L')]]\n",
      "end iteration all_paths_list :  [[(3, 0.7699999958276749, 'L')], [(3, 0.7699999958276749, 'R'), (2, 4.8999998569488525, 'L'), (0, 5.4649999141693115, 'L'), (1, 2.950000047683716, 'L'), (3, 1.4699999690055847, 'L')], [(3, 0.7699999958276749, 'R'), (2, 4.8999998569488525, 'L'), (0, 5.4649999141693115, 'L'), (1, 2.950000047683716, 'L')], [(3, 0.7699999958276749, 'R'), (2, 4.8999998569488525, 'L'), (0, 5.4649999141693115, 'L')], [(3, 0.7699999958276749, 'R'), (2, 4.8999998569488525, 'L')], [(3, 0.7699999958276749, 'R')], [(2, 4.8999998569488525, 'L'), (0, 5.4649999141693115, 'L'), (1, 2.950000047683716, 'L'), (3, 1.4699999690055847, 'L')], [(2, 4.8999998569488525, 'L'), (0, 5.4649999141693115, 'L'), (1, 2.950000047683716, 'L')], [(2, 4.8999998569488525, 'L'), (0, 5.4649999141693115, 'L')], [(2, 4.8999998569488525, 'L')], [(0, 5.4649999141693115, 'L'), (1, 2.950000047683716, 'L'), (3, 1.4699999690055847, 'L')], [(0, 5.4649999141693115, 'L'), (1, 2.950000047683716, 'L')], [(0, 5.4649999141693115, 'L')], [(1, 2.950000047683716, 'L'), (3, 1.4699999690055847, 'L')], [(1, 2.950000047683716, 'L')], [(3, 1.4699999690055847, 'L')], [(2, 4.8999998569488525, 'L'), (0, 5.4649999141693115, 'L'), (1, 2.950000047683716, 'L')], [(2, 4.8999998569488525, 'L'), (0, 5.4649999141693115, 'L')]]\n",
      "**************************************************\n",
      "ici :  [[(3, 0.7699999958276749, 'R'), (2, 4.8999998569488525, 'R'), (3, 1.899999976158142, 'L'), (2, 5.450000047683716, 'L'), (0, 6.549999952316284, 'L'), (1, 3.100000023841858, 'L'), (1, 2.600000023841858, 'L'), (0, 6.2799999713897705, 'L')], [(3, 0.7699999958276749, 'R'), (2, 4.8999998569488525, 'R'), (3, 1.899999976158142, 'L'), (2, 5.450000047683716, 'L'), (0, 6.549999952316284, 'L'), (1, 3.100000023841858, 'L'), (1, 2.600000023841858, 'L')], [(3, 0.7699999958276749, 'R'), (2, 4.8999998569488525, 'R'), (3, 1.899999976158142, 'L'), (2, 5.450000047683716, 'L'), (0, 6.549999952316284, 'L'), (1, 3.100000023841858, 'L')], [(3, 0.7699999958276749, 'R'), (2, 4.8999998569488525, 'R'), (3, 1.899999976158142, 'L'), (2, 5.450000047683716, 'L'), (0, 6.549999952316284, 'L')], [(3, 0.7699999958276749, 'R'), (2, 4.8999998569488525, 'R'), (3, 1.899999976158142, 'L'), (2, 5.450000047683716, 'L')], [(3, 0.7699999958276749, 'R'), (2, 4.8999998569488525, 'R'), (3, 1.899999976158142, 'L')], [(3, 0.7699999958276749, 'R'), (2, 4.8999998569488525, 'R')], [(3, 0.7699999958276749, 'R')]]\n",
      "ici :  [[(2, 4.8999998569488525, 'R'), (3, 1.899999976158142, 'L'), (2, 5.450000047683716, 'L'), (0, 6.549999952316284, 'L'), (1, 3.100000023841858, 'L'), (1, 2.600000023841858, 'L'), (0, 6.2799999713897705, 'L')], [(2, 4.8999998569488525, 'R'), (3, 1.899999976158142, 'L'), (2, 5.450000047683716, 'L'), (0, 6.549999952316284, 'L'), (1, 3.100000023841858, 'L'), (1, 2.600000023841858, 'L')], [(2, 4.8999998569488525, 'R'), (3, 1.899999976158142, 'L'), (2, 5.450000047683716, 'L'), (0, 6.549999952316284, 'L'), (1, 3.100000023841858, 'L')], [(2, 4.8999998569488525, 'R'), (3, 1.899999976158142, 'L'), (2, 5.450000047683716, 'L'), (0, 6.549999952316284, 'L')], [(2, 4.8999998569488525, 'R'), (3, 1.899999976158142, 'L'), (2, 5.450000047683716, 'L')], [(2, 4.8999998569488525, 'R'), (3, 1.899999976158142, 'L')], [(2, 4.8999998569488525, 'R')]]\n",
      "ici :  [[(3, 1.899999976158142, 'L'), (2, 5.450000047683716, 'L'), (0, 6.549999952316284, 'L'), (1, 3.100000023841858, 'L'), (1, 2.600000023841858, 'L'), (0, 6.2799999713897705, 'L')], [(3, 1.899999976158142, 'L'), (2, 5.450000047683716, 'L'), (0, 6.549999952316284, 'L'), (1, 3.100000023841858, 'L'), (1, 2.600000023841858, 'L')], [(3, 1.899999976158142, 'L'), (2, 5.450000047683716, 'L'), (0, 6.549999952316284, 'L'), (1, 3.100000023841858, 'L')], [(3, 1.899999976158142, 'L'), (2, 5.450000047683716, 'L'), (0, 6.549999952316284, 'L')], [(3, 1.899999976158142, 'L'), (2, 5.450000047683716, 'L')], [(3, 1.899999976158142, 'L')]]\n",
      "ici :  [[(2, 5.450000047683716, 'L'), (0, 6.549999952316284, 'L'), (1, 3.100000023841858, 'L'), (1, 2.600000023841858, 'L'), (0, 6.2799999713897705, 'L')], [(2, 5.450000047683716, 'L'), (0, 6.549999952316284, 'L'), (1, 3.100000023841858, 'L'), (1, 2.600000023841858, 'L')], [(2, 5.450000047683716, 'L'), (0, 6.549999952316284, 'L'), (1, 3.100000023841858, 'L')], [(2, 5.450000047683716, 'L'), (0, 6.549999952316284, 'L')], [(2, 5.450000047683716, 'L')]]\n",
      "ici :  [[(0, 6.549999952316284, 'L'), (1, 3.100000023841858, 'L'), (1, 2.600000023841858, 'L'), (0, 6.2799999713897705, 'L')], [(0, 6.549999952316284, 'L'), (1, 3.100000023841858, 'L'), (1, 2.600000023841858, 'L')], [(0, 6.549999952316284, 'L'), (1, 3.100000023841858, 'L')], [(0, 6.549999952316284, 'L')]]\n",
      "ici :  [[(1, 3.100000023841858, 'L'), (1, 2.600000023841858, 'L'), (0, 6.2799999713897705, 'L')], [(1, 3.100000023841858, 'L'), (1, 2.600000023841858, 'L')], [(1, 3.100000023841858, 'L')]]\n",
      "ici :  [[(1, 2.600000023841858, 'L'), (0, 6.2799999713897705, 'L')], [(1, 2.600000023841858, 'L')]]\n",
      "ici :  [[(0, 6.2799999713897705, 'L')]]\n",
      "TAIIIILLE :  8\n",
      "aa\n",
      "curr path :  [(2, 4.8999998569488525, 'R'), (3, 1.899999976158142, 'L'), (2, 5.450000047683716, 'L'), (0, 6.549999952316284, 'L'), (1, 3.100000023841858, 'L'), (1, 2.600000023841858, 'L')]\n",
      "list_sub_path :  [[(2, 4.8999998569488525, 'R'), (3, 1.899999976158142, 'L'), (2, 5.450000047683716, 'L'), (0, 6.549999952316284, 'L'), (1, 3.100000023841858, 'L'), (1, 2.600000023841858, 'L')], [(2, 4.8999998569488525, 'R'), (3, 1.899999976158142, 'L'), (2, 5.450000047683716, 'L'), (0, 6.549999952316284, 'L'), (1, 3.100000023841858, 'L')], [(2, 4.8999998569488525, 'R'), (3, 1.899999976158142, 'L'), (2, 5.450000047683716, 'L'), (0, 6.549999952316284, 'L')], [(2, 4.8999998569488525, 'R'), (3, 1.899999976158142, 'L'), (2, 5.450000047683716, 'L')], [(2, 4.8999998569488525, 'R'), (3, 1.899999976158142, 'L')]]\n",
      "curr path :  [(3, 1.899999976158142, 'L'), (2, 5.450000047683716, 'L'), (0, 6.549999952316284, 'L'), (1, 3.100000023841858, 'L')]\n",
      "list_sub_path :  [[(3, 1.899999976158142, 'L'), (2, 5.450000047683716, 'L'), (0, 6.549999952316284, 'L'), (1, 3.100000023841858, 'L')], [(3, 1.899999976158142, 'L'), (2, 5.450000047683716, 'L'), (0, 6.549999952316284, 'L')], [(3, 1.899999976158142, 'L'), (2, 5.450000047683716, 'L')]]\n",
      "curr path :  [(2, 5.450000047683716, 'L'), (0, 6.549999952316284, 'L')]\n",
      "list_sub_path :  [[(2, 5.450000047683716, 'L'), (0, 6.549999952316284, 'L')]]\n",
      "end iteration all_paths_list :  [[(3, 0.7699999958276749, 'L')], [(3, 0.7699999958276749, 'R'), (2, 4.8999998569488525, 'L'), (0, 5.4649999141693115, 'L'), (1, 2.950000047683716, 'L'), (3, 1.4699999690055847, 'L')], [(3, 0.7699999958276749, 'R'), (2, 4.8999998569488525, 'L'), (0, 5.4649999141693115, 'L'), (1, 2.950000047683716, 'L')], [(3, 0.7699999958276749, 'R'), (2, 4.8999998569488525, 'L'), (0, 5.4649999141693115, 'L')], [(3, 0.7699999958276749, 'R'), (2, 4.8999998569488525, 'L')], [(3, 0.7699999958276749, 'R')], [(2, 4.8999998569488525, 'L'), (0, 5.4649999141693115, 'L'), (1, 2.950000047683716, 'L'), (3, 1.4699999690055847, 'L')], [(2, 4.8999998569488525, 'L'), (0, 5.4649999141693115, 'L'), (1, 2.950000047683716, 'L')], [(2, 4.8999998569488525, 'L'), (0, 5.4649999141693115, 'L')], [(2, 4.8999998569488525, 'L')], [(0, 5.4649999141693115, 'L'), (1, 2.950000047683716, 'L'), (3, 1.4699999690055847, 'L')], [(0, 5.4649999141693115, 'L'), (1, 2.950000047683716, 'L')], [(0, 5.4649999141693115, 'L')], [(1, 2.950000047683716, 'L'), (3, 1.4699999690055847, 'L')], [(1, 2.950000047683716, 'L')], [(3, 1.4699999690055847, 'L')], [(2, 4.8999998569488525, 'L'), (0, 5.4649999141693115, 'L'), (1, 2.950000047683716, 'L')], [(2, 4.8999998569488525, 'L'), (0, 5.4649999141693115, 'L')], [(3, 0.7699999958276749, 'R'), (2, 4.8999998569488525, 'R'), (3, 1.899999976158142, 'L'), (2, 5.450000047683716, 'L'), (0, 6.549999952316284, 'L'), (1, 3.100000023841858, 'L'), (1, 2.600000023841858, 'L'), (0, 6.2799999713897705, 'L')], [(3, 0.7699999958276749, 'R'), (2, 4.8999998569488525, 'R'), (3, 1.899999976158142, 'L'), (2, 5.450000047683716, 'L'), (0, 6.549999952316284, 'L'), (1, 3.100000023841858, 'L'), (1, 2.600000023841858, 'L')], [(3, 0.7699999958276749, 'R'), (2, 4.8999998569488525, 'R'), (3, 1.899999976158142, 'L'), (2, 5.450000047683716, 'L'), (0, 6.549999952316284, 'L'), (1, 3.100000023841858, 'L')], [(3, 0.7699999958276749, 'R'), (2, 4.8999998569488525, 'R'), (3, 1.899999976158142, 'L'), (2, 5.450000047683716, 'L'), (0, 6.549999952316284, 'L')], [(3, 0.7699999958276749, 'R'), (2, 4.8999998569488525, 'R'), (3, 1.899999976158142, 'L'), (2, 5.450000047683716, 'L')], [(3, 0.7699999958276749, 'R'), (2, 4.8999998569488525, 'R'), (3, 1.899999976158142, 'L')], [(3, 0.7699999958276749, 'R'), (2, 4.8999998569488525, 'R')], [(3, 0.7699999958276749, 'R')], [(2, 4.8999998569488525, 'R'), (3, 1.899999976158142, 'L'), (2, 5.450000047683716, 'L'), (0, 6.549999952316284, 'L'), (1, 3.100000023841858, 'L'), (1, 2.600000023841858, 'L'), (0, 6.2799999713897705, 'L')], [(2, 4.8999998569488525, 'R'), (3, 1.899999976158142, 'L'), (2, 5.450000047683716, 'L'), (0, 6.549999952316284, 'L'), (1, 3.100000023841858, 'L'), (1, 2.600000023841858, 'L')], [(2, 4.8999998569488525, 'R'), (3, 1.899999976158142, 'L'), (2, 5.450000047683716, 'L'), (0, 6.549999952316284, 'L'), (1, 3.100000023841858, 'L')], [(2, 4.8999998569488525, 'R'), (3, 1.899999976158142, 'L'), (2, 5.450000047683716, 'L'), (0, 6.549999952316284, 'L')], [(2, 4.8999998569488525, 'R'), (3, 1.899999976158142, 'L'), (2, 5.450000047683716, 'L')], [(2, 4.8999998569488525, 'R'), (3, 1.899999976158142, 'L')], [(2, 4.8999998569488525, 'R')], [(3, 1.899999976158142, 'L'), (2, 5.450000047683716, 'L'), (0, 6.549999952316284, 'L'), (1, 3.100000023841858, 'L'), (1, 2.600000023841858, 'L'), (0, 6.2799999713897705, 'L')], [(3, 1.899999976158142, 'L'), (2, 5.450000047683716, 'L'), (0, 6.549999952316284, 'L'), (1, 3.100000023841858, 'L'), (1, 2.600000023841858, 'L')], [(3, 1.899999976158142, 'L'), (2, 5.450000047683716, 'L'), (0, 6.549999952316284, 'L'), (1, 3.100000023841858, 'L')], [(3, 1.899999976158142, 'L'), (2, 5.450000047683716, 'L'), (0, 6.549999952316284, 'L')], [(3, 1.899999976158142, 'L'), (2, 5.450000047683716, 'L')], [(3, 1.899999976158142, 'L')], [(2, 5.450000047683716, 'L'), (0, 6.549999952316284, 'L'), (1, 3.100000023841858, 'L'), (1, 2.600000023841858, 'L'), (0, 6.2799999713897705, 'L')], [(2, 5.450000047683716, 'L'), (0, 6.549999952316284, 'L'), (1, 3.100000023841858, 'L'), (1, 2.600000023841858, 'L')], [(2, 5.450000047683716, 'L'), (0, 6.549999952316284, 'L'), (1, 3.100000023841858, 'L')], [(2, 5.450000047683716, 'L'), (0, 6.549999952316284, 'L')], [(2, 5.450000047683716, 'L')], [(0, 6.549999952316284, 'L'), (1, 3.100000023841858, 'L'), (1, 2.600000023841858, 'L'), (0, 6.2799999713897705, 'L')], [(0, 6.549999952316284, 'L'), (1, 3.100000023841858, 'L'), (1, 2.600000023841858, 'L')], [(0, 6.549999952316284, 'L'), (1, 3.100000023841858, 'L')], [(0, 6.549999952316284, 'L')], [(1, 3.100000023841858, 'L'), (1, 2.600000023841858, 'L'), (0, 6.2799999713897705, 'L')], [(1, 3.100000023841858, 'L'), (1, 2.600000023841858, 'L')], [(1, 3.100000023841858, 'L')], [(1, 2.600000023841858, 'L'), (0, 6.2799999713897705, 'L')], [(1, 2.600000023841858, 'L')], [(0, 6.2799999713897705, 'L')], [(2, 4.8999998569488525, 'R'), (3, 1.899999976158142, 'L'), (2, 5.450000047683716, 'L'), (0, 6.549999952316284, 'L'), (1, 3.100000023841858, 'L'), (1, 2.600000023841858, 'L')], [(2, 4.8999998569488525, 'R'), (3, 1.899999976158142, 'L'), (2, 5.450000047683716, 'L'), (0, 6.549999952316284, 'L'), (1, 3.100000023841858, 'L')], [(2, 4.8999998569488525, 'R'), (3, 1.899999976158142, 'L'), (2, 5.450000047683716, 'L'), (0, 6.549999952316284, 'L')], [(2, 4.8999998569488525, 'R'), (3, 1.899999976158142, 'L'), (2, 5.450000047683716, 'L')], [(2, 4.8999998569488525, 'R'), (3, 1.899999976158142, 'L')], [(3, 1.899999976158142, 'L'), (2, 5.450000047683716, 'L'), (0, 6.549999952316284, 'L'), (1, 3.100000023841858, 'L')], [(3, 1.899999976158142, 'L'), (2, 5.450000047683716, 'L'), (0, 6.549999952316284, 'L')], [(3, 1.899999976158142, 'L'), (2, 5.450000047683716, 'L')], [(2, 5.450000047683716, 'L'), (0, 6.549999952316284, 'L')]]\n",
      "**************************************************\n",
      "ici :  [[(3, 0.7699999958276749, 'R'), (2, 4.8999998569488525, 'R'), (3, 1.899999976158142, 'R')], [(3, 0.7699999958276749, 'R'), (2, 4.8999998569488525, 'R')], [(3, 0.7699999958276749, 'R')]]\n",
      "ici :  [[(2, 4.8999998569488525, 'R'), (3, 1.899999976158142, 'R')], [(2, 4.8999998569488525, 'R')]]\n",
      "ici :  [[(3, 1.899999976158142, 'R')]]\n",
      "TAIIIILLE :  3\n",
      "b\n",
      "end iteration all_paths_list :  [[(3, 0.7699999958276749, 'L')], [(3, 0.7699999958276749, 'R'), (2, 4.8999998569488525, 'L'), (0, 5.4649999141693115, 'L'), (1, 2.950000047683716, 'L'), (3, 1.4699999690055847, 'L')], [(3, 0.7699999958276749, 'R'), (2, 4.8999998569488525, 'L'), (0, 5.4649999141693115, 'L'), (1, 2.950000047683716, 'L')], [(3, 0.7699999958276749, 'R'), (2, 4.8999998569488525, 'L'), (0, 5.4649999141693115, 'L')], [(3, 0.7699999958276749, 'R'), (2, 4.8999998569488525, 'L')], [(3, 0.7699999958276749, 'R')], [(2, 4.8999998569488525, 'L'), (0, 5.4649999141693115, 'L'), (1, 2.950000047683716, 'L'), (3, 1.4699999690055847, 'L')], [(2, 4.8999998569488525, 'L'), (0, 5.4649999141693115, 'L'), (1, 2.950000047683716, 'L')], [(2, 4.8999998569488525, 'L'), (0, 5.4649999141693115, 'L')], [(2, 4.8999998569488525, 'L')], [(0, 5.4649999141693115, 'L'), (1, 2.950000047683716, 'L'), (3, 1.4699999690055847, 'L')], [(0, 5.4649999141693115, 'L'), (1, 2.950000047683716, 'L')], [(0, 5.4649999141693115, 'L')], [(1, 2.950000047683716, 'L'), (3, 1.4699999690055847, 'L')], [(1, 2.950000047683716, 'L')], [(3, 1.4699999690055847, 'L')], [(2, 4.8999998569488525, 'L'), (0, 5.4649999141693115, 'L'), (1, 2.950000047683716, 'L')], [(2, 4.8999998569488525, 'L'), (0, 5.4649999141693115, 'L')], [(3, 0.7699999958276749, 'R'), (2, 4.8999998569488525, 'R'), (3, 1.899999976158142, 'L'), (2, 5.450000047683716, 'L'), (0, 6.549999952316284, 'L'), (1, 3.100000023841858, 'L'), (1, 2.600000023841858, 'L'), (0, 6.2799999713897705, 'L')], [(3, 0.7699999958276749, 'R'), (2, 4.8999998569488525, 'R'), (3, 1.899999976158142, 'L'), (2, 5.450000047683716, 'L'), (0, 6.549999952316284, 'L'), (1, 3.100000023841858, 'L'), (1, 2.600000023841858, 'L')], [(3, 0.7699999958276749, 'R'), (2, 4.8999998569488525, 'R'), (3, 1.899999976158142, 'L'), (2, 5.450000047683716, 'L'), (0, 6.549999952316284, 'L'), (1, 3.100000023841858, 'L')], [(3, 0.7699999958276749, 'R'), (2, 4.8999998569488525, 'R'), (3, 1.899999976158142, 'L'), (2, 5.450000047683716, 'L'), (0, 6.549999952316284, 'L')], [(3, 0.7699999958276749, 'R'), (2, 4.8999998569488525, 'R'), (3, 1.899999976158142, 'L'), (2, 5.450000047683716, 'L')], [(3, 0.7699999958276749, 'R'), (2, 4.8999998569488525, 'R'), (3, 1.899999976158142, 'L')], [(3, 0.7699999958276749, 'R'), (2, 4.8999998569488525, 'R')], [(3, 0.7699999958276749, 'R')], [(2, 4.8999998569488525, 'R'), (3, 1.899999976158142, 'L'), (2, 5.450000047683716, 'L'), (0, 6.549999952316284, 'L'), (1, 3.100000023841858, 'L'), (1, 2.600000023841858, 'L'), (0, 6.2799999713897705, 'L')], [(2, 4.8999998569488525, 'R'), (3, 1.899999976158142, 'L'), (2, 5.450000047683716, 'L'), (0, 6.549999952316284, 'L'), (1, 3.100000023841858, 'L'), (1, 2.600000023841858, 'L')], [(2, 4.8999998569488525, 'R'), (3, 1.899999976158142, 'L'), (2, 5.450000047683716, 'L'), (0, 6.549999952316284, 'L'), (1, 3.100000023841858, 'L')], [(2, 4.8999998569488525, 'R'), (3, 1.899999976158142, 'L'), (2, 5.450000047683716, 'L'), (0, 6.549999952316284, 'L')], [(2, 4.8999998569488525, 'R'), (3, 1.899999976158142, 'L'), (2, 5.450000047683716, 'L')], [(2, 4.8999998569488525, 'R'), (3, 1.899999976158142, 'L')], [(2, 4.8999998569488525, 'R')], [(3, 1.899999976158142, 'L'), (2, 5.450000047683716, 'L'), (0, 6.549999952316284, 'L'), (1, 3.100000023841858, 'L'), (1, 2.600000023841858, 'L'), (0, 6.2799999713897705, 'L')], [(3, 1.899999976158142, 'L'), (2, 5.450000047683716, 'L'), (0, 6.549999952316284, 'L'), (1, 3.100000023841858, 'L'), (1, 2.600000023841858, 'L')], [(3, 1.899999976158142, 'L'), (2, 5.450000047683716, 'L'), (0, 6.549999952316284, 'L'), (1, 3.100000023841858, 'L')], [(3, 1.899999976158142, 'L'), (2, 5.450000047683716, 'L'), (0, 6.549999952316284, 'L')], [(3, 1.899999976158142, 'L'), (2, 5.450000047683716, 'L')], [(3, 1.899999976158142, 'L')], [(2, 5.450000047683716, 'L'), (0, 6.549999952316284, 'L'), (1, 3.100000023841858, 'L'), (1, 2.600000023841858, 'L'), (0, 6.2799999713897705, 'L')], [(2, 5.450000047683716, 'L'), (0, 6.549999952316284, 'L'), (1, 3.100000023841858, 'L'), (1, 2.600000023841858, 'L')], [(2, 5.450000047683716, 'L'), (0, 6.549999952316284, 'L'), (1, 3.100000023841858, 'L')], [(2, 5.450000047683716, 'L'), (0, 6.549999952316284, 'L')], [(2, 5.450000047683716, 'L')], [(0, 6.549999952316284, 'L'), (1, 3.100000023841858, 'L'), (1, 2.600000023841858, 'L'), (0, 6.2799999713897705, 'L')], [(0, 6.549999952316284, 'L'), (1, 3.100000023841858, 'L'), (1, 2.600000023841858, 'L')], [(0, 6.549999952316284, 'L'), (1, 3.100000023841858, 'L')], [(0, 6.549999952316284, 'L')], [(1, 3.100000023841858, 'L'), (1, 2.600000023841858, 'L'), (0, 6.2799999713897705, 'L')], [(1, 3.100000023841858, 'L'), (1, 2.600000023841858, 'L')], [(1, 3.100000023841858, 'L')], [(1, 2.600000023841858, 'L'), (0, 6.2799999713897705, 'L')], [(1, 2.600000023841858, 'L')], [(0, 6.2799999713897705, 'L')], [(2, 4.8999998569488525, 'R'), (3, 1.899999976158142, 'L'), (2, 5.450000047683716, 'L'), (0, 6.549999952316284, 'L'), (1, 3.100000023841858, 'L'), (1, 2.600000023841858, 'L')], [(2, 4.8999998569488525, 'R'), (3, 1.899999976158142, 'L'), (2, 5.450000047683716, 'L'), (0, 6.549999952316284, 'L'), (1, 3.100000023841858, 'L')], [(2, 4.8999998569488525, 'R'), (3, 1.899999976158142, 'L'), (2, 5.450000047683716, 'L'), (0, 6.549999952316284, 'L')], [(2, 4.8999998569488525, 'R'), (3, 1.899999976158142, 'L'), (2, 5.450000047683716, 'L')], [(2, 4.8999998569488525, 'R'), (3, 1.899999976158142, 'L')], [(3, 1.899999976158142, 'L'), (2, 5.450000047683716, 'L'), (0, 6.549999952316284, 'L'), (1, 3.100000023841858, 'L')], [(3, 1.899999976158142, 'L'), (2, 5.450000047683716, 'L'), (0, 6.549999952316284, 'L')], [(3, 1.899999976158142, 'L'), (2, 5.450000047683716, 'L')], [(2, 5.450000047683716, 'L'), (0, 6.549999952316284, 'L')], [(3, 0.7699999958276749, 'R'), (2, 4.8999998569488525, 'R'), (3, 1.899999976158142, 'R')], [(3, 0.7699999958276749, 'R'), (2, 4.8999998569488525, 'R')], [(3, 0.7699999958276749, 'R')], [(2, 4.8999998569488525, 'R'), (3, 1.899999976158142, 'R')], [(2, 4.8999998569488525, 'R')], [(3, 1.899999976158142, 'R')]]\n",
      "**************************************************\n",
      "ici :  [[(3, 0.7699999958276749, 'R'), (2, 4.8999998569488525, 'R'), (3, 1.899999976158142, 'L'), (2, 5.450000047683716, 'R')], [(3, 0.7699999958276749, 'R'), (2, 4.8999998569488525, 'R'), (3, 1.899999976158142, 'L')], [(3, 0.7699999958276749, 'R'), (2, 4.8999998569488525, 'R')], [(3, 0.7699999958276749, 'R')]]\n",
      "ici :  [[(2, 4.8999998569488525, 'R'), (3, 1.899999976158142, 'L'), (2, 5.450000047683716, 'R')], [(2, 4.8999998569488525, 'R'), (3, 1.899999976158142, 'L')], [(2, 4.8999998569488525, 'R')]]\n",
      "ici :  [[(3, 1.899999976158142, 'L'), (2, 5.450000047683716, 'R')], [(3, 1.899999976158142, 'L')]]\n",
      "ici :  [[(2, 5.450000047683716, 'R')]]\n",
      "TAIIIILLE :  4\n",
      "aa\n",
      "curr path :  [(2, 4.8999998569488525, 'R'), (3, 1.899999976158142, 'L')]\n",
      "list_sub_path :  [[(2, 4.8999998569488525, 'R'), (3, 1.899999976158142, 'L')]]\n",
      "end iteration all_paths_list :  [[(3, 0.7699999958276749, 'L')], [(3, 0.7699999958276749, 'R'), (2, 4.8999998569488525, 'L'), (0, 5.4649999141693115, 'L'), (1, 2.950000047683716, 'L'), (3, 1.4699999690055847, 'L')], [(3, 0.7699999958276749, 'R'), (2, 4.8999998569488525, 'L'), (0, 5.4649999141693115, 'L'), (1, 2.950000047683716, 'L')], [(3, 0.7699999958276749, 'R'), (2, 4.8999998569488525, 'L'), (0, 5.4649999141693115, 'L')], [(3, 0.7699999958276749, 'R'), (2, 4.8999998569488525, 'L')], [(3, 0.7699999958276749, 'R')], [(2, 4.8999998569488525, 'L'), (0, 5.4649999141693115, 'L'), (1, 2.950000047683716, 'L'), (3, 1.4699999690055847, 'L')], [(2, 4.8999998569488525, 'L'), (0, 5.4649999141693115, 'L'), (1, 2.950000047683716, 'L')], [(2, 4.8999998569488525, 'L'), (0, 5.4649999141693115, 'L')], [(2, 4.8999998569488525, 'L')], [(0, 5.4649999141693115, 'L'), (1, 2.950000047683716, 'L'), (3, 1.4699999690055847, 'L')], [(0, 5.4649999141693115, 'L'), (1, 2.950000047683716, 'L')], [(0, 5.4649999141693115, 'L')], [(1, 2.950000047683716, 'L'), (3, 1.4699999690055847, 'L')], [(1, 2.950000047683716, 'L')], [(3, 1.4699999690055847, 'L')], [(2, 4.8999998569488525, 'L'), (0, 5.4649999141693115, 'L'), (1, 2.950000047683716, 'L')], [(2, 4.8999998569488525, 'L'), (0, 5.4649999141693115, 'L')], [(3, 0.7699999958276749, 'R'), (2, 4.8999998569488525, 'R'), (3, 1.899999976158142, 'L'), (2, 5.450000047683716, 'L'), (0, 6.549999952316284, 'L'), (1, 3.100000023841858, 'L'), (1, 2.600000023841858, 'L'), (0, 6.2799999713897705, 'L')], [(3, 0.7699999958276749, 'R'), (2, 4.8999998569488525, 'R'), (3, 1.899999976158142, 'L'), (2, 5.450000047683716, 'L'), (0, 6.549999952316284, 'L'), (1, 3.100000023841858, 'L'), (1, 2.600000023841858, 'L')], [(3, 0.7699999958276749, 'R'), (2, 4.8999998569488525, 'R'), (3, 1.899999976158142, 'L'), (2, 5.450000047683716, 'L'), (0, 6.549999952316284, 'L'), (1, 3.100000023841858, 'L')], [(3, 0.7699999958276749, 'R'), (2, 4.8999998569488525, 'R'), (3, 1.899999976158142, 'L'), (2, 5.450000047683716, 'L'), (0, 6.549999952316284, 'L')], [(3, 0.7699999958276749, 'R'), (2, 4.8999998569488525, 'R'), (3, 1.899999976158142, 'L'), (2, 5.450000047683716, 'L')], [(3, 0.7699999958276749, 'R'), (2, 4.8999998569488525, 'R'), (3, 1.899999976158142, 'L')], [(3, 0.7699999958276749, 'R'), (2, 4.8999998569488525, 'R')], [(3, 0.7699999958276749, 'R')], [(2, 4.8999998569488525, 'R'), (3, 1.899999976158142, 'L'), (2, 5.450000047683716, 'L'), (0, 6.549999952316284, 'L'), (1, 3.100000023841858, 'L'), (1, 2.600000023841858, 'L'), (0, 6.2799999713897705, 'L')], [(2, 4.8999998569488525, 'R'), (3, 1.899999976158142, 'L'), (2, 5.450000047683716, 'L'), (0, 6.549999952316284, 'L'), (1, 3.100000023841858, 'L'), (1, 2.600000023841858, 'L')], [(2, 4.8999998569488525, 'R'), (3, 1.899999976158142, 'L'), (2, 5.450000047683716, 'L'), (0, 6.549999952316284, 'L'), (1, 3.100000023841858, 'L')], [(2, 4.8999998569488525, 'R'), (3, 1.899999976158142, 'L'), (2, 5.450000047683716, 'L'), (0, 6.549999952316284, 'L')], [(2, 4.8999998569488525, 'R'), (3, 1.899999976158142, 'L'), (2, 5.450000047683716, 'L')], [(2, 4.8999998569488525, 'R'), (3, 1.899999976158142, 'L')], [(2, 4.8999998569488525, 'R')], [(3, 1.899999976158142, 'L'), (2, 5.450000047683716, 'L'), (0, 6.549999952316284, 'L'), (1, 3.100000023841858, 'L'), (1, 2.600000023841858, 'L'), (0, 6.2799999713897705, 'L')], [(3, 1.899999976158142, 'L'), (2, 5.450000047683716, 'L'), (0, 6.549999952316284, 'L'), (1, 3.100000023841858, 'L'), (1, 2.600000023841858, 'L')], [(3, 1.899999976158142, 'L'), (2, 5.450000047683716, 'L'), (0, 6.549999952316284, 'L'), (1, 3.100000023841858, 'L')], [(3, 1.899999976158142, 'L'), (2, 5.450000047683716, 'L'), (0, 6.549999952316284, 'L')], [(3, 1.899999976158142, 'L'), (2, 5.450000047683716, 'L')], [(3, 1.899999976158142, 'L')], [(2, 5.450000047683716, 'L'), (0, 6.549999952316284, 'L'), (1, 3.100000023841858, 'L'), (1, 2.600000023841858, 'L'), (0, 6.2799999713897705, 'L')], [(2, 5.450000047683716, 'L'), (0, 6.549999952316284, 'L'), (1, 3.100000023841858, 'L'), (1, 2.600000023841858, 'L')], [(2, 5.450000047683716, 'L'), (0, 6.549999952316284, 'L'), (1, 3.100000023841858, 'L')], [(2, 5.450000047683716, 'L'), (0, 6.549999952316284, 'L')], [(2, 5.450000047683716, 'L')], [(0, 6.549999952316284, 'L'), (1, 3.100000023841858, 'L'), (1, 2.600000023841858, 'L'), (0, 6.2799999713897705, 'L')], [(0, 6.549999952316284, 'L'), (1, 3.100000023841858, 'L'), (1, 2.600000023841858, 'L')], [(0, 6.549999952316284, 'L'), (1, 3.100000023841858, 'L')], [(0, 6.549999952316284, 'L')], [(1, 3.100000023841858, 'L'), (1, 2.600000023841858, 'L'), (0, 6.2799999713897705, 'L')], [(1, 3.100000023841858, 'L'), (1, 2.600000023841858, 'L')], [(1, 3.100000023841858, 'L')], [(1, 2.600000023841858, 'L'), (0, 6.2799999713897705, 'L')], [(1, 2.600000023841858, 'L')], [(0, 6.2799999713897705, 'L')], [(2, 4.8999998569488525, 'R'), (3, 1.899999976158142, 'L'), (2, 5.450000047683716, 'L'), (0, 6.549999952316284, 'L'), (1, 3.100000023841858, 'L'), (1, 2.600000023841858, 'L')], [(2, 4.8999998569488525, 'R'), (3, 1.899999976158142, 'L'), (2, 5.450000047683716, 'L'), (0, 6.549999952316284, 'L'), (1, 3.100000023841858, 'L')], [(2, 4.8999998569488525, 'R'), (3, 1.899999976158142, 'L'), (2, 5.450000047683716, 'L'), (0, 6.549999952316284, 'L')], [(2, 4.8999998569488525, 'R'), (3, 1.899999976158142, 'L'), (2, 5.450000047683716, 'L')], [(2, 4.8999998569488525, 'R'), (3, 1.899999976158142, 'L')], [(3, 1.899999976158142, 'L'), (2, 5.450000047683716, 'L'), (0, 6.549999952316284, 'L'), (1, 3.100000023841858, 'L')], [(3, 1.899999976158142, 'L'), (2, 5.450000047683716, 'L'), (0, 6.549999952316284, 'L')], [(3, 1.899999976158142, 'L'), (2, 5.450000047683716, 'L')], [(2, 5.450000047683716, 'L'), (0, 6.549999952316284, 'L')], [(3, 0.7699999958276749, 'R'), (2, 4.8999998569488525, 'R'), (3, 1.899999976158142, 'R')], [(3, 0.7699999958276749, 'R'), (2, 4.8999998569488525, 'R')], [(3, 0.7699999958276749, 'R')], [(2, 4.8999998569488525, 'R'), (3, 1.899999976158142, 'R')], [(2, 4.8999998569488525, 'R')], [(3, 1.899999976158142, 'R')], [(3, 0.7699999958276749, 'R'), (2, 4.8999998569488525, 'R'), (3, 1.899999976158142, 'L'), (2, 5.450000047683716, 'R')], [(3, 0.7699999958276749, 'R'), (2, 4.8999998569488525, 'R'), (3, 1.899999976158142, 'L')], [(3, 0.7699999958276749, 'R'), (2, 4.8999998569488525, 'R')], [(3, 0.7699999958276749, 'R')], [(2, 4.8999998569488525, 'R'), (3, 1.899999976158142, 'L'), (2, 5.450000047683716, 'R')], [(2, 4.8999998569488525, 'R'), (3, 1.899999976158142, 'L')], [(2, 4.8999998569488525, 'R')], [(3, 1.899999976158142, 'L'), (2, 5.450000047683716, 'R')], [(3, 1.899999976158142, 'L')], [(2, 5.450000047683716, 'R')], [(2, 4.8999998569488525, 'R'), (3, 1.899999976158142, 'L')]]\n",
      "**************************************************\n",
      "ici :  [[(3, 0.7699999958276749, 'R'), (2, 4.8999998569488525, 'R'), (3, 1.899999976158142, 'L'), (2, 5.450000047683716, 'L'), (0, 6.549999952316284, 'R')], [(3, 0.7699999958276749, 'R'), (2, 4.8999998569488525, 'R'), (3, 1.899999976158142, 'L'), (2, 5.450000047683716, 'L')], [(3, 0.7699999958276749, 'R'), (2, 4.8999998569488525, 'R'), (3, 1.899999976158142, 'L')], [(3, 0.7699999958276749, 'R'), (2, 4.8999998569488525, 'R')], [(3, 0.7699999958276749, 'R')]]\n",
      "ici :  [[(2, 4.8999998569488525, 'R'), (3, 1.899999976158142, 'L'), (2, 5.450000047683716, 'L'), (0, 6.549999952316284, 'R')], [(2, 4.8999998569488525, 'R'), (3, 1.899999976158142, 'L'), (2, 5.450000047683716, 'L')], [(2, 4.8999998569488525, 'R'), (3, 1.899999976158142, 'L')], [(2, 4.8999998569488525, 'R')]]\n",
      "ici :  [[(3, 1.899999976158142, 'L'), (2, 5.450000047683716, 'L'), (0, 6.549999952316284, 'R')], [(3, 1.899999976158142, 'L'), (2, 5.450000047683716, 'L')], [(3, 1.899999976158142, 'L')]]\n",
      "ici :  [[(2, 5.450000047683716, 'L'), (0, 6.549999952316284, 'R')], [(2, 5.450000047683716, 'L')]]\n",
      "ici :  [[(0, 6.549999952316284, 'R')]]\n",
      "TAIIIILLE :  5\n",
      "b\n",
      "curr path :  [(2, 4.8999998569488525, 'R'), (3, 1.899999976158142, 'L'), (2, 5.450000047683716, 'L')]\n",
      "list_sub_path :  [[(2, 4.8999998569488525, 'R'), (3, 1.899999976158142, 'L'), (2, 5.450000047683716, 'L')], [(2, 4.8999998569488525, 'R'), (3, 1.899999976158142, 'L')]]\n",
      "end iteration all_paths_list :  [[(3, 0.7699999958276749, 'L')], [(3, 0.7699999958276749, 'R'), (2, 4.8999998569488525, 'L'), (0, 5.4649999141693115, 'L'), (1, 2.950000047683716, 'L'), (3, 1.4699999690055847, 'L')], [(3, 0.7699999958276749, 'R'), (2, 4.8999998569488525, 'L'), (0, 5.4649999141693115, 'L'), (1, 2.950000047683716, 'L')], [(3, 0.7699999958276749, 'R'), (2, 4.8999998569488525, 'L'), (0, 5.4649999141693115, 'L')], [(3, 0.7699999958276749, 'R'), (2, 4.8999998569488525, 'L')], [(3, 0.7699999958276749, 'R')], [(2, 4.8999998569488525, 'L'), (0, 5.4649999141693115, 'L'), (1, 2.950000047683716, 'L'), (3, 1.4699999690055847, 'L')], [(2, 4.8999998569488525, 'L'), (0, 5.4649999141693115, 'L'), (1, 2.950000047683716, 'L')], [(2, 4.8999998569488525, 'L'), (0, 5.4649999141693115, 'L')], [(2, 4.8999998569488525, 'L')], [(0, 5.4649999141693115, 'L'), (1, 2.950000047683716, 'L'), (3, 1.4699999690055847, 'L')], [(0, 5.4649999141693115, 'L'), (1, 2.950000047683716, 'L')], [(0, 5.4649999141693115, 'L')], [(1, 2.950000047683716, 'L'), (3, 1.4699999690055847, 'L')], [(1, 2.950000047683716, 'L')], [(3, 1.4699999690055847, 'L')], [(2, 4.8999998569488525, 'L'), (0, 5.4649999141693115, 'L'), (1, 2.950000047683716, 'L')], [(2, 4.8999998569488525, 'L'), (0, 5.4649999141693115, 'L')], [(3, 0.7699999958276749, 'R'), (2, 4.8999998569488525, 'R'), (3, 1.899999976158142, 'L'), (2, 5.450000047683716, 'L'), (0, 6.549999952316284, 'L'), (1, 3.100000023841858, 'L'), (1, 2.600000023841858, 'L'), (0, 6.2799999713897705, 'L')], [(3, 0.7699999958276749, 'R'), (2, 4.8999998569488525, 'R'), (3, 1.899999976158142, 'L'), (2, 5.450000047683716, 'L'), (0, 6.549999952316284, 'L'), (1, 3.100000023841858, 'L'), (1, 2.600000023841858, 'L')], [(3, 0.7699999958276749, 'R'), (2, 4.8999998569488525, 'R'), (3, 1.899999976158142, 'L'), (2, 5.450000047683716, 'L'), (0, 6.549999952316284, 'L'), (1, 3.100000023841858, 'L')], [(3, 0.7699999958276749, 'R'), (2, 4.8999998569488525, 'R'), (3, 1.899999976158142, 'L'), (2, 5.450000047683716, 'L'), (0, 6.549999952316284, 'L')], [(3, 0.7699999958276749, 'R'), (2, 4.8999998569488525, 'R'), (3, 1.899999976158142, 'L'), (2, 5.450000047683716, 'L')], [(3, 0.7699999958276749, 'R'), (2, 4.8999998569488525, 'R'), (3, 1.899999976158142, 'L')], [(3, 0.7699999958276749, 'R'), (2, 4.8999998569488525, 'R')], [(3, 0.7699999958276749, 'R')], [(2, 4.8999998569488525, 'R'), (3, 1.899999976158142, 'L'), (2, 5.450000047683716, 'L'), (0, 6.549999952316284, 'L'), (1, 3.100000023841858, 'L'), (1, 2.600000023841858, 'L'), (0, 6.2799999713897705, 'L')], [(2, 4.8999998569488525, 'R'), (3, 1.899999976158142, 'L'), (2, 5.450000047683716, 'L'), (0, 6.549999952316284, 'L'), (1, 3.100000023841858, 'L'), (1, 2.600000023841858, 'L')], [(2, 4.8999998569488525, 'R'), (3, 1.899999976158142, 'L'), (2, 5.450000047683716, 'L'), (0, 6.549999952316284, 'L'), (1, 3.100000023841858, 'L')], [(2, 4.8999998569488525, 'R'), (3, 1.899999976158142, 'L'), (2, 5.450000047683716, 'L'), (0, 6.549999952316284, 'L')], [(2, 4.8999998569488525, 'R'), (3, 1.899999976158142, 'L'), (2, 5.450000047683716, 'L')], [(2, 4.8999998569488525, 'R'), (3, 1.899999976158142, 'L')], [(2, 4.8999998569488525, 'R')], [(3, 1.899999976158142, 'L'), (2, 5.450000047683716, 'L'), (0, 6.549999952316284, 'L'), (1, 3.100000023841858, 'L'), (1, 2.600000023841858, 'L'), (0, 6.2799999713897705, 'L')], [(3, 1.899999976158142, 'L'), (2, 5.450000047683716, 'L'), (0, 6.549999952316284, 'L'), (1, 3.100000023841858, 'L'), (1, 2.600000023841858, 'L')], [(3, 1.899999976158142, 'L'), (2, 5.450000047683716, 'L'), (0, 6.549999952316284, 'L'), (1, 3.100000023841858, 'L')], [(3, 1.899999976158142, 'L'), (2, 5.450000047683716, 'L'), (0, 6.549999952316284, 'L')], [(3, 1.899999976158142, 'L'), (2, 5.450000047683716, 'L')], [(3, 1.899999976158142, 'L')], [(2, 5.450000047683716, 'L'), (0, 6.549999952316284, 'L'), (1, 3.100000023841858, 'L'), (1, 2.600000023841858, 'L'), (0, 6.2799999713897705, 'L')], [(2, 5.450000047683716, 'L'), (0, 6.549999952316284, 'L'), (1, 3.100000023841858, 'L'), (1, 2.600000023841858, 'L')], [(2, 5.450000047683716, 'L'), (0, 6.549999952316284, 'L'), (1, 3.100000023841858, 'L')], [(2, 5.450000047683716, 'L'), (0, 6.549999952316284, 'L')], [(2, 5.450000047683716, 'L')], [(0, 6.549999952316284, 'L'), (1, 3.100000023841858, 'L'), (1, 2.600000023841858, 'L'), (0, 6.2799999713897705, 'L')], [(0, 6.549999952316284, 'L'), (1, 3.100000023841858, 'L'), (1, 2.600000023841858, 'L')], [(0, 6.549999952316284, 'L'), (1, 3.100000023841858, 'L')], [(0, 6.549999952316284, 'L')], [(1, 3.100000023841858, 'L'), (1, 2.600000023841858, 'L'), (0, 6.2799999713897705, 'L')], [(1, 3.100000023841858, 'L'), (1, 2.600000023841858, 'L')], [(1, 3.100000023841858, 'L')], [(1, 2.600000023841858, 'L'), (0, 6.2799999713897705, 'L')], [(1, 2.600000023841858, 'L')], [(0, 6.2799999713897705, 'L')], [(2, 4.8999998569488525, 'R'), (3, 1.899999976158142, 'L'), (2, 5.450000047683716, 'L'), (0, 6.549999952316284, 'L'), (1, 3.100000023841858, 'L'), (1, 2.600000023841858, 'L')], [(2, 4.8999998569488525, 'R'), (3, 1.899999976158142, 'L'), (2, 5.450000047683716, 'L'), (0, 6.549999952316284, 'L'), (1, 3.100000023841858, 'L')], [(2, 4.8999998569488525, 'R'), (3, 1.899999976158142, 'L'), (2, 5.450000047683716, 'L'), (0, 6.549999952316284, 'L')], [(2, 4.8999998569488525, 'R'), (3, 1.899999976158142, 'L'), (2, 5.450000047683716, 'L')], [(2, 4.8999998569488525, 'R'), (3, 1.899999976158142, 'L')], [(3, 1.899999976158142, 'L'), (2, 5.450000047683716, 'L'), (0, 6.549999952316284, 'L'), (1, 3.100000023841858, 'L')], [(3, 1.899999976158142, 'L'), (2, 5.450000047683716, 'L'), (0, 6.549999952316284, 'L')], [(3, 1.899999976158142, 'L'), (2, 5.450000047683716, 'L')], [(2, 5.450000047683716, 'L'), (0, 6.549999952316284, 'L')], [(3, 0.7699999958276749, 'R'), (2, 4.8999998569488525, 'R'), (3, 1.899999976158142, 'R')], [(3, 0.7699999958276749, 'R'), (2, 4.8999998569488525, 'R')], [(3, 0.7699999958276749, 'R')], [(2, 4.8999998569488525, 'R'), (3, 1.899999976158142, 'R')], [(2, 4.8999998569488525, 'R')], [(3, 1.899999976158142, 'R')], [(3, 0.7699999958276749, 'R'), (2, 4.8999998569488525, 'R'), (3, 1.899999976158142, 'L'), (2, 5.450000047683716, 'R')], [(3, 0.7699999958276749, 'R'), (2, 4.8999998569488525, 'R'), (3, 1.899999976158142, 'L')], [(3, 0.7699999958276749, 'R'), (2, 4.8999998569488525, 'R')], [(3, 0.7699999958276749, 'R')], [(2, 4.8999998569488525, 'R'), (3, 1.899999976158142, 'L'), (2, 5.450000047683716, 'R')], [(2, 4.8999998569488525, 'R'), (3, 1.899999976158142, 'L')], [(2, 4.8999998569488525, 'R')], [(3, 1.899999976158142, 'L'), (2, 5.450000047683716, 'R')], [(3, 1.899999976158142, 'L')], [(2, 5.450000047683716, 'R')], [(2, 4.8999998569488525, 'R'), (3, 1.899999976158142, 'L')], [(3, 0.7699999958276749, 'R'), (2, 4.8999998569488525, 'R'), (3, 1.899999976158142, 'L'), (2, 5.450000047683716, 'L'), (0, 6.549999952316284, 'R')], [(3, 0.7699999958276749, 'R'), (2, 4.8999998569488525, 'R'), (3, 1.899999976158142, 'L'), (2, 5.450000047683716, 'L')], [(3, 0.7699999958276749, 'R'), (2, 4.8999998569488525, 'R'), (3, 1.899999976158142, 'L')], [(3, 0.7699999958276749, 'R'), (2, 4.8999998569488525, 'R')], [(3, 0.7699999958276749, 'R')], [(2, 4.8999998569488525, 'R'), (3, 1.899999976158142, 'L'), (2, 5.450000047683716, 'L'), (0, 6.549999952316284, 'R')], [(2, 4.8999998569488525, 'R'), (3, 1.899999976158142, 'L'), (2, 5.450000047683716, 'L')], [(2, 4.8999998569488525, 'R'), (3, 1.899999976158142, 'L')], [(2, 4.8999998569488525, 'R')], [(3, 1.899999976158142, 'L'), (2, 5.450000047683716, 'L'), (0, 6.549999952316284, 'R')], [(3, 1.899999976158142, 'L'), (2, 5.450000047683716, 'L')], [(3, 1.899999976158142, 'L')], [(2, 5.450000047683716, 'L'), (0, 6.549999952316284, 'R')], [(2, 5.450000047683716, 'L')], [(0, 6.549999952316284, 'R')], [(2, 4.8999998569488525, 'R'), (3, 1.899999976158142, 'L'), (2, 5.450000047683716, 'L')], [(2, 4.8999998569488525, 'R'), (3, 1.899999976158142, 'L')]]\n",
      "**************************************************\n",
      "ici :  [[(3, 0.7699999958276749, 'R'), (2, 4.8999998569488525, 'R'), (3, 1.899999976158142, 'L'), (2, 5.450000047683716, 'L'), (0, 6.549999952316284, 'L'), (1, 3.100000023841858, 'R')], [(3, 0.7699999958276749, 'R'), (2, 4.8999998569488525, 'R'), (3, 1.899999976158142, 'L'), (2, 5.450000047683716, 'L'), (0, 6.549999952316284, 'L')], [(3, 0.7699999958276749, 'R'), (2, 4.8999998569488525, 'R'), (3, 1.899999976158142, 'L'), (2, 5.450000047683716, 'L')], [(3, 0.7699999958276749, 'R'), (2, 4.8999998569488525, 'R'), (3, 1.899999976158142, 'L')], [(3, 0.7699999958276749, 'R'), (2, 4.8999998569488525, 'R')], [(3, 0.7699999958276749, 'R')]]\n",
      "ici :  [[(2, 4.8999998569488525, 'R'), (3, 1.899999976158142, 'L'), (2, 5.450000047683716, 'L'), (0, 6.549999952316284, 'L'), (1, 3.100000023841858, 'R')], [(2, 4.8999998569488525, 'R'), (3, 1.899999976158142, 'L'), (2, 5.450000047683716, 'L'), (0, 6.549999952316284, 'L')], [(2, 4.8999998569488525, 'R'), (3, 1.899999976158142, 'L'), (2, 5.450000047683716, 'L')], [(2, 4.8999998569488525, 'R'), (3, 1.899999976158142, 'L')], [(2, 4.8999998569488525, 'R')]]\n",
      "ici :  [[(3, 1.899999976158142, 'L'), (2, 5.450000047683716, 'L'), (0, 6.549999952316284, 'L'), (1, 3.100000023841858, 'R')], [(3, 1.899999976158142, 'L'), (2, 5.450000047683716, 'L'), (0, 6.549999952316284, 'L')], [(3, 1.899999976158142, 'L'), (2, 5.450000047683716, 'L')], [(3, 1.899999976158142, 'L')]]\n",
      "ici :  [[(2, 5.450000047683716, 'L'), (0, 6.549999952316284, 'L'), (1, 3.100000023841858, 'R')], [(2, 5.450000047683716, 'L'), (0, 6.549999952316284, 'L')], [(2, 5.450000047683716, 'L')]]\n",
      "ici :  [[(0, 6.549999952316284, 'L'), (1, 3.100000023841858, 'R')], [(0, 6.549999952316284, 'L')]]\n",
      "ici :  [[(1, 3.100000023841858, 'R')]]\n",
      "TAIIIILLE :  6\n",
      "aa\n",
      "curr path :  [(2, 4.8999998569488525, 'R'), (3, 1.899999976158142, 'L'), (2, 5.450000047683716, 'L'), (0, 6.549999952316284, 'L')]\n",
      "list_sub_path :  [[(2, 4.8999998569488525, 'R'), (3, 1.899999976158142, 'L'), (2, 5.450000047683716, 'L'), (0, 6.549999952316284, 'L')], [(2, 4.8999998569488525, 'R'), (3, 1.899999976158142, 'L'), (2, 5.450000047683716, 'L')], [(2, 4.8999998569488525, 'R'), (3, 1.899999976158142, 'L')]]\n",
      "curr path :  [(3, 1.899999976158142, 'L'), (2, 5.450000047683716, 'L')]\n",
      "list_sub_path :  [[(3, 1.899999976158142, 'L'), (2, 5.450000047683716, 'L')]]\n",
      "end iteration all_paths_list :  [[(3, 0.7699999958276749, 'L')], [(3, 0.7699999958276749, 'R'), (2, 4.8999998569488525, 'L'), (0, 5.4649999141693115, 'L'), (1, 2.950000047683716, 'L'), (3, 1.4699999690055847, 'L')], [(3, 0.7699999958276749, 'R'), (2, 4.8999998569488525, 'L'), (0, 5.4649999141693115, 'L'), (1, 2.950000047683716, 'L')], [(3, 0.7699999958276749, 'R'), (2, 4.8999998569488525, 'L'), (0, 5.4649999141693115, 'L')], [(3, 0.7699999958276749, 'R'), (2, 4.8999998569488525, 'L')], [(3, 0.7699999958276749, 'R')], [(2, 4.8999998569488525, 'L'), (0, 5.4649999141693115, 'L'), (1, 2.950000047683716, 'L'), (3, 1.4699999690055847, 'L')], [(2, 4.8999998569488525, 'L'), (0, 5.4649999141693115, 'L'), (1, 2.950000047683716, 'L')], [(2, 4.8999998569488525, 'L'), (0, 5.4649999141693115, 'L')], [(2, 4.8999998569488525, 'L')], [(0, 5.4649999141693115, 'L'), (1, 2.950000047683716, 'L'), (3, 1.4699999690055847, 'L')], [(0, 5.4649999141693115, 'L'), (1, 2.950000047683716, 'L')], [(0, 5.4649999141693115, 'L')], [(1, 2.950000047683716, 'L'), (3, 1.4699999690055847, 'L')], [(1, 2.950000047683716, 'L')], [(3, 1.4699999690055847, 'L')], [(2, 4.8999998569488525, 'L'), (0, 5.4649999141693115, 'L'), (1, 2.950000047683716, 'L')], [(2, 4.8999998569488525, 'L'), (0, 5.4649999141693115, 'L')], [(3, 0.7699999958276749, 'R'), (2, 4.8999998569488525, 'R'), (3, 1.899999976158142, 'L'), (2, 5.450000047683716, 'L'), (0, 6.549999952316284, 'L'), (1, 3.100000023841858, 'L'), (1, 2.600000023841858, 'L'), (0, 6.2799999713897705, 'L')], [(3, 0.7699999958276749, 'R'), (2, 4.8999998569488525, 'R'), (3, 1.899999976158142, 'L'), (2, 5.450000047683716, 'L'), (0, 6.549999952316284, 'L'), (1, 3.100000023841858, 'L'), (1, 2.600000023841858, 'L')], [(3, 0.7699999958276749, 'R'), (2, 4.8999998569488525, 'R'), (3, 1.899999976158142, 'L'), (2, 5.450000047683716, 'L'), (0, 6.549999952316284, 'L'), (1, 3.100000023841858, 'L')], [(3, 0.7699999958276749, 'R'), (2, 4.8999998569488525, 'R'), (3, 1.899999976158142, 'L'), (2, 5.450000047683716, 'L'), (0, 6.549999952316284, 'L')], [(3, 0.7699999958276749, 'R'), (2, 4.8999998569488525, 'R'), (3, 1.899999976158142, 'L'), (2, 5.450000047683716, 'L')], [(3, 0.7699999958276749, 'R'), (2, 4.8999998569488525, 'R'), (3, 1.899999976158142, 'L')], [(3, 0.7699999958276749, 'R'), (2, 4.8999998569488525, 'R')], [(3, 0.7699999958276749, 'R')], [(2, 4.8999998569488525, 'R'), (3, 1.899999976158142, 'L'), (2, 5.450000047683716, 'L'), (0, 6.549999952316284, 'L'), (1, 3.100000023841858, 'L'), (1, 2.600000023841858, 'L'), (0, 6.2799999713897705, 'L')], [(2, 4.8999998569488525, 'R'), (3, 1.899999976158142, 'L'), (2, 5.450000047683716, 'L'), (0, 6.549999952316284, 'L'), (1, 3.100000023841858, 'L'), (1, 2.600000023841858, 'L')], [(2, 4.8999998569488525, 'R'), (3, 1.899999976158142, 'L'), (2, 5.450000047683716, 'L'), (0, 6.549999952316284, 'L'), (1, 3.100000023841858, 'L')], [(2, 4.8999998569488525, 'R'), (3, 1.899999976158142, 'L'), (2, 5.450000047683716, 'L'), (0, 6.549999952316284, 'L')], [(2, 4.8999998569488525, 'R'), (3, 1.899999976158142, 'L'), (2, 5.450000047683716, 'L')], [(2, 4.8999998569488525, 'R'), (3, 1.899999976158142, 'L')], [(2, 4.8999998569488525, 'R')], [(3, 1.899999976158142, 'L'), (2, 5.450000047683716, 'L'), (0, 6.549999952316284, 'L'), (1, 3.100000023841858, 'L'), (1, 2.600000023841858, 'L'), (0, 6.2799999713897705, 'L')], [(3, 1.899999976158142, 'L'), (2, 5.450000047683716, 'L'), (0, 6.549999952316284, 'L'), (1, 3.100000023841858, 'L'), (1, 2.600000023841858, 'L')], [(3, 1.899999976158142, 'L'), (2, 5.450000047683716, 'L'), (0, 6.549999952316284, 'L'), (1, 3.100000023841858, 'L')], [(3, 1.899999976158142, 'L'), (2, 5.450000047683716, 'L'), (0, 6.549999952316284, 'L')], [(3, 1.899999976158142, 'L'), (2, 5.450000047683716, 'L')], [(3, 1.899999976158142, 'L')], [(2, 5.450000047683716, 'L'), (0, 6.549999952316284, 'L'), (1, 3.100000023841858, 'L'), (1, 2.600000023841858, 'L'), (0, 6.2799999713897705, 'L')], [(2, 5.450000047683716, 'L'), (0, 6.549999952316284, 'L'), (1, 3.100000023841858, 'L'), (1, 2.600000023841858, 'L')], [(2, 5.450000047683716, 'L'), (0, 6.549999952316284, 'L'), (1, 3.100000023841858, 'L')], [(2, 5.450000047683716, 'L'), (0, 6.549999952316284, 'L')], [(2, 5.450000047683716, 'L')], [(0, 6.549999952316284, 'L'), (1, 3.100000023841858, 'L'), (1, 2.600000023841858, 'L'), (0, 6.2799999713897705, 'L')], [(0, 6.549999952316284, 'L'), (1, 3.100000023841858, 'L'), (1, 2.600000023841858, 'L')], [(0, 6.549999952316284, 'L'), (1, 3.100000023841858, 'L')], [(0, 6.549999952316284, 'L')], [(1, 3.100000023841858, 'L'), (1, 2.600000023841858, 'L'), (0, 6.2799999713897705, 'L')], [(1, 3.100000023841858, 'L'), (1, 2.600000023841858, 'L')], [(1, 3.100000023841858, 'L')], [(1, 2.600000023841858, 'L'), (0, 6.2799999713897705, 'L')], [(1, 2.600000023841858, 'L')], [(0, 6.2799999713897705, 'L')], [(2, 4.8999998569488525, 'R'), (3, 1.899999976158142, 'L'), (2, 5.450000047683716, 'L'), (0, 6.549999952316284, 'L'), (1, 3.100000023841858, 'L'), (1, 2.600000023841858, 'L')], [(2, 4.8999998569488525, 'R'), (3, 1.899999976158142, 'L'), (2, 5.450000047683716, 'L'), (0, 6.549999952316284, 'L'), (1, 3.100000023841858, 'L')], [(2, 4.8999998569488525, 'R'), (3, 1.899999976158142, 'L'), (2, 5.450000047683716, 'L'), (0, 6.549999952316284, 'L')], [(2, 4.8999998569488525, 'R'), (3, 1.899999976158142, 'L'), (2, 5.450000047683716, 'L')], [(2, 4.8999998569488525, 'R'), (3, 1.899999976158142, 'L')], [(3, 1.899999976158142, 'L'), (2, 5.450000047683716, 'L'), (0, 6.549999952316284, 'L'), (1, 3.100000023841858, 'L')], [(3, 1.899999976158142, 'L'), (2, 5.450000047683716, 'L'), (0, 6.549999952316284, 'L')], [(3, 1.899999976158142, 'L'), (2, 5.450000047683716, 'L')], [(2, 5.450000047683716, 'L'), (0, 6.549999952316284, 'L')], [(3, 0.7699999958276749, 'R'), (2, 4.8999998569488525, 'R'), (3, 1.899999976158142, 'R')], [(3, 0.7699999958276749, 'R'), (2, 4.8999998569488525, 'R')], [(3, 0.7699999958276749, 'R')], [(2, 4.8999998569488525, 'R'), (3, 1.899999976158142, 'R')], [(2, 4.8999998569488525, 'R')], [(3, 1.899999976158142, 'R')], [(3, 0.7699999958276749, 'R'), (2, 4.8999998569488525, 'R'), (3, 1.899999976158142, 'L'), (2, 5.450000047683716, 'R')], [(3, 0.7699999958276749, 'R'), (2, 4.8999998569488525, 'R'), (3, 1.899999976158142, 'L')], [(3, 0.7699999958276749, 'R'), (2, 4.8999998569488525, 'R')], [(3, 0.7699999958276749, 'R')], [(2, 4.8999998569488525, 'R'), (3, 1.899999976158142, 'L'), (2, 5.450000047683716, 'R')], [(2, 4.8999998569488525, 'R'), (3, 1.899999976158142, 'L')], [(2, 4.8999998569488525, 'R')], [(3, 1.899999976158142, 'L'), (2, 5.450000047683716, 'R')], [(3, 1.899999976158142, 'L')], [(2, 5.450000047683716, 'R')], [(2, 4.8999998569488525, 'R'), (3, 1.899999976158142, 'L')], [(3, 0.7699999958276749, 'R'), (2, 4.8999998569488525, 'R'), (3, 1.899999976158142, 'L'), (2, 5.450000047683716, 'L'), (0, 6.549999952316284, 'R')], [(3, 0.7699999958276749, 'R'), (2, 4.8999998569488525, 'R'), (3, 1.899999976158142, 'L'), (2, 5.450000047683716, 'L')], [(3, 0.7699999958276749, 'R'), (2, 4.8999998569488525, 'R'), (3, 1.899999976158142, 'L')], [(3, 0.7699999958276749, 'R'), (2, 4.8999998569488525, 'R')], [(3, 0.7699999958276749, 'R')], [(2, 4.8999998569488525, 'R'), (3, 1.899999976158142, 'L'), (2, 5.450000047683716, 'L'), (0, 6.549999952316284, 'R')], [(2, 4.8999998569488525, 'R'), (3, 1.899999976158142, 'L'), (2, 5.450000047683716, 'L')], [(2, 4.8999998569488525, 'R'), (3, 1.899999976158142, 'L')], [(2, 4.8999998569488525, 'R')], [(3, 1.899999976158142, 'L'), (2, 5.450000047683716, 'L'), (0, 6.549999952316284, 'R')], [(3, 1.899999976158142, 'L'), (2, 5.450000047683716, 'L')], [(3, 1.899999976158142, 'L')], [(2, 5.450000047683716, 'L'), (0, 6.549999952316284, 'R')], [(2, 5.450000047683716, 'L')], [(0, 6.549999952316284, 'R')], [(2, 4.8999998569488525, 'R'), (3, 1.899999976158142, 'L'), (2, 5.450000047683716, 'L')], [(2, 4.8999998569488525, 'R'), (3, 1.899999976158142, 'L')], [(3, 0.7699999958276749, 'R'), (2, 4.8999998569488525, 'R'), (3, 1.899999976158142, 'L'), (2, 5.450000047683716, 'L'), (0, 6.549999952316284, 'L'), (1, 3.100000023841858, 'R')], [(3, 0.7699999958276749, 'R'), (2, 4.8999998569488525, 'R'), (3, 1.899999976158142, 'L'), (2, 5.450000047683716, 'L'), (0, 6.549999952316284, 'L')], [(3, 0.7699999958276749, 'R'), (2, 4.8999998569488525, 'R'), (3, 1.899999976158142, 'L'), (2, 5.450000047683716, 'L')], [(3, 0.7699999958276749, 'R'), (2, 4.8999998569488525, 'R'), (3, 1.899999976158142, 'L')], [(3, 0.7699999958276749, 'R'), (2, 4.8999998569488525, 'R')], [(3, 0.7699999958276749, 'R')], [(2, 4.8999998569488525, 'R'), (3, 1.899999976158142, 'L'), (2, 5.450000047683716, 'L'), (0, 6.549999952316284, 'L'), (1, 3.100000023841858, 'R')], [(2, 4.8999998569488525, 'R'), (3, 1.899999976158142, 'L'), (2, 5.450000047683716, 'L'), (0, 6.549999952316284, 'L')], [(2, 4.8999998569488525, 'R'), (3, 1.899999976158142, 'L'), (2, 5.450000047683716, 'L')], [(2, 4.8999998569488525, 'R'), (3, 1.899999976158142, 'L')], [(2, 4.8999998569488525, 'R')], [(3, 1.899999976158142, 'L'), (2, 5.450000047683716, 'L'), (0, 6.549999952316284, 'L'), (1, 3.100000023841858, 'R')], [(3, 1.899999976158142, 'L'), (2, 5.450000047683716, 'L'), (0, 6.549999952316284, 'L')], [(3, 1.899999976158142, 'L'), (2, 5.450000047683716, 'L')], [(3, 1.899999976158142, 'L')], [(2, 5.450000047683716, 'L'), (0, 6.549999952316284, 'L'), (1, 3.100000023841858, 'R')], [(2, 5.450000047683716, 'L'), (0, 6.549999952316284, 'L')], [(2, 5.450000047683716, 'L')], [(0, 6.549999952316284, 'L'), (1, 3.100000023841858, 'R')], [(0, 6.549999952316284, 'L')], [(1, 3.100000023841858, 'R')], [(2, 4.8999998569488525, 'R'), (3, 1.899999976158142, 'L'), (2, 5.450000047683716, 'L'), (0, 6.549999952316284, 'L')], [(2, 4.8999998569488525, 'R'), (3, 1.899999976158142, 'L'), (2, 5.450000047683716, 'L')], [(2, 4.8999998569488525, 'R'), (3, 1.899999976158142, 'L')], [(3, 1.899999976158142, 'L'), (2, 5.450000047683716, 'L')]]\n",
      "**************************************************\n",
      "ici :  [[(3, 0.7699999958276749, 'R'), (2, 4.8999998569488525, 'R'), (3, 1.899999976158142, 'L'), (2, 5.450000047683716, 'L'), (0, 6.549999952316284, 'L'), (1, 3.100000023841858, 'L'), (1, 2.600000023841858, 'R')], [(3, 0.7699999958276749, 'R'), (2, 4.8999998569488525, 'R'), (3, 1.899999976158142, 'L'), (2, 5.450000047683716, 'L'), (0, 6.549999952316284, 'L'), (1, 3.100000023841858, 'L')], [(3, 0.7699999958276749, 'R'), (2, 4.8999998569488525, 'R'), (3, 1.899999976158142, 'L'), (2, 5.450000047683716, 'L'), (0, 6.549999952316284, 'L')], [(3, 0.7699999958276749, 'R'), (2, 4.8999998569488525, 'R'), (3, 1.899999976158142, 'L'), (2, 5.450000047683716, 'L')], [(3, 0.7699999958276749, 'R'), (2, 4.8999998569488525, 'R'), (3, 1.899999976158142, 'L')], [(3, 0.7699999958276749, 'R'), (2, 4.8999998569488525, 'R')], [(3, 0.7699999958276749, 'R')]]\n",
      "ici :  [[(2, 4.8999998569488525, 'R'), (3, 1.899999976158142, 'L'), (2, 5.450000047683716, 'L'), (0, 6.549999952316284, 'L'), (1, 3.100000023841858, 'L'), (1, 2.600000023841858, 'R')], [(2, 4.8999998569488525, 'R'), (3, 1.899999976158142, 'L'), (2, 5.450000047683716, 'L'), (0, 6.549999952316284, 'L'), (1, 3.100000023841858, 'L')], [(2, 4.8999998569488525, 'R'), (3, 1.899999976158142, 'L'), (2, 5.450000047683716, 'L'), (0, 6.549999952316284, 'L')], [(2, 4.8999998569488525, 'R'), (3, 1.899999976158142, 'L'), (2, 5.450000047683716, 'L')], [(2, 4.8999998569488525, 'R'), (3, 1.899999976158142, 'L')], [(2, 4.8999998569488525, 'R')]]\n",
      "ici :  [[(3, 1.899999976158142, 'L'), (2, 5.450000047683716, 'L'), (0, 6.549999952316284, 'L'), (1, 3.100000023841858, 'L'), (1, 2.600000023841858, 'R')], [(3, 1.899999976158142, 'L'), (2, 5.450000047683716, 'L'), (0, 6.549999952316284, 'L'), (1, 3.100000023841858, 'L')], [(3, 1.899999976158142, 'L'), (2, 5.450000047683716, 'L'), (0, 6.549999952316284, 'L')], [(3, 1.899999976158142, 'L'), (2, 5.450000047683716, 'L')], [(3, 1.899999976158142, 'L')]]\n",
      "ici :  [[(2, 5.450000047683716, 'L'), (0, 6.549999952316284, 'L'), (1, 3.100000023841858, 'L'), (1, 2.600000023841858, 'R')], [(2, 5.450000047683716, 'L'), (0, 6.549999952316284, 'L'), (1, 3.100000023841858, 'L')], [(2, 5.450000047683716, 'L'), (0, 6.549999952316284, 'L')], [(2, 5.450000047683716, 'L')]]\n",
      "ici :  [[(0, 6.549999952316284, 'L'), (1, 3.100000023841858, 'L'), (1, 2.600000023841858, 'R')], [(0, 6.549999952316284, 'L'), (1, 3.100000023841858, 'L')], [(0, 6.549999952316284, 'L')]]\n",
      "ici :  [[(1, 3.100000023841858, 'L'), (1, 2.600000023841858, 'R')], [(1, 3.100000023841858, 'L')]]\n",
      "ici :  [[(1, 2.600000023841858, 'R')]]\n",
      "TAIIIILLE :  7\n",
      "b\n",
      "curr path :  [(2, 4.8999998569488525, 'R'), (3, 1.899999976158142, 'L'), (2, 5.450000047683716, 'L'), (0, 6.549999952316284, 'L'), (1, 3.100000023841858, 'L')]\n",
      "list_sub_path :  [[(2, 4.8999998569488525, 'R'), (3, 1.899999976158142, 'L'), (2, 5.450000047683716, 'L'), (0, 6.549999952316284, 'L'), (1, 3.100000023841858, 'L')], [(2, 4.8999998569488525, 'R'), (3, 1.899999976158142, 'L'), (2, 5.450000047683716, 'L'), (0, 6.549999952316284, 'L')], [(2, 4.8999998569488525, 'R'), (3, 1.899999976158142, 'L'), (2, 5.450000047683716, 'L')], [(2, 4.8999998569488525, 'R'), (3, 1.899999976158142, 'L')]]\n",
      "curr path :  [(3, 1.899999976158142, 'L'), (2, 5.450000047683716, 'L'), (0, 6.549999952316284, 'L')]\n",
      "list_sub_path :  [[(3, 1.899999976158142, 'L'), (2, 5.450000047683716, 'L'), (0, 6.549999952316284, 'L')], [(3, 1.899999976158142, 'L'), (2, 5.450000047683716, 'L')]]\n",
      "end iteration all_paths_list :  [[(3, 0.7699999958276749, 'L')], [(3, 0.7699999958276749, 'R'), (2, 4.8999998569488525, 'L'), (0, 5.4649999141693115, 'L'), (1, 2.950000047683716, 'L'), (3, 1.4699999690055847, 'L')], [(3, 0.7699999958276749, 'R'), (2, 4.8999998569488525, 'L'), (0, 5.4649999141693115, 'L'), (1, 2.950000047683716, 'L')], [(3, 0.7699999958276749, 'R'), (2, 4.8999998569488525, 'L'), (0, 5.4649999141693115, 'L')], [(3, 0.7699999958276749, 'R'), (2, 4.8999998569488525, 'L')], [(3, 0.7699999958276749, 'R')], [(2, 4.8999998569488525, 'L'), (0, 5.4649999141693115, 'L'), (1, 2.950000047683716, 'L'), (3, 1.4699999690055847, 'L')], [(2, 4.8999998569488525, 'L'), (0, 5.4649999141693115, 'L'), (1, 2.950000047683716, 'L')], [(2, 4.8999998569488525, 'L'), (0, 5.4649999141693115, 'L')], [(2, 4.8999998569488525, 'L')], [(0, 5.4649999141693115, 'L'), (1, 2.950000047683716, 'L'), (3, 1.4699999690055847, 'L')], [(0, 5.4649999141693115, 'L'), (1, 2.950000047683716, 'L')], [(0, 5.4649999141693115, 'L')], [(1, 2.950000047683716, 'L'), (3, 1.4699999690055847, 'L')], [(1, 2.950000047683716, 'L')], [(3, 1.4699999690055847, 'L')], [(2, 4.8999998569488525, 'L'), (0, 5.4649999141693115, 'L'), (1, 2.950000047683716, 'L')], [(2, 4.8999998569488525, 'L'), (0, 5.4649999141693115, 'L')], [(3, 0.7699999958276749, 'R'), (2, 4.8999998569488525, 'R'), (3, 1.899999976158142, 'L'), (2, 5.450000047683716, 'L'), (0, 6.549999952316284, 'L'), (1, 3.100000023841858, 'L'), (1, 2.600000023841858, 'L'), (0, 6.2799999713897705, 'L')], [(3, 0.7699999958276749, 'R'), (2, 4.8999998569488525, 'R'), (3, 1.899999976158142, 'L'), (2, 5.450000047683716, 'L'), (0, 6.549999952316284, 'L'), (1, 3.100000023841858, 'L'), (1, 2.600000023841858, 'L')], [(3, 0.7699999958276749, 'R'), (2, 4.8999998569488525, 'R'), (3, 1.899999976158142, 'L'), (2, 5.450000047683716, 'L'), (0, 6.549999952316284, 'L'), (1, 3.100000023841858, 'L')], [(3, 0.7699999958276749, 'R'), (2, 4.8999998569488525, 'R'), (3, 1.899999976158142, 'L'), (2, 5.450000047683716, 'L'), (0, 6.549999952316284, 'L')], [(3, 0.7699999958276749, 'R'), (2, 4.8999998569488525, 'R'), (3, 1.899999976158142, 'L'), (2, 5.450000047683716, 'L')], [(3, 0.7699999958276749, 'R'), (2, 4.8999998569488525, 'R'), (3, 1.899999976158142, 'L')], [(3, 0.7699999958276749, 'R'), (2, 4.8999998569488525, 'R')], [(3, 0.7699999958276749, 'R')], [(2, 4.8999998569488525, 'R'), (3, 1.899999976158142, 'L'), (2, 5.450000047683716, 'L'), (0, 6.549999952316284, 'L'), (1, 3.100000023841858, 'L'), (1, 2.600000023841858, 'L'), (0, 6.2799999713897705, 'L')], [(2, 4.8999998569488525, 'R'), (3, 1.899999976158142, 'L'), (2, 5.450000047683716, 'L'), (0, 6.549999952316284, 'L'), (1, 3.100000023841858, 'L'), (1, 2.600000023841858, 'L')], [(2, 4.8999998569488525, 'R'), (3, 1.899999976158142, 'L'), (2, 5.450000047683716, 'L'), (0, 6.549999952316284, 'L'), (1, 3.100000023841858, 'L')], [(2, 4.8999998569488525, 'R'), (3, 1.899999976158142, 'L'), (2, 5.450000047683716, 'L'), (0, 6.549999952316284, 'L')], [(2, 4.8999998569488525, 'R'), (3, 1.899999976158142, 'L'), (2, 5.450000047683716, 'L')], [(2, 4.8999998569488525, 'R'), (3, 1.899999976158142, 'L')], [(2, 4.8999998569488525, 'R')], [(3, 1.899999976158142, 'L'), (2, 5.450000047683716, 'L'), (0, 6.549999952316284, 'L'), (1, 3.100000023841858, 'L'), (1, 2.600000023841858, 'L'), (0, 6.2799999713897705, 'L')], [(3, 1.899999976158142, 'L'), (2, 5.450000047683716, 'L'), (0, 6.549999952316284, 'L'), (1, 3.100000023841858, 'L'), (1, 2.600000023841858, 'L')], [(3, 1.899999976158142, 'L'), (2, 5.450000047683716, 'L'), (0, 6.549999952316284, 'L'), (1, 3.100000023841858, 'L')], [(3, 1.899999976158142, 'L'), (2, 5.450000047683716, 'L'), (0, 6.549999952316284, 'L')], [(3, 1.899999976158142, 'L'), (2, 5.450000047683716, 'L')], [(3, 1.899999976158142, 'L')], [(2, 5.450000047683716, 'L'), (0, 6.549999952316284, 'L'), (1, 3.100000023841858, 'L'), (1, 2.600000023841858, 'L'), (0, 6.2799999713897705, 'L')], [(2, 5.450000047683716, 'L'), (0, 6.549999952316284, 'L'), (1, 3.100000023841858, 'L'), (1, 2.600000023841858, 'L')], [(2, 5.450000047683716, 'L'), (0, 6.549999952316284, 'L'), (1, 3.100000023841858, 'L')], [(2, 5.450000047683716, 'L'), (0, 6.549999952316284, 'L')], [(2, 5.450000047683716, 'L')], [(0, 6.549999952316284, 'L'), (1, 3.100000023841858, 'L'), (1, 2.600000023841858, 'L'), (0, 6.2799999713897705, 'L')], [(0, 6.549999952316284, 'L'), (1, 3.100000023841858, 'L'), (1, 2.600000023841858, 'L')], [(0, 6.549999952316284, 'L'), (1, 3.100000023841858, 'L')], [(0, 6.549999952316284, 'L')], [(1, 3.100000023841858, 'L'), (1, 2.600000023841858, 'L'), (0, 6.2799999713897705, 'L')], [(1, 3.100000023841858, 'L'), (1, 2.600000023841858, 'L')], [(1, 3.100000023841858, 'L')], [(1, 2.600000023841858, 'L'), (0, 6.2799999713897705, 'L')], [(1, 2.600000023841858, 'L')], [(0, 6.2799999713897705, 'L')], [(2, 4.8999998569488525, 'R'), (3, 1.899999976158142, 'L'), (2, 5.450000047683716, 'L'), (0, 6.549999952316284, 'L'), (1, 3.100000023841858, 'L'), (1, 2.600000023841858, 'L')], [(2, 4.8999998569488525, 'R'), (3, 1.899999976158142, 'L'), (2, 5.450000047683716, 'L'), (0, 6.549999952316284, 'L'), (1, 3.100000023841858, 'L')], [(2, 4.8999998569488525, 'R'), (3, 1.899999976158142, 'L'), (2, 5.450000047683716, 'L'), (0, 6.549999952316284, 'L')], [(2, 4.8999998569488525, 'R'), (3, 1.899999976158142, 'L'), (2, 5.450000047683716, 'L')], [(2, 4.8999998569488525, 'R'), (3, 1.899999976158142, 'L')], [(3, 1.899999976158142, 'L'), (2, 5.450000047683716, 'L'), (0, 6.549999952316284, 'L'), (1, 3.100000023841858, 'L')], [(3, 1.899999976158142, 'L'), (2, 5.450000047683716, 'L'), (0, 6.549999952316284, 'L')], [(3, 1.899999976158142, 'L'), (2, 5.450000047683716, 'L')], [(2, 5.450000047683716, 'L'), (0, 6.549999952316284, 'L')], [(3, 0.7699999958276749, 'R'), (2, 4.8999998569488525, 'R'), (3, 1.899999976158142, 'R')], [(3, 0.7699999958276749, 'R'), (2, 4.8999998569488525, 'R')], [(3, 0.7699999958276749, 'R')], [(2, 4.8999998569488525, 'R'), (3, 1.899999976158142, 'R')], [(2, 4.8999998569488525, 'R')], [(3, 1.899999976158142, 'R')], [(3, 0.7699999958276749, 'R'), (2, 4.8999998569488525, 'R'), (3, 1.899999976158142, 'L'), (2, 5.450000047683716, 'R')], [(3, 0.7699999958276749, 'R'), (2, 4.8999998569488525, 'R'), (3, 1.899999976158142, 'L')], [(3, 0.7699999958276749, 'R'), (2, 4.8999998569488525, 'R')], [(3, 0.7699999958276749, 'R')], [(2, 4.8999998569488525, 'R'), (3, 1.899999976158142, 'L'), (2, 5.450000047683716, 'R')], [(2, 4.8999998569488525, 'R'), (3, 1.899999976158142, 'L')], [(2, 4.8999998569488525, 'R')], [(3, 1.899999976158142, 'L'), (2, 5.450000047683716, 'R')], [(3, 1.899999976158142, 'L')], [(2, 5.450000047683716, 'R')], [(2, 4.8999998569488525, 'R'), (3, 1.899999976158142, 'L')], [(3, 0.7699999958276749, 'R'), (2, 4.8999998569488525, 'R'), (3, 1.899999976158142, 'L'), (2, 5.450000047683716, 'L'), (0, 6.549999952316284, 'R')], [(3, 0.7699999958276749, 'R'), (2, 4.8999998569488525, 'R'), (3, 1.899999976158142, 'L'), (2, 5.450000047683716, 'L')], [(3, 0.7699999958276749, 'R'), (2, 4.8999998569488525, 'R'), (3, 1.899999976158142, 'L')], [(3, 0.7699999958276749, 'R'), (2, 4.8999998569488525, 'R')], [(3, 0.7699999958276749, 'R')], [(2, 4.8999998569488525, 'R'), (3, 1.899999976158142, 'L'), (2, 5.450000047683716, 'L'), (0, 6.549999952316284, 'R')], [(2, 4.8999998569488525, 'R'), (3, 1.899999976158142, 'L'), (2, 5.450000047683716, 'L')], [(2, 4.8999998569488525, 'R'), (3, 1.899999976158142, 'L')], [(2, 4.8999998569488525, 'R')], [(3, 1.899999976158142, 'L'), (2, 5.450000047683716, 'L'), (0, 6.549999952316284, 'R')], [(3, 1.899999976158142, 'L'), (2, 5.450000047683716, 'L')], [(3, 1.899999976158142, 'L')], [(2, 5.450000047683716, 'L'), (0, 6.549999952316284, 'R')], [(2, 5.450000047683716, 'L')], [(0, 6.549999952316284, 'R')], [(2, 4.8999998569488525, 'R'), (3, 1.899999976158142, 'L'), (2, 5.450000047683716, 'L')], [(2, 4.8999998569488525, 'R'), (3, 1.899999976158142, 'L')], [(3, 0.7699999958276749, 'R'), (2, 4.8999998569488525, 'R'), (3, 1.899999976158142, 'L'), (2, 5.450000047683716, 'L'), (0, 6.549999952316284, 'L'), (1, 3.100000023841858, 'R')], [(3, 0.7699999958276749, 'R'), (2, 4.8999998569488525, 'R'), (3, 1.899999976158142, 'L'), (2, 5.450000047683716, 'L'), (0, 6.549999952316284, 'L')], [(3, 0.7699999958276749, 'R'), (2, 4.8999998569488525, 'R'), (3, 1.899999976158142, 'L'), (2, 5.450000047683716, 'L')], [(3, 0.7699999958276749, 'R'), (2, 4.8999998569488525, 'R'), (3, 1.899999976158142, 'L')], [(3, 0.7699999958276749, 'R'), (2, 4.8999998569488525, 'R')], [(3, 0.7699999958276749, 'R')], [(2, 4.8999998569488525, 'R'), (3, 1.899999976158142, 'L'), (2, 5.450000047683716, 'L'), (0, 6.549999952316284, 'L'), (1, 3.100000023841858, 'R')], [(2, 4.8999998569488525, 'R'), (3, 1.899999976158142, 'L'), (2, 5.450000047683716, 'L'), (0, 6.549999952316284, 'L')], [(2, 4.8999998569488525, 'R'), (3, 1.899999976158142, 'L'), (2, 5.450000047683716, 'L')], [(2, 4.8999998569488525, 'R'), (3, 1.899999976158142, 'L')], [(2, 4.8999998569488525, 'R')], [(3, 1.899999976158142, 'L'), (2, 5.450000047683716, 'L'), (0, 6.549999952316284, 'L'), (1, 3.100000023841858, 'R')], [(3, 1.899999976158142, 'L'), (2, 5.450000047683716, 'L'), (0, 6.549999952316284, 'L')], [(3, 1.899999976158142, 'L'), (2, 5.450000047683716, 'L')], [(3, 1.899999976158142, 'L')], [(2, 5.450000047683716, 'L'), (0, 6.549999952316284, 'L'), (1, 3.100000023841858, 'R')], [(2, 5.450000047683716, 'L'), (0, 6.549999952316284, 'L')], [(2, 5.450000047683716, 'L')], [(0, 6.549999952316284, 'L'), (1, 3.100000023841858, 'R')], [(0, 6.549999952316284, 'L')], [(1, 3.100000023841858, 'R')], [(2, 4.8999998569488525, 'R'), (3, 1.899999976158142, 'L'), (2, 5.450000047683716, 'L'), (0, 6.549999952316284, 'L')], [(2, 4.8999998569488525, 'R'), (3, 1.899999976158142, 'L'), (2, 5.450000047683716, 'L')], [(2, 4.8999998569488525, 'R'), (3, 1.899999976158142, 'L')], [(3, 1.899999976158142, 'L'), (2, 5.450000047683716, 'L')], [(3, 0.7699999958276749, 'R'), (2, 4.8999998569488525, 'R'), (3, 1.899999976158142, 'L'), (2, 5.450000047683716, 'L'), (0, 6.549999952316284, 'L'), (1, 3.100000023841858, 'L'), (1, 2.600000023841858, 'R')], [(3, 0.7699999958276749, 'R'), (2, 4.8999998569488525, 'R'), (3, 1.899999976158142, 'L'), (2, 5.450000047683716, 'L'), (0, 6.549999952316284, 'L'), (1, 3.100000023841858, 'L')], [(3, 0.7699999958276749, 'R'), (2, 4.8999998569488525, 'R'), (3, 1.899999976158142, 'L'), (2, 5.450000047683716, 'L'), (0, 6.549999952316284, 'L')], [(3, 0.7699999958276749, 'R'), (2, 4.8999998569488525, 'R'), (3, 1.899999976158142, 'L'), (2, 5.450000047683716, 'L')], [(3, 0.7699999958276749, 'R'), (2, 4.8999998569488525, 'R'), (3, 1.899999976158142, 'L')], [(3, 0.7699999958276749, 'R'), (2, 4.8999998569488525, 'R')], [(3, 0.7699999958276749, 'R')], [(2, 4.8999998569488525, 'R'), (3, 1.899999976158142, 'L'), (2, 5.450000047683716, 'L'), (0, 6.549999952316284, 'L'), (1, 3.100000023841858, 'L'), (1, 2.600000023841858, 'R')], [(2, 4.8999998569488525, 'R'), (3, 1.899999976158142, 'L'), (2, 5.450000047683716, 'L'), (0, 6.549999952316284, 'L'), (1, 3.100000023841858, 'L')], [(2, 4.8999998569488525, 'R'), (3, 1.899999976158142, 'L'), (2, 5.450000047683716, 'L'), (0, 6.549999952316284, 'L')], [(2, 4.8999998569488525, 'R'), (3, 1.899999976158142, 'L'), (2, 5.450000047683716, 'L')], [(2, 4.8999998569488525, 'R'), (3, 1.899999976158142, 'L')], [(2, 4.8999998569488525, 'R')], [(3, 1.899999976158142, 'L'), (2, 5.450000047683716, 'L'), (0, 6.549999952316284, 'L'), (1, 3.100000023841858, 'L'), (1, 2.600000023841858, 'R')], [(3, 1.899999976158142, 'L'), (2, 5.450000047683716, 'L'), (0, 6.549999952316284, 'L'), (1, 3.100000023841858, 'L')], [(3, 1.899999976158142, 'L'), (2, 5.450000047683716, 'L'), (0, 6.549999952316284, 'L')], [(3, 1.899999976158142, 'L'), (2, 5.450000047683716, 'L')], [(3, 1.899999976158142, 'L')], [(2, 5.450000047683716, 'L'), (0, 6.549999952316284, 'L'), (1, 3.100000023841858, 'L'), (1, 2.600000023841858, 'R')], [(2, 5.450000047683716, 'L'), (0, 6.549999952316284, 'L'), (1, 3.100000023841858, 'L')], [(2, 5.450000047683716, 'L'), (0, 6.549999952316284, 'L')], [(2, 5.450000047683716, 'L')], [(0, 6.549999952316284, 'L'), (1, 3.100000023841858, 'L'), (1, 2.600000023841858, 'R')], [(0, 6.549999952316284, 'L'), (1, 3.100000023841858, 'L')], [(0, 6.549999952316284, 'L')], [(1, 3.100000023841858, 'L'), (1, 2.600000023841858, 'R')], [(1, 3.100000023841858, 'L')], [(1, 2.600000023841858, 'R')], [(2, 4.8999998569488525, 'R'), (3, 1.899999976158142, 'L'), (2, 5.450000047683716, 'L'), (0, 6.549999952316284, 'L'), (1, 3.100000023841858, 'L')], [(2, 4.8999998569488525, 'R'), (3, 1.899999976158142, 'L'), (2, 5.450000047683716, 'L'), (0, 6.549999952316284, 'L')], [(2, 4.8999998569488525, 'R'), (3, 1.899999976158142, 'L'), (2, 5.450000047683716, 'L')], [(2, 4.8999998569488525, 'R'), (3, 1.899999976158142, 'L')], [(3, 1.899999976158142, 'L'), (2, 5.450000047683716, 'L'), (0, 6.549999952316284, 'L')], [(3, 1.899999976158142, 'L'), (2, 5.450000047683716, 'L')]]\n",
      "**************************************************\n",
      "ici :  [[(3, 0.7699999958276749, 'R'), (2, 4.8999998569488525, 'R'), (3, 1.899999976158142, 'L'), (2, 5.450000047683716, 'L'), (0, 6.549999952316284, 'L'), (1, 3.100000023841858, 'L'), (1, 2.600000023841858, 'L'), (0, 6.2799999713897705, 'R')], [(3, 0.7699999958276749, 'R'), (2, 4.8999998569488525, 'R'), (3, 1.899999976158142, 'L'), (2, 5.450000047683716, 'L'), (0, 6.549999952316284, 'L'), (1, 3.100000023841858, 'L'), (1, 2.600000023841858, 'L')], [(3, 0.7699999958276749, 'R'), (2, 4.8999998569488525, 'R'), (3, 1.899999976158142, 'L'), (2, 5.450000047683716, 'L'), (0, 6.549999952316284, 'L'), (1, 3.100000023841858, 'L')], [(3, 0.7699999958276749, 'R'), (2, 4.8999998569488525, 'R'), (3, 1.899999976158142, 'L'), (2, 5.450000047683716, 'L'), (0, 6.549999952316284, 'L')], [(3, 0.7699999958276749, 'R'), (2, 4.8999998569488525, 'R'), (3, 1.899999976158142, 'L'), (2, 5.450000047683716, 'L')], [(3, 0.7699999958276749, 'R'), (2, 4.8999998569488525, 'R'), (3, 1.899999976158142, 'L')], [(3, 0.7699999958276749, 'R'), (2, 4.8999998569488525, 'R')], [(3, 0.7699999958276749, 'R')]]\n",
      "ici :  [[(2, 4.8999998569488525, 'R'), (3, 1.899999976158142, 'L'), (2, 5.450000047683716, 'L'), (0, 6.549999952316284, 'L'), (1, 3.100000023841858, 'L'), (1, 2.600000023841858, 'L'), (0, 6.2799999713897705, 'R')], [(2, 4.8999998569488525, 'R'), (3, 1.899999976158142, 'L'), (2, 5.450000047683716, 'L'), (0, 6.549999952316284, 'L'), (1, 3.100000023841858, 'L'), (1, 2.600000023841858, 'L')], [(2, 4.8999998569488525, 'R'), (3, 1.899999976158142, 'L'), (2, 5.450000047683716, 'L'), (0, 6.549999952316284, 'L'), (1, 3.100000023841858, 'L')], [(2, 4.8999998569488525, 'R'), (3, 1.899999976158142, 'L'), (2, 5.450000047683716, 'L'), (0, 6.549999952316284, 'L')], [(2, 4.8999998569488525, 'R'), (3, 1.899999976158142, 'L'), (2, 5.450000047683716, 'L')], [(2, 4.8999998569488525, 'R'), (3, 1.899999976158142, 'L')], [(2, 4.8999998569488525, 'R')]]\n",
      "ici :  [[(3, 1.899999976158142, 'L'), (2, 5.450000047683716, 'L'), (0, 6.549999952316284, 'L'), (1, 3.100000023841858, 'L'), (1, 2.600000023841858, 'L'), (0, 6.2799999713897705, 'R')], [(3, 1.899999976158142, 'L'), (2, 5.450000047683716, 'L'), (0, 6.549999952316284, 'L'), (1, 3.100000023841858, 'L'), (1, 2.600000023841858, 'L')], [(3, 1.899999976158142, 'L'), (2, 5.450000047683716, 'L'), (0, 6.549999952316284, 'L'), (1, 3.100000023841858, 'L')], [(3, 1.899999976158142, 'L'), (2, 5.450000047683716, 'L'), (0, 6.549999952316284, 'L')], [(3, 1.899999976158142, 'L'), (2, 5.450000047683716, 'L')], [(3, 1.899999976158142, 'L')]]\n",
      "ici :  [[(2, 5.450000047683716, 'L'), (0, 6.549999952316284, 'L'), (1, 3.100000023841858, 'L'), (1, 2.600000023841858, 'L'), (0, 6.2799999713897705, 'R')], [(2, 5.450000047683716, 'L'), (0, 6.549999952316284, 'L'), (1, 3.100000023841858, 'L'), (1, 2.600000023841858, 'L')], [(2, 5.450000047683716, 'L'), (0, 6.549999952316284, 'L'), (1, 3.100000023841858, 'L')], [(2, 5.450000047683716, 'L'), (0, 6.549999952316284, 'L')], [(2, 5.450000047683716, 'L')]]\n",
      "ici :  [[(0, 6.549999952316284, 'L'), (1, 3.100000023841858, 'L'), (1, 2.600000023841858, 'L'), (0, 6.2799999713897705, 'R')], [(0, 6.549999952316284, 'L'), (1, 3.100000023841858, 'L'), (1, 2.600000023841858, 'L')], [(0, 6.549999952316284, 'L'), (1, 3.100000023841858, 'L')], [(0, 6.549999952316284, 'L')]]\n",
      "ici :  [[(1, 3.100000023841858, 'L'), (1, 2.600000023841858, 'L'), (0, 6.2799999713897705, 'R')], [(1, 3.100000023841858, 'L'), (1, 2.600000023841858, 'L')], [(1, 3.100000023841858, 'L')]]\n",
      "ici :  [[(1, 2.600000023841858, 'L'), (0, 6.2799999713897705, 'R')], [(1, 2.600000023841858, 'L')]]\n",
      "ici :  [[(0, 6.2799999713897705, 'R')]]\n",
      "TAIIIILLE :  8\n",
      "aa\n",
      "curr path :  [(2, 4.8999998569488525, 'R'), (3, 1.899999976158142, 'L'), (2, 5.450000047683716, 'L'), (0, 6.549999952316284, 'L'), (1, 3.100000023841858, 'L'), (1, 2.600000023841858, 'L')]\n",
      "list_sub_path :  [[(2, 4.8999998569488525, 'R'), (3, 1.899999976158142, 'L'), (2, 5.450000047683716, 'L'), (0, 6.549999952316284, 'L'), (1, 3.100000023841858, 'L'), (1, 2.600000023841858, 'L')], [(2, 4.8999998569488525, 'R'), (3, 1.899999976158142, 'L'), (2, 5.450000047683716, 'L'), (0, 6.549999952316284, 'L'), (1, 3.100000023841858, 'L')], [(2, 4.8999998569488525, 'R'), (3, 1.899999976158142, 'L'), (2, 5.450000047683716, 'L'), (0, 6.549999952316284, 'L')], [(2, 4.8999998569488525, 'R'), (3, 1.899999976158142, 'L'), (2, 5.450000047683716, 'L')], [(2, 4.8999998569488525, 'R'), (3, 1.899999976158142, 'L')]]\n",
      "curr path :  [(3, 1.899999976158142, 'L'), (2, 5.450000047683716, 'L'), (0, 6.549999952316284, 'L'), (1, 3.100000023841858, 'L')]\n",
      "list_sub_path :  [[(3, 1.899999976158142, 'L'), (2, 5.450000047683716, 'L'), (0, 6.549999952316284, 'L'), (1, 3.100000023841858, 'L')], [(3, 1.899999976158142, 'L'), (2, 5.450000047683716, 'L'), (0, 6.549999952316284, 'L')], [(3, 1.899999976158142, 'L'), (2, 5.450000047683716, 'L')]]\n",
      "curr path :  [(2, 5.450000047683716, 'L'), (0, 6.549999952316284, 'L')]\n",
      "list_sub_path :  [[(2, 5.450000047683716, 'L'), (0, 6.549999952316284, 'L')]]\n",
      "end iteration all_paths_list :  [[(3, 0.7699999958276749, 'L')], [(3, 0.7699999958276749, 'R'), (2, 4.8999998569488525, 'L'), (0, 5.4649999141693115, 'L'), (1, 2.950000047683716, 'L'), (3, 1.4699999690055847, 'L')], [(3, 0.7699999958276749, 'R'), (2, 4.8999998569488525, 'L'), (0, 5.4649999141693115, 'L'), (1, 2.950000047683716, 'L')], [(3, 0.7699999958276749, 'R'), (2, 4.8999998569488525, 'L'), (0, 5.4649999141693115, 'L')], [(3, 0.7699999958276749, 'R'), (2, 4.8999998569488525, 'L')], [(3, 0.7699999958276749, 'R')], [(2, 4.8999998569488525, 'L'), (0, 5.4649999141693115, 'L'), (1, 2.950000047683716, 'L'), (3, 1.4699999690055847, 'L')], [(2, 4.8999998569488525, 'L'), (0, 5.4649999141693115, 'L'), (1, 2.950000047683716, 'L')], [(2, 4.8999998569488525, 'L'), (0, 5.4649999141693115, 'L')], [(2, 4.8999998569488525, 'L')], [(0, 5.4649999141693115, 'L'), (1, 2.950000047683716, 'L'), (3, 1.4699999690055847, 'L')], [(0, 5.4649999141693115, 'L'), (1, 2.950000047683716, 'L')], [(0, 5.4649999141693115, 'L')], [(1, 2.950000047683716, 'L'), (3, 1.4699999690055847, 'L')], [(1, 2.950000047683716, 'L')], [(3, 1.4699999690055847, 'L')], [(2, 4.8999998569488525, 'L'), (0, 5.4649999141693115, 'L'), (1, 2.950000047683716, 'L')], [(2, 4.8999998569488525, 'L'), (0, 5.4649999141693115, 'L')], [(3, 0.7699999958276749, 'R'), (2, 4.8999998569488525, 'R'), (3, 1.899999976158142, 'L'), (2, 5.450000047683716, 'L'), (0, 6.549999952316284, 'L'), (1, 3.100000023841858, 'L'), (1, 2.600000023841858, 'L'), (0, 6.2799999713897705, 'L')], [(3, 0.7699999958276749, 'R'), (2, 4.8999998569488525, 'R'), (3, 1.899999976158142, 'L'), (2, 5.450000047683716, 'L'), (0, 6.549999952316284, 'L'), (1, 3.100000023841858, 'L'), (1, 2.600000023841858, 'L')], [(3, 0.7699999958276749, 'R'), (2, 4.8999998569488525, 'R'), (3, 1.899999976158142, 'L'), (2, 5.450000047683716, 'L'), (0, 6.549999952316284, 'L'), (1, 3.100000023841858, 'L')], [(3, 0.7699999958276749, 'R'), (2, 4.8999998569488525, 'R'), (3, 1.899999976158142, 'L'), (2, 5.450000047683716, 'L'), (0, 6.549999952316284, 'L')], [(3, 0.7699999958276749, 'R'), (2, 4.8999998569488525, 'R'), (3, 1.899999976158142, 'L'), (2, 5.450000047683716, 'L')], [(3, 0.7699999958276749, 'R'), (2, 4.8999998569488525, 'R'), (3, 1.899999976158142, 'L')], [(3, 0.7699999958276749, 'R'), (2, 4.8999998569488525, 'R')], [(3, 0.7699999958276749, 'R')], [(2, 4.8999998569488525, 'R'), (3, 1.899999976158142, 'L'), (2, 5.450000047683716, 'L'), (0, 6.549999952316284, 'L'), (1, 3.100000023841858, 'L'), (1, 2.600000023841858, 'L'), (0, 6.2799999713897705, 'L')], [(2, 4.8999998569488525, 'R'), (3, 1.899999976158142, 'L'), (2, 5.450000047683716, 'L'), (0, 6.549999952316284, 'L'), (1, 3.100000023841858, 'L'), (1, 2.600000023841858, 'L')], [(2, 4.8999998569488525, 'R'), (3, 1.899999976158142, 'L'), (2, 5.450000047683716, 'L'), (0, 6.549999952316284, 'L'), (1, 3.100000023841858, 'L')], [(2, 4.8999998569488525, 'R'), (3, 1.899999976158142, 'L'), (2, 5.450000047683716, 'L'), (0, 6.549999952316284, 'L')], [(2, 4.8999998569488525, 'R'), (3, 1.899999976158142, 'L'), (2, 5.450000047683716, 'L')], [(2, 4.8999998569488525, 'R'), (3, 1.899999976158142, 'L')], [(2, 4.8999998569488525, 'R')], [(3, 1.899999976158142, 'L'), (2, 5.450000047683716, 'L'), (0, 6.549999952316284, 'L'), (1, 3.100000023841858, 'L'), (1, 2.600000023841858, 'L'), (0, 6.2799999713897705, 'L')], [(3, 1.899999976158142, 'L'), (2, 5.450000047683716, 'L'), (0, 6.549999952316284, 'L'), (1, 3.100000023841858, 'L'), (1, 2.600000023841858, 'L')], [(3, 1.899999976158142, 'L'), (2, 5.450000047683716, 'L'), (0, 6.549999952316284, 'L'), (1, 3.100000023841858, 'L')], [(3, 1.899999976158142, 'L'), (2, 5.450000047683716, 'L'), (0, 6.549999952316284, 'L')], [(3, 1.899999976158142, 'L'), (2, 5.450000047683716, 'L')], [(3, 1.899999976158142, 'L')], [(2, 5.450000047683716, 'L'), (0, 6.549999952316284, 'L'), (1, 3.100000023841858, 'L'), (1, 2.600000023841858, 'L'), (0, 6.2799999713897705, 'L')], [(2, 5.450000047683716, 'L'), (0, 6.549999952316284, 'L'), (1, 3.100000023841858, 'L'), (1, 2.600000023841858, 'L')], [(2, 5.450000047683716, 'L'), (0, 6.549999952316284, 'L'), (1, 3.100000023841858, 'L')], [(2, 5.450000047683716, 'L'), (0, 6.549999952316284, 'L')], [(2, 5.450000047683716, 'L')], [(0, 6.549999952316284, 'L'), (1, 3.100000023841858, 'L'), (1, 2.600000023841858, 'L'), (0, 6.2799999713897705, 'L')], [(0, 6.549999952316284, 'L'), (1, 3.100000023841858, 'L'), (1, 2.600000023841858, 'L')], [(0, 6.549999952316284, 'L'), (1, 3.100000023841858, 'L')], [(0, 6.549999952316284, 'L')], [(1, 3.100000023841858, 'L'), (1, 2.600000023841858, 'L'), (0, 6.2799999713897705, 'L')], [(1, 3.100000023841858, 'L'), (1, 2.600000023841858, 'L')], [(1, 3.100000023841858, 'L')], [(1, 2.600000023841858, 'L'), (0, 6.2799999713897705, 'L')], [(1, 2.600000023841858, 'L')], [(0, 6.2799999713897705, 'L')], [(2, 4.8999998569488525, 'R'), (3, 1.899999976158142, 'L'), (2, 5.450000047683716, 'L'), (0, 6.549999952316284, 'L'), (1, 3.100000023841858, 'L'), (1, 2.600000023841858, 'L')], [(2, 4.8999998569488525, 'R'), (3, 1.899999976158142, 'L'), (2, 5.450000047683716, 'L'), (0, 6.549999952316284, 'L'), (1, 3.100000023841858, 'L')], [(2, 4.8999998569488525, 'R'), (3, 1.899999976158142, 'L'), (2, 5.450000047683716, 'L'), (0, 6.549999952316284, 'L')], [(2, 4.8999998569488525, 'R'), (3, 1.899999976158142, 'L'), (2, 5.450000047683716, 'L')], [(2, 4.8999998569488525, 'R'), (3, 1.899999976158142, 'L')], [(3, 1.899999976158142, 'L'), (2, 5.450000047683716, 'L'), (0, 6.549999952316284, 'L'), (1, 3.100000023841858, 'L')], [(3, 1.899999976158142, 'L'), (2, 5.450000047683716, 'L'), (0, 6.549999952316284, 'L')], [(3, 1.899999976158142, 'L'), (2, 5.450000047683716, 'L')], [(2, 5.450000047683716, 'L'), (0, 6.549999952316284, 'L')], [(3, 0.7699999958276749, 'R'), (2, 4.8999998569488525, 'R'), (3, 1.899999976158142, 'R')], [(3, 0.7699999958276749, 'R'), (2, 4.8999998569488525, 'R')], [(3, 0.7699999958276749, 'R')], [(2, 4.8999998569488525, 'R'), (3, 1.899999976158142, 'R')], [(2, 4.8999998569488525, 'R')], [(3, 1.899999976158142, 'R')], [(3, 0.7699999958276749, 'R'), (2, 4.8999998569488525, 'R'), (3, 1.899999976158142, 'L'), (2, 5.450000047683716, 'R')], [(3, 0.7699999958276749, 'R'), (2, 4.8999998569488525, 'R'), (3, 1.899999976158142, 'L')], [(3, 0.7699999958276749, 'R'), (2, 4.8999998569488525, 'R')], [(3, 0.7699999958276749, 'R')], [(2, 4.8999998569488525, 'R'), (3, 1.899999976158142, 'L'), (2, 5.450000047683716, 'R')], [(2, 4.8999998569488525, 'R'), (3, 1.899999976158142, 'L')], [(2, 4.8999998569488525, 'R')], [(3, 1.899999976158142, 'L'), (2, 5.450000047683716, 'R')], [(3, 1.899999976158142, 'L')], [(2, 5.450000047683716, 'R')], [(2, 4.8999998569488525, 'R'), (3, 1.899999976158142, 'L')], [(3, 0.7699999958276749, 'R'), (2, 4.8999998569488525, 'R'), (3, 1.899999976158142, 'L'), (2, 5.450000047683716, 'L'), (0, 6.549999952316284, 'R')], [(3, 0.7699999958276749, 'R'), (2, 4.8999998569488525, 'R'), (3, 1.899999976158142, 'L'), (2, 5.450000047683716, 'L')], [(3, 0.7699999958276749, 'R'), (2, 4.8999998569488525, 'R'), (3, 1.899999976158142, 'L')], [(3, 0.7699999958276749, 'R'), (2, 4.8999998569488525, 'R')], [(3, 0.7699999958276749, 'R')], [(2, 4.8999998569488525, 'R'), (3, 1.899999976158142, 'L'), (2, 5.450000047683716, 'L'), (0, 6.549999952316284, 'R')], [(2, 4.8999998569488525, 'R'), (3, 1.899999976158142, 'L'), (2, 5.450000047683716, 'L')], [(2, 4.8999998569488525, 'R'), (3, 1.899999976158142, 'L')], [(2, 4.8999998569488525, 'R')], [(3, 1.899999976158142, 'L'), (2, 5.450000047683716, 'L'), (0, 6.549999952316284, 'R')], [(3, 1.899999976158142, 'L'), (2, 5.450000047683716, 'L')], [(3, 1.899999976158142, 'L')], [(2, 5.450000047683716, 'L'), (0, 6.549999952316284, 'R')], [(2, 5.450000047683716, 'L')], [(0, 6.549999952316284, 'R')], [(2, 4.8999998569488525, 'R'), (3, 1.899999976158142, 'L'), (2, 5.450000047683716, 'L')], [(2, 4.8999998569488525, 'R'), (3, 1.899999976158142, 'L')], [(3, 0.7699999958276749, 'R'), (2, 4.8999998569488525, 'R'), (3, 1.899999976158142, 'L'), (2, 5.450000047683716, 'L'), (0, 6.549999952316284, 'L'), (1, 3.100000023841858, 'R')], [(3, 0.7699999958276749, 'R'), (2, 4.8999998569488525, 'R'), (3, 1.899999976158142, 'L'), (2, 5.450000047683716, 'L'), (0, 6.549999952316284, 'L')], [(3, 0.7699999958276749, 'R'), (2, 4.8999998569488525, 'R'), (3, 1.899999976158142, 'L'), (2, 5.450000047683716, 'L')], [(3, 0.7699999958276749, 'R'), (2, 4.8999998569488525, 'R'), (3, 1.899999976158142, 'L')], [(3, 0.7699999958276749, 'R'), (2, 4.8999998569488525, 'R')], [(3, 0.7699999958276749, 'R')], [(2, 4.8999998569488525, 'R'), (3, 1.899999976158142, 'L'), (2, 5.450000047683716, 'L'), (0, 6.549999952316284, 'L'), (1, 3.100000023841858, 'R')], [(2, 4.8999998569488525, 'R'), (3, 1.899999976158142, 'L'), (2, 5.450000047683716, 'L'), (0, 6.549999952316284, 'L')], [(2, 4.8999998569488525, 'R'), (3, 1.899999976158142, 'L'), (2, 5.450000047683716, 'L')], [(2, 4.8999998569488525, 'R'), (3, 1.899999976158142, 'L')], [(2, 4.8999998569488525, 'R')], [(3, 1.899999976158142, 'L'), (2, 5.450000047683716, 'L'), (0, 6.549999952316284, 'L'), (1, 3.100000023841858, 'R')], [(3, 1.899999976158142, 'L'), (2, 5.450000047683716, 'L'), (0, 6.549999952316284, 'L')], [(3, 1.899999976158142, 'L'), (2, 5.450000047683716, 'L')], [(3, 1.899999976158142, 'L')], [(2, 5.450000047683716, 'L'), (0, 6.549999952316284, 'L'), (1, 3.100000023841858, 'R')], [(2, 5.450000047683716, 'L'), (0, 6.549999952316284, 'L')], [(2, 5.450000047683716, 'L')], [(0, 6.549999952316284, 'L'), (1, 3.100000023841858, 'R')], [(0, 6.549999952316284, 'L')], [(1, 3.100000023841858, 'R')], [(2, 4.8999998569488525, 'R'), (3, 1.899999976158142, 'L'), (2, 5.450000047683716, 'L'), (0, 6.549999952316284, 'L')], [(2, 4.8999998569488525, 'R'), (3, 1.899999976158142, 'L'), (2, 5.450000047683716, 'L')], [(2, 4.8999998569488525, 'R'), (3, 1.899999976158142, 'L')], [(3, 1.899999976158142, 'L'), (2, 5.450000047683716, 'L')], [(3, 0.7699999958276749, 'R'), (2, 4.8999998569488525, 'R'), (3, 1.899999976158142, 'L'), (2, 5.450000047683716, 'L'), (0, 6.549999952316284, 'L'), (1, 3.100000023841858, 'L'), (1, 2.600000023841858, 'R')], [(3, 0.7699999958276749, 'R'), (2, 4.8999998569488525, 'R'), (3, 1.899999976158142, 'L'), (2, 5.450000047683716, 'L'), (0, 6.549999952316284, 'L'), (1, 3.100000023841858, 'L')], [(3, 0.7699999958276749, 'R'), (2, 4.8999998569488525, 'R'), (3, 1.899999976158142, 'L'), (2, 5.450000047683716, 'L'), (0, 6.549999952316284, 'L')], [(3, 0.7699999958276749, 'R'), (2, 4.8999998569488525, 'R'), (3, 1.899999976158142, 'L'), (2, 5.450000047683716, 'L')], [(3, 0.7699999958276749, 'R'), (2, 4.8999998569488525, 'R'), (3, 1.899999976158142, 'L')], [(3, 0.7699999958276749, 'R'), (2, 4.8999998569488525, 'R')], [(3, 0.7699999958276749, 'R')], [(2, 4.8999998569488525, 'R'), (3, 1.899999976158142, 'L'), (2, 5.450000047683716, 'L'), (0, 6.549999952316284, 'L'), (1, 3.100000023841858, 'L'), (1, 2.600000023841858, 'R')], [(2, 4.8999998569488525, 'R'), (3, 1.899999976158142, 'L'), (2, 5.450000047683716, 'L'), (0, 6.549999952316284, 'L'), (1, 3.100000023841858, 'L')], [(2, 4.8999998569488525, 'R'), (3, 1.899999976158142, 'L'), (2, 5.450000047683716, 'L'), (0, 6.549999952316284, 'L')], [(2, 4.8999998569488525, 'R'), (3, 1.899999976158142, 'L'), (2, 5.450000047683716, 'L')], [(2, 4.8999998569488525, 'R'), (3, 1.899999976158142, 'L')], [(2, 4.8999998569488525, 'R')], [(3, 1.899999976158142, 'L'), (2, 5.450000047683716, 'L'), (0, 6.549999952316284, 'L'), (1, 3.100000023841858, 'L'), (1, 2.600000023841858, 'R')], [(3, 1.899999976158142, 'L'), (2, 5.450000047683716, 'L'), (0, 6.549999952316284, 'L'), (1, 3.100000023841858, 'L')], [(3, 1.899999976158142, 'L'), (2, 5.450000047683716, 'L'), (0, 6.549999952316284, 'L')], [(3, 1.899999976158142, 'L'), (2, 5.450000047683716, 'L')], [(3, 1.899999976158142, 'L')], [(2, 5.450000047683716, 'L'), (0, 6.549999952316284, 'L'), (1, 3.100000023841858, 'L'), (1, 2.600000023841858, 'R')], [(2, 5.450000047683716, 'L'), (0, 6.549999952316284, 'L'), (1, 3.100000023841858, 'L')], [(2, 5.450000047683716, 'L'), (0, 6.549999952316284, 'L')], [(2, 5.450000047683716, 'L')], [(0, 6.549999952316284, 'L'), (1, 3.100000023841858, 'L'), (1, 2.600000023841858, 'R')], [(0, 6.549999952316284, 'L'), (1, 3.100000023841858, 'L')], [(0, 6.549999952316284, 'L')], [(1, 3.100000023841858, 'L'), (1, 2.600000023841858, 'R')], [(1, 3.100000023841858, 'L')], [(1, 2.600000023841858, 'R')], [(2, 4.8999998569488525, 'R'), (3, 1.899999976158142, 'L'), (2, 5.450000047683716, 'L'), (0, 6.549999952316284, 'L'), (1, 3.100000023841858, 'L')], [(2, 4.8999998569488525, 'R'), (3, 1.899999976158142, 'L'), (2, 5.450000047683716, 'L'), (0, 6.549999952316284, 'L')], [(2, 4.8999998569488525, 'R'), (3, 1.899999976158142, 'L'), (2, 5.450000047683716, 'L')], [(2, 4.8999998569488525, 'R'), (3, 1.899999976158142, 'L')], [(3, 1.899999976158142, 'L'), (2, 5.450000047683716, 'L'), (0, 6.549999952316284, 'L')], [(3, 1.899999976158142, 'L'), (2, 5.450000047683716, 'L')], [(3, 0.7699999958276749, 'R'), (2, 4.8999998569488525, 'R'), (3, 1.899999976158142, 'L'), (2, 5.450000047683716, 'L'), (0, 6.549999952316284, 'L'), (1, 3.100000023841858, 'L'), (1, 2.600000023841858, 'L'), (0, 6.2799999713897705, 'R')], [(3, 0.7699999958276749, 'R'), (2, 4.8999998569488525, 'R'), (3, 1.899999976158142, 'L'), (2, 5.450000047683716, 'L'), (0, 6.549999952316284, 'L'), (1, 3.100000023841858, 'L'), (1, 2.600000023841858, 'L')], [(3, 0.7699999958276749, 'R'), (2, 4.8999998569488525, 'R'), (3, 1.899999976158142, 'L'), (2, 5.450000047683716, 'L'), (0, 6.549999952316284, 'L'), (1, 3.100000023841858, 'L')], [(3, 0.7699999958276749, 'R'), (2, 4.8999998569488525, 'R'), (3, 1.899999976158142, 'L'), (2, 5.450000047683716, 'L'), (0, 6.549999952316284, 'L')], [(3, 0.7699999958276749, 'R'), (2, 4.8999998569488525, 'R'), (3, 1.899999976158142, 'L'), (2, 5.450000047683716, 'L')], [(3, 0.7699999958276749, 'R'), (2, 4.8999998569488525, 'R'), (3, 1.899999976158142, 'L')], [(3, 0.7699999958276749, 'R'), (2, 4.8999998569488525, 'R')], [(3, 0.7699999958276749, 'R')], [(2, 4.8999998569488525, 'R'), (3, 1.899999976158142, 'L'), (2, 5.450000047683716, 'L'), (0, 6.549999952316284, 'L'), (1, 3.100000023841858, 'L'), (1, 2.600000023841858, 'L'), (0, 6.2799999713897705, 'R')], [(2, 4.8999998569488525, 'R'), (3, 1.899999976158142, 'L'), (2, 5.450000047683716, 'L'), (0, 6.549999952316284, 'L'), (1, 3.100000023841858, 'L'), (1, 2.600000023841858, 'L')], [(2, 4.8999998569488525, 'R'), (3, 1.899999976158142, 'L'), (2, 5.450000047683716, 'L'), (0, 6.549999952316284, 'L'), (1, 3.100000023841858, 'L')], [(2, 4.8999998569488525, 'R'), (3, 1.899999976158142, 'L'), (2, 5.450000047683716, 'L'), (0, 6.549999952316284, 'L')], [(2, 4.8999998569488525, 'R'), (3, 1.899999976158142, 'L'), (2, 5.450000047683716, 'L')], [(2, 4.8999998569488525, 'R'), (3, 1.899999976158142, 'L')], [(2, 4.8999998569488525, 'R')], [(3, 1.899999976158142, 'L'), (2, 5.450000047683716, 'L'), (0, 6.549999952316284, 'L'), (1, 3.100000023841858, 'L'), (1, 2.600000023841858, 'L'), (0, 6.2799999713897705, 'R')], [(3, 1.899999976158142, 'L'), (2, 5.450000047683716, 'L'), (0, 6.549999952316284, 'L'), (1, 3.100000023841858, 'L'), (1, 2.600000023841858, 'L')], [(3, 1.899999976158142, 'L'), (2, 5.450000047683716, 'L'), (0, 6.549999952316284, 'L'), (1, 3.100000023841858, 'L')], [(3, 1.899999976158142, 'L'), (2, 5.450000047683716, 'L'), (0, 6.549999952316284, 'L')], [(3, 1.899999976158142, 'L'), (2, 5.450000047683716, 'L')], [(3, 1.899999976158142, 'L')], [(2, 5.450000047683716, 'L'), (0, 6.549999952316284, 'L'), (1, 3.100000023841858, 'L'), (1, 2.600000023841858, 'L'), (0, 6.2799999713897705, 'R')], [(2, 5.450000047683716, 'L'), (0, 6.549999952316284, 'L'), (1, 3.100000023841858, 'L'), (1, 2.600000023841858, 'L')], [(2, 5.450000047683716, 'L'), (0, 6.549999952316284, 'L'), (1, 3.100000023841858, 'L')], [(2, 5.450000047683716, 'L'), (0, 6.549999952316284, 'L')], [(2, 5.450000047683716, 'L')], [(0, 6.549999952316284, 'L'), (1, 3.100000023841858, 'L'), (1, 2.600000023841858, 'L'), (0, 6.2799999713897705, 'R')], [(0, 6.549999952316284, 'L'), (1, 3.100000023841858, 'L'), (1, 2.600000023841858, 'L')], [(0, 6.549999952316284, 'L'), (1, 3.100000023841858, 'L')], [(0, 6.549999952316284, 'L')], [(1, 3.100000023841858, 'L'), (1, 2.600000023841858, 'L'), (0, 6.2799999713897705, 'R')], [(1, 3.100000023841858, 'L'), (1, 2.600000023841858, 'L')], [(1, 3.100000023841858, 'L')], [(1, 2.600000023841858, 'L'), (0, 6.2799999713897705, 'R')], [(1, 2.600000023841858, 'L')], [(0, 6.2799999713897705, 'R')], [(2, 4.8999998569488525, 'R'), (3, 1.899999976158142, 'L'), (2, 5.450000047683716, 'L'), (0, 6.549999952316284, 'L'), (1, 3.100000023841858, 'L'), (1, 2.600000023841858, 'L')], [(2, 4.8999998569488525, 'R'), (3, 1.899999976158142, 'L'), (2, 5.450000047683716, 'L'), (0, 6.549999952316284, 'L'), (1, 3.100000023841858, 'L')], [(2, 4.8999998569488525, 'R'), (3, 1.899999976158142, 'L'), (2, 5.450000047683716, 'L'), (0, 6.549999952316284, 'L')], [(2, 4.8999998569488525, 'R'), (3, 1.899999976158142, 'L'), (2, 5.450000047683716, 'L')], [(2, 4.8999998569488525, 'R'), (3, 1.899999976158142, 'L')], [(3, 1.899999976158142, 'L'), (2, 5.450000047683716, 'L'), (0, 6.549999952316284, 'L'), (1, 3.100000023841858, 'L')], [(3, 1.899999976158142, 'L'), (2, 5.450000047683716, 'L'), (0, 6.549999952316284, 'L')], [(3, 1.899999976158142, 'L'), (2, 5.450000047683716, 'L')], [(2, 5.450000047683716, 'L'), (0, 6.549999952316284, 'L')]]\n",
      "**************************************************\n",
      "ici :  [[(3, 0.7699999958276749, 'R'), (2, 4.8999998569488525, 'L'), (0, 5.4649999141693115, 'R')], [(3, 0.7699999958276749, 'R'), (2, 4.8999998569488525, 'L')], [(3, 0.7699999958276749, 'R')]]\n",
      "ici :  [[(2, 4.8999998569488525, 'L'), (0, 5.4649999141693115, 'R')], [(2, 4.8999998569488525, 'L')]]\n",
      "ici :  [[(0, 5.4649999141693115, 'R')]]\n",
      "TAIIIILLE :  3\n",
      "b\n",
      "end iteration all_paths_list :  [[(3, 0.7699999958276749, 'L')], [(3, 0.7699999958276749, 'R'), (2, 4.8999998569488525, 'L'), (0, 5.4649999141693115, 'L'), (1, 2.950000047683716, 'L'), (3, 1.4699999690055847, 'L')], [(3, 0.7699999958276749, 'R'), (2, 4.8999998569488525, 'L'), (0, 5.4649999141693115, 'L'), (1, 2.950000047683716, 'L')], [(3, 0.7699999958276749, 'R'), (2, 4.8999998569488525, 'L'), (0, 5.4649999141693115, 'L')], [(3, 0.7699999958276749, 'R'), (2, 4.8999998569488525, 'L')], [(3, 0.7699999958276749, 'R')], [(2, 4.8999998569488525, 'L'), (0, 5.4649999141693115, 'L'), (1, 2.950000047683716, 'L'), (3, 1.4699999690055847, 'L')], [(2, 4.8999998569488525, 'L'), (0, 5.4649999141693115, 'L'), (1, 2.950000047683716, 'L')], [(2, 4.8999998569488525, 'L'), (0, 5.4649999141693115, 'L')], [(2, 4.8999998569488525, 'L')], [(0, 5.4649999141693115, 'L'), (1, 2.950000047683716, 'L'), (3, 1.4699999690055847, 'L')], [(0, 5.4649999141693115, 'L'), (1, 2.950000047683716, 'L')], [(0, 5.4649999141693115, 'L')], [(1, 2.950000047683716, 'L'), (3, 1.4699999690055847, 'L')], [(1, 2.950000047683716, 'L')], [(3, 1.4699999690055847, 'L')], [(2, 4.8999998569488525, 'L'), (0, 5.4649999141693115, 'L'), (1, 2.950000047683716, 'L')], [(2, 4.8999998569488525, 'L'), (0, 5.4649999141693115, 'L')], [(3, 0.7699999958276749, 'R'), (2, 4.8999998569488525, 'R'), (3, 1.899999976158142, 'L'), (2, 5.450000047683716, 'L'), (0, 6.549999952316284, 'L'), (1, 3.100000023841858, 'L'), (1, 2.600000023841858, 'L'), (0, 6.2799999713897705, 'L')], [(3, 0.7699999958276749, 'R'), (2, 4.8999998569488525, 'R'), (3, 1.899999976158142, 'L'), (2, 5.450000047683716, 'L'), (0, 6.549999952316284, 'L'), (1, 3.100000023841858, 'L'), (1, 2.600000023841858, 'L')], [(3, 0.7699999958276749, 'R'), (2, 4.8999998569488525, 'R'), (3, 1.899999976158142, 'L'), (2, 5.450000047683716, 'L'), (0, 6.549999952316284, 'L'), (1, 3.100000023841858, 'L')], [(3, 0.7699999958276749, 'R'), (2, 4.8999998569488525, 'R'), (3, 1.899999976158142, 'L'), (2, 5.450000047683716, 'L'), (0, 6.549999952316284, 'L')], [(3, 0.7699999958276749, 'R'), (2, 4.8999998569488525, 'R'), (3, 1.899999976158142, 'L'), (2, 5.450000047683716, 'L')], [(3, 0.7699999958276749, 'R'), (2, 4.8999998569488525, 'R'), (3, 1.899999976158142, 'L')], [(3, 0.7699999958276749, 'R'), (2, 4.8999998569488525, 'R')], [(3, 0.7699999958276749, 'R')], [(2, 4.8999998569488525, 'R'), (3, 1.899999976158142, 'L'), (2, 5.450000047683716, 'L'), (0, 6.549999952316284, 'L'), (1, 3.100000023841858, 'L'), (1, 2.600000023841858, 'L'), (0, 6.2799999713897705, 'L')], [(2, 4.8999998569488525, 'R'), (3, 1.899999976158142, 'L'), (2, 5.450000047683716, 'L'), (0, 6.549999952316284, 'L'), (1, 3.100000023841858, 'L'), (1, 2.600000023841858, 'L')], [(2, 4.8999998569488525, 'R'), (3, 1.899999976158142, 'L'), (2, 5.450000047683716, 'L'), (0, 6.549999952316284, 'L'), (1, 3.100000023841858, 'L')], [(2, 4.8999998569488525, 'R'), (3, 1.899999976158142, 'L'), (2, 5.450000047683716, 'L'), (0, 6.549999952316284, 'L')], [(2, 4.8999998569488525, 'R'), (3, 1.899999976158142, 'L'), (2, 5.450000047683716, 'L')], [(2, 4.8999998569488525, 'R'), (3, 1.899999976158142, 'L')], [(2, 4.8999998569488525, 'R')], [(3, 1.899999976158142, 'L'), (2, 5.450000047683716, 'L'), (0, 6.549999952316284, 'L'), (1, 3.100000023841858, 'L'), (1, 2.600000023841858, 'L'), (0, 6.2799999713897705, 'L')], [(3, 1.899999976158142, 'L'), (2, 5.450000047683716, 'L'), (0, 6.549999952316284, 'L'), (1, 3.100000023841858, 'L'), (1, 2.600000023841858, 'L')], [(3, 1.899999976158142, 'L'), (2, 5.450000047683716, 'L'), (0, 6.549999952316284, 'L'), (1, 3.100000023841858, 'L')], [(3, 1.899999976158142, 'L'), (2, 5.450000047683716, 'L'), (0, 6.549999952316284, 'L')], [(3, 1.899999976158142, 'L'), (2, 5.450000047683716, 'L')], [(3, 1.899999976158142, 'L')], [(2, 5.450000047683716, 'L'), (0, 6.549999952316284, 'L'), (1, 3.100000023841858, 'L'), (1, 2.600000023841858, 'L'), (0, 6.2799999713897705, 'L')], [(2, 5.450000047683716, 'L'), (0, 6.549999952316284, 'L'), (1, 3.100000023841858, 'L'), (1, 2.600000023841858, 'L')], [(2, 5.450000047683716, 'L'), (0, 6.549999952316284, 'L'), (1, 3.100000023841858, 'L')], [(2, 5.450000047683716, 'L'), (0, 6.549999952316284, 'L')], [(2, 5.450000047683716, 'L')], [(0, 6.549999952316284, 'L'), (1, 3.100000023841858, 'L'), (1, 2.600000023841858, 'L'), (0, 6.2799999713897705, 'L')], [(0, 6.549999952316284, 'L'), (1, 3.100000023841858, 'L'), (1, 2.600000023841858, 'L')], [(0, 6.549999952316284, 'L'), (1, 3.100000023841858, 'L')], [(0, 6.549999952316284, 'L')], [(1, 3.100000023841858, 'L'), (1, 2.600000023841858, 'L'), (0, 6.2799999713897705, 'L')], [(1, 3.100000023841858, 'L'), (1, 2.600000023841858, 'L')], [(1, 3.100000023841858, 'L')], [(1, 2.600000023841858, 'L'), (0, 6.2799999713897705, 'L')], [(1, 2.600000023841858, 'L')], [(0, 6.2799999713897705, 'L')], [(2, 4.8999998569488525, 'R'), (3, 1.899999976158142, 'L'), (2, 5.450000047683716, 'L'), (0, 6.549999952316284, 'L'), (1, 3.100000023841858, 'L'), (1, 2.600000023841858, 'L')], [(2, 4.8999998569488525, 'R'), (3, 1.899999976158142, 'L'), (2, 5.450000047683716, 'L'), (0, 6.549999952316284, 'L'), (1, 3.100000023841858, 'L')], [(2, 4.8999998569488525, 'R'), (3, 1.899999976158142, 'L'), (2, 5.450000047683716, 'L'), (0, 6.549999952316284, 'L')], [(2, 4.8999998569488525, 'R'), (3, 1.899999976158142, 'L'), (2, 5.450000047683716, 'L')], [(2, 4.8999998569488525, 'R'), (3, 1.899999976158142, 'L')], [(3, 1.899999976158142, 'L'), (2, 5.450000047683716, 'L'), (0, 6.549999952316284, 'L'), (1, 3.100000023841858, 'L')], [(3, 1.899999976158142, 'L'), (2, 5.450000047683716, 'L'), (0, 6.549999952316284, 'L')], [(3, 1.899999976158142, 'L'), (2, 5.450000047683716, 'L')], [(2, 5.450000047683716, 'L'), (0, 6.549999952316284, 'L')], [(3, 0.7699999958276749, 'R'), (2, 4.8999998569488525, 'R'), (3, 1.899999976158142, 'R')], [(3, 0.7699999958276749, 'R'), (2, 4.8999998569488525, 'R')], [(3, 0.7699999958276749, 'R')], [(2, 4.8999998569488525, 'R'), (3, 1.899999976158142, 'R')], [(2, 4.8999998569488525, 'R')], [(3, 1.899999976158142, 'R')], [(3, 0.7699999958276749, 'R'), (2, 4.8999998569488525, 'R'), (3, 1.899999976158142, 'L'), (2, 5.450000047683716, 'R')], [(3, 0.7699999958276749, 'R'), (2, 4.8999998569488525, 'R'), (3, 1.899999976158142, 'L')], [(3, 0.7699999958276749, 'R'), (2, 4.8999998569488525, 'R')], [(3, 0.7699999958276749, 'R')], [(2, 4.8999998569488525, 'R'), (3, 1.899999976158142, 'L'), (2, 5.450000047683716, 'R')], [(2, 4.8999998569488525, 'R'), (3, 1.899999976158142, 'L')], [(2, 4.8999998569488525, 'R')], [(3, 1.899999976158142, 'L'), (2, 5.450000047683716, 'R')], [(3, 1.899999976158142, 'L')], [(2, 5.450000047683716, 'R')], [(2, 4.8999998569488525, 'R'), (3, 1.899999976158142, 'L')], [(3, 0.7699999958276749, 'R'), (2, 4.8999998569488525, 'R'), (3, 1.899999976158142, 'L'), (2, 5.450000047683716, 'L'), (0, 6.549999952316284, 'R')], [(3, 0.7699999958276749, 'R'), (2, 4.8999998569488525, 'R'), (3, 1.899999976158142, 'L'), (2, 5.450000047683716, 'L')], [(3, 0.7699999958276749, 'R'), (2, 4.8999998569488525, 'R'), (3, 1.899999976158142, 'L')], [(3, 0.7699999958276749, 'R'), (2, 4.8999998569488525, 'R')], [(3, 0.7699999958276749, 'R')], [(2, 4.8999998569488525, 'R'), (3, 1.899999976158142, 'L'), (2, 5.450000047683716, 'L'), (0, 6.549999952316284, 'R')], [(2, 4.8999998569488525, 'R'), (3, 1.899999976158142, 'L'), (2, 5.450000047683716, 'L')], [(2, 4.8999998569488525, 'R'), (3, 1.899999976158142, 'L')], [(2, 4.8999998569488525, 'R')], [(3, 1.899999976158142, 'L'), (2, 5.450000047683716, 'L'), (0, 6.549999952316284, 'R')], [(3, 1.899999976158142, 'L'), (2, 5.450000047683716, 'L')], [(3, 1.899999976158142, 'L')], [(2, 5.450000047683716, 'L'), (0, 6.549999952316284, 'R')], [(2, 5.450000047683716, 'L')], [(0, 6.549999952316284, 'R')], [(2, 4.8999998569488525, 'R'), (3, 1.899999976158142, 'L'), (2, 5.450000047683716, 'L')], [(2, 4.8999998569488525, 'R'), (3, 1.899999976158142, 'L')], [(3, 0.7699999958276749, 'R'), (2, 4.8999998569488525, 'R'), (3, 1.899999976158142, 'L'), (2, 5.450000047683716, 'L'), (0, 6.549999952316284, 'L'), (1, 3.100000023841858, 'R')], [(3, 0.7699999958276749, 'R'), (2, 4.8999998569488525, 'R'), (3, 1.899999976158142, 'L'), (2, 5.450000047683716, 'L'), (0, 6.549999952316284, 'L')], [(3, 0.7699999958276749, 'R'), (2, 4.8999998569488525, 'R'), (3, 1.899999976158142, 'L'), (2, 5.450000047683716, 'L')], [(3, 0.7699999958276749, 'R'), (2, 4.8999998569488525, 'R'), (3, 1.899999976158142, 'L')], [(3, 0.7699999958276749, 'R'), (2, 4.8999998569488525, 'R')], [(3, 0.7699999958276749, 'R')], [(2, 4.8999998569488525, 'R'), (3, 1.899999976158142, 'L'), (2, 5.450000047683716, 'L'), (0, 6.549999952316284, 'L'), (1, 3.100000023841858, 'R')], [(2, 4.8999998569488525, 'R'), (3, 1.899999976158142, 'L'), (2, 5.450000047683716, 'L'), (0, 6.549999952316284, 'L')], [(2, 4.8999998569488525, 'R'), (3, 1.899999976158142, 'L'), (2, 5.450000047683716, 'L')], [(2, 4.8999998569488525, 'R'), (3, 1.899999976158142, 'L')], [(2, 4.8999998569488525, 'R')], [(3, 1.899999976158142, 'L'), (2, 5.450000047683716, 'L'), (0, 6.549999952316284, 'L'), (1, 3.100000023841858, 'R')], [(3, 1.899999976158142, 'L'), (2, 5.450000047683716, 'L'), (0, 6.549999952316284, 'L')], [(3, 1.899999976158142, 'L'), (2, 5.450000047683716, 'L')], [(3, 1.899999976158142, 'L')], [(2, 5.450000047683716, 'L'), (0, 6.549999952316284, 'L'), (1, 3.100000023841858, 'R')], [(2, 5.450000047683716, 'L'), (0, 6.549999952316284, 'L')], [(2, 5.450000047683716, 'L')], [(0, 6.549999952316284, 'L'), (1, 3.100000023841858, 'R')], [(0, 6.549999952316284, 'L')], [(1, 3.100000023841858, 'R')], [(2, 4.8999998569488525, 'R'), (3, 1.899999976158142, 'L'), (2, 5.450000047683716, 'L'), (0, 6.549999952316284, 'L')], [(2, 4.8999998569488525, 'R'), (3, 1.899999976158142, 'L'), (2, 5.450000047683716, 'L')], [(2, 4.8999998569488525, 'R'), (3, 1.899999976158142, 'L')], [(3, 1.899999976158142, 'L'), (2, 5.450000047683716, 'L')], [(3, 0.7699999958276749, 'R'), (2, 4.8999998569488525, 'R'), (3, 1.899999976158142, 'L'), (2, 5.450000047683716, 'L'), (0, 6.549999952316284, 'L'), (1, 3.100000023841858, 'L'), (1, 2.600000023841858, 'R')], [(3, 0.7699999958276749, 'R'), (2, 4.8999998569488525, 'R'), (3, 1.899999976158142, 'L'), (2, 5.450000047683716, 'L'), (0, 6.549999952316284, 'L'), (1, 3.100000023841858, 'L')], [(3, 0.7699999958276749, 'R'), (2, 4.8999998569488525, 'R'), (3, 1.899999976158142, 'L'), (2, 5.450000047683716, 'L'), (0, 6.549999952316284, 'L')], [(3, 0.7699999958276749, 'R'), (2, 4.8999998569488525, 'R'), (3, 1.899999976158142, 'L'), (2, 5.450000047683716, 'L')], [(3, 0.7699999958276749, 'R'), (2, 4.8999998569488525, 'R'), (3, 1.899999976158142, 'L')], [(3, 0.7699999958276749, 'R'), (2, 4.8999998569488525, 'R')], [(3, 0.7699999958276749, 'R')], [(2, 4.8999998569488525, 'R'), (3, 1.899999976158142, 'L'), (2, 5.450000047683716, 'L'), (0, 6.549999952316284, 'L'), (1, 3.100000023841858, 'L'), (1, 2.600000023841858, 'R')], [(2, 4.8999998569488525, 'R'), (3, 1.899999976158142, 'L'), (2, 5.450000047683716, 'L'), (0, 6.549999952316284, 'L'), (1, 3.100000023841858, 'L')], [(2, 4.8999998569488525, 'R'), (3, 1.899999976158142, 'L'), (2, 5.450000047683716, 'L'), (0, 6.549999952316284, 'L')], [(2, 4.8999998569488525, 'R'), (3, 1.899999976158142, 'L'), (2, 5.450000047683716, 'L')], [(2, 4.8999998569488525, 'R'), (3, 1.899999976158142, 'L')], [(2, 4.8999998569488525, 'R')], [(3, 1.899999976158142, 'L'), (2, 5.450000047683716, 'L'), (0, 6.549999952316284, 'L'), (1, 3.100000023841858, 'L'), (1, 2.600000023841858, 'R')], [(3, 1.899999976158142, 'L'), (2, 5.450000047683716, 'L'), (0, 6.549999952316284, 'L'), (1, 3.100000023841858, 'L')], [(3, 1.899999976158142, 'L'), (2, 5.450000047683716, 'L'), (0, 6.549999952316284, 'L')], [(3, 1.899999976158142, 'L'), (2, 5.450000047683716, 'L')], [(3, 1.899999976158142, 'L')], [(2, 5.450000047683716, 'L'), (0, 6.549999952316284, 'L'), (1, 3.100000023841858, 'L'), (1, 2.600000023841858, 'R')], [(2, 5.450000047683716, 'L'), (0, 6.549999952316284, 'L'), (1, 3.100000023841858, 'L')], [(2, 5.450000047683716, 'L'), (0, 6.549999952316284, 'L')], [(2, 5.450000047683716, 'L')], [(0, 6.549999952316284, 'L'), (1, 3.100000023841858, 'L'), (1, 2.600000023841858, 'R')], [(0, 6.549999952316284, 'L'), (1, 3.100000023841858, 'L')], [(0, 6.549999952316284, 'L')], [(1, 3.100000023841858, 'L'), (1, 2.600000023841858, 'R')], [(1, 3.100000023841858, 'L')], [(1, 2.600000023841858, 'R')], [(2, 4.8999998569488525, 'R'), (3, 1.899999976158142, 'L'), (2, 5.450000047683716, 'L'), (0, 6.549999952316284, 'L'), (1, 3.100000023841858, 'L')], [(2, 4.8999998569488525, 'R'), (3, 1.899999976158142, 'L'), (2, 5.450000047683716, 'L'), (0, 6.549999952316284, 'L')], [(2, 4.8999998569488525, 'R'), (3, 1.899999976158142, 'L'), (2, 5.450000047683716, 'L')], [(2, 4.8999998569488525, 'R'), (3, 1.899999976158142, 'L')], [(3, 1.899999976158142, 'L'), (2, 5.450000047683716, 'L'), (0, 6.549999952316284, 'L')], [(3, 1.899999976158142, 'L'), (2, 5.450000047683716, 'L')], [(3, 0.7699999958276749, 'R'), (2, 4.8999998569488525, 'R'), (3, 1.899999976158142, 'L'), (2, 5.450000047683716, 'L'), (0, 6.549999952316284, 'L'), (1, 3.100000023841858, 'L'), (1, 2.600000023841858, 'L'), (0, 6.2799999713897705, 'R')], [(3, 0.7699999958276749, 'R'), (2, 4.8999998569488525, 'R'), (3, 1.899999976158142, 'L'), (2, 5.450000047683716, 'L'), (0, 6.549999952316284, 'L'), (1, 3.100000023841858, 'L'), (1, 2.600000023841858, 'L')], [(3, 0.7699999958276749, 'R'), (2, 4.8999998569488525, 'R'), (3, 1.899999976158142, 'L'), (2, 5.450000047683716, 'L'), (0, 6.549999952316284, 'L'), (1, 3.100000023841858, 'L')], [(3, 0.7699999958276749, 'R'), (2, 4.8999998569488525, 'R'), (3, 1.899999976158142, 'L'), (2, 5.450000047683716, 'L'), (0, 6.549999952316284, 'L')], [(3, 0.7699999958276749, 'R'), (2, 4.8999998569488525, 'R'), (3, 1.899999976158142, 'L'), (2, 5.450000047683716, 'L')], [(3, 0.7699999958276749, 'R'), (2, 4.8999998569488525, 'R'), (3, 1.899999976158142, 'L')], [(3, 0.7699999958276749, 'R'), (2, 4.8999998569488525, 'R')], [(3, 0.7699999958276749, 'R')], [(2, 4.8999998569488525, 'R'), (3, 1.899999976158142, 'L'), (2, 5.450000047683716, 'L'), (0, 6.549999952316284, 'L'), (1, 3.100000023841858, 'L'), (1, 2.600000023841858, 'L'), (0, 6.2799999713897705, 'R')], [(2, 4.8999998569488525, 'R'), (3, 1.899999976158142, 'L'), (2, 5.450000047683716, 'L'), (0, 6.549999952316284, 'L'), (1, 3.100000023841858, 'L'), (1, 2.600000023841858, 'L')], [(2, 4.8999998569488525, 'R'), (3, 1.899999976158142, 'L'), (2, 5.450000047683716, 'L'), (0, 6.549999952316284, 'L'), (1, 3.100000023841858, 'L')], [(2, 4.8999998569488525, 'R'), (3, 1.899999976158142, 'L'), (2, 5.450000047683716, 'L'), (0, 6.549999952316284, 'L')], [(2, 4.8999998569488525, 'R'), (3, 1.899999976158142, 'L'), (2, 5.450000047683716, 'L')], [(2, 4.8999998569488525, 'R'), (3, 1.899999976158142, 'L')], [(2, 4.8999998569488525, 'R')], [(3, 1.899999976158142, 'L'), (2, 5.450000047683716, 'L'), (0, 6.549999952316284, 'L'), (1, 3.100000023841858, 'L'), (1, 2.600000023841858, 'L'), (0, 6.2799999713897705, 'R')], [(3, 1.899999976158142, 'L'), (2, 5.450000047683716, 'L'), (0, 6.549999952316284, 'L'), (1, 3.100000023841858, 'L'), (1, 2.600000023841858, 'L')], [(3, 1.899999976158142, 'L'), (2, 5.450000047683716, 'L'), (0, 6.549999952316284, 'L'), (1, 3.100000023841858, 'L')], [(3, 1.899999976158142, 'L'), (2, 5.450000047683716, 'L'), (0, 6.549999952316284, 'L')], [(3, 1.899999976158142, 'L'), (2, 5.450000047683716, 'L')], [(3, 1.899999976158142, 'L')], [(2, 5.450000047683716, 'L'), (0, 6.549999952316284, 'L'), (1, 3.100000023841858, 'L'), (1, 2.600000023841858, 'L'), (0, 6.2799999713897705, 'R')], [(2, 5.450000047683716, 'L'), (0, 6.549999952316284, 'L'), (1, 3.100000023841858, 'L'), (1, 2.600000023841858, 'L')], [(2, 5.450000047683716, 'L'), (0, 6.549999952316284, 'L'), (1, 3.100000023841858, 'L')], [(2, 5.450000047683716, 'L'), (0, 6.549999952316284, 'L')], [(2, 5.450000047683716, 'L')], [(0, 6.549999952316284, 'L'), (1, 3.100000023841858, 'L'), (1, 2.600000023841858, 'L'), (0, 6.2799999713897705, 'R')], [(0, 6.549999952316284, 'L'), (1, 3.100000023841858, 'L'), (1, 2.600000023841858, 'L')], [(0, 6.549999952316284, 'L'), (1, 3.100000023841858, 'L')], [(0, 6.549999952316284, 'L')], [(1, 3.100000023841858, 'L'), (1, 2.600000023841858, 'L'), (0, 6.2799999713897705, 'R')], [(1, 3.100000023841858, 'L'), (1, 2.600000023841858, 'L')], [(1, 3.100000023841858, 'L')], [(1, 2.600000023841858, 'L'), (0, 6.2799999713897705, 'R')], [(1, 2.600000023841858, 'L')], [(0, 6.2799999713897705, 'R')], [(2, 4.8999998569488525, 'R'), (3, 1.899999976158142, 'L'), (2, 5.450000047683716, 'L'), (0, 6.549999952316284, 'L'), (1, 3.100000023841858, 'L'), (1, 2.600000023841858, 'L')], [(2, 4.8999998569488525, 'R'), (3, 1.899999976158142, 'L'), (2, 5.450000047683716, 'L'), (0, 6.549999952316284, 'L'), (1, 3.100000023841858, 'L')], [(2, 4.8999998569488525, 'R'), (3, 1.899999976158142, 'L'), (2, 5.450000047683716, 'L'), (0, 6.549999952316284, 'L')], [(2, 4.8999998569488525, 'R'), (3, 1.899999976158142, 'L'), (2, 5.450000047683716, 'L')], [(2, 4.8999998569488525, 'R'), (3, 1.899999976158142, 'L')], [(3, 1.899999976158142, 'L'), (2, 5.450000047683716, 'L'), (0, 6.549999952316284, 'L'), (1, 3.100000023841858, 'L')], [(3, 1.899999976158142, 'L'), (2, 5.450000047683716, 'L'), (0, 6.549999952316284, 'L')], [(3, 1.899999976158142, 'L'), (2, 5.450000047683716, 'L')], [(2, 5.450000047683716, 'L'), (0, 6.549999952316284, 'L')], [(3, 0.7699999958276749, 'R'), (2, 4.8999998569488525, 'L'), (0, 5.4649999141693115, 'R')], [(3, 0.7699999958276749, 'R'), (2, 4.8999998569488525, 'L')], [(3, 0.7699999958276749, 'R')], [(2, 4.8999998569488525, 'L'), (0, 5.4649999141693115, 'R')], [(2, 4.8999998569488525, 'L')], [(0, 5.4649999141693115, 'R')]]\n",
      "**************************************************\n",
      "ici :  [[(3, 0.7699999958276749, 'R'), (2, 4.8999998569488525, 'L'), (0, 5.4649999141693115, 'L'), (1, 2.950000047683716, 'R')], [(3, 0.7699999958276749, 'R'), (2, 4.8999998569488525, 'L'), (0, 5.4649999141693115, 'L')], [(3, 0.7699999958276749, 'R'), (2, 4.8999998569488525, 'L')], [(3, 0.7699999958276749, 'R')]]\n",
      "ici :  [[(2, 4.8999998569488525, 'L'), (0, 5.4649999141693115, 'L'), (1, 2.950000047683716, 'R')], [(2, 4.8999998569488525, 'L'), (0, 5.4649999141693115, 'L')], [(2, 4.8999998569488525, 'L')]]\n",
      "ici :  [[(0, 5.4649999141693115, 'L'), (1, 2.950000047683716, 'R')], [(0, 5.4649999141693115, 'L')]]\n",
      "ici :  [[(1, 2.950000047683716, 'R')]]\n",
      "TAIIIILLE :  4\n",
      "aa\n",
      "curr path :  [(2, 4.8999998569488525, 'L'), (0, 5.4649999141693115, 'L')]\n",
      "list_sub_path :  [[(2, 4.8999998569488525, 'L'), (0, 5.4649999141693115, 'L')]]\n",
      "end iteration all_paths_list :  [[(3, 0.7699999958276749, 'L')], [(3, 0.7699999958276749, 'R'), (2, 4.8999998569488525, 'L'), (0, 5.4649999141693115, 'L'), (1, 2.950000047683716, 'L'), (3, 1.4699999690055847, 'L')], [(3, 0.7699999958276749, 'R'), (2, 4.8999998569488525, 'L'), (0, 5.4649999141693115, 'L'), (1, 2.950000047683716, 'L')], [(3, 0.7699999958276749, 'R'), (2, 4.8999998569488525, 'L'), (0, 5.4649999141693115, 'L')], [(3, 0.7699999958276749, 'R'), (2, 4.8999998569488525, 'L')], [(3, 0.7699999958276749, 'R')], [(2, 4.8999998569488525, 'L'), (0, 5.4649999141693115, 'L'), (1, 2.950000047683716, 'L'), (3, 1.4699999690055847, 'L')], [(2, 4.8999998569488525, 'L'), (0, 5.4649999141693115, 'L'), (1, 2.950000047683716, 'L')], [(2, 4.8999998569488525, 'L'), (0, 5.4649999141693115, 'L')], [(2, 4.8999998569488525, 'L')], [(0, 5.4649999141693115, 'L'), (1, 2.950000047683716, 'L'), (3, 1.4699999690055847, 'L')], [(0, 5.4649999141693115, 'L'), (1, 2.950000047683716, 'L')], [(0, 5.4649999141693115, 'L')], [(1, 2.950000047683716, 'L'), (3, 1.4699999690055847, 'L')], [(1, 2.950000047683716, 'L')], [(3, 1.4699999690055847, 'L')], [(2, 4.8999998569488525, 'L'), (0, 5.4649999141693115, 'L'), (1, 2.950000047683716, 'L')], [(2, 4.8999998569488525, 'L'), (0, 5.4649999141693115, 'L')], [(3, 0.7699999958276749, 'R'), (2, 4.8999998569488525, 'R'), (3, 1.899999976158142, 'L'), (2, 5.450000047683716, 'L'), (0, 6.549999952316284, 'L'), (1, 3.100000023841858, 'L'), (1, 2.600000023841858, 'L'), (0, 6.2799999713897705, 'L')], [(3, 0.7699999958276749, 'R'), (2, 4.8999998569488525, 'R'), (3, 1.899999976158142, 'L'), (2, 5.450000047683716, 'L'), (0, 6.549999952316284, 'L'), (1, 3.100000023841858, 'L'), (1, 2.600000023841858, 'L')], [(3, 0.7699999958276749, 'R'), (2, 4.8999998569488525, 'R'), (3, 1.899999976158142, 'L'), (2, 5.450000047683716, 'L'), (0, 6.549999952316284, 'L'), (1, 3.100000023841858, 'L')], [(3, 0.7699999958276749, 'R'), (2, 4.8999998569488525, 'R'), (3, 1.899999976158142, 'L'), (2, 5.450000047683716, 'L'), (0, 6.549999952316284, 'L')], [(3, 0.7699999958276749, 'R'), (2, 4.8999998569488525, 'R'), (3, 1.899999976158142, 'L'), (2, 5.450000047683716, 'L')], [(3, 0.7699999958276749, 'R'), (2, 4.8999998569488525, 'R'), (3, 1.899999976158142, 'L')], [(3, 0.7699999958276749, 'R'), (2, 4.8999998569488525, 'R')], [(3, 0.7699999958276749, 'R')], [(2, 4.8999998569488525, 'R'), (3, 1.899999976158142, 'L'), (2, 5.450000047683716, 'L'), (0, 6.549999952316284, 'L'), (1, 3.100000023841858, 'L'), (1, 2.600000023841858, 'L'), (0, 6.2799999713897705, 'L')], [(2, 4.8999998569488525, 'R'), (3, 1.899999976158142, 'L'), (2, 5.450000047683716, 'L'), (0, 6.549999952316284, 'L'), (1, 3.100000023841858, 'L'), (1, 2.600000023841858, 'L')], [(2, 4.8999998569488525, 'R'), (3, 1.899999976158142, 'L'), (2, 5.450000047683716, 'L'), (0, 6.549999952316284, 'L'), (1, 3.100000023841858, 'L')], [(2, 4.8999998569488525, 'R'), (3, 1.899999976158142, 'L'), (2, 5.450000047683716, 'L'), (0, 6.549999952316284, 'L')], [(2, 4.8999998569488525, 'R'), (3, 1.899999976158142, 'L'), (2, 5.450000047683716, 'L')], [(2, 4.8999998569488525, 'R'), (3, 1.899999976158142, 'L')], [(2, 4.8999998569488525, 'R')], [(3, 1.899999976158142, 'L'), (2, 5.450000047683716, 'L'), (0, 6.549999952316284, 'L'), (1, 3.100000023841858, 'L'), (1, 2.600000023841858, 'L'), (0, 6.2799999713897705, 'L')], [(3, 1.899999976158142, 'L'), (2, 5.450000047683716, 'L'), (0, 6.549999952316284, 'L'), (1, 3.100000023841858, 'L'), (1, 2.600000023841858, 'L')], [(3, 1.899999976158142, 'L'), (2, 5.450000047683716, 'L'), (0, 6.549999952316284, 'L'), (1, 3.100000023841858, 'L')], [(3, 1.899999976158142, 'L'), (2, 5.450000047683716, 'L'), (0, 6.549999952316284, 'L')], [(3, 1.899999976158142, 'L'), (2, 5.450000047683716, 'L')], [(3, 1.899999976158142, 'L')], [(2, 5.450000047683716, 'L'), (0, 6.549999952316284, 'L'), (1, 3.100000023841858, 'L'), (1, 2.600000023841858, 'L'), (0, 6.2799999713897705, 'L')], [(2, 5.450000047683716, 'L'), (0, 6.549999952316284, 'L'), (1, 3.100000023841858, 'L'), (1, 2.600000023841858, 'L')], [(2, 5.450000047683716, 'L'), (0, 6.549999952316284, 'L'), (1, 3.100000023841858, 'L')], [(2, 5.450000047683716, 'L'), (0, 6.549999952316284, 'L')], [(2, 5.450000047683716, 'L')], [(0, 6.549999952316284, 'L'), (1, 3.100000023841858, 'L'), (1, 2.600000023841858, 'L'), (0, 6.2799999713897705, 'L')], [(0, 6.549999952316284, 'L'), (1, 3.100000023841858, 'L'), (1, 2.600000023841858, 'L')], [(0, 6.549999952316284, 'L'), (1, 3.100000023841858, 'L')], [(0, 6.549999952316284, 'L')], [(1, 3.100000023841858, 'L'), (1, 2.600000023841858, 'L'), (0, 6.2799999713897705, 'L')], [(1, 3.100000023841858, 'L'), (1, 2.600000023841858, 'L')], [(1, 3.100000023841858, 'L')], [(1, 2.600000023841858, 'L'), (0, 6.2799999713897705, 'L')], [(1, 2.600000023841858, 'L')], [(0, 6.2799999713897705, 'L')], [(2, 4.8999998569488525, 'R'), (3, 1.899999976158142, 'L'), (2, 5.450000047683716, 'L'), (0, 6.549999952316284, 'L'), (1, 3.100000023841858, 'L'), (1, 2.600000023841858, 'L')], [(2, 4.8999998569488525, 'R'), (3, 1.899999976158142, 'L'), (2, 5.450000047683716, 'L'), (0, 6.549999952316284, 'L'), (1, 3.100000023841858, 'L')], [(2, 4.8999998569488525, 'R'), (3, 1.899999976158142, 'L'), (2, 5.450000047683716, 'L'), (0, 6.549999952316284, 'L')], [(2, 4.8999998569488525, 'R'), (3, 1.899999976158142, 'L'), (2, 5.450000047683716, 'L')], [(2, 4.8999998569488525, 'R'), (3, 1.899999976158142, 'L')], [(3, 1.899999976158142, 'L'), (2, 5.450000047683716, 'L'), (0, 6.549999952316284, 'L'), (1, 3.100000023841858, 'L')], [(3, 1.899999976158142, 'L'), (2, 5.450000047683716, 'L'), (0, 6.549999952316284, 'L')], [(3, 1.899999976158142, 'L'), (2, 5.450000047683716, 'L')], [(2, 5.450000047683716, 'L'), (0, 6.549999952316284, 'L')], [(3, 0.7699999958276749, 'R'), (2, 4.8999998569488525, 'R'), (3, 1.899999976158142, 'R')], [(3, 0.7699999958276749, 'R'), (2, 4.8999998569488525, 'R')], [(3, 0.7699999958276749, 'R')], [(2, 4.8999998569488525, 'R'), (3, 1.899999976158142, 'R')], [(2, 4.8999998569488525, 'R')], [(3, 1.899999976158142, 'R')], [(3, 0.7699999958276749, 'R'), (2, 4.8999998569488525, 'R'), (3, 1.899999976158142, 'L'), (2, 5.450000047683716, 'R')], [(3, 0.7699999958276749, 'R'), (2, 4.8999998569488525, 'R'), (3, 1.899999976158142, 'L')], [(3, 0.7699999958276749, 'R'), (2, 4.8999998569488525, 'R')], [(3, 0.7699999958276749, 'R')], [(2, 4.8999998569488525, 'R'), (3, 1.899999976158142, 'L'), (2, 5.450000047683716, 'R')], [(2, 4.8999998569488525, 'R'), (3, 1.899999976158142, 'L')], [(2, 4.8999998569488525, 'R')], [(3, 1.899999976158142, 'L'), (2, 5.450000047683716, 'R')], [(3, 1.899999976158142, 'L')], [(2, 5.450000047683716, 'R')], [(2, 4.8999998569488525, 'R'), (3, 1.899999976158142, 'L')], [(3, 0.7699999958276749, 'R'), (2, 4.8999998569488525, 'R'), (3, 1.899999976158142, 'L'), (2, 5.450000047683716, 'L'), (0, 6.549999952316284, 'R')], [(3, 0.7699999958276749, 'R'), (2, 4.8999998569488525, 'R'), (3, 1.899999976158142, 'L'), (2, 5.450000047683716, 'L')], [(3, 0.7699999958276749, 'R'), (2, 4.8999998569488525, 'R'), (3, 1.899999976158142, 'L')], [(3, 0.7699999958276749, 'R'), (2, 4.8999998569488525, 'R')], [(3, 0.7699999958276749, 'R')], [(2, 4.8999998569488525, 'R'), (3, 1.899999976158142, 'L'), (2, 5.450000047683716, 'L'), (0, 6.549999952316284, 'R')], [(2, 4.8999998569488525, 'R'), (3, 1.899999976158142, 'L'), (2, 5.450000047683716, 'L')], [(2, 4.8999998569488525, 'R'), (3, 1.899999976158142, 'L')], [(2, 4.8999998569488525, 'R')], [(3, 1.899999976158142, 'L'), (2, 5.450000047683716, 'L'), (0, 6.549999952316284, 'R')], [(3, 1.899999976158142, 'L'), (2, 5.450000047683716, 'L')], [(3, 1.899999976158142, 'L')], [(2, 5.450000047683716, 'L'), (0, 6.549999952316284, 'R')], [(2, 5.450000047683716, 'L')], [(0, 6.549999952316284, 'R')], [(2, 4.8999998569488525, 'R'), (3, 1.899999976158142, 'L'), (2, 5.450000047683716, 'L')], [(2, 4.8999998569488525, 'R'), (3, 1.899999976158142, 'L')], [(3, 0.7699999958276749, 'R'), (2, 4.8999998569488525, 'R'), (3, 1.899999976158142, 'L'), (2, 5.450000047683716, 'L'), (0, 6.549999952316284, 'L'), (1, 3.100000023841858, 'R')], [(3, 0.7699999958276749, 'R'), (2, 4.8999998569488525, 'R'), (3, 1.899999976158142, 'L'), (2, 5.450000047683716, 'L'), (0, 6.549999952316284, 'L')], [(3, 0.7699999958276749, 'R'), (2, 4.8999998569488525, 'R'), (3, 1.899999976158142, 'L'), (2, 5.450000047683716, 'L')], [(3, 0.7699999958276749, 'R'), (2, 4.8999998569488525, 'R'), (3, 1.899999976158142, 'L')], [(3, 0.7699999958276749, 'R'), (2, 4.8999998569488525, 'R')], [(3, 0.7699999958276749, 'R')], [(2, 4.8999998569488525, 'R'), (3, 1.899999976158142, 'L'), (2, 5.450000047683716, 'L'), (0, 6.549999952316284, 'L'), (1, 3.100000023841858, 'R')], [(2, 4.8999998569488525, 'R'), (3, 1.899999976158142, 'L'), (2, 5.450000047683716, 'L'), (0, 6.549999952316284, 'L')], [(2, 4.8999998569488525, 'R'), (3, 1.899999976158142, 'L'), (2, 5.450000047683716, 'L')], [(2, 4.8999998569488525, 'R'), (3, 1.899999976158142, 'L')], [(2, 4.8999998569488525, 'R')], [(3, 1.899999976158142, 'L'), (2, 5.450000047683716, 'L'), (0, 6.549999952316284, 'L'), (1, 3.100000023841858, 'R')], [(3, 1.899999976158142, 'L'), (2, 5.450000047683716, 'L'), (0, 6.549999952316284, 'L')], [(3, 1.899999976158142, 'L'), (2, 5.450000047683716, 'L')], [(3, 1.899999976158142, 'L')], [(2, 5.450000047683716, 'L'), (0, 6.549999952316284, 'L'), (1, 3.100000023841858, 'R')], [(2, 5.450000047683716, 'L'), (0, 6.549999952316284, 'L')], [(2, 5.450000047683716, 'L')], [(0, 6.549999952316284, 'L'), (1, 3.100000023841858, 'R')], [(0, 6.549999952316284, 'L')], [(1, 3.100000023841858, 'R')], [(2, 4.8999998569488525, 'R'), (3, 1.899999976158142, 'L'), (2, 5.450000047683716, 'L'), (0, 6.549999952316284, 'L')], [(2, 4.8999998569488525, 'R'), (3, 1.899999976158142, 'L'), (2, 5.450000047683716, 'L')], [(2, 4.8999998569488525, 'R'), (3, 1.899999976158142, 'L')], [(3, 1.899999976158142, 'L'), (2, 5.450000047683716, 'L')], [(3, 0.7699999958276749, 'R'), (2, 4.8999998569488525, 'R'), (3, 1.899999976158142, 'L'), (2, 5.450000047683716, 'L'), (0, 6.549999952316284, 'L'), (1, 3.100000023841858, 'L'), (1, 2.600000023841858, 'R')], [(3, 0.7699999958276749, 'R'), (2, 4.8999998569488525, 'R'), (3, 1.899999976158142, 'L'), (2, 5.450000047683716, 'L'), (0, 6.549999952316284, 'L'), (1, 3.100000023841858, 'L')], [(3, 0.7699999958276749, 'R'), (2, 4.8999998569488525, 'R'), (3, 1.899999976158142, 'L'), (2, 5.450000047683716, 'L'), (0, 6.549999952316284, 'L')], [(3, 0.7699999958276749, 'R'), (2, 4.8999998569488525, 'R'), (3, 1.899999976158142, 'L'), (2, 5.450000047683716, 'L')], [(3, 0.7699999958276749, 'R'), (2, 4.8999998569488525, 'R'), (3, 1.899999976158142, 'L')], [(3, 0.7699999958276749, 'R'), (2, 4.8999998569488525, 'R')], [(3, 0.7699999958276749, 'R')], [(2, 4.8999998569488525, 'R'), (3, 1.899999976158142, 'L'), (2, 5.450000047683716, 'L'), (0, 6.549999952316284, 'L'), (1, 3.100000023841858, 'L'), (1, 2.600000023841858, 'R')], [(2, 4.8999998569488525, 'R'), (3, 1.899999976158142, 'L'), (2, 5.450000047683716, 'L'), (0, 6.549999952316284, 'L'), (1, 3.100000023841858, 'L')], [(2, 4.8999998569488525, 'R'), (3, 1.899999976158142, 'L'), (2, 5.450000047683716, 'L'), (0, 6.549999952316284, 'L')], [(2, 4.8999998569488525, 'R'), (3, 1.899999976158142, 'L'), (2, 5.450000047683716, 'L')], [(2, 4.8999998569488525, 'R'), (3, 1.899999976158142, 'L')], [(2, 4.8999998569488525, 'R')], [(3, 1.899999976158142, 'L'), (2, 5.450000047683716, 'L'), (0, 6.549999952316284, 'L'), (1, 3.100000023841858, 'L'), (1, 2.600000023841858, 'R')], [(3, 1.899999976158142, 'L'), (2, 5.450000047683716, 'L'), (0, 6.549999952316284, 'L'), (1, 3.100000023841858, 'L')], [(3, 1.899999976158142, 'L'), (2, 5.450000047683716, 'L'), (0, 6.549999952316284, 'L')], [(3, 1.899999976158142, 'L'), (2, 5.450000047683716, 'L')], [(3, 1.899999976158142, 'L')], [(2, 5.450000047683716, 'L'), (0, 6.549999952316284, 'L'), (1, 3.100000023841858, 'L'), (1, 2.600000023841858, 'R')], [(2, 5.450000047683716, 'L'), (0, 6.549999952316284, 'L'), (1, 3.100000023841858, 'L')], [(2, 5.450000047683716, 'L'), (0, 6.549999952316284, 'L')], [(2, 5.450000047683716, 'L')], [(0, 6.549999952316284, 'L'), (1, 3.100000023841858, 'L'), (1, 2.600000023841858, 'R')], [(0, 6.549999952316284, 'L'), (1, 3.100000023841858, 'L')], [(0, 6.549999952316284, 'L')], [(1, 3.100000023841858, 'L'), (1, 2.600000023841858, 'R')], [(1, 3.100000023841858, 'L')], [(1, 2.600000023841858, 'R')], [(2, 4.8999998569488525, 'R'), (3, 1.899999976158142, 'L'), (2, 5.450000047683716, 'L'), (0, 6.549999952316284, 'L'), (1, 3.100000023841858, 'L')], [(2, 4.8999998569488525, 'R'), (3, 1.899999976158142, 'L'), (2, 5.450000047683716, 'L'), (0, 6.549999952316284, 'L')], [(2, 4.8999998569488525, 'R'), (3, 1.899999976158142, 'L'), (2, 5.450000047683716, 'L')], [(2, 4.8999998569488525, 'R'), (3, 1.899999976158142, 'L')], [(3, 1.899999976158142, 'L'), (2, 5.450000047683716, 'L'), (0, 6.549999952316284, 'L')], [(3, 1.899999976158142, 'L'), (2, 5.450000047683716, 'L')], [(3, 0.7699999958276749, 'R'), (2, 4.8999998569488525, 'R'), (3, 1.899999976158142, 'L'), (2, 5.450000047683716, 'L'), (0, 6.549999952316284, 'L'), (1, 3.100000023841858, 'L'), (1, 2.600000023841858, 'L'), (0, 6.2799999713897705, 'R')], [(3, 0.7699999958276749, 'R'), (2, 4.8999998569488525, 'R'), (3, 1.899999976158142, 'L'), (2, 5.450000047683716, 'L'), (0, 6.549999952316284, 'L'), (1, 3.100000023841858, 'L'), (1, 2.600000023841858, 'L')], [(3, 0.7699999958276749, 'R'), (2, 4.8999998569488525, 'R'), (3, 1.899999976158142, 'L'), (2, 5.450000047683716, 'L'), (0, 6.549999952316284, 'L'), (1, 3.100000023841858, 'L')], [(3, 0.7699999958276749, 'R'), (2, 4.8999998569488525, 'R'), (3, 1.899999976158142, 'L'), (2, 5.450000047683716, 'L'), (0, 6.549999952316284, 'L')], [(3, 0.7699999958276749, 'R'), (2, 4.8999998569488525, 'R'), (3, 1.899999976158142, 'L'), (2, 5.450000047683716, 'L')], [(3, 0.7699999958276749, 'R'), (2, 4.8999998569488525, 'R'), (3, 1.899999976158142, 'L')], [(3, 0.7699999958276749, 'R'), (2, 4.8999998569488525, 'R')], [(3, 0.7699999958276749, 'R')], [(2, 4.8999998569488525, 'R'), (3, 1.899999976158142, 'L'), (2, 5.450000047683716, 'L'), (0, 6.549999952316284, 'L'), (1, 3.100000023841858, 'L'), (1, 2.600000023841858, 'L'), (0, 6.2799999713897705, 'R')], [(2, 4.8999998569488525, 'R'), (3, 1.899999976158142, 'L'), (2, 5.450000047683716, 'L'), (0, 6.549999952316284, 'L'), (1, 3.100000023841858, 'L'), (1, 2.600000023841858, 'L')], [(2, 4.8999998569488525, 'R'), (3, 1.899999976158142, 'L'), (2, 5.450000047683716, 'L'), (0, 6.549999952316284, 'L'), (1, 3.100000023841858, 'L')], [(2, 4.8999998569488525, 'R'), (3, 1.899999976158142, 'L'), (2, 5.450000047683716, 'L'), (0, 6.549999952316284, 'L')], [(2, 4.8999998569488525, 'R'), (3, 1.899999976158142, 'L'), (2, 5.450000047683716, 'L')], [(2, 4.8999998569488525, 'R'), (3, 1.899999976158142, 'L')], [(2, 4.8999998569488525, 'R')], [(3, 1.899999976158142, 'L'), (2, 5.450000047683716, 'L'), (0, 6.549999952316284, 'L'), (1, 3.100000023841858, 'L'), (1, 2.600000023841858, 'L'), (0, 6.2799999713897705, 'R')], [(3, 1.899999976158142, 'L'), (2, 5.450000047683716, 'L'), (0, 6.549999952316284, 'L'), (1, 3.100000023841858, 'L'), (1, 2.600000023841858, 'L')], [(3, 1.899999976158142, 'L'), (2, 5.450000047683716, 'L'), (0, 6.549999952316284, 'L'), (1, 3.100000023841858, 'L')], [(3, 1.899999976158142, 'L'), (2, 5.450000047683716, 'L'), (0, 6.549999952316284, 'L')], [(3, 1.899999976158142, 'L'), (2, 5.450000047683716, 'L')], [(3, 1.899999976158142, 'L')], [(2, 5.450000047683716, 'L'), (0, 6.549999952316284, 'L'), (1, 3.100000023841858, 'L'), (1, 2.600000023841858, 'L'), (0, 6.2799999713897705, 'R')], [(2, 5.450000047683716, 'L'), (0, 6.549999952316284, 'L'), (1, 3.100000023841858, 'L'), (1, 2.600000023841858, 'L')], [(2, 5.450000047683716, 'L'), (0, 6.549999952316284, 'L'), (1, 3.100000023841858, 'L')], [(2, 5.450000047683716, 'L'), (0, 6.549999952316284, 'L')], [(2, 5.450000047683716, 'L')], [(0, 6.549999952316284, 'L'), (1, 3.100000023841858, 'L'), (1, 2.600000023841858, 'L'), (0, 6.2799999713897705, 'R')], [(0, 6.549999952316284, 'L'), (1, 3.100000023841858, 'L'), (1, 2.600000023841858, 'L')], [(0, 6.549999952316284, 'L'), (1, 3.100000023841858, 'L')], [(0, 6.549999952316284, 'L')], [(1, 3.100000023841858, 'L'), (1, 2.600000023841858, 'L'), (0, 6.2799999713897705, 'R')], [(1, 3.100000023841858, 'L'), (1, 2.600000023841858, 'L')], [(1, 3.100000023841858, 'L')], [(1, 2.600000023841858, 'L'), (0, 6.2799999713897705, 'R')], [(1, 2.600000023841858, 'L')], [(0, 6.2799999713897705, 'R')], [(2, 4.8999998569488525, 'R'), (3, 1.899999976158142, 'L'), (2, 5.450000047683716, 'L'), (0, 6.549999952316284, 'L'), (1, 3.100000023841858, 'L'), (1, 2.600000023841858, 'L')], [(2, 4.8999998569488525, 'R'), (3, 1.899999976158142, 'L'), (2, 5.450000047683716, 'L'), (0, 6.549999952316284, 'L'), (1, 3.100000023841858, 'L')], [(2, 4.8999998569488525, 'R'), (3, 1.899999976158142, 'L'), (2, 5.450000047683716, 'L'), (0, 6.549999952316284, 'L')], [(2, 4.8999998569488525, 'R'), (3, 1.899999976158142, 'L'), (2, 5.450000047683716, 'L')], [(2, 4.8999998569488525, 'R'), (3, 1.899999976158142, 'L')], [(3, 1.899999976158142, 'L'), (2, 5.450000047683716, 'L'), (0, 6.549999952316284, 'L'), (1, 3.100000023841858, 'L')], [(3, 1.899999976158142, 'L'), (2, 5.450000047683716, 'L'), (0, 6.549999952316284, 'L')], [(3, 1.899999976158142, 'L'), (2, 5.450000047683716, 'L')], [(2, 5.450000047683716, 'L'), (0, 6.549999952316284, 'L')], [(3, 0.7699999958276749, 'R'), (2, 4.8999998569488525, 'L'), (0, 5.4649999141693115, 'R')], [(3, 0.7699999958276749, 'R'), (2, 4.8999998569488525, 'L')], [(3, 0.7699999958276749, 'R')], [(2, 4.8999998569488525, 'L'), (0, 5.4649999141693115, 'R')], [(2, 4.8999998569488525, 'L')], [(0, 5.4649999141693115, 'R')], [(3, 0.7699999958276749, 'R'), (2, 4.8999998569488525, 'L'), (0, 5.4649999141693115, 'L'), (1, 2.950000047683716, 'R')], [(3, 0.7699999958276749, 'R'), (2, 4.8999998569488525, 'L'), (0, 5.4649999141693115, 'L')], [(3, 0.7699999958276749, 'R'), (2, 4.8999998569488525, 'L')], [(3, 0.7699999958276749, 'R')], [(2, 4.8999998569488525, 'L'), (0, 5.4649999141693115, 'L'), (1, 2.950000047683716, 'R')], [(2, 4.8999998569488525, 'L'), (0, 5.4649999141693115, 'L')], [(2, 4.8999998569488525, 'L')], [(0, 5.4649999141693115, 'L'), (1, 2.950000047683716, 'R')], [(0, 5.4649999141693115, 'L')], [(1, 2.950000047683716, 'R')], [(2, 4.8999998569488525, 'L'), (0, 5.4649999141693115, 'L')]]\n",
      "**************************************************\n",
      "ici :  [[(3, 0.7699999958276749, 'R'), (2, 4.8999998569488525, 'L'), (0, 5.4649999141693115, 'L'), (1, 2.950000047683716, 'L'), (3, 1.4699999690055847, 'R')], [(3, 0.7699999958276749, 'R'), (2, 4.8999998569488525, 'L'), (0, 5.4649999141693115, 'L'), (1, 2.950000047683716, 'L')], [(3, 0.7699999958276749, 'R'), (2, 4.8999998569488525, 'L'), (0, 5.4649999141693115, 'L')], [(3, 0.7699999958276749, 'R'), (2, 4.8999998569488525, 'L')], [(3, 0.7699999958276749, 'R')]]\n",
      "ici :  [[(2, 4.8999998569488525, 'L'), (0, 5.4649999141693115, 'L'), (1, 2.950000047683716, 'L'), (3, 1.4699999690055847, 'R')], [(2, 4.8999998569488525, 'L'), (0, 5.4649999141693115, 'L'), (1, 2.950000047683716, 'L')], [(2, 4.8999998569488525, 'L'), (0, 5.4649999141693115, 'L')], [(2, 4.8999998569488525, 'L')]]\n",
      "ici :  [[(0, 5.4649999141693115, 'L'), (1, 2.950000047683716, 'L'), (3, 1.4699999690055847, 'R')], [(0, 5.4649999141693115, 'L'), (1, 2.950000047683716, 'L')], [(0, 5.4649999141693115, 'L')]]\n",
      "ici :  [[(1, 2.950000047683716, 'L'), (3, 1.4699999690055847, 'R')], [(1, 2.950000047683716, 'L')]]\n",
      "ici :  [[(3, 1.4699999690055847, 'R')]]\n",
      "TAIIIILLE :  5\n",
      "b\n",
      "curr path :  [(2, 4.8999998569488525, 'L'), (0, 5.4649999141693115, 'L'), (1, 2.950000047683716, 'L')]\n",
      "list_sub_path :  [[(2, 4.8999998569488525, 'L'), (0, 5.4649999141693115, 'L'), (1, 2.950000047683716, 'L')], [(2, 4.8999998569488525, 'L'), (0, 5.4649999141693115, 'L')]]\n",
      "end iteration all_paths_list :  [[(3, 0.7699999958276749, 'L')], [(3, 0.7699999958276749, 'R'), (2, 4.8999998569488525, 'L'), (0, 5.4649999141693115, 'L'), (1, 2.950000047683716, 'L'), (3, 1.4699999690055847, 'L')], [(3, 0.7699999958276749, 'R'), (2, 4.8999998569488525, 'L'), (0, 5.4649999141693115, 'L'), (1, 2.950000047683716, 'L')], [(3, 0.7699999958276749, 'R'), (2, 4.8999998569488525, 'L'), (0, 5.4649999141693115, 'L')], [(3, 0.7699999958276749, 'R'), (2, 4.8999998569488525, 'L')], [(3, 0.7699999958276749, 'R')], [(2, 4.8999998569488525, 'L'), (0, 5.4649999141693115, 'L'), (1, 2.950000047683716, 'L'), (3, 1.4699999690055847, 'L')], [(2, 4.8999998569488525, 'L'), (0, 5.4649999141693115, 'L'), (1, 2.950000047683716, 'L')], [(2, 4.8999998569488525, 'L'), (0, 5.4649999141693115, 'L')], [(2, 4.8999998569488525, 'L')], [(0, 5.4649999141693115, 'L'), (1, 2.950000047683716, 'L'), (3, 1.4699999690055847, 'L')], [(0, 5.4649999141693115, 'L'), (1, 2.950000047683716, 'L')], [(0, 5.4649999141693115, 'L')], [(1, 2.950000047683716, 'L'), (3, 1.4699999690055847, 'L')], [(1, 2.950000047683716, 'L')], [(3, 1.4699999690055847, 'L')], [(2, 4.8999998569488525, 'L'), (0, 5.4649999141693115, 'L'), (1, 2.950000047683716, 'L')], [(2, 4.8999998569488525, 'L'), (0, 5.4649999141693115, 'L')], [(3, 0.7699999958276749, 'R'), (2, 4.8999998569488525, 'R'), (3, 1.899999976158142, 'L'), (2, 5.450000047683716, 'L'), (0, 6.549999952316284, 'L'), (1, 3.100000023841858, 'L'), (1, 2.600000023841858, 'L'), (0, 6.2799999713897705, 'L')], [(3, 0.7699999958276749, 'R'), (2, 4.8999998569488525, 'R'), (3, 1.899999976158142, 'L'), (2, 5.450000047683716, 'L'), (0, 6.549999952316284, 'L'), (1, 3.100000023841858, 'L'), (1, 2.600000023841858, 'L')], [(3, 0.7699999958276749, 'R'), (2, 4.8999998569488525, 'R'), (3, 1.899999976158142, 'L'), (2, 5.450000047683716, 'L'), (0, 6.549999952316284, 'L'), (1, 3.100000023841858, 'L')], [(3, 0.7699999958276749, 'R'), (2, 4.8999998569488525, 'R'), (3, 1.899999976158142, 'L'), (2, 5.450000047683716, 'L'), (0, 6.549999952316284, 'L')], [(3, 0.7699999958276749, 'R'), (2, 4.8999998569488525, 'R'), (3, 1.899999976158142, 'L'), (2, 5.450000047683716, 'L')], [(3, 0.7699999958276749, 'R'), (2, 4.8999998569488525, 'R'), (3, 1.899999976158142, 'L')], [(3, 0.7699999958276749, 'R'), (2, 4.8999998569488525, 'R')], [(3, 0.7699999958276749, 'R')], [(2, 4.8999998569488525, 'R'), (3, 1.899999976158142, 'L'), (2, 5.450000047683716, 'L'), (0, 6.549999952316284, 'L'), (1, 3.100000023841858, 'L'), (1, 2.600000023841858, 'L'), (0, 6.2799999713897705, 'L')], [(2, 4.8999998569488525, 'R'), (3, 1.899999976158142, 'L'), (2, 5.450000047683716, 'L'), (0, 6.549999952316284, 'L'), (1, 3.100000023841858, 'L'), (1, 2.600000023841858, 'L')], [(2, 4.8999998569488525, 'R'), (3, 1.899999976158142, 'L'), (2, 5.450000047683716, 'L'), (0, 6.549999952316284, 'L'), (1, 3.100000023841858, 'L')], [(2, 4.8999998569488525, 'R'), (3, 1.899999976158142, 'L'), (2, 5.450000047683716, 'L'), (0, 6.549999952316284, 'L')], [(2, 4.8999998569488525, 'R'), (3, 1.899999976158142, 'L'), (2, 5.450000047683716, 'L')], [(2, 4.8999998569488525, 'R'), (3, 1.899999976158142, 'L')], [(2, 4.8999998569488525, 'R')], [(3, 1.899999976158142, 'L'), (2, 5.450000047683716, 'L'), (0, 6.549999952316284, 'L'), (1, 3.100000023841858, 'L'), (1, 2.600000023841858, 'L'), (0, 6.2799999713897705, 'L')], [(3, 1.899999976158142, 'L'), (2, 5.450000047683716, 'L'), (0, 6.549999952316284, 'L'), (1, 3.100000023841858, 'L'), (1, 2.600000023841858, 'L')], [(3, 1.899999976158142, 'L'), (2, 5.450000047683716, 'L'), (0, 6.549999952316284, 'L'), (1, 3.100000023841858, 'L')], [(3, 1.899999976158142, 'L'), (2, 5.450000047683716, 'L'), (0, 6.549999952316284, 'L')], [(3, 1.899999976158142, 'L'), (2, 5.450000047683716, 'L')], [(3, 1.899999976158142, 'L')], [(2, 5.450000047683716, 'L'), (0, 6.549999952316284, 'L'), (1, 3.100000023841858, 'L'), (1, 2.600000023841858, 'L'), (0, 6.2799999713897705, 'L')], [(2, 5.450000047683716, 'L'), (0, 6.549999952316284, 'L'), (1, 3.100000023841858, 'L'), (1, 2.600000023841858, 'L')], [(2, 5.450000047683716, 'L'), (0, 6.549999952316284, 'L'), (1, 3.100000023841858, 'L')], [(2, 5.450000047683716, 'L'), (0, 6.549999952316284, 'L')], [(2, 5.450000047683716, 'L')], [(0, 6.549999952316284, 'L'), (1, 3.100000023841858, 'L'), (1, 2.600000023841858, 'L'), (0, 6.2799999713897705, 'L')], [(0, 6.549999952316284, 'L'), (1, 3.100000023841858, 'L'), (1, 2.600000023841858, 'L')], [(0, 6.549999952316284, 'L'), (1, 3.100000023841858, 'L')], [(0, 6.549999952316284, 'L')], [(1, 3.100000023841858, 'L'), (1, 2.600000023841858, 'L'), (0, 6.2799999713897705, 'L')], [(1, 3.100000023841858, 'L'), (1, 2.600000023841858, 'L')], [(1, 3.100000023841858, 'L')], [(1, 2.600000023841858, 'L'), (0, 6.2799999713897705, 'L')], [(1, 2.600000023841858, 'L')], [(0, 6.2799999713897705, 'L')], [(2, 4.8999998569488525, 'R'), (3, 1.899999976158142, 'L'), (2, 5.450000047683716, 'L'), (0, 6.549999952316284, 'L'), (1, 3.100000023841858, 'L'), (1, 2.600000023841858, 'L')], [(2, 4.8999998569488525, 'R'), (3, 1.899999976158142, 'L'), (2, 5.450000047683716, 'L'), (0, 6.549999952316284, 'L'), (1, 3.100000023841858, 'L')], [(2, 4.8999998569488525, 'R'), (3, 1.899999976158142, 'L'), (2, 5.450000047683716, 'L'), (0, 6.549999952316284, 'L')], [(2, 4.8999998569488525, 'R'), (3, 1.899999976158142, 'L'), (2, 5.450000047683716, 'L')], [(2, 4.8999998569488525, 'R'), (3, 1.899999976158142, 'L')], [(3, 1.899999976158142, 'L'), (2, 5.450000047683716, 'L'), (0, 6.549999952316284, 'L'), (1, 3.100000023841858, 'L')], [(3, 1.899999976158142, 'L'), (2, 5.450000047683716, 'L'), (0, 6.549999952316284, 'L')], [(3, 1.899999976158142, 'L'), (2, 5.450000047683716, 'L')], [(2, 5.450000047683716, 'L'), (0, 6.549999952316284, 'L')], [(3, 0.7699999958276749, 'R'), (2, 4.8999998569488525, 'R'), (3, 1.899999976158142, 'R')], [(3, 0.7699999958276749, 'R'), (2, 4.8999998569488525, 'R')], [(3, 0.7699999958276749, 'R')], [(2, 4.8999998569488525, 'R'), (3, 1.899999976158142, 'R')], [(2, 4.8999998569488525, 'R')], [(3, 1.899999976158142, 'R')], [(3, 0.7699999958276749, 'R'), (2, 4.8999998569488525, 'R'), (3, 1.899999976158142, 'L'), (2, 5.450000047683716, 'R')], [(3, 0.7699999958276749, 'R'), (2, 4.8999998569488525, 'R'), (3, 1.899999976158142, 'L')], [(3, 0.7699999958276749, 'R'), (2, 4.8999998569488525, 'R')], [(3, 0.7699999958276749, 'R')], [(2, 4.8999998569488525, 'R'), (3, 1.899999976158142, 'L'), (2, 5.450000047683716, 'R')], [(2, 4.8999998569488525, 'R'), (3, 1.899999976158142, 'L')], [(2, 4.8999998569488525, 'R')], [(3, 1.899999976158142, 'L'), (2, 5.450000047683716, 'R')], [(3, 1.899999976158142, 'L')], [(2, 5.450000047683716, 'R')], [(2, 4.8999998569488525, 'R'), (3, 1.899999976158142, 'L')], [(3, 0.7699999958276749, 'R'), (2, 4.8999998569488525, 'R'), (3, 1.899999976158142, 'L'), (2, 5.450000047683716, 'L'), (0, 6.549999952316284, 'R')], [(3, 0.7699999958276749, 'R'), (2, 4.8999998569488525, 'R'), (3, 1.899999976158142, 'L'), (2, 5.450000047683716, 'L')], [(3, 0.7699999958276749, 'R'), (2, 4.8999998569488525, 'R'), (3, 1.899999976158142, 'L')], [(3, 0.7699999958276749, 'R'), (2, 4.8999998569488525, 'R')], [(3, 0.7699999958276749, 'R')], [(2, 4.8999998569488525, 'R'), (3, 1.899999976158142, 'L'), (2, 5.450000047683716, 'L'), (0, 6.549999952316284, 'R')], [(2, 4.8999998569488525, 'R'), (3, 1.899999976158142, 'L'), (2, 5.450000047683716, 'L')], [(2, 4.8999998569488525, 'R'), (3, 1.899999976158142, 'L')], [(2, 4.8999998569488525, 'R')], [(3, 1.899999976158142, 'L'), (2, 5.450000047683716, 'L'), (0, 6.549999952316284, 'R')], [(3, 1.899999976158142, 'L'), (2, 5.450000047683716, 'L')], [(3, 1.899999976158142, 'L')], [(2, 5.450000047683716, 'L'), (0, 6.549999952316284, 'R')], [(2, 5.450000047683716, 'L')], [(0, 6.549999952316284, 'R')], [(2, 4.8999998569488525, 'R'), (3, 1.899999976158142, 'L'), (2, 5.450000047683716, 'L')], [(2, 4.8999998569488525, 'R'), (3, 1.899999976158142, 'L')], [(3, 0.7699999958276749, 'R'), (2, 4.8999998569488525, 'R'), (3, 1.899999976158142, 'L'), (2, 5.450000047683716, 'L'), (0, 6.549999952316284, 'L'), (1, 3.100000023841858, 'R')], [(3, 0.7699999958276749, 'R'), (2, 4.8999998569488525, 'R'), (3, 1.899999976158142, 'L'), (2, 5.450000047683716, 'L'), (0, 6.549999952316284, 'L')], [(3, 0.7699999958276749, 'R'), (2, 4.8999998569488525, 'R'), (3, 1.899999976158142, 'L'), (2, 5.450000047683716, 'L')], [(3, 0.7699999958276749, 'R'), (2, 4.8999998569488525, 'R'), (3, 1.899999976158142, 'L')], [(3, 0.7699999958276749, 'R'), (2, 4.8999998569488525, 'R')], [(3, 0.7699999958276749, 'R')], [(2, 4.8999998569488525, 'R'), (3, 1.899999976158142, 'L'), (2, 5.450000047683716, 'L'), (0, 6.549999952316284, 'L'), (1, 3.100000023841858, 'R')], [(2, 4.8999998569488525, 'R'), (3, 1.899999976158142, 'L'), (2, 5.450000047683716, 'L'), (0, 6.549999952316284, 'L')], [(2, 4.8999998569488525, 'R'), (3, 1.899999976158142, 'L'), (2, 5.450000047683716, 'L')], [(2, 4.8999998569488525, 'R'), (3, 1.899999976158142, 'L')], [(2, 4.8999998569488525, 'R')], [(3, 1.899999976158142, 'L'), (2, 5.450000047683716, 'L'), (0, 6.549999952316284, 'L'), (1, 3.100000023841858, 'R')], [(3, 1.899999976158142, 'L'), (2, 5.450000047683716, 'L'), (0, 6.549999952316284, 'L')], [(3, 1.899999976158142, 'L'), (2, 5.450000047683716, 'L')], [(3, 1.899999976158142, 'L')], [(2, 5.450000047683716, 'L'), (0, 6.549999952316284, 'L'), (1, 3.100000023841858, 'R')], [(2, 5.450000047683716, 'L'), (0, 6.549999952316284, 'L')], [(2, 5.450000047683716, 'L')], [(0, 6.549999952316284, 'L'), (1, 3.100000023841858, 'R')], [(0, 6.549999952316284, 'L')], [(1, 3.100000023841858, 'R')], [(2, 4.8999998569488525, 'R'), (3, 1.899999976158142, 'L'), (2, 5.450000047683716, 'L'), (0, 6.549999952316284, 'L')], [(2, 4.8999998569488525, 'R'), (3, 1.899999976158142, 'L'), (2, 5.450000047683716, 'L')], [(2, 4.8999998569488525, 'R'), (3, 1.899999976158142, 'L')], [(3, 1.899999976158142, 'L'), (2, 5.450000047683716, 'L')], [(3, 0.7699999958276749, 'R'), (2, 4.8999998569488525, 'R'), (3, 1.899999976158142, 'L'), (2, 5.450000047683716, 'L'), (0, 6.549999952316284, 'L'), (1, 3.100000023841858, 'L'), (1, 2.600000023841858, 'R')], [(3, 0.7699999958276749, 'R'), (2, 4.8999998569488525, 'R'), (3, 1.899999976158142, 'L'), (2, 5.450000047683716, 'L'), (0, 6.549999952316284, 'L'), (1, 3.100000023841858, 'L')], [(3, 0.7699999958276749, 'R'), (2, 4.8999998569488525, 'R'), (3, 1.899999976158142, 'L'), (2, 5.450000047683716, 'L'), (0, 6.549999952316284, 'L')], [(3, 0.7699999958276749, 'R'), (2, 4.8999998569488525, 'R'), (3, 1.899999976158142, 'L'), (2, 5.450000047683716, 'L')], [(3, 0.7699999958276749, 'R'), (2, 4.8999998569488525, 'R'), (3, 1.899999976158142, 'L')], [(3, 0.7699999958276749, 'R'), (2, 4.8999998569488525, 'R')], [(3, 0.7699999958276749, 'R')], [(2, 4.8999998569488525, 'R'), (3, 1.899999976158142, 'L'), (2, 5.450000047683716, 'L'), (0, 6.549999952316284, 'L'), (1, 3.100000023841858, 'L'), (1, 2.600000023841858, 'R')], [(2, 4.8999998569488525, 'R'), (3, 1.899999976158142, 'L'), (2, 5.450000047683716, 'L'), (0, 6.549999952316284, 'L'), (1, 3.100000023841858, 'L')], [(2, 4.8999998569488525, 'R'), (3, 1.899999976158142, 'L'), (2, 5.450000047683716, 'L'), (0, 6.549999952316284, 'L')], [(2, 4.8999998569488525, 'R'), (3, 1.899999976158142, 'L'), (2, 5.450000047683716, 'L')], [(2, 4.8999998569488525, 'R'), (3, 1.899999976158142, 'L')], [(2, 4.8999998569488525, 'R')], [(3, 1.899999976158142, 'L'), (2, 5.450000047683716, 'L'), (0, 6.549999952316284, 'L'), (1, 3.100000023841858, 'L'), (1, 2.600000023841858, 'R')], [(3, 1.899999976158142, 'L'), (2, 5.450000047683716, 'L'), (0, 6.549999952316284, 'L'), (1, 3.100000023841858, 'L')], [(3, 1.899999976158142, 'L'), (2, 5.450000047683716, 'L'), (0, 6.549999952316284, 'L')], [(3, 1.899999976158142, 'L'), (2, 5.450000047683716, 'L')], [(3, 1.899999976158142, 'L')], [(2, 5.450000047683716, 'L'), (0, 6.549999952316284, 'L'), (1, 3.100000023841858, 'L'), (1, 2.600000023841858, 'R')], [(2, 5.450000047683716, 'L'), (0, 6.549999952316284, 'L'), (1, 3.100000023841858, 'L')], [(2, 5.450000047683716, 'L'), (0, 6.549999952316284, 'L')], [(2, 5.450000047683716, 'L')], [(0, 6.549999952316284, 'L'), (1, 3.100000023841858, 'L'), (1, 2.600000023841858, 'R')], [(0, 6.549999952316284, 'L'), (1, 3.100000023841858, 'L')], [(0, 6.549999952316284, 'L')], [(1, 3.100000023841858, 'L'), (1, 2.600000023841858, 'R')], [(1, 3.100000023841858, 'L')], [(1, 2.600000023841858, 'R')], [(2, 4.8999998569488525, 'R'), (3, 1.899999976158142, 'L'), (2, 5.450000047683716, 'L'), (0, 6.549999952316284, 'L'), (1, 3.100000023841858, 'L')], [(2, 4.8999998569488525, 'R'), (3, 1.899999976158142, 'L'), (2, 5.450000047683716, 'L'), (0, 6.549999952316284, 'L')], [(2, 4.8999998569488525, 'R'), (3, 1.899999976158142, 'L'), (2, 5.450000047683716, 'L')], [(2, 4.8999998569488525, 'R'), (3, 1.899999976158142, 'L')], [(3, 1.899999976158142, 'L'), (2, 5.450000047683716, 'L'), (0, 6.549999952316284, 'L')], [(3, 1.899999976158142, 'L'), (2, 5.450000047683716, 'L')], [(3, 0.7699999958276749, 'R'), (2, 4.8999998569488525, 'R'), (3, 1.899999976158142, 'L'), (2, 5.450000047683716, 'L'), (0, 6.549999952316284, 'L'), (1, 3.100000023841858, 'L'), (1, 2.600000023841858, 'L'), (0, 6.2799999713897705, 'R')], [(3, 0.7699999958276749, 'R'), (2, 4.8999998569488525, 'R'), (3, 1.899999976158142, 'L'), (2, 5.450000047683716, 'L'), (0, 6.549999952316284, 'L'), (1, 3.100000023841858, 'L'), (1, 2.600000023841858, 'L')], [(3, 0.7699999958276749, 'R'), (2, 4.8999998569488525, 'R'), (3, 1.899999976158142, 'L'), (2, 5.450000047683716, 'L'), (0, 6.549999952316284, 'L'), (1, 3.100000023841858, 'L')], [(3, 0.7699999958276749, 'R'), (2, 4.8999998569488525, 'R'), (3, 1.899999976158142, 'L'), (2, 5.450000047683716, 'L'), (0, 6.549999952316284, 'L')], [(3, 0.7699999958276749, 'R'), (2, 4.8999998569488525, 'R'), (3, 1.899999976158142, 'L'), (2, 5.450000047683716, 'L')], [(3, 0.7699999958276749, 'R'), (2, 4.8999998569488525, 'R'), (3, 1.899999976158142, 'L')], [(3, 0.7699999958276749, 'R'), (2, 4.8999998569488525, 'R')], [(3, 0.7699999958276749, 'R')], [(2, 4.8999998569488525, 'R'), (3, 1.899999976158142, 'L'), (2, 5.450000047683716, 'L'), (0, 6.549999952316284, 'L'), (1, 3.100000023841858, 'L'), (1, 2.600000023841858, 'L'), (0, 6.2799999713897705, 'R')], [(2, 4.8999998569488525, 'R'), (3, 1.899999976158142, 'L'), (2, 5.450000047683716, 'L'), (0, 6.549999952316284, 'L'), (1, 3.100000023841858, 'L'), (1, 2.600000023841858, 'L')], [(2, 4.8999998569488525, 'R'), (3, 1.899999976158142, 'L'), (2, 5.450000047683716, 'L'), (0, 6.549999952316284, 'L'), (1, 3.100000023841858, 'L')], [(2, 4.8999998569488525, 'R'), (3, 1.899999976158142, 'L'), (2, 5.450000047683716, 'L'), (0, 6.549999952316284, 'L')], [(2, 4.8999998569488525, 'R'), (3, 1.899999976158142, 'L'), (2, 5.450000047683716, 'L')], [(2, 4.8999998569488525, 'R'), (3, 1.899999976158142, 'L')], [(2, 4.8999998569488525, 'R')], [(3, 1.899999976158142, 'L'), (2, 5.450000047683716, 'L'), (0, 6.549999952316284, 'L'), (1, 3.100000023841858, 'L'), (1, 2.600000023841858, 'L'), (0, 6.2799999713897705, 'R')], [(3, 1.899999976158142, 'L'), (2, 5.450000047683716, 'L'), (0, 6.549999952316284, 'L'), (1, 3.100000023841858, 'L'), (1, 2.600000023841858, 'L')], [(3, 1.899999976158142, 'L'), (2, 5.450000047683716, 'L'), (0, 6.549999952316284, 'L'), (1, 3.100000023841858, 'L')], [(3, 1.899999976158142, 'L'), (2, 5.450000047683716, 'L'), (0, 6.549999952316284, 'L')], [(3, 1.899999976158142, 'L'), (2, 5.450000047683716, 'L')], [(3, 1.899999976158142, 'L')], [(2, 5.450000047683716, 'L'), (0, 6.549999952316284, 'L'), (1, 3.100000023841858, 'L'), (1, 2.600000023841858, 'L'), (0, 6.2799999713897705, 'R')], [(2, 5.450000047683716, 'L'), (0, 6.549999952316284, 'L'), (1, 3.100000023841858, 'L'), (1, 2.600000023841858, 'L')], [(2, 5.450000047683716, 'L'), (0, 6.549999952316284, 'L'), (1, 3.100000023841858, 'L')], [(2, 5.450000047683716, 'L'), (0, 6.549999952316284, 'L')], [(2, 5.450000047683716, 'L')], [(0, 6.549999952316284, 'L'), (1, 3.100000023841858, 'L'), (1, 2.600000023841858, 'L'), (0, 6.2799999713897705, 'R')], [(0, 6.549999952316284, 'L'), (1, 3.100000023841858, 'L'), (1, 2.600000023841858, 'L')], [(0, 6.549999952316284, 'L'), (1, 3.100000023841858, 'L')], [(0, 6.549999952316284, 'L')], [(1, 3.100000023841858, 'L'), (1, 2.600000023841858, 'L'), (0, 6.2799999713897705, 'R')], [(1, 3.100000023841858, 'L'), (1, 2.600000023841858, 'L')], [(1, 3.100000023841858, 'L')], [(1, 2.600000023841858, 'L'), (0, 6.2799999713897705, 'R')], [(1, 2.600000023841858, 'L')], [(0, 6.2799999713897705, 'R')], [(2, 4.8999998569488525, 'R'), (3, 1.899999976158142, 'L'), (2, 5.450000047683716, 'L'), (0, 6.549999952316284, 'L'), (1, 3.100000023841858, 'L'), (1, 2.600000023841858, 'L')], [(2, 4.8999998569488525, 'R'), (3, 1.899999976158142, 'L'), (2, 5.450000047683716, 'L'), (0, 6.549999952316284, 'L'), (1, 3.100000023841858, 'L')], [(2, 4.8999998569488525, 'R'), (3, 1.899999976158142, 'L'), (2, 5.450000047683716, 'L'), (0, 6.549999952316284, 'L')], [(2, 4.8999998569488525, 'R'), (3, 1.899999976158142, 'L'), (2, 5.450000047683716, 'L')], [(2, 4.8999998569488525, 'R'), (3, 1.899999976158142, 'L')], [(3, 1.899999976158142, 'L'), (2, 5.450000047683716, 'L'), (0, 6.549999952316284, 'L'), (1, 3.100000023841858, 'L')], [(3, 1.899999976158142, 'L'), (2, 5.450000047683716, 'L'), (0, 6.549999952316284, 'L')], [(3, 1.899999976158142, 'L'), (2, 5.450000047683716, 'L')], [(2, 5.450000047683716, 'L'), (0, 6.549999952316284, 'L')], [(3, 0.7699999958276749, 'R'), (2, 4.8999998569488525, 'L'), (0, 5.4649999141693115, 'R')], [(3, 0.7699999958276749, 'R'), (2, 4.8999998569488525, 'L')], [(3, 0.7699999958276749, 'R')], [(2, 4.8999998569488525, 'L'), (0, 5.4649999141693115, 'R')], [(2, 4.8999998569488525, 'L')], [(0, 5.4649999141693115, 'R')], [(3, 0.7699999958276749, 'R'), (2, 4.8999998569488525, 'L'), (0, 5.4649999141693115, 'L'), (1, 2.950000047683716, 'R')], [(3, 0.7699999958276749, 'R'), (2, 4.8999998569488525, 'L'), (0, 5.4649999141693115, 'L')], [(3, 0.7699999958276749, 'R'), (2, 4.8999998569488525, 'L')], [(3, 0.7699999958276749, 'R')], [(2, 4.8999998569488525, 'L'), (0, 5.4649999141693115, 'L'), (1, 2.950000047683716, 'R')], [(2, 4.8999998569488525, 'L'), (0, 5.4649999141693115, 'L')], [(2, 4.8999998569488525, 'L')], [(0, 5.4649999141693115, 'L'), (1, 2.950000047683716, 'R')], [(0, 5.4649999141693115, 'L')], [(1, 2.950000047683716, 'R')], [(2, 4.8999998569488525, 'L'), (0, 5.4649999141693115, 'L')], [(3, 0.7699999958276749, 'R'), (2, 4.8999998569488525, 'L'), (0, 5.4649999141693115, 'L'), (1, 2.950000047683716, 'L'), (3, 1.4699999690055847, 'R')], [(3, 0.7699999958276749, 'R'), (2, 4.8999998569488525, 'L'), (0, 5.4649999141693115, 'L'), (1, 2.950000047683716, 'L')], [(3, 0.7699999958276749, 'R'), (2, 4.8999998569488525, 'L'), (0, 5.4649999141693115, 'L')], [(3, 0.7699999958276749, 'R'), (2, 4.8999998569488525, 'L')], [(3, 0.7699999958276749, 'R')], [(2, 4.8999998569488525, 'L'), (0, 5.4649999141693115, 'L'), (1, 2.950000047683716, 'L'), (3, 1.4699999690055847, 'R')], [(2, 4.8999998569488525, 'L'), (0, 5.4649999141693115, 'L'), (1, 2.950000047683716, 'L')], [(2, 4.8999998569488525, 'L'), (0, 5.4649999141693115, 'L')], [(2, 4.8999998569488525, 'L')], [(0, 5.4649999141693115, 'L'), (1, 2.950000047683716, 'L'), (3, 1.4699999690055847, 'R')], [(0, 5.4649999141693115, 'L'), (1, 2.950000047683716, 'L')], [(0, 5.4649999141693115, 'L')], [(1, 2.950000047683716, 'L'), (3, 1.4699999690055847, 'R')], [(1, 2.950000047683716, 'L')], [(3, 1.4699999690055847, 'R')], [(2, 4.8999998569488525, 'L'), (0, 5.4649999141693115, 'L'), (1, 2.950000047683716, 'L')], [(2, 4.8999998569488525, 'L'), (0, 5.4649999141693115, 'L')]]\n"
     ]
    }
   ],
   "source": [
    "def split_sub_rules(path,is_removing_singleton=False):\n",
    "    list_sub_path = []\n",
    "    max_size_curr_path = len(path)\n",
    "    if is_removing_singleton:\n",
    "        int_to_add = 1\n",
    "    else:\n",
    "        int_to_add = 0\n",
    "    for j in range(max_size_curr_path-int_to_add):\n",
    "        list_sub_path.append(path[:(max_size_curr_path-j)])\n",
    "    return list_sub_path\n",
    "\n",
    "\n",
    "all_paths_list = []\n",
    "for i in range(len(tree_structure)):\n",
    "    print('*****'*10)\n",
    "    curr_path = tree_structure[i]\n",
    "    max_size_curr_path = len(curr_path)\n",
    "    \n",
    "    for k in range(max_size_curr_path):\n",
    "        list_sub_path = split_sub_rules(curr_path[k:],is_removing_singleton=False)\n",
    "        print('ici : ', list_sub_path)\n",
    "        all_paths_list.extend(list_sub_path)\n",
    "\n",
    "    ## CAS plus complexes :\n",
    "    if max_size_curr_path ==1:\n",
    "        #all_paths_list.append(curr_path)\n",
    "        print(\"SKIIIIP\")\n",
    "        continue\n",
    "    else:\n",
    "        curr_path_size_pair = ( (max_size_curr_path%2)==0)\n",
    "        print('TAIIIILLE : ',max_size_curr_path)\n",
    "\n",
    "        if curr_path_size_pair:\n",
    "            print('aa')\n",
    "            #list_sub_path = split_sub_rules(curr_path)\n",
    "            #all_paths_list.extend(list_sub_path)          \n",
    "            for k in range(1, (max_size_curr_path//2) ):\n",
    "                print('curr path : ',curr_path[k:max_size_curr_path-k])\n",
    "                list_sub_path = split_sub_rules(curr_path[k:max_size_curr_path-k],is_removing_singleton=True)\n",
    "                print('list_sub_path : ',list_sub_path)\n",
    "                all_paths_list.extend(list_sub_path)\n",
    "        else:\n",
    "            print('b')\n",
    "            #list_sub_path = split_sub_rules(curr_path)\n",
    "            #all_paths_list.extend(list_sub_path)\n",
    "            for k in range(1,(max_size_curr_path//2) ):\n",
    "                print('curr path : ',curr_path[k:max_size_curr_path-k])\n",
    "                list_sub_path = split_sub_rules(curr_path[k:max_size_curr_path-k],is_removing_singleton=True)\n",
    "                all_paths_list.extend(list_sub_path)\n",
    "                print('list_sub_path : ',list_sub_path)\n",
    "                if k == (max_size_curr_path//2): #case odd last \n",
    "                    list_sub_path = split_sub_rules(curr_path[k:max_size_curr_path-(k-1)],is_removing_singleton=True)\n",
    "                    print('list_sub_path : ',list_sub_path)\n",
    "                    all_paths_list.extend(list_sub_path)\n",
    "    print('end iteration all_paths_list : ',all_paths_list)\n",
    "        "
   ]
  },
  {
   "cell_type": "code",
   "execution_count": 37,
   "metadata": {},
   "outputs": [
    {
     "data": {
      "text/plain": [
       "12"
      ]
     },
     "execution_count": 37,
     "metadata": {},
     "output_type": "execute_result"
    }
   ],
   "source": [
    "len(tree_structure)"
   ]
  },
  {
   "cell_type": "code",
   "execution_count": 38,
   "metadata": {},
   "outputs": [
    {
     "data": {
      "text/plain": [
       "1"
      ]
     },
     "execution_count": 38,
     "metadata": {},
     "output_type": "execute_result"
    }
   ],
   "source": [
    "3 // 2"
   ]
  },
  {
   "cell_type": "code",
   "execution_count": 39,
   "metadata": {},
   "outputs": [
    {
     "data": {
      "text/plain": [
       "[(3, 0.7699999958276749, 'R'),\n",
       " (2, 4.8999998569488525, 'L'),\n",
       " (0, 5.4649999141693115, 'L'),\n",
       " (1, 2.950000047683716, 'L'),\n",
       " (3, 1.4699999690055847, 'L')]"
      ]
     },
     "execution_count": 39,
     "metadata": {},
     "output_type": "execute_result"
    }
   ],
   "source": [
    "tree_structure[1]"
   ]
  },
  {
   "cell_type": "code",
   "execution_count": 40,
   "metadata": {},
   "outputs": [
    {
     "data": {
      "text/plain": [
       "[(2, 4.8999998569488525, 'L'),\n",
       " (0, 5.4649999141693115, 'L'),\n",
       " (1, 2.950000047683716, 'L')]"
      ]
     },
     "execution_count": 40,
     "metadata": {},
     "output_type": "execute_result"
    }
   ],
   "source": [
    "tree_structure[1][1:-1]"
   ]
  },
  {
   "cell_type": "code",
   "execution_count": 41,
   "metadata": {
    "scrolled": true
   },
   "outputs": [
    {
     "data": {
      "text/plain": [
       "[[(3, 0.7699999958276749, 'L')],\n",
       " [(3, 0.7699999958276749, 'R'),\n",
       "  (2, 4.8999998569488525, 'L'),\n",
       "  (0, 5.4649999141693115, 'L'),\n",
       "  (1, 2.950000047683716, 'L'),\n",
       "  (3, 1.4699999690055847, 'L')],\n",
       " [(3, 0.7699999958276749, 'R'),\n",
       "  (2, 4.8999998569488525, 'L'),\n",
       "  (0, 5.4649999141693115, 'L'),\n",
       "  (1, 2.950000047683716, 'L')],\n",
       " [(3, 0.7699999958276749, 'R'),\n",
       "  (2, 4.8999998569488525, 'L'),\n",
       "  (0, 5.4649999141693115, 'L')],\n",
       " [(3, 0.7699999958276749, 'R'), (2, 4.8999998569488525, 'L')],\n",
       " [(3, 0.7699999958276749, 'R')],\n",
       " [(2, 4.8999998569488525, 'L'),\n",
       "  (0, 5.4649999141693115, 'L'),\n",
       "  (1, 2.950000047683716, 'L'),\n",
       "  (3, 1.4699999690055847, 'L')],\n",
       " [(2, 4.8999998569488525, 'L'),\n",
       "  (0, 5.4649999141693115, 'L'),\n",
       "  (1, 2.950000047683716, 'L')],\n",
       " [(2, 4.8999998569488525, 'L'), (0, 5.4649999141693115, 'L')],\n",
       " [(2, 4.8999998569488525, 'L')],\n",
       " [(0, 5.4649999141693115, 'L'),\n",
       "  (1, 2.950000047683716, 'L'),\n",
       "  (3, 1.4699999690055847, 'L')],\n",
       " [(0, 5.4649999141693115, 'L'), (1, 2.950000047683716, 'L')],\n",
       " [(0, 5.4649999141693115, 'L')],\n",
       " [(1, 2.950000047683716, 'L'), (3, 1.4699999690055847, 'L')],\n",
       " [(1, 2.950000047683716, 'L')],\n",
       " [(3, 1.4699999690055847, 'L')],\n",
       " [(2, 4.8999998569488525, 'L'),\n",
       "  (0, 5.4649999141693115, 'L'),\n",
       "  (1, 2.950000047683716, 'L')],\n",
       " [(2, 4.8999998569488525, 'L'), (0, 5.4649999141693115, 'L')],\n",
       " [(3, 0.7699999958276749, 'R'),\n",
       "  (2, 4.8999998569488525, 'R'),\n",
       "  (3, 1.899999976158142, 'L'),\n",
       "  (2, 5.450000047683716, 'L'),\n",
       "  (0, 6.549999952316284, 'L'),\n",
       "  (1, 3.100000023841858, 'L'),\n",
       "  (1, 2.600000023841858, 'L'),\n",
       "  (0, 6.2799999713897705, 'L')],\n",
       " [(3, 0.7699999958276749, 'R'),\n",
       "  (2, 4.8999998569488525, 'R'),\n",
       "  (3, 1.899999976158142, 'L'),\n",
       "  (2, 5.450000047683716, 'L'),\n",
       "  (0, 6.549999952316284, 'L'),\n",
       "  (1, 3.100000023841858, 'L'),\n",
       "  (1, 2.600000023841858, 'L')],\n",
       " [(3, 0.7699999958276749, 'R'),\n",
       "  (2, 4.8999998569488525, 'R'),\n",
       "  (3, 1.899999976158142, 'L'),\n",
       "  (2, 5.450000047683716, 'L'),\n",
       "  (0, 6.549999952316284, 'L'),\n",
       "  (1, 3.100000023841858, 'L')],\n",
       " [(3, 0.7699999958276749, 'R'),\n",
       "  (2, 4.8999998569488525, 'R'),\n",
       "  (3, 1.899999976158142, 'L'),\n",
       "  (2, 5.450000047683716, 'L'),\n",
       "  (0, 6.549999952316284, 'L')],\n",
       " [(3, 0.7699999958276749, 'R'),\n",
       "  (2, 4.8999998569488525, 'R'),\n",
       "  (3, 1.899999976158142, 'L'),\n",
       "  (2, 5.450000047683716, 'L')],\n",
       " [(3, 0.7699999958276749, 'R'),\n",
       "  (2, 4.8999998569488525, 'R'),\n",
       "  (3, 1.899999976158142, 'L')],\n",
       " [(3, 0.7699999958276749, 'R'), (2, 4.8999998569488525, 'R')],\n",
       " [(3, 0.7699999958276749, 'R')],\n",
       " [(2, 4.8999998569488525, 'R'),\n",
       "  (3, 1.899999976158142, 'L'),\n",
       "  (2, 5.450000047683716, 'L'),\n",
       "  (0, 6.549999952316284, 'L'),\n",
       "  (1, 3.100000023841858, 'L'),\n",
       "  (1, 2.600000023841858, 'L'),\n",
       "  (0, 6.2799999713897705, 'L')],\n",
       " [(2, 4.8999998569488525, 'R'),\n",
       "  (3, 1.899999976158142, 'L'),\n",
       "  (2, 5.450000047683716, 'L'),\n",
       "  (0, 6.549999952316284, 'L'),\n",
       "  (1, 3.100000023841858, 'L'),\n",
       "  (1, 2.600000023841858, 'L')],\n",
       " [(2, 4.8999998569488525, 'R'),\n",
       "  (3, 1.899999976158142, 'L'),\n",
       "  (2, 5.450000047683716, 'L'),\n",
       "  (0, 6.549999952316284, 'L'),\n",
       "  (1, 3.100000023841858, 'L')],\n",
       " [(2, 4.8999998569488525, 'R'),\n",
       "  (3, 1.899999976158142, 'L'),\n",
       "  (2, 5.450000047683716, 'L'),\n",
       "  (0, 6.549999952316284, 'L')],\n",
       " [(2, 4.8999998569488525, 'R'),\n",
       "  (3, 1.899999976158142, 'L'),\n",
       "  (2, 5.450000047683716, 'L')],\n",
       " [(2, 4.8999998569488525, 'R'), (3, 1.899999976158142, 'L')],\n",
       " [(2, 4.8999998569488525, 'R')],\n",
       " [(3, 1.899999976158142, 'L'),\n",
       "  (2, 5.450000047683716, 'L'),\n",
       "  (0, 6.549999952316284, 'L'),\n",
       "  (1, 3.100000023841858, 'L'),\n",
       "  (1, 2.600000023841858, 'L'),\n",
       "  (0, 6.2799999713897705, 'L')],\n",
       " [(3, 1.899999976158142, 'L'),\n",
       "  (2, 5.450000047683716, 'L'),\n",
       "  (0, 6.549999952316284, 'L'),\n",
       "  (1, 3.100000023841858, 'L'),\n",
       "  (1, 2.600000023841858, 'L')],\n",
       " [(3, 1.899999976158142, 'L'),\n",
       "  (2, 5.450000047683716, 'L'),\n",
       "  (0, 6.549999952316284, 'L'),\n",
       "  (1, 3.100000023841858, 'L')],\n",
       " [(3, 1.899999976158142, 'L'),\n",
       "  (2, 5.450000047683716, 'L'),\n",
       "  (0, 6.549999952316284, 'L')],\n",
       " [(3, 1.899999976158142, 'L'), (2, 5.450000047683716, 'L')],\n",
       " [(3, 1.899999976158142, 'L')],\n",
       " [(2, 5.450000047683716, 'L'),\n",
       "  (0, 6.549999952316284, 'L'),\n",
       "  (1, 3.100000023841858, 'L'),\n",
       "  (1, 2.600000023841858, 'L'),\n",
       "  (0, 6.2799999713897705, 'L')],\n",
       " [(2, 5.450000047683716, 'L'),\n",
       "  (0, 6.549999952316284, 'L'),\n",
       "  (1, 3.100000023841858, 'L'),\n",
       "  (1, 2.600000023841858, 'L')],\n",
       " [(2, 5.450000047683716, 'L'),\n",
       "  (0, 6.549999952316284, 'L'),\n",
       "  (1, 3.100000023841858, 'L')],\n",
       " [(2, 5.450000047683716, 'L'), (0, 6.549999952316284, 'L')],\n",
       " [(2, 5.450000047683716, 'L')],\n",
       " [(0, 6.549999952316284, 'L'),\n",
       "  (1, 3.100000023841858, 'L'),\n",
       "  (1, 2.600000023841858, 'L'),\n",
       "  (0, 6.2799999713897705, 'L')],\n",
       " [(0, 6.549999952316284, 'L'),\n",
       "  (1, 3.100000023841858, 'L'),\n",
       "  (1, 2.600000023841858, 'L')],\n",
       " [(0, 6.549999952316284, 'L'), (1, 3.100000023841858, 'L')],\n",
       " [(0, 6.549999952316284, 'L')],\n",
       " [(1, 3.100000023841858, 'L'),\n",
       "  (1, 2.600000023841858, 'L'),\n",
       "  (0, 6.2799999713897705, 'L')],\n",
       " [(1, 3.100000023841858, 'L'), (1, 2.600000023841858, 'L')],\n",
       " [(1, 3.100000023841858, 'L')],\n",
       " [(1, 2.600000023841858, 'L'), (0, 6.2799999713897705, 'L')],\n",
       " [(1, 2.600000023841858, 'L')],\n",
       " [(0, 6.2799999713897705, 'L')],\n",
       " [(2, 4.8999998569488525, 'R'),\n",
       "  (3, 1.899999976158142, 'L'),\n",
       "  (2, 5.450000047683716, 'L'),\n",
       "  (0, 6.549999952316284, 'L'),\n",
       "  (1, 3.100000023841858, 'L'),\n",
       "  (1, 2.600000023841858, 'L')],\n",
       " [(2, 4.8999998569488525, 'R'),\n",
       "  (3, 1.899999976158142, 'L'),\n",
       "  (2, 5.450000047683716, 'L'),\n",
       "  (0, 6.549999952316284, 'L'),\n",
       "  (1, 3.100000023841858, 'L')],\n",
       " [(2, 4.8999998569488525, 'R'),\n",
       "  (3, 1.899999976158142, 'L'),\n",
       "  (2, 5.450000047683716, 'L'),\n",
       "  (0, 6.549999952316284, 'L')],\n",
       " [(2, 4.8999998569488525, 'R'),\n",
       "  (3, 1.899999976158142, 'L'),\n",
       "  (2, 5.450000047683716, 'L')],\n",
       " [(2, 4.8999998569488525, 'R'), (3, 1.899999976158142, 'L')],\n",
       " [(3, 1.899999976158142, 'L'),\n",
       "  (2, 5.450000047683716, 'L'),\n",
       "  (0, 6.549999952316284, 'L'),\n",
       "  (1, 3.100000023841858, 'L')],\n",
       " [(3, 1.899999976158142, 'L'),\n",
       "  (2, 5.450000047683716, 'L'),\n",
       "  (0, 6.549999952316284, 'L')],\n",
       " [(3, 1.899999976158142, 'L'), (2, 5.450000047683716, 'L')],\n",
       " [(2, 5.450000047683716, 'L'), (0, 6.549999952316284, 'L')],\n",
       " [(3, 0.7699999958276749, 'R'),\n",
       "  (2, 4.8999998569488525, 'R'),\n",
       "  (3, 1.899999976158142, 'R')],\n",
       " [(3, 0.7699999958276749, 'R'), (2, 4.8999998569488525, 'R')],\n",
       " [(3, 0.7699999958276749, 'R')],\n",
       " [(2, 4.8999998569488525, 'R'), (3, 1.899999976158142, 'R')],\n",
       " [(2, 4.8999998569488525, 'R')],\n",
       " [(3, 1.899999976158142, 'R')],\n",
       " [(3, 0.7699999958276749, 'R'),\n",
       "  (2, 4.8999998569488525, 'R'),\n",
       "  (3, 1.899999976158142, 'L'),\n",
       "  (2, 5.450000047683716, 'R')],\n",
       " [(3, 0.7699999958276749, 'R'),\n",
       "  (2, 4.8999998569488525, 'R'),\n",
       "  (3, 1.899999976158142, 'L')],\n",
       " [(3, 0.7699999958276749, 'R'), (2, 4.8999998569488525, 'R')],\n",
       " [(3, 0.7699999958276749, 'R')],\n",
       " [(2, 4.8999998569488525, 'R'),\n",
       "  (3, 1.899999976158142, 'L'),\n",
       "  (2, 5.450000047683716, 'R')],\n",
       " [(2, 4.8999998569488525, 'R'), (3, 1.899999976158142, 'L')],\n",
       " [(2, 4.8999998569488525, 'R')],\n",
       " [(3, 1.899999976158142, 'L'), (2, 5.450000047683716, 'R')],\n",
       " [(3, 1.899999976158142, 'L')],\n",
       " [(2, 5.450000047683716, 'R')],\n",
       " [(2, 4.8999998569488525, 'R'), (3, 1.899999976158142, 'L')],\n",
       " [(3, 0.7699999958276749, 'R'),\n",
       "  (2, 4.8999998569488525, 'R'),\n",
       "  (3, 1.899999976158142, 'L'),\n",
       "  (2, 5.450000047683716, 'L'),\n",
       "  (0, 6.549999952316284, 'R')],\n",
       " [(3, 0.7699999958276749, 'R'),\n",
       "  (2, 4.8999998569488525, 'R'),\n",
       "  (3, 1.899999976158142, 'L'),\n",
       "  (2, 5.450000047683716, 'L')],\n",
       " [(3, 0.7699999958276749, 'R'),\n",
       "  (2, 4.8999998569488525, 'R'),\n",
       "  (3, 1.899999976158142, 'L')],\n",
       " [(3, 0.7699999958276749, 'R'), (2, 4.8999998569488525, 'R')],\n",
       " [(3, 0.7699999958276749, 'R')],\n",
       " [(2, 4.8999998569488525, 'R'),\n",
       "  (3, 1.899999976158142, 'L'),\n",
       "  (2, 5.450000047683716, 'L'),\n",
       "  (0, 6.549999952316284, 'R')],\n",
       " [(2, 4.8999998569488525, 'R'),\n",
       "  (3, 1.899999976158142, 'L'),\n",
       "  (2, 5.450000047683716, 'L')],\n",
       " [(2, 4.8999998569488525, 'R'), (3, 1.899999976158142, 'L')],\n",
       " [(2, 4.8999998569488525, 'R')],\n",
       " [(3, 1.899999976158142, 'L'),\n",
       "  (2, 5.450000047683716, 'L'),\n",
       "  (0, 6.549999952316284, 'R')],\n",
       " [(3, 1.899999976158142, 'L'), (2, 5.450000047683716, 'L')],\n",
       " [(3, 1.899999976158142, 'L')],\n",
       " [(2, 5.450000047683716, 'L'), (0, 6.549999952316284, 'R')],\n",
       " [(2, 5.450000047683716, 'L')],\n",
       " [(0, 6.549999952316284, 'R')],\n",
       " [(2, 4.8999998569488525, 'R'),\n",
       "  (3, 1.899999976158142, 'L'),\n",
       "  (2, 5.450000047683716, 'L')],\n",
       " [(2, 4.8999998569488525, 'R'), (3, 1.899999976158142, 'L')],\n",
       " [(3, 0.7699999958276749, 'R'),\n",
       "  (2, 4.8999998569488525, 'R'),\n",
       "  (3, 1.899999976158142, 'L'),\n",
       "  (2, 5.450000047683716, 'L'),\n",
       "  (0, 6.549999952316284, 'L'),\n",
       "  (1, 3.100000023841858, 'R')],\n",
       " [(3, 0.7699999958276749, 'R'),\n",
       "  (2, 4.8999998569488525, 'R'),\n",
       "  (3, 1.899999976158142, 'L'),\n",
       "  (2, 5.450000047683716, 'L'),\n",
       "  (0, 6.549999952316284, 'L')],\n",
       " [(3, 0.7699999958276749, 'R'),\n",
       "  (2, 4.8999998569488525, 'R'),\n",
       "  (3, 1.899999976158142, 'L'),\n",
       "  (2, 5.450000047683716, 'L')],\n",
       " [(3, 0.7699999958276749, 'R'),\n",
       "  (2, 4.8999998569488525, 'R'),\n",
       "  (3, 1.899999976158142, 'L')],\n",
       " [(3, 0.7699999958276749, 'R'), (2, 4.8999998569488525, 'R')],\n",
       " [(3, 0.7699999958276749, 'R')],\n",
       " [(2, 4.8999998569488525, 'R'),\n",
       "  (3, 1.899999976158142, 'L'),\n",
       "  (2, 5.450000047683716, 'L'),\n",
       "  (0, 6.549999952316284, 'L'),\n",
       "  (1, 3.100000023841858, 'R')],\n",
       " [(2, 4.8999998569488525, 'R'),\n",
       "  (3, 1.899999976158142, 'L'),\n",
       "  (2, 5.450000047683716, 'L'),\n",
       "  (0, 6.549999952316284, 'L')],\n",
       " [(2, 4.8999998569488525, 'R'),\n",
       "  (3, 1.899999976158142, 'L'),\n",
       "  (2, 5.450000047683716, 'L')],\n",
       " [(2, 4.8999998569488525, 'R'), (3, 1.899999976158142, 'L')],\n",
       " [(2, 4.8999998569488525, 'R')],\n",
       " [(3, 1.899999976158142, 'L'),\n",
       "  (2, 5.450000047683716, 'L'),\n",
       "  (0, 6.549999952316284, 'L'),\n",
       "  (1, 3.100000023841858, 'R')],\n",
       " [(3, 1.899999976158142, 'L'),\n",
       "  (2, 5.450000047683716, 'L'),\n",
       "  (0, 6.549999952316284, 'L')],\n",
       " [(3, 1.899999976158142, 'L'), (2, 5.450000047683716, 'L')],\n",
       " [(3, 1.899999976158142, 'L')],\n",
       " [(2, 5.450000047683716, 'L'),\n",
       "  (0, 6.549999952316284, 'L'),\n",
       "  (1, 3.100000023841858, 'R')],\n",
       " [(2, 5.450000047683716, 'L'), (0, 6.549999952316284, 'L')],\n",
       " [(2, 5.450000047683716, 'L')],\n",
       " [(0, 6.549999952316284, 'L'), (1, 3.100000023841858, 'R')],\n",
       " [(0, 6.549999952316284, 'L')],\n",
       " [(1, 3.100000023841858, 'R')],\n",
       " [(2, 4.8999998569488525, 'R'),\n",
       "  (3, 1.899999976158142, 'L'),\n",
       "  (2, 5.450000047683716, 'L'),\n",
       "  (0, 6.549999952316284, 'L')],\n",
       " [(2, 4.8999998569488525, 'R'),\n",
       "  (3, 1.899999976158142, 'L'),\n",
       "  (2, 5.450000047683716, 'L')],\n",
       " [(2, 4.8999998569488525, 'R'), (3, 1.899999976158142, 'L')],\n",
       " [(3, 1.899999976158142, 'L'), (2, 5.450000047683716, 'L')],\n",
       " [(3, 0.7699999958276749, 'R'),\n",
       "  (2, 4.8999998569488525, 'R'),\n",
       "  (3, 1.899999976158142, 'L'),\n",
       "  (2, 5.450000047683716, 'L'),\n",
       "  (0, 6.549999952316284, 'L'),\n",
       "  (1, 3.100000023841858, 'L'),\n",
       "  (1, 2.600000023841858, 'R')],\n",
       " [(3, 0.7699999958276749, 'R'),\n",
       "  (2, 4.8999998569488525, 'R'),\n",
       "  (3, 1.899999976158142, 'L'),\n",
       "  (2, 5.450000047683716, 'L'),\n",
       "  (0, 6.549999952316284, 'L'),\n",
       "  (1, 3.100000023841858, 'L')],\n",
       " [(3, 0.7699999958276749, 'R'),\n",
       "  (2, 4.8999998569488525, 'R'),\n",
       "  (3, 1.899999976158142, 'L'),\n",
       "  (2, 5.450000047683716, 'L'),\n",
       "  (0, 6.549999952316284, 'L')],\n",
       " [(3, 0.7699999958276749, 'R'),\n",
       "  (2, 4.8999998569488525, 'R'),\n",
       "  (3, 1.899999976158142, 'L'),\n",
       "  (2, 5.450000047683716, 'L')],\n",
       " [(3, 0.7699999958276749, 'R'),\n",
       "  (2, 4.8999998569488525, 'R'),\n",
       "  (3, 1.899999976158142, 'L')],\n",
       " [(3, 0.7699999958276749, 'R'), (2, 4.8999998569488525, 'R')],\n",
       " [(3, 0.7699999958276749, 'R')],\n",
       " [(2, 4.8999998569488525, 'R'),\n",
       "  (3, 1.899999976158142, 'L'),\n",
       "  (2, 5.450000047683716, 'L'),\n",
       "  (0, 6.549999952316284, 'L'),\n",
       "  (1, 3.100000023841858, 'L'),\n",
       "  (1, 2.600000023841858, 'R')],\n",
       " [(2, 4.8999998569488525, 'R'),\n",
       "  (3, 1.899999976158142, 'L'),\n",
       "  (2, 5.450000047683716, 'L'),\n",
       "  (0, 6.549999952316284, 'L'),\n",
       "  (1, 3.100000023841858, 'L')],\n",
       " [(2, 4.8999998569488525, 'R'),\n",
       "  (3, 1.899999976158142, 'L'),\n",
       "  (2, 5.450000047683716, 'L'),\n",
       "  (0, 6.549999952316284, 'L')],\n",
       " [(2, 4.8999998569488525, 'R'),\n",
       "  (3, 1.899999976158142, 'L'),\n",
       "  (2, 5.450000047683716, 'L')],\n",
       " [(2, 4.8999998569488525, 'R'), (3, 1.899999976158142, 'L')],\n",
       " [(2, 4.8999998569488525, 'R')],\n",
       " [(3, 1.899999976158142, 'L'),\n",
       "  (2, 5.450000047683716, 'L'),\n",
       "  (0, 6.549999952316284, 'L'),\n",
       "  (1, 3.100000023841858, 'L'),\n",
       "  (1, 2.600000023841858, 'R')],\n",
       " [(3, 1.899999976158142, 'L'),\n",
       "  (2, 5.450000047683716, 'L'),\n",
       "  (0, 6.549999952316284, 'L'),\n",
       "  (1, 3.100000023841858, 'L')],\n",
       " [(3, 1.899999976158142, 'L'),\n",
       "  (2, 5.450000047683716, 'L'),\n",
       "  (0, 6.549999952316284, 'L')],\n",
       " [(3, 1.899999976158142, 'L'), (2, 5.450000047683716, 'L')],\n",
       " [(3, 1.899999976158142, 'L')],\n",
       " [(2, 5.450000047683716, 'L'),\n",
       "  (0, 6.549999952316284, 'L'),\n",
       "  (1, 3.100000023841858, 'L'),\n",
       "  (1, 2.600000023841858, 'R')],\n",
       " [(2, 5.450000047683716, 'L'),\n",
       "  (0, 6.549999952316284, 'L'),\n",
       "  (1, 3.100000023841858, 'L')],\n",
       " [(2, 5.450000047683716, 'L'), (0, 6.549999952316284, 'L')],\n",
       " [(2, 5.450000047683716, 'L')],\n",
       " [(0, 6.549999952316284, 'L'),\n",
       "  (1, 3.100000023841858, 'L'),\n",
       "  (1, 2.600000023841858, 'R')],\n",
       " [(0, 6.549999952316284, 'L'), (1, 3.100000023841858, 'L')],\n",
       " [(0, 6.549999952316284, 'L')],\n",
       " [(1, 3.100000023841858, 'L'), (1, 2.600000023841858, 'R')],\n",
       " [(1, 3.100000023841858, 'L')],\n",
       " [(1, 2.600000023841858, 'R')],\n",
       " [(2, 4.8999998569488525, 'R'),\n",
       "  (3, 1.899999976158142, 'L'),\n",
       "  (2, 5.450000047683716, 'L'),\n",
       "  (0, 6.549999952316284, 'L'),\n",
       "  (1, 3.100000023841858, 'L')],\n",
       " [(2, 4.8999998569488525, 'R'),\n",
       "  (3, 1.899999976158142, 'L'),\n",
       "  (2, 5.450000047683716, 'L'),\n",
       "  (0, 6.549999952316284, 'L')],\n",
       " [(2, 4.8999998569488525, 'R'),\n",
       "  (3, 1.899999976158142, 'L'),\n",
       "  (2, 5.450000047683716, 'L')],\n",
       " [(2, 4.8999998569488525, 'R'), (3, 1.899999976158142, 'L')],\n",
       " [(3, 1.899999976158142, 'L'),\n",
       "  (2, 5.450000047683716, 'L'),\n",
       "  (0, 6.549999952316284, 'L')],\n",
       " [(3, 1.899999976158142, 'L'), (2, 5.450000047683716, 'L')],\n",
       " [(3, 0.7699999958276749, 'R'),\n",
       "  (2, 4.8999998569488525, 'R'),\n",
       "  (3, 1.899999976158142, 'L'),\n",
       "  (2, 5.450000047683716, 'L'),\n",
       "  (0, 6.549999952316284, 'L'),\n",
       "  (1, 3.100000023841858, 'L'),\n",
       "  (1, 2.600000023841858, 'L'),\n",
       "  (0, 6.2799999713897705, 'R')],\n",
       " [(3, 0.7699999958276749, 'R'),\n",
       "  (2, 4.8999998569488525, 'R'),\n",
       "  (3, 1.899999976158142, 'L'),\n",
       "  (2, 5.450000047683716, 'L'),\n",
       "  (0, 6.549999952316284, 'L'),\n",
       "  (1, 3.100000023841858, 'L'),\n",
       "  (1, 2.600000023841858, 'L')],\n",
       " [(3, 0.7699999958276749, 'R'),\n",
       "  (2, 4.8999998569488525, 'R'),\n",
       "  (3, 1.899999976158142, 'L'),\n",
       "  (2, 5.450000047683716, 'L'),\n",
       "  (0, 6.549999952316284, 'L'),\n",
       "  (1, 3.100000023841858, 'L')],\n",
       " [(3, 0.7699999958276749, 'R'),\n",
       "  (2, 4.8999998569488525, 'R'),\n",
       "  (3, 1.899999976158142, 'L'),\n",
       "  (2, 5.450000047683716, 'L'),\n",
       "  (0, 6.549999952316284, 'L')],\n",
       " [(3, 0.7699999958276749, 'R'),\n",
       "  (2, 4.8999998569488525, 'R'),\n",
       "  (3, 1.899999976158142, 'L'),\n",
       "  (2, 5.450000047683716, 'L')],\n",
       " [(3, 0.7699999958276749, 'R'),\n",
       "  (2, 4.8999998569488525, 'R'),\n",
       "  (3, 1.899999976158142, 'L')],\n",
       " [(3, 0.7699999958276749, 'R'), (2, 4.8999998569488525, 'R')],\n",
       " [(3, 0.7699999958276749, 'R')],\n",
       " [(2, 4.8999998569488525, 'R'),\n",
       "  (3, 1.899999976158142, 'L'),\n",
       "  (2, 5.450000047683716, 'L'),\n",
       "  (0, 6.549999952316284, 'L'),\n",
       "  (1, 3.100000023841858, 'L'),\n",
       "  (1, 2.600000023841858, 'L'),\n",
       "  (0, 6.2799999713897705, 'R')],\n",
       " [(2, 4.8999998569488525, 'R'),\n",
       "  (3, 1.899999976158142, 'L'),\n",
       "  (2, 5.450000047683716, 'L'),\n",
       "  (0, 6.549999952316284, 'L'),\n",
       "  (1, 3.100000023841858, 'L'),\n",
       "  (1, 2.600000023841858, 'L')],\n",
       " [(2, 4.8999998569488525, 'R'),\n",
       "  (3, 1.899999976158142, 'L'),\n",
       "  (2, 5.450000047683716, 'L'),\n",
       "  (0, 6.549999952316284, 'L'),\n",
       "  (1, 3.100000023841858, 'L')],\n",
       " [(2, 4.8999998569488525, 'R'),\n",
       "  (3, 1.899999976158142, 'L'),\n",
       "  (2, 5.450000047683716, 'L'),\n",
       "  (0, 6.549999952316284, 'L')],\n",
       " [(2, 4.8999998569488525, 'R'),\n",
       "  (3, 1.899999976158142, 'L'),\n",
       "  (2, 5.450000047683716, 'L')],\n",
       " [(2, 4.8999998569488525, 'R'), (3, 1.899999976158142, 'L')],\n",
       " [(2, 4.8999998569488525, 'R')],\n",
       " [(3, 1.899999976158142, 'L'),\n",
       "  (2, 5.450000047683716, 'L'),\n",
       "  (0, 6.549999952316284, 'L'),\n",
       "  (1, 3.100000023841858, 'L'),\n",
       "  (1, 2.600000023841858, 'L'),\n",
       "  (0, 6.2799999713897705, 'R')],\n",
       " [(3, 1.899999976158142, 'L'),\n",
       "  (2, 5.450000047683716, 'L'),\n",
       "  (0, 6.549999952316284, 'L'),\n",
       "  (1, 3.100000023841858, 'L'),\n",
       "  (1, 2.600000023841858, 'L')],\n",
       " [(3, 1.899999976158142, 'L'),\n",
       "  (2, 5.450000047683716, 'L'),\n",
       "  (0, 6.549999952316284, 'L'),\n",
       "  (1, 3.100000023841858, 'L')],\n",
       " [(3, 1.899999976158142, 'L'),\n",
       "  (2, 5.450000047683716, 'L'),\n",
       "  (0, 6.549999952316284, 'L')],\n",
       " [(3, 1.899999976158142, 'L'), (2, 5.450000047683716, 'L')],\n",
       " [(3, 1.899999976158142, 'L')],\n",
       " [(2, 5.450000047683716, 'L'),\n",
       "  (0, 6.549999952316284, 'L'),\n",
       "  (1, 3.100000023841858, 'L'),\n",
       "  (1, 2.600000023841858, 'L'),\n",
       "  (0, 6.2799999713897705, 'R')],\n",
       " [(2, 5.450000047683716, 'L'),\n",
       "  (0, 6.549999952316284, 'L'),\n",
       "  (1, 3.100000023841858, 'L'),\n",
       "  (1, 2.600000023841858, 'L')],\n",
       " [(2, 5.450000047683716, 'L'),\n",
       "  (0, 6.549999952316284, 'L'),\n",
       "  (1, 3.100000023841858, 'L')],\n",
       " [(2, 5.450000047683716, 'L'), (0, 6.549999952316284, 'L')],\n",
       " [(2, 5.450000047683716, 'L')],\n",
       " [(0, 6.549999952316284, 'L'),\n",
       "  (1, 3.100000023841858, 'L'),\n",
       "  (1, 2.600000023841858, 'L'),\n",
       "  (0, 6.2799999713897705, 'R')],\n",
       " [(0, 6.549999952316284, 'L'),\n",
       "  (1, 3.100000023841858, 'L'),\n",
       "  (1, 2.600000023841858, 'L')],\n",
       " [(0, 6.549999952316284, 'L'), (1, 3.100000023841858, 'L')],\n",
       " [(0, 6.549999952316284, 'L')],\n",
       " [(1, 3.100000023841858, 'L'),\n",
       "  (1, 2.600000023841858, 'L'),\n",
       "  (0, 6.2799999713897705, 'R')],\n",
       " [(1, 3.100000023841858, 'L'), (1, 2.600000023841858, 'L')],\n",
       " [(1, 3.100000023841858, 'L')],\n",
       " [(1, 2.600000023841858, 'L'), (0, 6.2799999713897705, 'R')],\n",
       " [(1, 2.600000023841858, 'L')],\n",
       " [(0, 6.2799999713897705, 'R')],\n",
       " [(2, 4.8999998569488525, 'R'),\n",
       "  (3, 1.899999976158142, 'L'),\n",
       "  (2, 5.450000047683716, 'L'),\n",
       "  (0, 6.549999952316284, 'L'),\n",
       "  (1, 3.100000023841858, 'L'),\n",
       "  (1, 2.600000023841858, 'L')],\n",
       " [(2, 4.8999998569488525, 'R'),\n",
       "  (3, 1.899999976158142, 'L'),\n",
       "  (2, 5.450000047683716, 'L'),\n",
       "  (0, 6.549999952316284, 'L'),\n",
       "  (1, 3.100000023841858, 'L')],\n",
       " [(2, 4.8999998569488525, 'R'),\n",
       "  (3, 1.899999976158142, 'L'),\n",
       "  (2, 5.450000047683716, 'L'),\n",
       "  (0, 6.549999952316284, 'L')],\n",
       " [(2, 4.8999998569488525, 'R'),\n",
       "  (3, 1.899999976158142, 'L'),\n",
       "  (2, 5.450000047683716, 'L')],\n",
       " [(2, 4.8999998569488525, 'R'), (3, 1.899999976158142, 'L')],\n",
       " [(3, 1.899999976158142, 'L'),\n",
       "  (2, 5.450000047683716, 'L'),\n",
       "  (0, 6.549999952316284, 'L'),\n",
       "  (1, 3.100000023841858, 'L')],\n",
       " [(3, 1.899999976158142, 'L'),\n",
       "  (2, 5.450000047683716, 'L'),\n",
       "  (0, 6.549999952316284, 'L')],\n",
       " [(3, 1.899999976158142, 'L'), (2, 5.450000047683716, 'L')],\n",
       " [(2, 5.450000047683716, 'L'), (0, 6.549999952316284, 'L')],\n",
       " [(3, 0.7699999958276749, 'R'),\n",
       "  (2, 4.8999998569488525, 'L'),\n",
       "  (0, 5.4649999141693115, 'R')],\n",
       " [(3, 0.7699999958276749, 'R'), (2, 4.8999998569488525, 'L')],\n",
       " [(3, 0.7699999958276749, 'R')],\n",
       " [(2, 4.8999998569488525, 'L'), (0, 5.4649999141693115, 'R')],\n",
       " [(2, 4.8999998569488525, 'L')],\n",
       " [(0, 5.4649999141693115, 'R')],\n",
       " [(3, 0.7699999958276749, 'R'),\n",
       "  (2, 4.8999998569488525, 'L'),\n",
       "  (0, 5.4649999141693115, 'L'),\n",
       "  (1, 2.950000047683716, 'R')],\n",
       " [(3, 0.7699999958276749, 'R'),\n",
       "  (2, 4.8999998569488525, 'L'),\n",
       "  (0, 5.4649999141693115, 'L')],\n",
       " [(3, 0.7699999958276749, 'R'), (2, 4.8999998569488525, 'L')],\n",
       " [(3, 0.7699999958276749, 'R')],\n",
       " [(2, 4.8999998569488525, 'L'),\n",
       "  (0, 5.4649999141693115, 'L'),\n",
       "  (1, 2.950000047683716, 'R')],\n",
       " [(2, 4.8999998569488525, 'L'), (0, 5.4649999141693115, 'L')],\n",
       " [(2, 4.8999998569488525, 'L')],\n",
       " [(0, 5.4649999141693115, 'L'), (1, 2.950000047683716, 'R')],\n",
       " [(0, 5.4649999141693115, 'L')],\n",
       " [(1, 2.950000047683716, 'R')],\n",
       " [(2, 4.8999998569488525, 'L'), (0, 5.4649999141693115, 'L')],\n",
       " [(3, 0.7699999958276749, 'R'),\n",
       "  (2, 4.8999998569488525, 'L'),\n",
       "  (0, 5.4649999141693115, 'L'),\n",
       "  (1, 2.950000047683716, 'L'),\n",
       "  (3, 1.4699999690055847, 'R')],\n",
       " [(3, 0.7699999958276749, 'R'),\n",
       "  (2, 4.8999998569488525, 'L'),\n",
       "  (0, 5.4649999141693115, 'L'),\n",
       "  (1, 2.950000047683716, 'L')],\n",
       " [(3, 0.7699999958276749, 'R'),\n",
       "  (2, 4.8999998569488525, 'L'),\n",
       "  (0, 5.4649999141693115, 'L')],\n",
       " [(3, 0.7699999958276749, 'R'), (2, 4.8999998569488525, 'L')],\n",
       " [(3, 0.7699999958276749, 'R')],\n",
       " [(2, 4.8999998569488525, 'L'),\n",
       "  (0, 5.4649999141693115, 'L'),\n",
       "  (1, 2.950000047683716, 'L'),\n",
       "  (3, 1.4699999690055847, 'R')],\n",
       " [(2, 4.8999998569488525, 'L'),\n",
       "  (0, 5.4649999141693115, 'L'),\n",
       "  (1, 2.950000047683716, 'L')],\n",
       " [(2, 4.8999998569488525, 'L'), (0, 5.4649999141693115, 'L')],\n",
       " [(2, 4.8999998569488525, 'L')],\n",
       " [(0, 5.4649999141693115, 'L'),\n",
       "  (1, 2.950000047683716, 'L'),\n",
       "  (3, 1.4699999690055847, 'R')],\n",
       " [(0, 5.4649999141693115, 'L'), (1, 2.950000047683716, 'L')],\n",
       " [(0, 5.4649999141693115, 'L')],\n",
       " [(1, 2.950000047683716, 'L'), (3, 1.4699999690055847, 'R')],\n",
       " [(1, 2.950000047683716, 'L')],\n",
       " [(3, 1.4699999690055847, 'R')],\n",
       " [(2, 4.8999998569488525, 'L'),\n",
       "  (0, 5.4649999141693115, 'L'),\n",
       "  (1, 2.950000047683716, 'L')],\n",
       " [(2, 4.8999998569488525, 'L'), (0, 5.4649999141693115, 'L')]]"
      ]
     },
     "execution_count": 41,
     "metadata": {},
     "output_type": "execute_result"
    }
   ],
   "source": [
    "all_paths_list"
   ]
  },
  {
   "cell_type": "code",
   "execution_count": 42,
   "metadata": {},
   "outputs": [
    {
     "data": {
      "text/plain": [
       "235"
      ]
     },
     "execution_count": 42,
     "metadata": {},
     "output_type": "execute_result"
    }
   ],
   "source": [
    "len(all_paths_list)"
   ]
  },
  {
   "cell_type": "code",
   "execution_count": 43,
   "metadata": {},
   "outputs": [
    {
     "name": "stdout",
     "output_type": "stream",
     "text": [
      "1 5 8 3 4 5 6\n"
     ]
    }
   ],
   "source": [
    "print(len(tree_structure[0]),len(tree_structure[1]),len(tree_structure[2]),len(tree_structure[3]),len(tree_structure[4]),\n",
    "     len(tree_structure[5]),len(tree_structure[6]))"
   ]
  },
  {
   "cell_type": "code",
   "execution_count": 44,
   "metadata": {},
   "outputs": [],
   "source": [
    "import math"
   ]
  },
  {
   "cell_type": "code",
   "execution_count": 45,
   "metadata": {},
   "outputs": [
    {
     "data": {
      "text/plain": [
       "57.0"
      ]
     },
     "execution_count": 45,
     "metadata": {},
     "output_type": "execute_result"
    }
   ],
   "source": [
    "1 + (3*4)/2 + (4*5/2)+1 + 3*4/2 + (4*5/2)+1 + (4*5/2)+1 + (4*5/2)+1"
   ]
  },
  {
   "cell_type": "code",
   "execution_count": 46,
   "metadata": {},
   "outputs": [
    {
     "data": {
      "text/plain": [
       "57"
      ]
     },
     "execution_count": 46,
     "metadata": {},
     "output_type": "execute_result"
    }
   ],
   "source": [
    "1 + 6 + 11 + 6 + 11 + 11 + 11"
   ]
  },
  {
   "cell_type": "code",
   "execution_count": 47,
   "metadata": {},
   "outputs": [],
   "source": [
    "all_paths_list_str = [str(elem) for elem in all_paths_list]"
   ]
  },
  {
   "cell_type": "code",
   "execution_count": 48,
   "metadata": {},
   "outputs": [],
   "source": [
    "unique_str_rules,indices_rules,count_rules = np.unique(all_paths_list_str,return_counts=True,return_index=True)"
   ]
  },
  {
   "cell_type": "code",
   "execution_count": 49,
   "metadata": {
    "scrolled": true
   },
   "outputs": [
    {
     "data": {
      "text/plain": [
       "array([\"[(0, 5.4649999141693115, 'L'), (1, 2.950000047683716, 'L'), (3, 1.4699999690055847, 'L')]\",\n",
       "       \"[(0, 5.4649999141693115, 'L'), (1, 2.950000047683716, 'L'), (3, 1.4699999690055847, 'R')]\",\n",
       "       \"[(0, 5.4649999141693115, 'L'), (1, 2.950000047683716, 'L')]\",\n",
       "       \"[(0, 5.4649999141693115, 'L'), (1, 2.950000047683716, 'R')]\",\n",
       "       \"[(0, 5.4649999141693115, 'L')]\", \"[(0, 5.4649999141693115, 'R')]\",\n",
       "       \"[(0, 6.2799999713897705, 'L')]\", \"[(0, 6.2799999713897705, 'R')]\",\n",
       "       \"[(0, 6.549999952316284, 'L'), (1, 3.100000023841858, 'L'), (1, 2.600000023841858, 'L'), (0, 6.2799999713897705, 'L')]\",\n",
       "       \"[(0, 6.549999952316284, 'L'), (1, 3.100000023841858, 'L'), (1, 2.600000023841858, 'L'), (0, 6.2799999713897705, 'R')]\",\n",
       "       \"[(0, 6.549999952316284, 'L'), (1, 3.100000023841858, 'L'), (1, 2.600000023841858, 'L')]\",\n",
       "       \"[(0, 6.549999952316284, 'L'), (1, 3.100000023841858, 'L'), (1, 2.600000023841858, 'R')]\",\n",
       "       \"[(0, 6.549999952316284, 'L'), (1, 3.100000023841858, 'L')]\",\n",
       "       \"[(0, 6.549999952316284, 'L'), (1, 3.100000023841858, 'R')]\",\n",
       "       \"[(0, 6.549999952316284, 'L')]\", \"[(0, 6.549999952316284, 'R')]\",\n",
       "       \"[(1, 2.600000023841858, 'L'), (0, 6.2799999713897705, 'L')]\",\n",
       "       \"[(1, 2.600000023841858, 'L'), (0, 6.2799999713897705, 'R')]\",\n",
       "       \"[(1, 2.600000023841858, 'L')]\", \"[(1, 2.600000023841858, 'R')]\",\n",
       "       \"[(1, 2.950000047683716, 'L'), (3, 1.4699999690055847, 'L')]\",\n",
       "       \"[(1, 2.950000047683716, 'L'), (3, 1.4699999690055847, 'R')]\",\n",
       "       \"[(1, 2.950000047683716, 'L')]\", \"[(1, 2.950000047683716, 'R')]\",\n",
       "       \"[(1, 3.100000023841858, 'L'), (1, 2.600000023841858, 'L'), (0, 6.2799999713897705, 'L')]\",\n",
       "       \"[(1, 3.100000023841858, 'L'), (1, 2.600000023841858, 'L'), (0, 6.2799999713897705, 'R')]\",\n",
       "       \"[(1, 3.100000023841858, 'L'), (1, 2.600000023841858, 'L')]\",\n",
       "       \"[(1, 3.100000023841858, 'L'), (1, 2.600000023841858, 'R')]\",\n",
       "       \"[(1, 3.100000023841858, 'L')]\", \"[(1, 3.100000023841858, 'R')]\",\n",
       "       \"[(2, 4.8999998569488525, 'L'), (0, 5.4649999141693115, 'L'), (1, 2.950000047683716, 'L'), (3, 1.4699999690055847, 'L')]\",\n",
       "       \"[(2, 4.8999998569488525, 'L'), (0, 5.4649999141693115, 'L'), (1, 2.950000047683716, 'L'), (3, 1.4699999690055847, 'R')]\",\n",
       "       \"[(2, 4.8999998569488525, 'L'), (0, 5.4649999141693115, 'L'), (1, 2.950000047683716, 'L')]\",\n",
       "       \"[(2, 4.8999998569488525, 'L'), (0, 5.4649999141693115, 'L'), (1, 2.950000047683716, 'R')]\",\n",
       "       \"[(2, 4.8999998569488525, 'L'), (0, 5.4649999141693115, 'L')]\",\n",
       "       \"[(2, 4.8999998569488525, 'L'), (0, 5.4649999141693115, 'R')]\",\n",
       "       \"[(2, 4.8999998569488525, 'L')]\",\n",
       "       \"[(2, 4.8999998569488525, 'R'), (3, 1.899999976158142, 'L'), (2, 5.450000047683716, 'L'), (0, 6.549999952316284, 'L'), (1, 3.100000023841858, 'L'), (1, 2.600000023841858, 'L'), (0, 6.2799999713897705, 'L')]\",\n",
       "       \"[(2, 4.8999998569488525, 'R'), (3, 1.899999976158142, 'L'), (2, 5.450000047683716, 'L'), (0, 6.549999952316284, 'L'), (1, 3.100000023841858, 'L'), (1, 2.600000023841858, 'L'), (0, 6.2799999713897705, 'R')]\",\n",
       "       \"[(2, 4.8999998569488525, 'R'), (3, 1.899999976158142, 'L'), (2, 5.450000047683716, 'L'), (0, 6.549999952316284, 'L'), (1, 3.100000023841858, 'L'), (1, 2.600000023841858, 'L')]\",\n",
       "       \"[(2, 4.8999998569488525, 'R'), (3, 1.899999976158142, 'L'), (2, 5.450000047683716, 'L'), (0, 6.549999952316284, 'L'), (1, 3.100000023841858, 'L'), (1, 2.600000023841858, 'R')]\",\n",
       "       \"[(2, 4.8999998569488525, 'R'), (3, 1.899999976158142, 'L'), (2, 5.450000047683716, 'L'), (0, 6.549999952316284, 'L'), (1, 3.100000023841858, 'L')]\",\n",
       "       \"[(2, 4.8999998569488525, 'R'), (3, 1.899999976158142, 'L'), (2, 5.450000047683716, 'L'), (0, 6.549999952316284, 'L'), (1, 3.100000023841858, 'R')]\",\n",
       "       \"[(2, 4.8999998569488525, 'R'), (3, 1.899999976158142, 'L'), (2, 5.450000047683716, 'L'), (0, 6.549999952316284, 'L')]\",\n",
       "       \"[(2, 4.8999998569488525, 'R'), (3, 1.899999976158142, 'L'), (2, 5.450000047683716, 'L'), (0, 6.549999952316284, 'R')]\",\n",
       "       \"[(2, 4.8999998569488525, 'R'), (3, 1.899999976158142, 'L'), (2, 5.450000047683716, 'L')]\",\n",
       "       \"[(2, 4.8999998569488525, 'R'), (3, 1.899999976158142, 'L'), (2, 5.450000047683716, 'R')]\",\n",
       "       \"[(2, 4.8999998569488525, 'R'), (3, 1.899999976158142, 'L')]\",\n",
       "       \"[(2, 4.8999998569488525, 'R'), (3, 1.899999976158142, 'R')]\",\n",
       "       \"[(2, 4.8999998569488525, 'R')]\",\n",
       "       \"[(2, 5.450000047683716, 'L'), (0, 6.549999952316284, 'L'), (1, 3.100000023841858, 'L'), (1, 2.600000023841858, 'L'), (0, 6.2799999713897705, 'L')]\",\n",
       "       \"[(2, 5.450000047683716, 'L'), (0, 6.549999952316284, 'L'), (1, 3.100000023841858, 'L'), (1, 2.600000023841858, 'L'), (0, 6.2799999713897705, 'R')]\",\n",
       "       \"[(2, 5.450000047683716, 'L'), (0, 6.549999952316284, 'L'), (1, 3.100000023841858, 'L'), (1, 2.600000023841858, 'L')]\",\n",
       "       \"[(2, 5.450000047683716, 'L'), (0, 6.549999952316284, 'L'), (1, 3.100000023841858, 'L'), (1, 2.600000023841858, 'R')]\",\n",
       "       \"[(2, 5.450000047683716, 'L'), (0, 6.549999952316284, 'L'), (1, 3.100000023841858, 'L')]\",\n",
       "       \"[(2, 5.450000047683716, 'L'), (0, 6.549999952316284, 'L'), (1, 3.100000023841858, 'R')]\",\n",
       "       \"[(2, 5.450000047683716, 'L'), (0, 6.549999952316284, 'L')]\",\n",
       "       \"[(2, 5.450000047683716, 'L'), (0, 6.549999952316284, 'R')]\",\n",
       "       \"[(2, 5.450000047683716, 'L')]\", \"[(2, 5.450000047683716, 'R')]\",\n",
       "       \"[(3, 0.7699999958276749, 'L')]\",\n",
       "       \"[(3, 0.7699999958276749, 'R'), (2, 4.8999998569488525, 'L'), (0, 5.4649999141693115, 'L'), (1, 2.950000047683716, 'L'), (3, 1.4699999690055847, 'L')]\",\n",
       "       \"[(3, 0.7699999958276749, 'R'), (2, 4.8999998569488525, 'L'), (0, 5.4649999141693115, 'L'), (1, 2.950000047683716, 'L'), (3, 1.4699999690055847, 'R')]\",\n",
       "       \"[(3, 0.7699999958276749, 'R'), (2, 4.8999998569488525, 'L'), (0, 5.4649999141693115, 'L'), (1, 2.950000047683716, 'L')]\",\n",
       "       \"[(3, 0.7699999958276749, 'R'), (2, 4.8999998569488525, 'L'), (0, 5.4649999141693115, 'L'), (1, 2.950000047683716, 'R')]\",\n",
       "       \"[(3, 0.7699999958276749, 'R'), (2, 4.8999998569488525, 'L'), (0, 5.4649999141693115, 'L')]\",\n",
       "       \"[(3, 0.7699999958276749, 'R'), (2, 4.8999998569488525, 'L'), (0, 5.4649999141693115, 'R')]\",\n",
       "       \"[(3, 0.7699999958276749, 'R'), (2, 4.8999998569488525, 'L')]\",\n",
       "       \"[(3, 0.7699999958276749, 'R'), (2, 4.8999998569488525, 'R'), (3, 1.899999976158142, 'L'), (2, 5.450000047683716, 'L'), (0, 6.549999952316284, 'L'), (1, 3.100000023841858, 'L'), (1, 2.600000023841858, 'L'), (0, 6.2799999713897705, 'L')]\",\n",
       "       \"[(3, 0.7699999958276749, 'R'), (2, 4.8999998569488525, 'R'), (3, 1.899999976158142, 'L'), (2, 5.450000047683716, 'L'), (0, 6.549999952316284, 'L'), (1, 3.100000023841858, 'L'), (1, 2.600000023841858, 'L'), (0, 6.2799999713897705, 'R')]\",\n",
       "       \"[(3, 0.7699999958276749, 'R'), (2, 4.8999998569488525, 'R'), (3, 1.899999976158142, 'L'), (2, 5.450000047683716, 'L'), (0, 6.549999952316284, 'L'), (1, 3.100000023841858, 'L'), (1, 2.600000023841858, 'L')]\",\n",
       "       \"[(3, 0.7699999958276749, 'R'), (2, 4.8999998569488525, 'R'), (3, 1.899999976158142, 'L'), (2, 5.450000047683716, 'L'), (0, 6.549999952316284, 'L'), (1, 3.100000023841858, 'L'), (1, 2.600000023841858, 'R')]\",\n",
       "       \"[(3, 0.7699999958276749, 'R'), (2, 4.8999998569488525, 'R'), (3, 1.899999976158142, 'L'), (2, 5.450000047683716, 'L'), (0, 6.549999952316284, 'L'), (1, 3.100000023841858, 'L')]\",\n",
       "       \"[(3, 0.7699999958276749, 'R'), (2, 4.8999998569488525, 'R'), (3, 1.899999976158142, 'L'), (2, 5.450000047683716, 'L'), (0, 6.549999952316284, 'L'), (1, 3.100000023841858, 'R')]\",\n",
       "       \"[(3, 0.7699999958276749, 'R'), (2, 4.8999998569488525, 'R'), (3, 1.899999976158142, 'L'), (2, 5.450000047683716, 'L'), (0, 6.549999952316284, 'L')]\",\n",
       "       \"[(3, 0.7699999958276749, 'R'), (2, 4.8999998569488525, 'R'), (3, 1.899999976158142, 'L'), (2, 5.450000047683716, 'L'), (0, 6.549999952316284, 'R')]\",\n",
       "       \"[(3, 0.7699999958276749, 'R'), (2, 4.8999998569488525, 'R'), (3, 1.899999976158142, 'L'), (2, 5.450000047683716, 'L')]\",\n",
       "       \"[(3, 0.7699999958276749, 'R'), (2, 4.8999998569488525, 'R'), (3, 1.899999976158142, 'L'), (2, 5.450000047683716, 'R')]\",\n",
       "       \"[(3, 0.7699999958276749, 'R'), (2, 4.8999998569488525, 'R'), (3, 1.899999976158142, 'L')]\",\n",
       "       \"[(3, 0.7699999958276749, 'R'), (2, 4.8999998569488525, 'R'), (3, 1.899999976158142, 'R')]\",\n",
       "       \"[(3, 0.7699999958276749, 'R'), (2, 4.8999998569488525, 'R')]\",\n",
       "       \"[(3, 0.7699999958276749, 'R')]\", \"[(3, 1.4699999690055847, 'L')]\",\n",
       "       \"[(3, 1.4699999690055847, 'R')]\",\n",
       "       \"[(3, 1.899999976158142, 'L'), (2, 5.450000047683716, 'L'), (0, 6.549999952316284, 'L'), (1, 3.100000023841858, 'L'), (1, 2.600000023841858, 'L'), (0, 6.2799999713897705, 'L')]\",\n",
       "       \"[(3, 1.899999976158142, 'L'), (2, 5.450000047683716, 'L'), (0, 6.549999952316284, 'L'), (1, 3.100000023841858, 'L'), (1, 2.600000023841858, 'L'), (0, 6.2799999713897705, 'R')]\",\n",
       "       \"[(3, 1.899999976158142, 'L'), (2, 5.450000047683716, 'L'), (0, 6.549999952316284, 'L'), (1, 3.100000023841858, 'L'), (1, 2.600000023841858, 'L')]\",\n",
       "       \"[(3, 1.899999976158142, 'L'), (2, 5.450000047683716, 'L'), (0, 6.549999952316284, 'L'), (1, 3.100000023841858, 'L'), (1, 2.600000023841858, 'R')]\",\n",
       "       \"[(3, 1.899999976158142, 'L'), (2, 5.450000047683716, 'L'), (0, 6.549999952316284, 'L'), (1, 3.100000023841858, 'L')]\",\n",
       "       \"[(3, 1.899999976158142, 'L'), (2, 5.450000047683716, 'L'), (0, 6.549999952316284, 'L'), (1, 3.100000023841858, 'R')]\",\n",
       "       \"[(3, 1.899999976158142, 'L'), (2, 5.450000047683716, 'L'), (0, 6.549999952316284, 'L')]\",\n",
       "       \"[(3, 1.899999976158142, 'L'), (2, 5.450000047683716, 'L'), (0, 6.549999952316284, 'R')]\",\n",
       "       \"[(3, 1.899999976158142, 'L'), (2, 5.450000047683716, 'L')]\",\n",
       "       \"[(3, 1.899999976158142, 'L'), (2, 5.450000047683716, 'R')]\",\n",
       "       \"[(3, 1.899999976158142, 'L')]\", \"[(3, 1.899999976158142, 'R')]\"],\n",
       "      dtype='<U235')"
      ]
     },
     "execution_count": 49,
     "metadata": {},
     "output_type": "execute_result"
    }
   ],
   "source": [
    "unique_str_rules"
   ]
  },
  {
   "cell_type": "code",
   "execution_count": 50,
   "metadata": {},
   "outputs": [
    {
     "data": {
      "text/plain": [
       "96"
      ]
     },
     "execution_count": 50,
     "metadata": {},
     "output_type": "execute_result"
    }
   ],
   "source": [
    "len(unique_str_rules)"
   ]
  },
  {
   "cell_type": "code",
   "execution_count": 51,
   "metadata": {},
   "outputs": [
    {
     "data": {
      "text/plain": [
       "array([ 1,  1,  2,  1,  3,  1,  1,  1,  1,  1,  2,  1,  3,  1,  4,  1,  1,\n",
       "        1,  2,  1,  1,  1,  2,  1,  1,  1,  2,  1,  3,  1,  1,  1,  4,  1,\n",
       "        6,  1,  4,  1,  1,  4,  1,  6,  1,  8,  1, 10,  1, 12,  1,  7,  1,\n",
       "        1,  2,  1,  3,  1,  6,  1,  5,  1,  1,  1,  1,  2,  1,  3,  1,  4,\n",
       "        1,  1,  2,  1,  3,  1,  4,  1,  5,  1,  6,  1,  7, 11,  1,  1,  1,\n",
       "        1,  2,  1,  5,  1,  7,  1,  9,  1,  6,  1])"
      ]
     },
     "execution_count": 51,
     "metadata": {},
     "output_type": "execute_result"
    }
   ],
   "source": [
    "count_rules"
   ]
  },
  {
   "cell_type": "code",
   "execution_count": 52,
   "metadata": {},
   "outputs": [
    {
     "data": {
      "text/plain": [
       "array([ True,  True,  True,  True, False, False, False, False, False,\n",
       "       False, False, False, False, False, False, False, False, False,\n",
       "       False, False, False, False, False, False, False, False, False,\n",
       "       False, False, False, False, False, False, False, False, False,\n",
       "       False, False, False, False, False, False, False, False, False,\n",
       "       False, False, False, False, False, False, False, False, False,\n",
       "       False, False, False, False, False, False, False, False, False,\n",
       "       False, False, False, False, False, False, False, False, False,\n",
       "       False, False, False, False, False, False, False, False, False,\n",
       "       False, False, False, False, False, False, False, False, False,\n",
       "       False, False, False, False, False, False])"
      ]
     },
     "execution_count": 52,
     "metadata": {},
     "output_type": "execute_result"
    }
   ],
   "source": [
    "-np.sort(-(count_rules / len(count_rules))) > 0.09"
   ]
  },
  {
   "cell_type": "code",
   "execution_count": 53,
   "metadata": {},
   "outputs": [
    {
     "data": {
      "text/plain": [
       "4"
      ]
     },
     "execution_count": 53,
     "metadata": {},
     "output_type": "execute_result"
    }
   ],
   "source": [
    "(-np.sort(-(count_rules / len(count_rules))) > 0.09).sum()"
   ]
  },
  {
   "cell_type": "code",
   "execution_count": 54,
   "metadata": {},
   "outputs": [
    {
     "data": {
      "text/plain": [
       "96"
      ]
     },
     "execution_count": 54,
     "metadata": {},
     "output_type": "execute_result"
    }
   ],
   "source": [
    "len(count_rules)"
   ]
  },
  {
   "cell_type": "code",
   "execution_count": 55,
   "metadata": {},
   "outputs": [
    {
     "data": {
      "text/plain": [
       "1"
      ]
     },
     "execution_count": 55,
     "metadata": {},
     "output_type": "execute_result"
    }
   ],
   "source": [
    "count_rules[23]"
   ]
  },
  {
   "cell_type": "code",
   "execution_count": 56,
   "metadata": {},
   "outputs": [
    {
     "data": {
      "text/plain": [
       "array([ 10, 227,  11, 214,  12, 206,  53, 191,  44, 182,  45, 144,  46,\n",
       "       115,  47,  94,  51, 189,  52, 149,  13, 230,  14, 216,  48, 186,\n",
       "        49, 147,  50, 117,   6, 223,   7, 211,   8, 204,   9,  26, 164,\n",
       "        27, 129,  28, 103,  29,  85,  30,  73,  31,  66,  32,  39, 177,\n",
       "        40, 140,  41, 112,  42,  92,  43,  78,   0,   1, 218,   2, 207,\n",
       "         3, 201,   4,  18, 156,  19, 122,  20,  97,  21,  80,  22,  69,\n",
       "        23,  63,  24,   5,  15, 232,  33, 171,  34, 135,  35, 108,  36,\n",
       "        89,  37,  76,  38,  68])"
      ]
     },
     "execution_count": 56,
     "metadata": {},
     "output_type": "execute_result"
    }
   ],
   "source": [
    "indices_rules"
   ]
  },
  {
   "cell_type": "code",
   "execution_count": 57,
   "metadata": {},
   "outputs": [
    {
     "data": {
      "text/plain": [
       "array([-12, -11, -10,  -9,  -8,  -7,  -7,  -7,  -6,  -6,  -6,  -6,  -6,\n",
       "        -5,  -5,  -5,  -4,  -4,  -4,  -4,  -4,  -4,  -3,  -3,  -3,  -3,\n",
       "        -3,  -3,  -2,  -2,  -2,  -2,  -2,  -2,  -2,  -2,  -2,  -1,  -1,\n",
       "        -1,  -1,  -1,  -1,  -1,  -1,  -1,  -1,  -1,  -1,  -1,  -1,  -1,\n",
       "        -1,  -1,  -1,  -1,  -1,  -1,  -1,  -1,  -1,  -1,  -1,  -1,  -1,\n",
       "        -1,  -1,  -1,  -1,  -1,  -1,  -1,  -1,  -1,  -1,  -1,  -1,  -1,\n",
       "        -1,  -1,  -1,  -1,  -1,  -1,  -1,  -1,  -1,  -1,  -1,  -1,  -1,\n",
       "        -1,  -1,  -1,  -1,  -1])"
      ]
     },
     "execution_count": 57,
     "metadata": {},
     "output_type": "execute_result"
    }
   ],
   "source": [
    "np.sort(-count_rules)"
   ]
  },
  {
   "cell_type": "code",
   "execution_count": 58,
   "metadata": {},
   "outputs": [
    {
     "data": {
      "text/plain": [
       "array([47, 81, 45, 92, 43, 49, 90, 80, 94, 41, 34, 56, 78, 76, 58, 88, 36,\n",
       "       67, 39, 14, 32, 74, 54,  4, 65, 72, 28, 12, 70, 26,  2, 63, 22, 18,\n",
       "       86, 10, 52, 64, 61, 62, 93, 60, 83, 59, 75, 66, 91, 89, 85, 68, 69,\n",
       "       79, 71, 77, 73, 87, 82, 84,  0, 55, 21, 20, 19, 17, 16, 15, 13, 11,\n",
       "        9,  8,  7,  6,  5,  3,  1, 23, 57, 24, 27, 53, 51, 50, 48, 46, 44,\n",
       "       42, 40, 38, 37, 35, 33, 31, 30, 29, 25, 95])"
      ]
     },
     "execution_count": 58,
     "metadata": {},
     "output_type": "execute_result"
    }
   ],
   "source": [
    "count_sort_ind = np.argsort(-count_rules)\n",
    "count_sort_ind"
   ]
  },
  {
   "cell_type": "code",
   "execution_count": 59,
   "metadata": {},
   "outputs": [
    {
     "data": {
      "text/plain": [
       "array([47, 81, 45, 92, 43, 49, 90, 80, 94, 41])"
      ]
     },
     "execution_count": 59,
     "metadata": {},
     "output_type": "execute_result"
    }
   ],
   "source": [
    "count_sort_ind[:10]"
   ]
  },
  {
   "cell_type": "code",
   "execution_count": 60,
   "metadata": {},
   "outputs": [
    {
     "data": {
      "text/plain": [
       "array([47])"
      ]
     },
     "execution_count": 60,
     "metadata": {},
     "output_type": "execute_result"
    }
   ],
   "source": [
    "count_sort_ind[:1]"
   ]
  },
  {
   "cell_type": "code",
   "execution_count": 61,
   "metadata": {},
   "outputs": [
    {
     "data": {
      "text/plain": [
       "[(0, 6.549999952316284, 'L')]"
      ]
     },
     "execution_count": 61,
     "metadata": {},
     "output_type": "execute_result"
    }
   ],
   "source": [
    "all_paths_list[47]"
   ]
  },
  {
   "cell_type": "code",
   "execution_count": 62,
   "metadata": {},
   "outputs": [
    {
     "data": {
      "text/plain": [
       "[(3, 0.7699999958276749, 'R'),\n",
       " (2, 4.8999998569488525, 'R'),\n",
       " (3, 1.899999976158142, 'L'),\n",
       " (2, 5.450000047683716, 'L')]"
      ]
     },
     "execution_count": 62,
     "metadata": {},
     "output_type": "execute_result"
    }
   ],
   "source": [
    "all_paths_list[81]"
   ]
  },
  {
   "cell_type": "markdown",
   "metadata": {},
   "source": [
    "selected_rules_indices = count_sort_ind[:10]\n",
    "selected_rules = [all_paths_list[i] for i in selected_rules_indices] ## pas utile ici. Le faire en bas.\n",
    "selected_rules"
   ]
  },
  {
   "cell_type": "code",
   "execution_count": 63,
   "metadata": {},
   "outputs": [],
   "source": [
    "def from_rules_to_constraint(rule):\n",
    "    dimension = rule[0]\n",
    "    treshold = rule[1]\n",
    "    sign = rule[2]\n",
    "    return dimension,treshold,sign"
   ]
  },
  {
   "cell_type": "code",
   "execution_count": 64,
   "metadata": {},
   "outputs": [
    {
     "data": {
      "text/plain": [
       "(0, 6.549999952316284, 'L')"
      ]
     },
     "execution_count": 64,
     "metadata": {},
     "output_type": "execute_result"
    }
   ],
   "source": [
    "dimension,treshold,sign = from_rules_to_constraint(rule=all_paths_list[47][0])\n",
    "dimension,treshold,sign"
   ]
  },
  {
   "cell_type": "code",
   "execution_count": 65,
   "metadata": {},
   "outputs": [
    {
     "data": {
      "text/plain": [
       "array([ True,  True, False,  True, False,  True,  True,  True, False,\n",
       "       False,  True, False,  True, False,  True,  True,  True,  True,\n",
       "        True,  True, False, False,  True,  True,  True,  True,  True,\n",
       "        True,  True, False,  True,  True,  True,  True,  True,  True,\n",
       "       False,  True,  True,  True,  True,  True, False,  True,  True,\n",
       "       False, False, False,  True,  True,  True, False, False,  True,\n",
       "        True,  True,  True, False,  True,  True, False,  True,  True,\n",
       "        True,  True, False, False,  True,  True,  True,  True, False,\n",
       "        True,  True,  True,  True, False,  True, False, False,  True,\n",
       "        True,  True, False,  True,  True, False,  True,  True,  True,\n",
       "        True,  True,  True, False,  True, False,  True,  True, False,\n",
       "        True,  True, False,  True,  True,  True,  True,  True,  True,\n",
       "        True,  True, False,  True])"
      ]
     },
     "execution_count": 65,
     "metadata": {},
     "output_type": "execute_result"
    }
   ],
   "source": [
    "(X_train[:,dimension]<=treshold)"
   ]
  },
  {
   "cell_type": "code",
   "execution_count": 66,
   "metadata": {},
   "outputs": [
    {
     "data": {
      "text/plain": [
       "array([False, False, False,  True, False,  True, False,  True, False,\n",
       "       False, False, False, False, False, False, False, False, False,\n",
       "        True, False, False, False, False,  True, False, False, False,\n",
       "       False, False, False,  True,  True, False, False, False, False,\n",
       "       False,  True, False,  True,  True, False, False, False,  True,\n",
       "       False, False, False, False,  True,  True, False, False,  True,\n",
       "       False,  True, False, False,  True,  True, False,  True,  True,\n",
       "       False, False, False, False,  True,  True,  True, False, False,\n",
       "        True,  True, False, False, False,  True, False, False,  True,\n",
       "       False, False, False,  True,  True, False,  True, False, False,\n",
       "       False, False, False, False, False, False,  True, False, False,\n",
       "       False,  True, False, False, False, False, False,  True,  True,\n",
       "       False, False, False,  True])"
      ]
     },
     "execution_count": 66,
     "metadata": {},
     "output_type": "execute_result"
    }
   ],
   "source": [
    "(X_train[:,dimension]<=treshold) & (X_train[:,dimension]<=treshold-1)"
   ]
  },
  {
   "cell_type": "code",
   "execution_count": 67,
   "metadata": {},
   "outputs": [
    {
     "data": {
      "text/plain": [
       "(112,)"
      ]
     },
     "execution_count": 67,
     "metadata": {},
     "output_type": "execute_result"
    }
   ],
   "source": [
    "((X_train[:,dimension]<=treshold) & (X_train[:,dimension]<=treshold-1)).shape"
   ]
  },
  {
   "cell_type": "code",
   "execution_count": 68,
   "metadata": {},
   "outputs": [
    {
     "data": {
      "text/plain": [
       "(112, 4)"
      ]
     },
     "execution_count": 68,
     "metadata": {},
     "output_type": "execute_result"
    }
   ],
   "source": [
    "X_train.shape"
   ]
  },
  {
   "cell_type": "code",
   "execution_count": 69,
   "metadata": {},
   "outputs": [
    {
     "data": {
      "text/plain": [
       "array([[4.81, 3.2 , 1.4 , 0.2 ],\n",
       "       [5.02, 3.6 , 1.63, 1.14],\n",
       "       [5.02, 2.  , 3.9 , 1.14],\n",
       "       [5.02, 2.5 , 4.7 , 1.8 ],\n",
       "       [4.81, 3.1 , 1.63, 0.2 ],\n",
       "       [5.33, 4.4 , 1.5 , 0.2 ],\n",
       "       [4.3 , 3.  , 1.1 , 0.1 ],\n",
       "       [4.81, 3.1 , 1.5 , 0.2 ],\n",
       "       [5.33, 2.5 , 3.9 , 1.14],\n",
       "       [4.81, 3.4 , 1.4 , 0.4 ],\n",
       "       [4.81, 3.  , 1.4 , 0.1 ],\n",
       "       [5.33, 4.4 , 1.63, 0.2 ],\n",
       "       [4.81, 3.4 , 1.63, 0.2 ],\n",
       "       [4.81, 2.5 , 1.4 , 0.4 ],\n",
       "       [5.02, 3.  , 1.4 , 0.2 ],\n",
       "       [4.81, 3.2 , 1.4 , 0.2 ],\n",
       "       [5.02, 3.6 , 1.4 , 0.2 ],\n",
       "       [5.33, 3.6 , 1.4 , 0.4 ],\n",
       "       [4.81, 3.  , 1.4 , 0.2 ],\n",
       "       [5.33, 3.6 , 1.4 , 0.2 ],\n",
       "       [5.02, 3.1 , 1.5 , 0.2 ],\n",
       "       [5.33, 3.4 , 1.4 , 0.2 ],\n",
       "       [5.02, 3.2 , 1.4 , 0.2 ],\n",
       "       [5.33, 3.4 , 3.9 , 1.14],\n",
       "       [5.02, 2.5 , 3.9 , 1.14],\n",
       "       [5.33, 4.4 , 1.5 , 0.1 ],\n",
       "       [5.33, 4.4 , 1.5 , 0.4 ],\n",
       "       [4.81, 3.2 , 1.63, 0.2 ],\n",
       "       [5.02, 3.4 , 1.4 , 0.2 ],\n",
       "       [5.02, 3.  , 1.63, 0.2 ],\n",
       "       [5.33, 3.4 , 1.5 , 0.2 ],\n",
       "       [5.33, 4.4 , 1.5 , 0.4 ],\n",
       "       [5.02, 3.1 , 1.5 , 0.1 ],\n",
       "       [4.81, 3.2 , 1.4 , 0.2 ]])"
      ]
     },
     "execution_count": 69,
     "metadata": {},
     "output_type": "execute_result"
    }
   ],
   "source": [
    "X_train[(X_train[:,dimension]<=treshold) & (X_train[:,dimension]<=treshold-1)]"
   ]
  },
  {
   "cell_type": "code",
   "execution_count": null,
   "metadata": {},
   "outputs": [],
   "source": []
  },
  {
   "cell_type": "code",
   "execution_count": 70,
   "metadata": {},
   "outputs": [],
   "source": [
    "def generate_single_rule_mask(X,dimension,treshold,sign):\n",
    "    if sign=='L':\n",
    "        return (X[:,dimension]<=treshold) #.mean()\n",
    "    else:\n",
    "        return (X[:,dimension]>treshold)#.mean()\n"
   ]
  },
  {
   "cell_type": "code",
   "execution_count": 71,
   "metadata": {
    "scrolled": true
   },
   "outputs": [
    {
     "name": "stdout",
     "output_type": "stream",
     "text": [
      "[(0, 6.549999952316284, 'L')]\n",
      "(0, 6.549999952316284, 'L')\n",
      "########\n",
      "[1 1 0 0 0 1 2 1 1 1 2 2 2 2 1 0 2 1 1 1 1 0 0 2 1 0 0 0 2 1 0 1 1 0 2 0 0\n",
      " 0 2 0 2 0 0 0 0 0 1 0 0 0 1 0 0 1 0 1 0 2 0 0 0 0 2 1 1 1 2 1 0 1 2 0 1 1\n",
      " 1 0 0 0 2 1 0]\n",
      "Class  0  :  0.4567901234567901\n",
      "Class  1  :  0.345679012345679\n",
      "Class  2  :  0.19753086419753085\n",
      "Counter({0: 37, 1: 28, 2: 16})\n",
      "0\n",
      "[(3, 0.7699999958276749, 'R'), (2, 4.8999998569488525, 'R'), (3, 1.899999976158142, 'L'), (2, 5.450000047683716, 'L')]\n",
      "(3, 0.7699999958276749, 'R')\n",
      "[(3, 0.7699999958276749, 'R'), (2, 4.8999998569488525, 'R'), (3, 1.899999976158142, 'L'), (2, 5.450000047683716, 'L')]\n",
      "(2, 4.8999998569488525, 'R')\n",
      "[(3, 0.7699999958276749, 'R'), (2, 4.8999998569488525, 'R'), (3, 1.899999976158142, 'L'), (2, 5.450000047683716, 'L')]\n",
      "(3, 1.899999976158142, 'L')\n",
      "[(3, 0.7699999958276749, 'R'), (2, 4.8999998569488525, 'R'), (3, 1.899999976158142, 'L'), (2, 5.450000047683716, 'L')]\n",
      "(2, 5.450000047683716, 'L')\n",
      "########\n",
      "[2 2 2 1 2 2 1 1 1]\n",
      "Class  0  :  0.0\n",
      "Class  1  :  0.4444444444444444\n",
      "Class  2  :  0.5555555555555556\n",
      "Counter({2: 5, 1: 4})\n",
      "2\n",
      "[(0, 6.549999952316284, 'L'), (1, 3.100000023841858, 'L'), (1, 2.600000023841858, 'L')]\n",
      "(0, 6.549999952316284, 'L')\n",
      "[(0, 6.549999952316284, 'L'), (1, 3.100000023841858, 'L'), (1, 2.600000023841858, 'L')]\n",
      "(1, 3.100000023841858, 'L')\n",
      "[(0, 6.549999952316284, 'L'), (1, 3.100000023841858, 'L'), (1, 2.600000023841858, 'L')]\n",
      "(1, 2.600000023841858, 'L')\n",
      "########\n",
      "[1 2 1 1 2 2 1 1 1 0 2 1 1 1 1 1]\n",
      "Class  0  :  0.0625\n",
      "Class  1  :  0.6875\n",
      "Class  2  :  0.25\n",
      "Counter({1: 11, 2: 4, 0: 1})\n",
      "1\n",
      "[(2, 5.450000047683716, 'L'), (0, 6.549999952316284, 'R')]\n",
      "(2, 5.450000047683716, 'L')\n",
      "[(2, 5.450000047683716, 'L'), (0, 6.549999952316284, 'R')]\n",
      "(0, 6.549999952316284, 'R')\n",
      "########\n",
      "[2 1 1 2 1 1 1 1]\n",
      "Class  0  :  0.0\n",
      "Class  1  :  0.75\n",
      "Class  2  :  0.25\n",
      "Counter({1: 6, 2: 2})\n",
      "1\n",
      "[(2, 5.450000047683716, 'L')]\n",
      "(2, 5.450000047683716, 'L')\n",
      "########\n",
      "[1 1 0 2 0 0 1 2 1 1 1 2 2 2 2 1 1 0 2 1 1 1 1 0 0 1 0 0 1 0 2 1 0 1 1 0 0\n",
      " 0 2 0 0 2 0 0 0 0 0 1 0 0 0 1 1 0 0 1 0 1 1 0 2 0 0 0 0 1 1 1 1 1 0 1 2 0\n",
      " 1 1 1 1 0 0 0 1 0]\n",
      "Class  0  :  0.4457831325301205\n",
      "Class  1  :  0.40963855421686746\n",
      "Class  2  :  0.14457831325301204\n",
      "Counter({0: 37, 1: 34, 2: 12})\n",
      "0\n",
      "[(1, 3.100000023841858, 'L'), (1, 2.600000023841858, 'L')]\n",
      "(1, 3.100000023841858, 'L')\n",
      "[(1, 3.100000023841858, 'L'), (1, 2.600000023841858, 'L')]\n",
      "(1, 2.600000023841858, 'L')\n",
      "########\n",
      "[1 2 2 1 1 2 2 1 1 1 0 2 1 1 1 1 1]\n",
      "Class  0  :  0.058823529411764705\n",
      "Class  1  :  0.6470588235294118\n",
      "Class  2  :  0.29411764705882354\n",
      "Counter({1: 11, 2: 5, 0: 1})\n",
      "1\n",
      "[(3, 1.899999976158142, 'L'), (2, 5.450000047683716, 'L')]\n",
      "(3, 1.899999976158142, 'L')\n",
      "[(3, 1.899999976158142, 'L'), (2, 5.450000047683716, 'L')]\n",
      "(2, 5.450000047683716, 'L')\n",
      "########\n",
      "[1 1 0 0 0 1 2 1 1 1 2 2 2 1 1 0 1 1 1 1 0 0 1 0 0 1 0 2 1 0 1 1 0 0 0 0 0\n",
      " 0 0 0 0 0 1 0 0 0 1 1 0 0 1 0 1 1 0 2 0 0 0 0 1 1 1 1 1 0 1 0 1 1 1 1 0 0\n",
      " 0 1 0]\n",
      "Class  0  :  0.4805194805194805\n",
      "Class  1  :  0.44155844155844154\n",
      "Class  2  :  0.07792207792207792\n",
      "Counter({0: 37, 1: 34, 2: 6})\n",
      "0\n",
      "[(3, 0.7699999958276749, 'R'), (2, 4.8999998569488525, 'R'), (3, 1.899999976158142, 'L'), (2, 5.450000047683716, 'L'), (0, 6.549999952316284, 'R')]\n",
      "(3, 0.7699999958276749, 'R')\n",
      "[(3, 0.7699999958276749, 'R'), (2, 4.8999998569488525, 'R'), (3, 1.899999976158142, 'L'), (2, 5.450000047683716, 'L'), (0, 6.549999952316284, 'R')]\n",
      "(2, 4.8999998569488525, 'R')\n",
      "[(3, 0.7699999958276749, 'R'), (2, 4.8999998569488525, 'R'), (3, 1.899999976158142, 'L'), (2, 5.450000047683716, 'L'), (0, 6.549999952316284, 'R')]\n",
      "(3, 1.899999976158142, 'L')\n",
      "[(3, 0.7699999958276749, 'R'), (2, 4.8999998569488525, 'R'), (3, 1.899999976158142, 'L'), (2, 5.450000047683716, 'L'), (0, 6.549999952316284, 'R')]\n",
      "(2, 5.450000047683716, 'L')\n",
      "[(3, 0.7699999958276749, 'R'), (2, 4.8999998569488525, 'R'), (3, 1.899999976158142, 'L'), (2, 5.450000047683716, 'L'), (0, 6.549999952316284, 'R')]\n",
      "(0, 6.549999952316284, 'R')\n",
      "########\n",
      "[1 1]\n",
      "Class  0  :  0.0\n",
      "Class  1  :  1.0\n",
      "Class  2  :  0.0\n",
      "Counter({1: 2})\n",
      "1\n",
      "[(0, 6.549999952316284, 'R')]\n",
      "(0, 6.549999952316284, 'R')\n",
      "########\n",
      "[2 2 2 2 2 2 1 2 2 1 2 2 2 2 2 2 2 2 2 2 1 2 2 1 2 2 2 1 2 1 2]\n",
      "Class  0  :  0.0\n",
      "Class  1  :  0.1935483870967742\n",
      "Class  2  :  0.8064516129032258\n",
      "Counter({2: 25, 1: 6})\n",
      "2\n",
      "[(2, 5.450000047683716, 'L'), (0, 6.549999952316284, 'L'), (1, 3.100000023841858, 'L')]\n",
      "(2, 5.450000047683716, 'L')\n",
      "[(2, 5.450000047683716, 'L'), (0, 6.549999952316284, 'L'), (1, 3.100000023841858, 'L')]\n",
      "(0, 6.549999952316284, 'L')\n",
      "[(2, 5.450000047683716, 'L'), (0, 6.549999952316284, 'L'), (1, 3.100000023841858, 'L')]\n",
      "(1, 3.100000023841858, 'L')\n",
      "########\n",
      "[1 1 1 2 1 1 2 2 2 2 0 2 1 1 1 1 0 1 0 2 1 1 1 0 0 0 2 0 1 0 1 1 1 2 1 1 1\n",
      " 1 0 1 2 1 1 0 1]\n",
      "Class  0  :  0.2222222222222222\n",
      "Class  1  :  0.5555555555555556\n",
      "Class  2  :  0.2222222222222222\n",
      "Counter({1: 25, 2: 10, 0: 10})\n",
      "1\n"
     ]
    }
   ],
   "source": [
    "from operator import and_\n",
    "from functools import reduce\n",
    "from collections import Counter\n",
    "list_mask_by_rules = []\n",
    "for indice in count_sort_ind[:10]:#for loop for getting all the values in train passing the rules\n",
    "    current_rules = all_paths_list[indice]\n",
    "    list_mask=[]\n",
    "    for j in range(len(current_rules)):\n",
    "        print(current_rules)\n",
    "        print(current_rules[j])\n",
    "        dimension,treshold,sign = from_rules_to_constraint(rule=current_rules[j])\n",
    "        mask = generate_single_rule_mask(X=X_train,dimension=dimension,treshold=treshold,sign=sign)\n",
    "        list_mask.append(mask)\n",
    "    final_mask = reduce(and_, list_mask)\n",
    "    list_mask_by_rules.append(final_mask)\n",
    "    print(\"########\")\n",
    "    #print((y_train[final_mask]).sum() / len(y_train[final_mask])) #binary case\n",
    "    n_classe=3\n",
    "    y_train_rule = y_train[final_mask]\n",
    "    print(y_train_rule)\n",
    "    for cl in range(n_classe):# nb de classe\n",
    "        print('Class ',cl,' : ',len(y_train_rule[y_train_rule==cl]) / len(y_train_rule)) #binary case\n",
    "    print(Counter(y_train_rule))\n",
    "    print(Counter(y_train_rule).most_common(1)[0][0])\n",
    "    "
   ]
  },
  {
   "cell_type": "code",
   "execution_count": 72,
   "metadata": {},
   "outputs": [
    {
     "data": {
      "text/plain": [
       "array([0, 1, 2])"
      ]
     },
     "execution_count": 72,
     "metadata": {},
     "output_type": "execute_result"
    }
   ],
   "source": [
    "np.unique(y_train)"
   ]
  },
  {
   "cell_type": "code",
   "execution_count": 73,
   "metadata": {},
   "outputs": [
    {
     "data": {
      "text/plain": [
       "array([0.72321429, 0.08035714, 0.14285714, 0.07142857, 0.74107143,\n",
       "       0.15178571, 0.6875    , 0.01785714, 0.27678571, 0.40178571])"
      ]
     },
     "execution_count": 73,
     "metadata": {},
     "output_type": "execute_result"
    }
   ],
   "source": [
    "np.mean(list_mask_by_rules,axis=1)"
   ]
  },
  {
   "cell_type": "code",
   "execution_count": 74,
   "metadata": {},
   "outputs": [
    {
     "data": {
      "text/plain": [
       "4"
      ]
     },
     "execution_count": 74,
     "metadata": {},
     "output_type": "execute_result"
    }
   ],
   "source": [
    "np.mean(list_mask_by_rules,axis=1).argmax()"
   ]
  },
  {
   "cell_type": "code",
   "execution_count": 75,
   "metadata": {},
   "outputs": [
    {
     "data": {
      "text/plain": [
       "array([0.72321429, 0.08035714, 0.14285714, 0.07142857, 0.74107143,\n",
       "       0.15178571, 0.6875    , 0.01785714, 0.27678571, 0.40178571])"
      ]
     },
     "execution_count": 75,
     "metadata": {},
     "output_type": "execute_result"
    }
   ],
   "source": [
    "np.mean(list_mask_by_rules,axis=1)"
   ]
  },
  {
   "cell_type": "code",
   "execution_count": 76,
   "metadata": {},
   "outputs": [
    {
     "data": {
      "text/plain": [
       "dtype('int64')"
      ]
     },
     "execution_count": 76,
     "metadata": {},
     "output_type": "execute_result"
    }
   ],
   "source": [
    "y_train.dtype"
   ]
  },
  {
   "cell_type": "code",
   "execution_count": 77,
   "metadata": {
    "scrolled": true
   },
   "outputs": [
    {
     "data": {
      "text/plain": [
       "True"
      ]
     },
     "execution_count": 77,
     "metadata": {},
     "output_type": "execute_result"
    }
   ],
   "source": [
    "y_train.dtype == int"
   ]
  },
  {
   "cell_type": "code",
   "execution_count": 78,
   "metadata": {},
   "outputs": [
    {
     "data": {
      "text/plain": [
       "[[(3, 0.7699999958276749, 'L')],\n",
       " [(3, 0.7699999958276749, 'R'),\n",
       "  (2, 4.8999998569488525, 'L'),\n",
       "  (0, 5.4649999141693115, 'L'),\n",
       "  (1, 2.950000047683716, 'L'),\n",
       "  (3, 1.4699999690055847, 'L')],\n",
       " [(3, 0.7699999958276749, 'R'),\n",
       "  (2, 4.8999998569488525, 'L'),\n",
       "  (0, 5.4649999141693115, 'L'),\n",
       "  (1, 2.950000047683716, 'L')],\n",
       " [(3, 0.7699999958276749, 'R'),\n",
       "  (2, 4.8999998569488525, 'L'),\n",
       "  (0, 5.4649999141693115, 'L')],\n",
       " [(3, 0.7699999958276749, 'R'), (2, 4.8999998569488525, 'L')],\n",
       " [(3, 0.7699999958276749, 'R')],\n",
       " [(2, 4.8999998569488525, 'L'),\n",
       "  (0, 5.4649999141693115, 'L'),\n",
       "  (1, 2.950000047683716, 'L'),\n",
       "  (3, 1.4699999690055847, 'L')],\n",
       " [(2, 4.8999998569488525, 'L'),\n",
       "  (0, 5.4649999141693115, 'L'),\n",
       "  (1, 2.950000047683716, 'L')],\n",
       " [(2, 4.8999998569488525, 'L'), (0, 5.4649999141693115, 'L')],\n",
       " [(2, 4.8999998569488525, 'L')]]"
      ]
     },
     "execution_count": 78,
     "metadata": {},
     "output_type": "execute_result"
    }
   ],
   "source": [
    "all_paths_list[:10]"
   ]
  },
  {
   "cell_type": "code",
   "execution_count": 79,
   "metadata": {},
   "outputs": [],
   "source": [
    "def get_probas_rules(X,rules):\n",
    "    list_mask=[]\n",
    "    for j in range(len(rules)):\n",
    "        dimension,treshold,sign = from_rules_to_constraint(rule=rules[j])\n",
    "        mask = generate_single_rule_mask(X=X,dimension=dimension,treshold=treshold,sign=sign)\n",
    "        list_mask.append(mask)\n",
    "    final_mask = reduce(and_, list_mask)\n",
    "    return final_mask\n",
    "    "
   ]
  },
  {
   "cell_type": "code",
   "execution_count": 80,
   "metadata": {},
   "outputs": [],
   "source": [
    "aa = [2,3,4]\n",
    "bb = [4,6,8]"
   ]
  },
  {
   "cell_type": "code",
   "execution_count": 81,
   "metadata": {
    "scrolled": true
   },
   "outputs": [
    {
     "data": {
      "text/plain": [
       "array([[2.05603781, 5.02211465, 6.64413613],\n",
       "       [3.20078371, 4.37920543, 5.94292427],\n",
       "       [2.00048541, 3.81385856, 4.93305933],\n",
       "       [3.87318262, 3.95960307, 7.97934914],\n",
       "       [3.76750263, 4.97093143, 5.1437955 ],\n",
       "       [2.72317455, 3.68132902, 7.47348285],\n",
       "       [3.30941474, 3.9822219 , 6.97559924],\n",
       "       [3.63523803, 5.41443064, 6.95097797],\n",
       "       [3.01998696, 3.35081236, 7.23042488],\n",
       "       [2.84116455, 4.10404158, 4.61985028]])"
      ]
     },
     "execution_count": 81,
     "metadata": {},
     "output_type": "execute_result"
    }
   ],
   "source": [
    "cc = np.array([np.random.uniform(low=aa[i],high=bb[i],size=(10)) for i in range(len(aa))]).T\n",
    "cc"
   ]
  },
  {
   "cell_type": "code",
   "execution_count": 82,
   "metadata": {},
   "outputs": [
    {
     "data": {
      "text/plain": [
       "array([[2.05603781, 3.20078371, 2.00048541, 3.87318262, 3.76750263,\n",
       "        2.72317455, 3.30941474, 3.63523803, 3.01998696, 2.84116455],\n",
       "       [5.02211465, 4.37920543, 3.81385856, 3.95960307, 4.97093143,\n",
       "        3.68132902, 3.9822219 , 5.41443064, 3.35081236, 4.10404158],\n",
       "       [6.64413613, 5.94292427, 4.93305933, 7.97934914, 5.1437955 ,\n",
       "        7.47348285, 6.97559924, 6.95097797, 7.23042488, 4.61985028]])"
      ]
     },
     "execution_count": 82,
     "metadata": {},
     "output_type": "execute_result"
    }
   ],
   "source": [
    "cc.T"
   ]
  },
  {
   "cell_type": "code",
   "execution_count": 83,
   "metadata": {},
   "outputs": [
    {
     "data": {
      "text/plain": [
       "(10, 3)"
      ]
     },
     "execution_count": 83,
     "metadata": {},
     "output_type": "execute_result"
    }
   ],
   "source": [
    "cc .shape"
   ]
  },
  {
   "cell_type": "code",
   "execution_count": 84,
   "metadata": {},
   "outputs": [
    {
     "data": {
      "text/plain": [
       "array([0.3125    , 0.02678571, 0.03571429, 0.05357143, 0.29464286,\n",
       "       0.6875    , 0.03571429, 0.04464286, 0.30357143, 0.60714286])"
      ]
     },
     "execution_count": 84,
     "metadata": {},
     "output_type": "execute_result"
    }
   ],
   "source": [
    "probas = np.zeros(len(all_paths_list[:10]))\n",
    "for i,rules in enumerate(all_paths_list[:10]):\n",
    "    mask = get_probas_rules(X=X_train,rules=rules)\n",
    "    X_train_valid = X_train[mask]\n",
    "    probas[i] = len(X_train_valid) / len(X_train)\n",
    "probas    "
   ]
  },
  {
   "cell_type": "code",
   "execution_count": 85,
   "metadata": {},
   "outputs": [
    {
     "data": {
      "text/plain": [
       "[(3, 0.7699999958276749, 'L')]"
      ]
     },
     "execution_count": 85,
     "metadata": {},
     "output_type": "execute_result"
    }
   ],
   "source": [
    "all_paths_list[0]"
   ]
  },
  {
   "cell_type": "code",
   "execution_count": 86,
   "metadata": {},
   "outputs": [
    {
     "data": {
      "text/plain": [
       "[(3, 0.7699999958276749, 'R'),\n",
       " (2, 4.8999998569488525, 'L'),\n",
       " (0, 5.4649999141693115, 'L'),\n",
       " (1, 2.950000047683716, 'L'),\n",
       " (3, 1.4699999690055847, 'L')]"
      ]
     },
     "execution_count": 86,
     "metadata": {},
     "output_type": "execute_result"
    }
   ],
   "source": [
    "all_paths_list[1]"
   ]
  },
  {
   "cell_type": "code",
   "execution_count": 87,
   "metadata": {},
   "outputs": [
    {
     "data": {
      "text/plain": [
       "[4, 5, 6]"
      ]
     },
     "execution_count": 87,
     "metadata": {},
     "output_type": "execute_result"
    }
   ],
   "source": [
    "aa= [1,2,3,4,5,6]\n",
    "aa[3:8]"
   ]
  },
  {
   "cell_type": "code",
   "execution_count": 88,
   "metadata": {},
   "outputs": [
    {
     "data": {
      "text/plain": [
       "[(3, 0.7699999958276749, 'L'),\n",
       " (3, 0.7699999958276749, 'R'),\n",
       " (2, 4.8999998569488525, 'L'),\n",
       " (0, 5.4649999141693115, 'L'),\n",
       " (1, 2.950000047683716, 'L'),\n",
       " (3, 1.4699999690055847, 'L')]"
      ]
     },
     "execution_count": 88,
     "metadata": {},
     "output_type": "execute_result"
    }
   ],
   "source": [
    "all_paths_list[0]+all_paths_list[1]"
   ]
  },
  {
   "cell_type": "code",
   "execution_count": 89,
   "metadata": {},
   "outputs": [
    {
     "name": "stdout",
     "output_type": "stream",
     "text": [
      "a\n"
     ]
    }
   ],
   "source": [
    "if not False:\n",
    "    print('a')"
   ]
  },
  {
   "cell_type": "markdown",
   "metadata": {},
   "source": [
    "## Class : "
   ]
  },
  {
   "cell_type": "markdown",
   "metadata": {},
   "source": [
    "### Dtree :"
   ]
  },
  {
   "cell_type": "code",
   "execution_count": 90,
   "metadata": {},
   "outputs": [],
   "source": [
    "from sklearn.metrics import average_precision_score, accuracy_score,roc_auc_score"
   ]
  },
  {
   "cell_type": "code",
   "execution_count": 91,
   "metadata": {},
   "outputs": [],
   "source": [
    "from pysirus.models._QuantileSplitter import QuantileBestSplitter"
   ]
  },
  {
   "cell_type": "code",
   "execution_count": 92,
   "metadata": {},
   "outputs": [
    {
     "data": {
      "text/plain": [
       "array([[5.9, 3. , 4.2, 1.5],\n",
       "       [5.8, 2.6, 4. , 1.2],\n",
       "       [6.8, 3. , 5.5, 2.1],\n",
       "       [4.7, 3.2, 1.3, 0.2],\n",
       "       [6.9, 3.1, 5.1, 2.3],\n",
       "       [5. , 3.5, 1.6, 0.6],\n",
       "       [5.4, 3.7, 1.5, 0.2],\n",
       "       [5. , 2. , 3.5, 1. ],\n",
       "       [6.5, 3. , 5.5, 1.8],\n",
       "       [6.7, 3.3, 5.7, 2.5],\n",
       "       [6. , 2.2, 5. , 1.5],\n",
       "       [6.7, 2.5, 5.8, 1.8],\n",
       "       [5.6, 2.5, 3.9, 1.1],\n",
       "       [7.7, 3. , 6.1, 2.3],\n",
       "       [6.3, 3.3, 4.7, 1.6],\n",
       "       [5.5, 2.4, 3.8, 1.1],\n",
       "       [6.3, 2.7, 4.9, 1.8],\n",
       "       [6.3, 2.8, 5.1, 1.5],\n",
       "       [4.9, 2.5, 4.5, 1.7],\n",
       "       [6.3, 2.5, 5. , 1.9],\n",
       "       [7. , 3.2, 4.7, 1.4],\n",
       "       [6.5, 3. , 5.2, 2. ],\n",
       "       [6. , 3.4, 4.5, 1.6],\n",
       "       [4.8, 3.1, 1.6, 0.2],\n",
       "       [5.8, 2.7, 5.1, 1.9],\n",
       "       [5.6, 2.7, 4.2, 1.3],\n",
       "       [5.6, 2.9, 3.6, 1.3],\n",
       "       [5.5, 2.5, 4. , 1.3],\n",
       "       [6.1, 3. , 4.6, 1.4],\n",
       "       [7.2, 3.2, 6. , 1.8],\n",
       "       [5.3, 3.7, 1.5, 0.2],\n",
       "       [4.3, 3. , 1.1, 0.1],\n",
       "       [6.4, 2.7, 5.3, 1.9],\n",
       "       [5.7, 3. , 4.2, 1.2],\n",
       "       [5.4, 3.4, 1.7, 0.2],\n",
       "       [5.7, 4.4, 1.5, 0.4],\n",
       "       [6.9, 3.1, 4.9, 1.5],\n",
       "       [4.6, 3.1, 1.5, 0.2],\n",
       "       [5.9, 3. , 5.1, 1.8],\n",
       "       [5.1, 2.5, 3. , 1.1],\n",
       "       [4.6, 3.4, 1.4, 0.3],\n",
       "       [6.2, 2.2, 4.5, 1.5],\n",
       "       [7.2, 3.6, 6.1, 2.5],\n",
       "       [5.7, 2.9, 4.2, 1.3],\n",
       "       [4.8, 3. , 1.4, 0.1],\n",
       "       [7.1, 3. , 5.9, 2.1],\n",
       "       [6.9, 3.2, 5.7, 2.3],\n",
       "       [6.5, 3. , 5.8, 2.2],\n",
       "       [6.4, 2.8, 5.6, 2.1],\n",
       "       [5.1, 3.8, 1.6, 0.2],\n",
       "       [4.8, 3.4, 1.6, 0.2],\n",
       "       [6.5, 3.2, 5.1, 2. ],\n",
       "       [6.7, 3.3, 5.7, 2.1],\n",
       "       [4.5, 2.3, 1.3, 0.3],\n",
       "       [6.2, 3.4, 5.4, 2.3],\n",
       "       [4.9, 3. , 1.4, 0.2],\n",
       "       [5.7, 2.5, 5. , 2. ],\n",
       "       [6.9, 3.1, 5.4, 2.1],\n",
       "       [4.4, 3.2, 1.3, 0.2],\n",
       "       [5. , 3.6, 1.4, 0.2],\n",
       "       [7.2, 3. , 5.8, 1.6],\n",
       "       [5.1, 3.5, 1.4, 0.3],\n",
       "       [4.4, 3. , 1.3, 0.2],\n",
       "       [5.4, 3.9, 1.7, 0.4],\n",
       "       [5.5, 2.3, 4. , 1.3],\n",
       "       [6.8, 3.2, 5.9, 2.3],\n",
       "       [7.6, 3. , 6.6, 2.1],\n",
       "       [5.1, 3.5, 1.4, 0.2],\n",
       "       [4.9, 3.1, 1.5, 0.2],\n",
       "       [5.2, 3.4, 1.4, 0.2],\n",
       "       [5.7, 2.8, 4.5, 1.3],\n",
       "       [6.6, 3. , 4.4, 1.4],\n",
       "       [5. , 3.2, 1.2, 0.2],\n",
       "       [5.1, 3.3, 1.7, 0.5],\n",
       "       [6.4, 2.9, 4.3, 1.3],\n",
       "       [5.4, 3.4, 1.5, 0.4],\n",
       "       [7.7, 2.6, 6.9, 2.3],\n",
       "       [4.9, 2.4, 3.3, 1. ],\n",
       "       [7.9, 3.8, 6.4, 2. ],\n",
       "       [6.7, 3.1, 4.4, 1.4],\n",
       "       [5.2, 4.1, 1.5, 0.1],\n",
       "       [6. , 3. , 4.8, 1.8],\n",
       "       [5.8, 4. , 1.2, 0.2],\n",
       "       [7.7, 2.8, 6.7, 2. ],\n",
       "       [5.1, 3.8, 1.5, 0.3],\n",
       "       [4.7, 3.2, 1.6, 0.2],\n",
       "       [7.4, 2.8, 6.1, 1.9],\n",
       "       [5. , 3.3, 1.4, 0.2],\n",
       "       [6.3, 3.4, 5.6, 2.4],\n",
       "       [5.7, 2.8, 4.1, 1.3],\n",
       "       [5.8, 2.7, 3.9, 1.2],\n",
       "       [5.7, 2.6, 3.5, 1. ],\n",
       "       [6.4, 3.2, 5.3, 2.3],\n",
       "       [6.7, 3. , 5.2, 2.3],\n",
       "       [6.3, 2.5, 4.9, 1.5],\n",
       "       [6.7, 3. , 5. , 1.7],\n",
       "       [5. , 3. , 1.6, 0.2],\n",
       "       [5.5, 2.4, 3.7, 1. ],\n",
       "       [6.7, 3.1, 5.6, 2.4],\n",
       "       [5.8, 2.7, 5.1, 1.9],\n",
       "       [5.1, 3.4, 1.5, 0.2],\n",
       "       [6.6, 2.9, 4.6, 1.3],\n",
       "       [5.6, 3. , 4.1, 1.3],\n",
       "       [5.9, 3.2, 4.8, 1.8],\n",
       "       [6.3, 2.3, 4.4, 1.3],\n",
       "       [5.5, 3.5, 1.3, 0.2],\n",
       "       [5.1, 3.7, 1.5, 0.4],\n",
       "       [4.9, 3.1, 1.5, 0.1],\n",
       "       [6.3, 2.9, 5.6, 1.8],\n",
       "       [5.8, 2.7, 4.1, 1. ],\n",
       "       [7.7, 3.8, 6.7, 2.2],\n",
       "       [4.6, 3.2, 1.4, 0.2]])"
      ]
     },
     "execution_count": 92,
     "metadata": {},
     "output_type": "execute_result"
    }
   ],
   "source": [
    "X_train_original"
   ]
  },
  {
   "cell_type": "code",
   "execution_count": 93,
   "metadata": {},
   "outputs": [
    {
     "name": "stdout",
     "output_type": "stream",
     "text": [
      "PR AUC : 0.9546052631578946\n",
      "ROC AUC : 0.980263157894737\n",
      "Accuracy : 0.9736842105263158\n"
     ]
    }
   ],
   "source": [
    "clf_dtree = DecisionTreeClassifier(max_depth=10, random_state=0)\n",
    "clf_dtree.fit(X_train_original, y_train)\n",
    "y_pred_dtree = clf_dtree.predict(X_test)\n",
    "y_pred_proba_dtree = clf_dtree.predict_proba(X_test)\n",
    "print('PR AUC :', average_precision_score(y_test, y_pred_proba_dtree))\n",
    "print('ROC AUC :', roc_auc_score(y_test, y_pred_proba_dtree,average='micro',multi_class='ovr'))\n",
    "print('Accuracy :', accuracy_score(y_test, y_pred_dtree))"
   ]
  },
  {
   "cell_type": "code",
   "execution_count": 94,
   "metadata": {
    "scrolled": true
   },
   "outputs": [
    {
     "name": "stdout",
     "output_type": "stream",
     "text": [
      "array_quantile :  [[4.3  2.   1.1  0.1 ]\n",
      " [4.81 2.5  1.4  0.2 ]\n",
      " [5.02 2.7  1.5  0.2 ]\n",
      " [5.33 2.9  1.63 0.4 ]\n",
      " [5.6  3.   3.9  1.14]\n",
      " [5.8  3.   4.25 1.3 ]\n",
      " [6.16 3.1  4.7  1.5 ]\n",
      " [6.4  3.2  5.1  1.8 ]\n",
      " [6.7  3.4  5.48 2.  ]\n",
      " [6.99 3.6  5.8  2.29]\n",
      " [7.9  4.4  6.9  2.5 ]]\n",
      "n_rules before post-treatment :  96\n",
      "len(rules_to_keep) :  96\n",
      "np.sum(rules_to_keep) :  96\n",
      "rules_to_keep :  [1, 1, 1, 1, 1, 1, 1, 1, 1, 1, 1, 1, 1, 1, 1, 1, 1, 1, 1, 1, 1, 1, 1, 1, 1, 1, 1, 1, 1, 1, 1, 1, 1, 1, 1, 1, 1, 1, 1, 1, 1, 1, 1, 1, 1, 1, 1, 1, 1, 1, 1, 1, 1, 1, 1, 1, 1, 1, 1, 1, 1, 1, 1, 1, 1, 1, 1, 1, 1, 1, 1, 1, 1, 1, 1, 1, 1, 1, 1, 1, 1, 1, 1, 1, 1, 1, 1, 1, 1, 1, 1, 1, 1, 1, 1, 1]\n",
      "self.n_rules :  96\n"
     ]
    },
    {
     "data": {
      "text/html": [
       "<style>#sk-container-id-2 {\n",
       "  /* Definition of color scheme common for light and dark mode */\n",
       "  --sklearn-color-text: #000;\n",
       "  --sklearn-color-text-muted: #666;\n",
       "  --sklearn-color-line: gray;\n",
       "  /* Definition of color scheme for unfitted estimators */\n",
       "  --sklearn-color-unfitted-level-0: #fff5e6;\n",
       "  --sklearn-color-unfitted-level-1: #f6e4d2;\n",
       "  --sklearn-color-unfitted-level-2: #ffe0b3;\n",
       "  --sklearn-color-unfitted-level-3: chocolate;\n",
       "  /* Definition of color scheme for fitted estimators */\n",
       "  --sklearn-color-fitted-level-0: #f0f8ff;\n",
       "  --sklearn-color-fitted-level-1: #d4ebff;\n",
       "  --sklearn-color-fitted-level-2: #b3dbfd;\n",
       "  --sklearn-color-fitted-level-3: cornflowerblue;\n",
       "\n",
       "  /* Specific color for light theme */\n",
       "  --sklearn-color-text-on-default-background: var(--sg-text-color, var(--theme-code-foreground, var(--jp-content-font-color1, black)));\n",
       "  --sklearn-color-background: var(--sg-background-color, var(--theme-background, var(--jp-layout-color0, white)));\n",
       "  --sklearn-color-border-box: var(--sg-text-color, var(--theme-code-foreground, var(--jp-content-font-color1, black)));\n",
       "  --sklearn-color-icon: #696969;\n",
       "\n",
       "  @media (prefers-color-scheme: dark) {\n",
       "    /* Redefinition of color scheme for dark theme */\n",
       "    --sklearn-color-text-on-default-background: var(--sg-text-color, var(--theme-code-foreground, var(--jp-content-font-color1, white)));\n",
       "    --sklearn-color-background: var(--sg-background-color, var(--theme-background, var(--jp-layout-color0, #111)));\n",
       "    --sklearn-color-border-box: var(--sg-text-color, var(--theme-code-foreground, var(--jp-content-font-color1, white)));\n",
       "    --sklearn-color-icon: #878787;\n",
       "  }\n",
       "}\n",
       "\n",
       "#sk-container-id-2 {\n",
       "  color: var(--sklearn-color-text);\n",
       "}\n",
       "\n",
       "#sk-container-id-2 pre {\n",
       "  padding: 0;\n",
       "}\n",
       "\n",
       "#sk-container-id-2 input.sk-hidden--visually {\n",
       "  border: 0;\n",
       "  clip: rect(1px 1px 1px 1px);\n",
       "  clip: rect(1px, 1px, 1px, 1px);\n",
       "  height: 1px;\n",
       "  margin: -1px;\n",
       "  overflow: hidden;\n",
       "  padding: 0;\n",
       "  position: absolute;\n",
       "  width: 1px;\n",
       "}\n",
       "\n",
       "#sk-container-id-2 div.sk-dashed-wrapped {\n",
       "  border: 1px dashed var(--sklearn-color-line);\n",
       "  margin: 0 0.4em 0.5em 0.4em;\n",
       "  box-sizing: border-box;\n",
       "  padding-bottom: 0.4em;\n",
       "  background-color: var(--sklearn-color-background);\n",
       "}\n",
       "\n",
       "#sk-container-id-2 div.sk-container {\n",
       "  /* jupyter's `normalize.less` sets `[hidden] { display: none; }`\n",
       "     but bootstrap.min.css set `[hidden] { display: none !important; }`\n",
       "     so we also need the `!important` here to be able to override the\n",
       "     default hidden behavior on the sphinx rendered scikit-learn.org.\n",
       "     See: https://github.com/scikit-learn/scikit-learn/issues/21755 */\n",
       "  display: inline-block !important;\n",
       "  position: relative;\n",
       "}\n",
       "\n",
       "#sk-container-id-2 div.sk-text-repr-fallback {\n",
       "  display: none;\n",
       "}\n",
       "\n",
       "div.sk-parallel-item,\n",
       "div.sk-serial,\n",
       "div.sk-item {\n",
       "  /* draw centered vertical line to link estimators */\n",
       "  background-image: linear-gradient(var(--sklearn-color-text-on-default-background), var(--sklearn-color-text-on-default-background));\n",
       "  background-size: 2px 100%;\n",
       "  background-repeat: no-repeat;\n",
       "  background-position: center center;\n",
       "}\n",
       "\n",
       "/* Parallel-specific style estimator block */\n",
       "\n",
       "#sk-container-id-2 div.sk-parallel-item::after {\n",
       "  content: \"\";\n",
       "  width: 100%;\n",
       "  border-bottom: 2px solid var(--sklearn-color-text-on-default-background);\n",
       "  flex-grow: 1;\n",
       "}\n",
       "\n",
       "#sk-container-id-2 div.sk-parallel {\n",
       "  display: flex;\n",
       "  align-items: stretch;\n",
       "  justify-content: center;\n",
       "  background-color: var(--sklearn-color-background);\n",
       "  position: relative;\n",
       "}\n",
       "\n",
       "#sk-container-id-2 div.sk-parallel-item {\n",
       "  display: flex;\n",
       "  flex-direction: column;\n",
       "}\n",
       "\n",
       "#sk-container-id-2 div.sk-parallel-item:first-child::after {\n",
       "  align-self: flex-end;\n",
       "  width: 50%;\n",
       "}\n",
       "\n",
       "#sk-container-id-2 div.sk-parallel-item:last-child::after {\n",
       "  align-self: flex-start;\n",
       "  width: 50%;\n",
       "}\n",
       "\n",
       "#sk-container-id-2 div.sk-parallel-item:only-child::after {\n",
       "  width: 0;\n",
       "}\n",
       "\n",
       "/* Serial-specific style estimator block */\n",
       "\n",
       "#sk-container-id-2 div.sk-serial {\n",
       "  display: flex;\n",
       "  flex-direction: column;\n",
       "  align-items: center;\n",
       "  background-color: var(--sklearn-color-background);\n",
       "  padding-right: 1em;\n",
       "  padding-left: 1em;\n",
       "}\n",
       "\n",
       "\n",
       "/* Toggleable style: style used for estimator/Pipeline/ColumnTransformer box that is\n",
       "clickable and can be expanded/collapsed.\n",
       "- Pipeline and ColumnTransformer use this feature and define the default style\n",
       "- Estimators will overwrite some part of the style using the `sk-estimator` class\n",
       "*/\n",
       "\n",
       "/* Pipeline and ColumnTransformer style (default) */\n",
       "\n",
       "#sk-container-id-2 div.sk-toggleable {\n",
       "  /* Default theme specific background. It is overwritten whether we have a\n",
       "  specific estimator or a Pipeline/ColumnTransformer */\n",
       "  background-color: var(--sklearn-color-background);\n",
       "}\n",
       "\n",
       "/* Toggleable label */\n",
       "#sk-container-id-2 label.sk-toggleable__label {\n",
       "  cursor: pointer;\n",
       "  display: flex;\n",
       "  width: 100%;\n",
       "  margin-bottom: 0;\n",
       "  padding: 0.5em;\n",
       "  box-sizing: border-box;\n",
       "  text-align: center;\n",
       "  align-items: start;\n",
       "  justify-content: space-between;\n",
       "  gap: 0.5em;\n",
       "}\n",
       "\n",
       "#sk-container-id-2 label.sk-toggleable__label .caption {\n",
       "  font-size: 0.6rem;\n",
       "  font-weight: lighter;\n",
       "  color: var(--sklearn-color-text-muted);\n",
       "}\n",
       "\n",
       "#sk-container-id-2 label.sk-toggleable__label-arrow:before {\n",
       "  /* Arrow on the left of the label */\n",
       "  content: \"▸\";\n",
       "  float: left;\n",
       "  margin-right: 0.25em;\n",
       "  color: var(--sklearn-color-icon);\n",
       "}\n",
       "\n",
       "#sk-container-id-2 label.sk-toggleable__label-arrow:hover:before {\n",
       "  color: var(--sklearn-color-text);\n",
       "}\n",
       "\n",
       "/* Toggleable content - dropdown */\n",
       "\n",
       "#sk-container-id-2 div.sk-toggleable__content {\n",
       "  max-height: 0;\n",
       "  max-width: 0;\n",
       "  overflow: hidden;\n",
       "  text-align: left;\n",
       "  /* unfitted */\n",
       "  background-color: var(--sklearn-color-unfitted-level-0);\n",
       "}\n",
       "\n",
       "#sk-container-id-2 div.sk-toggleable__content.fitted {\n",
       "  /* fitted */\n",
       "  background-color: var(--sklearn-color-fitted-level-0);\n",
       "}\n",
       "\n",
       "#sk-container-id-2 div.sk-toggleable__content pre {\n",
       "  margin: 0.2em;\n",
       "  border-radius: 0.25em;\n",
       "  color: var(--sklearn-color-text);\n",
       "  /* unfitted */\n",
       "  background-color: var(--sklearn-color-unfitted-level-0);\n",
       "}\n",
       "\n",
       "#sk-container-id-2 div.sk-toggleable__content.fitted pre {\n",
       "  /* unfitted */\n",
       "  background-color: var(--sklearn-color-fitted-level-0);\n",
       "}\n",
       "\n",
       "#sk-container-id-2 input.sk-toggleable__control:checked~div.sk-toggleable__content {\n",
       "  /* Expand drop-down */\n",
       "  max-height: 200px;\n",
       "  max-width: 100%;\n",
       "  overflow: auto;\n",
       "}\n",
       "\n",
       "#sk-container-id-2 input.sk-toggleable__control:checked~label.sk-toggleable__label-arrow:before {\n",
       "  content: \"▾\";\n",
       "}\n",
       "\n",
       "/* Pipeline/ColumnTransformer-specific style */\n",
       "\n",
       "#sk-container-id-2 div.sk-label input.sk-toggleable__control:checked~label.sk-toggleable__label {\n",
       "  color: var(--sklearn-color-text);\n",
       "  background-color: var(--sklearn-color-unfitted-level-2);\n",
       "}\n",
       "\n",
       "#sk-container-id-2 div.sk-label.fitted input.sk-toggleable__control:checked~label.sk-toggleable__label {\n",
       "  background-color: var(--sklearn-color-fitted-level-2);\n",
       "}\n",
       "\n",
       "/* Estimator-specific style */\n",
       "\n",
       "/* Colorize estimator box */\n",
       "#sk-container-id-2 div.sk-estimator input.sk-toggleable__control:checked~label.sk-toggleable__label {\n",
       "  /* unfitted */\n",
       "  background-color: var(--sklearn-color-unfitted-level-2);\n",
       "}\n",
       "\n",
       "#sk-container-id-2 div.sk-estimator.fitted input.sk-toggleable__control:checked~label.sk-toggleable__label {\n",
       "  /* fitted */\n",
       "  background-color: var(--sklearn-color-fitted-level-2);\n",
       "}\n",
       "\n",
       "#sk-container-id-2 div.sk-label label.sk-toggleable__label,\n",
       "#sk-container-id-2 div.sk-label label {\n",
       "  /* The background is the default theme color */\n",
       "  color: var(--sklearn-color-text-on-default-background);\n",
       "}\n",
       "\n",
       "/* On hover, darken the color of the background */\n",
       "#sk-container-id-2 div.sk-label:hover label.sk-toggleable__label {\n",
       "  color: var(--sklearn-color-text);\n",
       "  background-color: var(--sklearn-color-unfitted-level-2);\n",
       "}\n",
       "\n",
       "/* Label box, darken color on hover, fitted */\n",
       "#sk-container-id-2 div.sk-label.fitted:hover label.sk-toggleable__label.fitted {\n",
       "  color: var(--sklearn-color-text);\n",
       "  background-color: var(--sklearn-color-fitted-level-2);\n",
       "}\n",
       "\n",
       "/* Estimator label */\n",
       "\n",
       "#sk-container-id-2 div.sk-label label {\n",
       "  font-family: monospace;\n",
       "  font-weight: bold;\n",
       "  display: inline-block;\n",
       "  line-height: 1.2em;\n",
       "}\n",
       "\n",
       "#sk-container-id-2 div.sk-label-container {\n",
       "  text-align: center;\n",
       "}\n",
       "\n",
       "/* Estimator-specific */\n",
       "#sk-container-id-2 div.sk-estimator {\n",
       "  font-family: monospace;\n",
       "  border: 1px dotted var(--sklearn-color-border-box);\n",
       "  border-radius: 0.25em;\n",
       "  box-sizing: border-box;\n",
       "  margin-bottom: 0.5em;\n",
       "  /* unfitted */\n",
       "  background-color: var(--sklearn-color-unfitted-level-0);\n",
       "}\n",
       "\n",
       "#sk-container-id-2 div.sk-estimator.fitted {\n",
       "  /* fitted */\n",
       "  background-color: var(--sklearn-color-fitted-level-0);\n",
       "}\n",
       "\n",
       "/* on hover */\n",
       "#sk-container-id-2 div.sk-estimator:hover {\n",
       "  /* unfitted */\n",
       "  background-color: var(--sklearn-color-unfitted-level-2);\n",
       "}\n",
       "\n",
       "#sk-container-id-2 div.sk-estimator.fitted:hover {\n",
       "  /* fitted */\n",
       "  background-color: var(--sklearn-color-fitted-level-2);\n",
       "}\n",
       "\n",
       "/* Specification for estimator info (e.g. \"i\" and \"?\") */\n",
       "\n",
       "/* Common style for \"i\" and \"?\" */\n",
       "\n",
       ".sk-estimator-doc-link,\n",
       "a:link.sk-estimator-doc-link,\n",
       "a:visited.sk-estimator-doc-link {\n",
       "  float: right;\n",
       "  font-size: smaller;\n",
       "  line-height: 1em;\n",
       "  font-family: monospace;\n",
       "  background-color: var(--sklearn-color-background);\n",
       "  border-radius: 1em;\n",
       "  height: 1em;\n",
       "  width: 1em;\n",
       "  text-decoration: none !important;\n",
       "  margin-left: 0.5em;\n",
       "  text-align: center;\n",
       "  /* unfitted */\n",
       "  border: var(--sklearn-color-unfitted-level-1) 1pt solid;\n",
       "  color: var(--sklearn-color-unfitted-level-1);\n",
       "}\n",
       "\n",
       ".sk-estimator-doc-link.fitted,\n",
       "a:link.sk-estimator-doc-link.fitted,\n",
       "a:visited.sk-estimator-doc-link.fitted {\n",
       "  /* fitted */\n",
       "  border: var(--sklearn-color-fitted-level-1) 1pt solid;\n",
       "  color: var(--sklearn-color-fitted-level-1);\n",
       "}\n",
       "\n",
       "/* On hover */\n",
       "div.sk-estimator:hover .sk-estimator-doc-link:hover,\n",
       ".sk-estimator-doc-link:hover,\n",
       "div.sk-label-container:hover .sk-estimator-doc-link:hover,\n",
       ".sk-estimator-doc-link:hover {\n",
       "  /* unfitted */\n",
       "  background-color: var(--sklearn-color-unfitted-level-3);\n",
       "  color: var(--sklearn-color-background);\n",
       "  text-decoration: none;\n",
       "}\n",
       "\n",
       "div.sk-estimator.fitted:hover .sk-estimator-doc-link.fitted:hover,\n",
       ".sk-estimator-doc-link.fitted:hover,\n",
       "div.sk-label-container:hover .sk-estimator-doc-link.fitted:hover,\n",
       ".sk-estimator-doc-link.fitted:hover {\n",
       "  /* fitted */\n",
       "  background-color: var(--sklearn-color-fitted-level-3);\n",
       "  color: var(--sklearn-color-background);\n",
       "  text-decoration: none;\n",
       "}\n",
       "\n",
       "/* Span, style for the box shown on hovering the info icon */\n",
       ".sk-estimator-doc-link span {\n",
       "  display: none;\n",
       "  z-index: 9999;\n",
       "  position: relative;\n",
       "  font-weight: normal;\n",
       "  right: .2ex;\n",
       "  padding: .5ex;\n",
       "  margin: .5ex;\n",
       "  width: min-content;\n",
       "  min-width: 20ex;\n",
       "  max-width: 50ex;\n",
       "  color: var(--sklearn-color-text);\n",
       "  box-shadow: 2pt 2pt 4pt #999;\n",
       "  /* unfitted */\n",
       "  background: var(--sklearn-color-unfitted-level-0);\n",
       "  border: .5pt solid var(--sklearn-color-unfitted-level-3);\n",
       "}\n",
       "\n",
       ".sk-estimator-doc-link.fitted span {\n",
       "  /* fitted */\n",
       "  background: var(--sklearn-color-fitted-level-0);\n",
       "  border: var(--sklearn-color-fitted-level-3);\n",
       "}\n",
       "\n",
       ".sk-estimator-doc-link:hover span {\n",
       "  display: block;\n",
       "}\n",
       "\n",
       "/* \"?\"-specific style due to the `<a>` HTML tag */\n",
       "\n",
       "#sk-container-id-2 a.estimator_doc_link {\n",
       "  float: right;\n",
       "  font-size: 1rem;\n",
       "  line-height: 1em;\n",
       "  font-family: monospace;\n",
       "  background-color: var(--sklearn-color-background);\n",
       "  border-radius: 1rem;\n",
       "  height: 1rem;\n",
       "  width: 1rem;\n",
       "  text-decoration: none;\n",
       "  /* unfitted */\n",
       "  color: var(--sklearn-color-unfitted-level-1);\n",
       "  border: var(--sklearn-color-unfitted-level-1) 1pt solid;\n",
       "}\n",
       "\n",
       "#sk-container-id-2 a.estimator_doc_link.fitted {\n",
       "  /* fitted */\n",
       "  border: var(--sklearn-color-fitted-level-1) 1pt solid;\n",
       "  color: var(--sklearn-color-fitted-level-1);\n",
       "}\n",
       "\n",
       "/* On hover */\n",
       "#sk-container-id-2 a.estimator_doc_link:hover {\n",
       "  /* unfitted */\n",
       "  background-color: var(--sklearn-color-unfitted-level-3);\n",
       "  color: var(--sklearn-color-background);\n",
       "  text-decoration: none;\n",
       "}\n",
       "\n",
       "#sk-container-id-2 a.estimator_doc_link.fitted:hover {\n",
       "  /* fitted */\n",
       "  background-color: var(--sklearn-color-fitted-level-3);\n",
       "}\n",
       "</style><div id=\"sk-container-id-2\" class=\"sk-top-container\"><div class=\"sk-text-repr-fallback\"><pre>SirusDTreeClassifier(max_depth=10, random_state=0)</pre><b>In a Jupyter environment, please rerun this cell to show the HTML representation or trust the notebook. <br />On GitHub, the HTML representation is unable to render, please try loading this page with nbviewer.org.</b></div><div class=\"sk-container\" hidden><div class=\"sk-item\"><div class=\"sk-estimator fitted sk-toggleable\"><input class=\"sk-toggleable__control sk-hidden--visually\" id=\"sk-estimator-id-2\" type=\"checkbox\" checked><label for=\"sk-estimator-id-2\" class=\"sk-toggleable__label fitted sk-toggleable__label-arrow\"><div><div>SirusDTreeClassifier</div></div><div><span class=\"sk-estimator-doc-link fitted\">i<span>Fitted</span></span></div></label><div class=\"sk-toggleable__content fitted\"><pre>SirusDTreeClassifier(max_depth=10, random_state=0)</pre></div> </div></div></div></div>"
      ],
      "text/plain": [
       "SirusDTreeClassifier(max_depth=10, random_state=0)"
      ]
     },
     "execution_count": 94,
     "metadata": {},
     "output_type": "execute_result"
    }
   ],
   "source": [
    "STree = SirusDTreeClassifier(max_depth=10, random_state=0)\n",
    "#unique_str_rules_test,indices_rules_test,count_rules_test = STree.fit(X_train_original,y_train)\n",
    "STree.fit(X_train_original,y_train,quantile=10)"
   ]
  },
  {
   "cell_type": "code",
   "execution_count": 95,
   "metadata": {
    "scrolled": true
   },
   "outputs": [
    {
     "name": "stdout",
     "output_type": "stream",
     "text": [
      "########\n",
      "Rules 0 \n",
      "       &( X[:,0] <= 6.549999952316284 )\n",
      "########\n",
      "Rules 1 \n",
      "       &( X[:,3] > 0.7699999958276749 )\n",
      "       &( X[:,2] > 4.8999998569488525 )\n",
      "       &( X[:,3] <= 1.899999976158142 )\n",
      "       &( X[:,2] <= 5.450000047683716 )\n",
      "########\n",
      "Rules 2 \n",
      "       &( X[:,0] <= 6.549999952316284 )\n",
      "       &( X[:,1] <= 3.100000023841858 )\n",
      "       &( X[:,1] <= 2.600000023841858 )\n",
      "########\n",
      "Rules 3 \n",
      "       &( X[:,2] <= 5.450000047683716 )\n",
      "       &( X[:,0] > 6.549999952316284 )\n",
      "########\n",
      "Rules 4 \n",
      "       &( X[:,2] <= 5.450000047683716 )\n",
      "########\n",
      "Rules 5 \n",
      "       &( X[:,1] <= 3.100000023841858 )\n",
      "       &( X[:,1] <= 2.600000023841858 )\n",
      "########\n",
      "Rules 6 \n",
      "       &( X[:,3] <= 1.899999976158142 )\n",
      "       &( X[:,2] <= 5.450000047683716 )\n",
      "########\n",
      "Rules 7 \n",
      "       &( X[:,3] > 0.7699999958276749 )\n",
      "       &( X[:,2] > 4.8999998569488525 )\n",
      "       &( X[:,3] <= 1.899999976158142 )\n",
      "       &( X[:,2] <= 5.450000047683716 )\n",
      "       &( X[:,0] > 6.549999952316284 )\n",
      "########\n",
      "Rules 8 \n",
      "       &( X[:,0] > 6.549999952316284 )\n",
      "########\n",
      "Rules 9 \n",
      "       &( X[:,2] <= 5.450000047683716 )\n",
      "       &( X[:,0] <= 6.549999952316284 )\n",
      "       &( X[:,1] <= 3.100000023841858 )\n"
     ]
    }
   ],
   "source": [
    "STree.print_rules(max_rules=10)"
   ]
  },
  {
   "cell_type": "code",
   "execution_count": 96,
   "metadata": {
    "scrolled": true
   },
   "outputs": [
    {
     "name": "stdout",
     "output_type": "stream",
     "text": [
      "PR AUC : 0.9648959537950551\n",
      "ROC AUC : 0.9549861495844876\n",
      "Accuracy : 0.868421052631579\n"
     ]
    }
   ],
   "source": [
    "y_pred_sirus = STree.predict(X_test)\n",
    "y_pred_proba_sirus = STree.predict_proba(X_test)\n",
    "print('PR AUC :', average_precision_score(y_test, y_pred_proba_sirus))\n",
    "print('ROC AUC :', roc_auc_score(y_test, y_pred_proba_sirus,average='micro',multi_class='ovr'))\n",
    "print('Accuracy :', accuracy_score(y_test, y_pred_sirus))"
   ]
  },
  {
   "cell_type": "code",
   "execution_count": 97,
   "metadata": {
    "scrolled": true
   },
   "outputs": [
    {
     "name": "stdout",
     "output_type": "stream",
     "text": [
      "array_quantile :  [[4.3  2.   1.1  0.1 ]\n",
      " [4.81 2.5  1.4  0.2 ]\n",
      " [5.02 2.7  1.5  0.2 ]\n",
      " [5.33 2.9  1.63 0.4 ]\n",
      " [5.6  3.   3.9  1.14]\n",
      " [5.8  3.   4.25 1.3 ]\n",
      " [6.16 3.1  4.7  1.5 ]\n",
      " [6.4  3.2  5.1  1.8 ]\n",
      " [6.7  3.4  5.48 2.  ]\n",
      " [6.99 3.6  5.8  2.29]\n",
      " [7.9  4.4  6.9  2.5 ]]\n",
      "n_rules before post-treatment :  94\n",
      "len(rules_to_keep) :  94\n",
      "np.sum(rules_to_keep) :  94\n",
      "rules_to_keep :  [1, 1, 1, 1, 1, 1, 1, 1, 1, 1, 1, 1, 1, 1, 1, 1, 1, 1, 1, 1, 1, 1, 1, 1, 1, 1, 1, 1, 1, 1, 1, 1, 1, 1, 1, 1, 1, 1, 1, 1, 1, 1, 1, 1, 1, 1, 1, 1, 1, 1, 1, 1, 1, 1, 1, 1, 1, 1, 1, 1, 1, 1, 1, 1, 1, 1, 1, 1, 1, 1, 1, 1, 1, 1, 1, 1, 1, 1, 1, 1, 1, 1, 1, 1, 1, 1, 1, 1, 1, 1, 1, 1, 1, 1]\n",
      "self.n_rules :  94\n",
      "PR AUC : 0.9769901394901396\n",
      "ROC AUC : 0.9536011080332409\n",
      "Accuracy : 0.868421052631579\n"
     ]
    }
   ],
   "source": [
    "STree = SirusDTreeClassifier(max_depth=10, random_state=0,splitter=\"quantile\")\n",
    "#unique_str_rules_test,indices_rules_test,count_rules_test = STree.fit(X_train_original,y_train)\n",
    "STree.fit(X_train_original,y_train,quantile=10)\n",
    "y_pred_sirus = STree.predict(X_test)\n",
    "y_pred_proba_sirus = STree.predict_proba(X_test)\n",
    "print('PR AUC :', average_precision_score(y_test, y_pred_proba_sirus))\n",
    "print('ROC AUC :', roc_auc_score(y_test, y_pred_proba_sirus,average='micro',multi_class='ovr'))\n",
    "print('Accuracy :', accuracy_score(y_test, y_pred_sirus))"
   ]
  },
  {
   "cell_type": "code",
   "execution_count": 98,
   "metadata": {
    "scrolled": true
   },
   "outputs": [
    {
     "name": "stdout",
     "output_type": "stream",
     "text": [
      "########\n",
      "Rules 0 \n",
      "       &( X[:,0] <= 6.400000095367432 )\n",
      "       &( X[:,1] <= 3.0 )\n",
      "       &( X[:,1] <= 2.5 )\n",
      "########\n",
      "Rules 1 \n",
      "       &( X[:,2] > 4.699999809265137 )\n",
      "       &( X[:,3] <= 1.7999999523162842 )\n",
      "########\n",
      "Rules 2 \n",
      "       &( X[:,2] <= 5.099999904632568 )\n",
      "########\n",
      "Rules 3 \n",
      "       &( X[:,3] <= 1.7999999523162842 )\n",
      "       &( X[:,2] <= 5.099999904632568 )\n",
      "########\n",
      "Rules 4 \n",
      "       &( X[:,2] <= 5.099999904632568 )\n",
      "       &( X[:,0] <= 6.400000095367432 )\n",
      "       &( X[:,1] <= 3.0 )\n",
      "########\n",
      "Rules 5 \n",
      "       &( X[:,0] <= 6.400000095367432 )\n",
      "########\n",
      "Rules 6 \n",
      "       &( X[:,2] > 5.099999904632568 )\n",
      "########\n",
      "Rules 7 \n",
      "       &( X[:,2] > 4.699999809265137 )\n",
      "########\n",
      "Rules 8 \n",
      "       &( X[:,2] > 4.699999809265137 )\n",
      "       &( X[:,3] <= 1.7999999523162842 )\n",
      "       &( X[:,2] <= 5.099999904632568 )\n",
      "       &( X[:,0] <= 6.400000095367432 )\n",
      "       &( X[:,1] <= 3.0 )\n",
      "       &( X[:,1] <= 2.5 )\n",
      "########\n",
      "Rules 9 \n",
      "       &( X[:,2] <= 5.099999904632568 )\n",
      "       &( X[:,0] > 6.400000095367432 )\n"
     ]
    }
   ],
   "source": [
    "STree.print_rules(max_rules=10)"
   ]
  },
  {
   "cell_type": "code",
   "execution_count": 99,
   "metadata": {},
   "outputs": [],
   "source": [
    "from sklearn.tree._splitter import Splitter"
   ]
  },
  {
   "cell_type": "code",
   "execution_count": 100,
   "metadata": {},
   "outputs": [],
   "source": [
    "from sklearn.tree._criterion import Criterion\n"
   ]
  },
  {
   "cell_type": "code",
   "execution_count": 101,
   "metadata": {},
   "outputs": [],
   "source": [
    "splitter = Splitter(Criterion('gini'),2,3,4,5,None)"
   ]
  },
  {
   "cell_type": "code",
   "execution_count": 102,
   "metadata": {},
   "outputs": [
    {
     "data": {
      "text/plain": [
       "True"
      ]
     },
     "execution_count": 102,
     "metadata": {},
     "output_type": "execute_result"
    }
   ],
   "source": [
    "isinstance(splitter, Splitter)"
   ]
  },
  {
   "cell_type": "code",
   "execution_count": 103,
   "metadata": {},
   "outputs": [],
   "source": [
    "splitterAbd = QuantileBestSplitter(Criterion('gini'),2,3,4,5,None)"
   ]
  },
  {
   "cell_type": "code",
   "execution_count": 104,
   "metadata": {},
   "outputs": [
    {
     "data": {
      "text/plain": [
       "True"
      ]
     },
     "execution_count": 104,
     "metadata": {},
     "output_type": "execute_result"
    }
   ],
   "source": [
    "isinstance(splitterAbd, Splitter)"
   ]
  },
  {
   "cell_type": "code",
   "execution_count": null,
   "metadata": {},
   "outputs": [],
   "source": []
  },
  {
   "cell_type": "code",
   "execution_count": null,
   "metadata": {},
   "outputs": [],
   "source": []
  },
  {
   "cell_type": "code",
   "execution_count": null,
   "metadata": {},
   "outputs": [],
   "source": []
  },
  {
   "cell_type": "code",
   "execution_count": null,
   "metadata": {},
   "outputs": [],
   "source": []
  },
  {
   "cell_type": "markdown",
   "metadata": {},
   "source": [
    "### Ensemble : "
   ]
  },
  {
   "cell_type": "code",
   "execution_count": 105,
   "metadata": {},
   "outputs": [],
   "source": [
    "from sklearn.ensemble import RandomForestClassifier,GradientBoostingClassifier"
   ]
  },
  {
   "cell_type": "code",
   "execution_count": 106,
   "metadata": {},
   "outputs": [],
   "source": [
    "from pysirus.models.basic import SirusRFClassifier,SirusGBClassifier"
   ]
  },
  {
   "cell_type": "code",
   "execution_count": 107,
   "metadata": {},
   "outputs": [
    {
     "name": "stdout",
     "output_type": "stream",
     "text": [
      "PR AUC : 0.9780937683715462\n",
      "ROC AUC : 0.996191135734072\n",
      "Accuracy : 0.9736842105263158\n"
     ]
    }
   ],
   "source": [
    "clf_rf = RandomForestClassifier(max_depth=10, random_state=0)\n",
    "clf_rf.fit(X_train_original, y_train)\n",
    "y_pred_dtree = clf_rf.predict(X_test)\n",
    "y_pred_proba_dtree = clf_rf.predict_proba(X_test)\n",
    "print('PR AUC :', average_precision_score(y_test, y_pred_proba_dtree))\n",
    "print('ROC AUC :', roc_auc_score(y_test, y_pred_proba_dtree,average='micro',multi_class='ovr'))\n",
    "print('Accuracy :', accuracy_score(y_test, y_pred_dtree))"
   ]
  },
  {
   "cell_type": "code",
   "execution_count": 108,
   "metadata": {},
   "outputs": [
    {
     "name": "stdout",
     "output_type": "stream",
     "text": [
      "PR AUC : 0.9780937683715463\n",
      "ROC AUC : 0.9920360110803325\n",
      "Accuracy : 0.9736842105263158\n"
     ]
    }
   ],
   "source": [
    "clf_gb = GradientBoostingClassifier(random_state=0)\n",
    "clf_gb.fit(X_train_original, y_train)\n",
    "y_pred_dtree = clf_gb.predict(X_test)\n",
    "y_pred_proba_dtree = clf_gb.predict_proba(X_test)\n",
    "print('PR AUC :', average_precision_score(y_test, y_pred_proba_dtree))\n",
    "print('ROC AUC :', roc_auc_score(y_test, y_pred_proba_dtree,average='micro',multi_class='ovr'))\n",
    "print('Accuracy :', accuracy_score(y_test, y_pred_dtree))"
   ]
  },
  {
   "cell_type": "code",
   "execution_count": null,
   "metadata": {},
   "outputs": [],
   "source": []
  },
  {
   "cell_type": "code",
   "execution_count": null,
   "metadata": {},
   "outputs": [],
   "source": []
  },
  {
   "cell_type": "raw",
   "metadata": {
    "scrolled": true
   },
   "source": [
    "RFSirus = SirusRFClassifier(max_depth=10, random_state=0,splitter=\"quantile\")\n",
    "start = time.time()\n",
    "RFSirus.fit(X_train_original,y_train,quantile=10)\n",
    "end = time.time()\n",
    "y_pred_sirus = RFSirus.predict(X_test)\n",
    "y_pred_proba_sirus = RFSirus.predict_proba(X_test)\n",
    "print('PR AUC :', average_precision_score(y_test, y_pred_proba_sirus))\n",
    "print('ROC AUC :', roc_auc_score(y_test, y_pred_proba_sirus,average='micro',multi_class='ovr'))\n",
    "print('Accuracy :', accuracy_score(y_test, y_pred_sirus))\n",
    "time_1 = end-start\n",
    "print('Fitting time = ',time_1 ,'s')"
   ]
  },
  {
   "cell_type": "code",
   "execution_count": 122,
   "metadata": {
    "scrolled": true
   },
   "outputs": [
    {
     "name": "stdout",
     "output_type": "stream",
     "text": [
      "array_quantile :  [[4.3  2.   1.1  0.1 ]\n",
      " [4.81 2.5  1.4  0.2 ]\n",
      " [5.02 2.7  1.5  0.2 ]\n",
      " [5.33 2.9  1.63 0.4 ]\n",
      " [5.6  3.   3.9  1.14]\n",
      " [5.8  3.   4.25 1.3 ]\n",
      " [6.16 3.1  4.7  1.5 ]\n",
      " [6.4  3.2  5.1  1.8 ]\n",
      " [6.7  3.4  5.48 2.  ]\n",
      " [6.99 3.6  5.8  2.29]\n",
      " [7.9  4.4  6.9  2.5 ]]\n",
      "n_rules before post-treatment :  53\n",
      "len(rules_to_keep) :  53\n",
      "np.sum(rules_to_keep) :  53\n",
      "rules_to_keep :  [1, 1, 1, 1, 1, 1, 1, 1, 1, 1, 1, 1, 1, 1, 1, 1, 1, 1, 1, 1, 1, 1, 1, 1, 1, 1, 1, 1, 1, 1, 1, 1, 1, 1, 1, 1, 1, 1, 1, 1, 1, 1, 1, 1, 1, 1, 1, 1, 1, 1, 1, 1, 1]\n",
      "self.n_rules :  53\n",
      "PR AUC : 0.9826058201058201\n",
      "ROC AUC : 0.9657202216066482\n",
      "Accuracy : 0.868421052631579\n",
      "Fitting time =  0.5395498275756836 s\n"
     ]
    }
   ],
   "source": [
    "RFSirus = SirusRFClassifier(max_depth=10, random_state=0,splitter=\"quantile\")\n",
    "start = time.time()\n",
    "RFSirus.fit(X_train_original,y_train,quantile=10,batch_size_post_treatment=50,p0=0.01)\n",
    "end = time.time()\n",
    "y_pred_sirus = RFSirus.predict(X_test)\n",
    "y_pred_proba_sirus = RFSirus.predict_proba(X_test)\n",
    "print('PR AUC :', average_precision_score(y_test, y_pred_proba_sirus))\n",
    "print('ROC AUC :', roc_auc_score(y_test, y_pred_proba_sirus,average='micro',multi_class='ovr'))\n",
    "print('Accuracy :', accuracy_score(y_test, y_pred_sirus))\n",
    "time_2 = end-start\n",
    "print('Fitting time = ',time_2 ,'s')"
   ]
  },
  {
   "cell_type": "code",
   "execution_count": 123,
   "metadata": {},
   "outputs": [
    {
     "data": {
      "text/plain": [
       "53"
      ]
     },
     "execution_count": 123,
     "metadata": {},
     "output_type": "execute_result"
    }
   ],
   "source": [
    "RFSirus.n_rules"
   ]
  },
  {
   "cell_type": "code",
   "execution_count": 124,
   "metadata": {
    "scrolled": true
   },
   "outputs": [
    {
     "name": "stdout",
     "output_type": "stream",
     "text": [
      "########\n",
      "Rules 0 \n",
      "       &( X[:,2] > 4.699999809265137 )\n",
      "       &( X[:,2] <= 5.099999904632568 )\n",
      "########\n",
      "Rules 1 \n",
      "       &( X[:,3] > 0.4000000059604645 )\n",
      "       &( X[:,2] <= 4.699999809265137 )\n",
      "       &( X[:,2] > 1.6299999952316284 )\n",
      "       &( X[:,0] <= 5.329999923706055 )\n",
      "       &( X[:,3] > 1.1399999856948853 )\n",
      "########\n",
      "Rules 2 \n",
      "       &( X[:,3] <= 1.7999999523162842 )\n",
      "       &( X[:,1] <= 2.9000000953674316 )\n",
      "########\n",
      "Rules 3 \n",
      "       &( X[:,2] > 1.6299999952316284 )\n",
      "       &( X[:,0] <= 5.019999980926514 )\n",
      "########\n",
      "Rules 4 \n",
      "       &( X[:,0] <= 5.329999923706055 )\n",
      "       &( X[:,0] <= 5.019999980926514 )\n",
      "########\n",
      "Rules 5 \n",
      "       &( X[:,3] <= 1.5 )\n",
      "       &( X[:,1] <= 3.200000047683716 )\n",
      "########\n",
      "Rules 6 \n",
      "       &( X[:,3] > 1.5 )\n",
      "       &( X[:,3] <= 1.7999999523162842 )\n",
      "########\n",
      "Rules 7 \n",
      "       &( X[:,2] > 4.699999809265137 )\n",
      "       &( X[:,2] <= 5.099999904632568 )\n",
      "       &( X[:,3] <= 1.7999999523162842 )\n",
      "       &( X[:,0] > 6.159999847412109 )\n",
      "       &( X[:,3] > 1.5 )\n",
      "########\n",
      "Rules 8 \n",
      "       &( X[:,3] > 1.5 )\n",
      "       &( X[:,3] <= 1.7999999523162842 )\n",
      "########\n",
      "Rules 9 \n",
      "       &( X[:,1] <= 2.9000000953674316 )\n"
     ]
    }
   ],
   "source": [
    "RFSirus.print_rules(max_rules=10)"
   ]
  },
  {
   "cell_type": "raw",
   "metadata": {
    "scrolled": true
   },
   "source": [
    "GBSirus = SirusGBClassifier(max_depth=10, random_state=0,splitter=\"best\")\n",
    "start = time.time()\n",
    "GBSirus.fit(X_train_original,y_train,quantile=10)\n",
    "end = time.time()\n",
    "y_pred_sirus = GBSirus.predict(X_test)\n",
    "y_pred_proba_sirus = GBSirus.predict_proba(X_test)\n",
    "print('PR AUC :', average_precision_score(y_test, y_pred_proba_sirus))\n",
    "print('ROC AUC :', roc_auc_score(y_test, y_pred_proba_sirus,average='micro',multi_class='ovr'))\n",
    "print('Accuracy :', accuracy_score(y_test, y_pred_sirus))\n",
    "print('GBSirus.n_rules : ',GBSirus.n_rules)\n",
    "time_3 = end-start\n",
    "print('Fitting time = ',time_3 ,'s')"
   ]
  },
  {
   "cell_type": "raw",
   "metadata": {
    "scrolled": true
   },
   "source": [
    "GBSirus.print_rules(max_rules=10)"
   ]
  },
  {
   "cell_type": "code",
   "execution_count": 125,
   "metadata": {
    "scrolled": true
   },
   "outputs": [
    {
     "name": "stdout",
     "output_type": "stream",
     "text": [
      "array_quantile :  [[4.3  2.   1.1  0.1 ]\n",
      " [4.81 2.5  1.4  0.2 ]\n",
      " [5.02 2.7  1.5  0.2 ]\n",
      " [5.33 2.9  1.63 0.4 ]\n",
      " [5.6  3.   3.9  1.14]\n",
      " [5.8  3.   4.25 1.3 ]\n",
      " [6.16 3.1  4.7  1.5 ]\n",
      " [6.4  3.2  5.1  1.8 ]\n",
      " [6.7  3.4  5.48 2.  ]\n",
      " [6.99 3.6  5.8  2.29]\n",
      " [7.9  4.4  6.9  2.5 ]]\n",
      "n_rules before post-treatment :  157\n",
      "len(rules_to_keep) :  157\n",
      "np.sum(rules_to_keep) :  155\n",
      "rules_to_keep :  [1, 1, 1, 1, 0, 1, 1, 1, 1, 1, 1, 1, 1, 1, 1, 1, 1, 1, 1, 1, 1, 1, 1, 1, 1, 1, 1, 1, 1, 1, 1, 1, 1, 1, 1, 1, 0, 1, 1, 1, 1, 1, 1, 1, 1, 1, 1, 1, 1, 1, 1, 1, 1, 1, 1, 1, 1, 1, 1, 1, 1, 1, 1, 1, 1, 1, 1, 1, 1, 1, 1, 1, 1, 1, 1, 1, 1, 1, 1, 1, 1, 1, 1, 1, 1, 1, 1, 1, 1, 1, 1, 1, 1, 1, 1, 1, 1, 1, 1, 1, 1, 1, 1, 1, 1, 1, 1, 1, 1, 1, 1, 1, 1, 1, 1, 1, 1, 1, 1, 1, 1, 1, 1, 1, 1, 1, 1, 1, 1, 1, 1, 1, 1, 1, 1, 1, 1, 1, 1, 1, 1, 1, 1, 1, 1, 1, 1, 1, 1, 1, 1, 1, 1, 1, 1, 1, 1]\n",
      "self.n_rules :  155\n",
      "PR AUC : 0.971934992431316\n",
      "Accuracy : 0.868421052631579\n",
      "GBSirus.n_rules :  155\n",
      "Fitting time =  1.2747197151184082 s\n"
     ]
    }
   ],
   "source": [
    "GBSirus = SirusGBClassifier(max_depth=10, random_state=0,splitter=\"quantile\")\n",
    "start = time.time()\n",
    "GBSirus.fit(X_train_original,y_train,quantile=10,batch_size_post_treatment=50,p0=0.01)\n",
    "end = time.time()\n",
    "y_pred_sirus = GBSirus.predict(X_test)\n",
    "y_pred_proba_sirus = GBSirus.predict_proba(X_test)\n",
    "print('PR AUC :', average_precision_score(y_test, y_pred_proba_sirus))\n",
    "print('Accuracy :', accuracy_score(y_test, y_pred_sirus))\n",
    "print('GBSirus.n_rules : ',GBSirus.n_rules)\n",
    "time_4 = end-start\n",
    "print('Fitting time = ',time_4 ,'s')"
   ]
  },
  {
   "cell_type": "code",
   "execution_count": 126,
   "metadata": {
    "scrolled": true
   },
   "outputs": [
    {
     "name": "stdout",
     "output_type": "stream",
     "text": [
      "########\n",
      "Rules 0 \n",
      "       &( X[:,2] > 4.699999809265137 )\n",
      "       &( X[:,3] <= 1.7999999523162842 )\n",
      "       &( X[:,2] <= 5.099999904632568 )\n",
      "       &( X[:,0] <= 6.400000095367432 )\n",
      "       &( X[:,1] > 3.0 )\n",
      "########\n",
      "Rules 1 \n",
      "       &( X[:,2] > 4.699999809265137 )\n",
      "       &( X[:,3] <= 1.7999999523162842 )\n",
      "       &( X[:,2] <= 5.099999904632568 )\n",
      "       &( X[:,0] <= 6.400000095367432 )\n",
      "       &( X[:,1] <= 3.0 )\n",
      "       &( X[:,1] <= 2.5 )\n",
      "########\n",
      "Rules 2 \n",
      "       &( X[:,3] > 0.4000000059604645 )\n",
      "       &( X[:,2] > 4.699999809265137 )\n",
      "########\n",
      "Rules 3 \n",
      "       &( X[:,1] <= 3.0 )\n",
      "       &( X[:,1] <= 2.5 )\n",
      "       &( X[:,0] > 6.159999847412109 )\n",
      "########\n",
      "Rules 4 \n",
      "       &( X[:,2] > 4.699999809265137 )\n",
      "       &( X[:,3] <= 1.7999999523162842 )\n",
      "       &( X[:,2] <= 5.099999904632568 )\n",
      "########\n",
      "Rules 5 \n",
      "       &( X[:,3] > 0.4000000059604645 )\n",
      "########\n",
      "Rules 6 \n",
      "       &( X[:,1] <= 3.0 )\n",
      "########\n",
      "Rules 7 \n",
      "       &( X[:,3] > 0.4000000059604645 )\n",
      "       &( X[:,2] > 4.699999809265137 )\n",
      "########\n",
      "Rules 8 \n",
      "       &( X[:,3] > 0.4000000059604645 )\n",
      "       &( X[:,2] > 4.699999809265137 )\n",
      "       &( X[:,3] <= 1.7999999523162842 )\n",
      "       &( X[:,2] <= 5.099999904632568 )\n",
      "########\n",
      "Rules 9 \n",
      "       &( X[:,3] > 0.4000000059604645 )\n",
      "       &( X[:,2] > 4.699999809265137 )\n",
      "       &( X[:,3] <= 1.7999999523162842 )\n",
      "       &( X[:,2] <= 5.099999904632568 )\n",
      "       &( X[:,0] <= 6.400000095367432 )\n",
      "       &( X[:,1] <= 3.0 )\n",
      "       &( X[:,1] > 2.5 )\n"
     ]
    }
   ],
   "source": [
    "GBSirus.print_rules(max_rules=10)"
   ]
  },
  {
   "cell_type": "code",
   "execution_count": 127,
   "metadata": {
    "scrolled": true
   },
   "outputs": [
    {
     "data": {
      "text/plain": [
       "155"
      ]
     },
     "execution_count": 127,
     "metadata": {},
     "output_type": "execute_result"
    }
   ],
   "source": [
    "GBSirus.n_rules"
   ]
  },
  {
   "cell_type": "code",
   "execution_count": 128,
   "metadata": {},
   "outputs": [
    {
     "data": {
      "text/plain": [
       "array([1.        , 1.        , 1.        , 1.        , 1.        ,\n",
       "       1.        , 1.        , 1.        , 1.        , 1.        ,\n",
       "       1.        , 1.        , 0.98709677, 1.        , 0.98709677,\n",
       "       1.        , 1.        , 1.        , 1.        , 1.        ,\n",
       "       1.        , 1.        , 1.        , 1.        , 1.        ,\n",
       "       1.        , 1.        , 1.        , 1.        , 1.        ,\n",
       "       1.        , 1.        , 1.        , 1.        , 1.        ,\n",
       "       1.        , 1.        , 1.        ])"
      ]
     },
     "execution_count": 128,
     "metadata": {},
     "output_type": "execute_result"
    }
   ],
   "source": [
    "y_pred_proba_sirus.sum(axis=1)"
   ]
  },
  {
   "cell_type": "code",
   "execution_count": 129,
   "metadata": {},
   "outputs": [
    {
     "ename": "ValueError",
     "evalue": "Target scores need to be probabilities for multiclass roc_auc, i.e. they should sum up to 1.0 over classes",
     "output_type": "error",
     "traceback": [
      "\u001b[0;31m---------------------------------------------------------------------------\u001b[0m",
      "\u001b[0;31mValueError\u001b[0m                                Traceback (most recent call last)",
      "Cell \u001b[0;32mIn[129], line 1\u001b[0m\n\u001b[0;32m----> 1\u001b[0m \u001b[38;5;28mprint\u001b[39m(\u001b[38;5;124m'\u001b[39m\u001b[38;5;124mROC AUC :\u001b[39m\u001b[38;5;124m'\u001b[39m, roc_auc_score(y_test, y_pred_proba_sirus,average\u001b[38;5;241m=\u001b[39m\u001b[38;5;124m'\u001b[39m\u001b[38;5;124mmicro\u001b[39m\u001b[38;5;124m'\u001b[39m,multi_class\u001b[38;5;241m=\u001b[39m\u001b[38;5;124m'\u001b[39m\u001b[38;5;124movr\u001b[39m\u001b[38;5;124m'\u001b[39m))\n",
      "File \u001b[0;32m~/miniconda3/envs/dev_env/lib/python3.11/site-packages/sklearn/utils/_param_validation.py:216\u001b[0m, in \u001b[0;36mvalidate_params.<locals>.decorator.<locals>.wrapper\u001b[0;34m(*args, **kwargs)\u001b[0m\n\u001b[1;32m    210\u001b[0m \u001b[38;5;28;01mtry\u001b[39;00m:\n\u001b[1;32m    211\u001b[0m     \u001b[38;5;28;01mwith\u001b[39;00m config_context(\n\u001b[1;32m    212\u001b[0m         skip_parameter_validation\u001b[38;5;241m=\u001b[39m(\n\u001b[1;32m    213\u001b[0m             prefer_skip_nested_validation \u001b[38;5;129;01mor\u001b[39;00m global_skip_validation\n\u001b[1;32m    214\u001b[0m         )\n\u001b[1;32m    215\u001b[0m     ):\n\u001b[0;32m--> 216\u001b[0m         \u001b[38;5;28;01mreturn\u001b[39;00m func(\u001b[38;5;241m*\u001b[39margs, \u001b[38;5;241m*\u001b[39m\u001b[38;5;241m*\u001b[39mkwargs)\n\u001b[1;32m    217\u001b[0m \u001b[38;5;28;01mexcept\u001b[39;00m InvalidParameterError \u001b[38;5;28;01mas\u001b[39;00m e:\n\u001b[1;32m    218\u001b[0m     \u001b[38;5;66;03m# When the function is just a wrapper around an estimator, we allow\u001b[39;00m\n\u001b[1;32m    219\u001b[0m     \u001b[38;5;66;03m# the function to delegate validation to the estimator, but we replace\u001b[39;00m\n\u001b[1;32m    220\u001b[0m     \u001b[38;5;66;03m# the name of the estimator by the name of the function in the error\u001b[39;00m\n\u001b[1;32m    221\u001b[0m     \u001b[38;5;66;03m# message to avoid confusion.\u001b[39;00m\n\u001b[1;32m    222\u001b[0m     msg \u001b[38;5;241m=\u001b[39m re\u001b[38;5;241m.\u001b[39msub(\n\u001b[1;32m    223\u001b[0m         \u001b[38;5;124mr\u001b[39m\u001b[38;5;124m\"\u001b[39m\u001b[38;5;124mparameter of \u001b[39m\u001b[38;5;124m\\\u001b[39m\u001b[38;5;124mw+ must be\u001b[39m\u001b[38;5;124m\"\u001b[39m,\n\u001b[1;32m    224\u001b[0m         \u001b[38;5;124mf\u001b[39m\u001b[38;5;124m\"\u001b[39m\u001b[38;5;124mparameter of \u001b[39m\u001b[38;5;132;01m{\u001b[39;00mfunc\u001b[38;5;241m.\u001b[39m\u001b[38;5;18m__qualname__\u001b[39m\u001b[38;5;132;01m}\u001b[39;00m\u001b[38;5;124m must be\u001b[39m\u001b[38;5;124m\"\u001b[39m,\n\u001b[1;32m    225\u001b[0m         \u001b[38;5;28mstr\u001b[39m(e),\n\u001b[1;32m    226\u001b[0m     )\n",
      "File \u001b[0;32m~/miniconda3/envs/dev_env/lib/python3.11/site-packages/sklearn/metrics/_ranking.py:635\u001b[0m, in \u001b[0;36mroc_auc_score\u001b[0;34m(y_true, y_score, average, sample_weight, max_fpr, multi_class, labels)\u001b[0m\n\u001b[1;32m    633\u001b[0m     \u001b[38;5;28;01mif\u001b[39;00m multi_class \u001b[38;5;241m==\u001b[39m \u001b[38;5;124m\"\u001b[39m\u001b[38;5;124mraise\u001b[39m\u001b[38;5;124m\"\u001b[39m:\n\u001b[1;32m    634\u001b[0m         \u001b[38;5;28;01mraise\u001b[39;00m \u001b[38;5;167;01mValueError\u001b[39;00m(\u001b[38;5;124m\"\u001b[39m\u001b[38;5;124mmulti_class must be in (\u001b[39m\u001b[38;5;124m'\u001b[39m\u001b[38;5;124movo\u001b[39m\u001b[38;5;124m'\u001b[39m\u001b[38;5;124m, \u001b[39m\u001b[38;5;124m'\u001b[39m\u001b[38;5;124movr\u001b[39m\u001b[38;5;124m'\u001b[39m\u001b[38;5;124m)\u001b[39m\u001b[38;5;124m\"\u001b[39m)\n\u001b[0;32m--> 635\u001b[0m     \u001b[38;5;28;01mreturn\u001b[39;00m _multiclass_roc_auc_score(\n\u001b[1;32m    636\u001b[0m         y_true, y_score, labels, multi_class, average, sample_weight\n\u001b[1;32m    637\u001b[0m     )\n\u001b[1;32m    638\u001b[0m \u001b[38;5;28;01melif\u001b[39;00m y_type \u001b[38;5;241m==\u001b[39m \u001b[38;5;124m\"\u001b[39m\u001b[38;5;124mbinary\u001b[39m\u001b[38;5;124m\"\u001b[39m:\n\u001b[1;32m    639\u001b[0m     labels \u001b[38;5;241m=\u001b[39m np\u001b[38;5;241m.\u001b[39munique(y_true)\n",
      "File \u001b[0;32m~/miniconda3/envs/dev_env/lib/python3.11/site-packages/sklearn/metrics/_ranking.py:708\u001b[0m, in \u001b[0;36m_multiclass_roc_auc_score\u001b[0;34m(y_true, y_score, labels, multi_class, average, sample_weight)\u001b[0m\n\u001b[1;32m    706\u001b[0m \u001b[38;5;66;03m# validation of the input y_score\u001b[39;00m\n\u001b[1;32m    707\u001b[0m \u001b[38;5;28;01mif\u001b[39;00m \u001b[38;5;129;01mnot\u001b[39;00m np\u001b[38;5;241m.\u001b[39mallclose(\u001b[38;5;241m1\u001b[39m, y_score\u001b[38;5;241m.\u001b[39msum(axis\u001b[38;5;241m=\u001b[39m\u001b[38;5;241m1\u001b[39m)):\n\u001b[0;32m--> 708\u001b[0m     \u001b[38;5;28;01mraise\u001b[39;00m \u001b[38;5;167;01mValueError\u001b[39;00m(\n\u001b[1;32m    709\u001b[0m         \u001b[38;5;124m\"\u001b[39m\u001b[38;5;124mTarget scores need to be probabilities for multiclass \u001b[39m\u001b[38;5;124m\"\u001b[39m\n\u001b[1;32m    710\u001b[0m         \u001b[38;5;124m\"\u001b[39m\u001b[38;5;124mroc_auc, i.e. they should sum up to 1.0 over classes\u001b[39m\u001b[38;5;124m\"\u001b[39m\n\u001b[1;32m    711\u001b[0m     )\n\u001b[1;32m    713\u001b[0m \u001b[38;5;66;03m# validation for multiclass parameter specifications\u001b[39;00m\n\u001b[1;32m    714\u001b[0m average_options \u001b[38;5;241m=\u001b[39m (\u001b[38;5;124m\"\u001b[39m\u001b[38;5;124mmacro\u001b[39m\u001b[38;5;124m\"\u001b[39m, \u001b[38;5;124m\"\u001b[39m\u001b[38;5;124mweighted\u001b[39m\u001b[38;5;124m\"\u001b[39m, \u001b[38;5;28;01mNone\u001b[39;00m)\n",
      "\u001b[0;31mValueError\u001b[0m: Target scores need to be probabilities for multiclass roc_auc, i.e. they should sum up to 1.0 over classes"
     ]
    }
   ],
   "source": [
    "print('ROC AUC :', roc_auc_score(y_test, y_pred_proba_sirus,average='micro',multi_class='ovr'))"
   ]
  },
  {
   "cell_type": "code",
   "execution_count": null,
   "metadata": {},
   "outputs": [],
   "source": [
    "print('a')"
   ]
  },
  {
   "cell_type": "code",
   "execution_count": null,
   "metadata": {},
   "outputs": [],
   "source": []
  },
  {
   "cell_type": "code",
   "execution_count": null,
   "metadata": {},
   "outputs": [],
   "source": []
  }
 ],
 "metadata": {
  "kernelspec": {
   "display_name": "Python 3 (ipykernel)",
   "language": "python",
   "name": "python3"
  },
  "language_info": {
   "codemirror_mode": {
    "name": "ipython",
    "version": 3
   },
   "file_extension": ".py",
   "mimetype": "text/x-python",
   "name": "python",
   "nbconvert_exporter": "python",
   "pygments_lexer": "ipython3",
   "version": "3.11.9"
  }
 },
 "nbformat": 4,
 "nbformat_minor": 4
}

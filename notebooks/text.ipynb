{
 "cells": [
  {
   "cell_type": "markdown",
   "metadata": {},
   "source": [
    "<center><h1  style=\"color:white; background-color:#000000; border-radius: 0px; padding:25px;\"> pySIRUS </h1></center>"
   ]
  },
  {
   "cell_type": "markdown",
   "metadata": {},
   "source": [
    "Notebbok de test de pysirus avec une RF.\n"
   ]
  },
  {
   "cell_type": "code",
   "execution_count": null,
   "metadata": {},
   "outputs": [],
   "source": [
    "import os\n",
    "import sys\n",
    "sys.path.insert(1, os.path.abspath(os.path.join(os.getcwd(), os.pardir)))\n",
    "import time\n",
    "\n",
    "import numpy as np\n",
    "\n",
    "from sklearn.tree import _tree, export_text,plot_tree\n",
    "from pysirus.models.basic import Node,SirusDTreeClassifier"
   ]
  },
  {
   "cell_type": "code",
   "execution_count": null,
   "metadata": {},
   "outputs": [],
   "source": [
    "print(os.getcwd())"
   ]
  },
  {
   "cell_type": "code",
   "execution_count": null,
   "metadata": {},
   "outputs": [],
   "source": [
    "os.path.join(os.getcwd(), os.pardir)"
   ]
  },
  {
   "cell_type": "code",
   "execution_count": null,
   "metadata": {},
   "outputs": [],
   "source": [
    "os.pardir"
   ]
  },
  {
   "cell_type": "code",
   "execution_count": null,
   "metadata": {},
   "outputs": [],
   "source": [
    "from sklearn import tree\n",
    "from sklearn.datasets import load_iris\n",
    "from sklearn.model_selection import train_test_split\n",
    "from sklearn.tree import DecisionTreeClassifier"
   ]
  },
  {
   "cell_type": "code",
   "execution_count": null,
   "metadata": {},
   "outputs": [],
   "source": [
    "iris = load_iris()\n",
    "X = iris.data\n",
    "y = iris.target\n",
    "X_train, X_test, y_train, y_test = train_test_split(X, y, random_state=0)"
   ]
  },
  {
   "cell_type": "code",
   "execution_count": null,
   "metadata": {},
   "outputs": [],
   "source": [
    "X_train.shape"
   ]
  },
  {
   "cell_type": "code",
   "execution_count": null,
   "metadata": {
    "scrolled": true
   },
   "outputs": [],
   "source": [
    "np.quantile(X,q=0.1,axis=0) # puis np.clip avec la liste des quantiles. \n",
    "#On replace les valeurs de chaque features par ça avec le clip. la RF est ensuite apprise sur ça"
   ]
  },
  {
   "cell_type": "code",
   "execution_count": null,
   "metadata": {
    "scrolled": true
   },
   "outputs": [],
   "source": [
    "quantile =0.1\n",
    "print(int(100//(quantile*100)))\n",
    "list_quantile = [np.quantile(X_train,q=i*quantile,axis=0) for i in range(int(100//(quantile*100))+1)]\n",
    "list_quantile"
   ]
  },
  {
   "cell_type": "code",
   "execution_count": null,
   "metadata": {},
   "outputs": [],
   "source": [
    "array_quantile = np.array(list_quantile )\n",
    "array_quantile"
   ]
  },
  {
   "cell_type": "code",
   "execution_count": null,
   "metadata": {},
   "outputs": [],
   "source": [
    "X_train_2 = X_train.copy()\n",
    "#X_train_2[:,0] = array_quantile[out,0]\n",
    "#X_train_2[:,0]"
   ]
  },
  {
   "cell_type": "code",
   "execution_count": null,
   "metadata": {},
   "outputs": [],
   "source": [
    "for dim in range(X_train.shape[1]):\n",
    "    out = np.searchsorted(array_quantile[:,dim], X_train[:,dim],side='left')\n",
    "    X_train_2[:,dim] = array_quantile[out,dim]"
   ]
  },
  {
   "cell_type": "code",
   "execution_count": null,
   "metadata": {
    "scrolled": true
   },
   "outputs": [],
   "source": [
    "X_train_2"
   ]
  },
  {
   "cell_type": "code",
   "execution_count": null,
   "metadata": {
    "scrolled": true
   },
   "outputs": [],
   "source": [
    "X_train"
   ]
  },
  {
   "cell_type": "code",
   "execution_count": null,
   "metadata": {},
   "outputs": [],
   "source": [
    "X_train_original = X_train"
   ]
  },
  {
   "cell_type": "code",
   "execution_count": null,
   "metadata": {},
   "outputs": [],
   "source": [
    "X_train = X_train_2"
   ]
  },
  {
   "cell_type": "code",
   "execution_count": null,
   "metadata": {
    "scrolled": true
   },
   "outputs": [],
   "source": [
    "X_train"
   ]
  },
  {
   "cell_type": "code",
   "execution_count": null,
   "metadata": {},
   "outputs": [],
   "source": [
    "clf = DecisionTreeClassifier(max_depth=10, random_state=0)\n",
    "clf.fit(X_train, y_train)"
   ]
  },
  {
   "cell_type": "code",
   "execution_count": null,
   "metadata": {
    "scrolled": true
   },
   "outputs": [],
   "source": [
    "tree.plot_tree(clf)"
   ]
  },
  {
   "cell_type": "markdown",
   "metadata": {},
   "source": [
    "## Essai .fit() :"
   ]
  },
  {
   "cell_type": "code",
   "execution_count": null,
   "metadata": {},
   "outputs": [],
   "source": [
    "rule = export_text(clf,feature_names=iris.feature_names,show_weights=True,max_depth=10)\n",
    "rule"
   ]
  },
  {
   "cell_type": "code",
   "execution_count": null,
   "metadata": {
    "scrolled": true
   },
   "outputs": [],
   "source": [
    "rule[1]"
   ]
  },
  {
   "cell_type": "code",
   "execution_count": null,
   "metadata": {
    "scrolled": true
   },
   "outputs": [],
   "source": [
    "print(rule)"
   ]
  },
  {
   "cell_type": "code",
   "execution_count": null,
   "metadata": {
    "scrolled": true
   },
   "outputs": [],
   "source": [
    "tree = clf.tree_\n",
    "iterator = enumerate(zip(tree.children_left, tree.children_right, tree.feature, tree.threshold, tree.value))\n",
    "for node_idx, data in iterator:\n",
    "    left, right, feature, th, value = data\n",
    "\n",
    "    # left: index of left child (if any)\n",
    "    # right: index of right child (if any)\n",
    "    # feature: index of the feature to check\n",
    "    # th: the threshold to compare against\n",
    "    # value: values associated with classes            \n",
    "\n",
    "    # for classifier, value is 0 except the index of the class to return\n",
    "    print(value)\n",
    "    class_idx = np.argmax(value[0])\n",
    "\n",
    "    if left == -1 and right == -1:\n",
    "        print('{} LEAF: return class={}'.format(node_idx, class_idx))\n",
    "    else:\n",
    "        print('{} NODE: if feature[{}] < {} then next={} else next={}'.format(node_idx, feature, th, left, right)) "
   ]
  },
  {
   "cell_type": "code",
   "execution_count": null,
   "metadata": {},
   "outputs": [],
   "source": [
    "(5,2,'R') == (5,2,'R')"
   ]
  },
  {
   "cell_type": "code",
   "execution_count": null,
   "metadata": {},
   "outputs": [],
   "source": [
    "tree.children_left[0]"
   ]
  },
  {
   "cell_type": "code",
   "execution_count": null,
   "metadata": {},
   "outputs": [],
   "source": [
    "tree.max_depth"
   ]
  },
  {
   "cell_type": "markdown",
   "metadata": {},
   "source": [
    "## Functions :"
   ]
  },
  {
   "cell_type": "code",
   "execution_count": null,
   "metadata": {},
   "outputs": [],
   "source": [
    "def explore_tree(tree,node_id,side):\n",
    "    if tree.children_left[node_id] != _tree.TREE_LEAF: # possible to add a max_depth constraint exploration value\n",
    "        id_left_child = tree.children_left[node_id]\n",
    "        id_right_child = tree.children_right[node_id]\n",
    "        #children = [\n",
    "        #        (tree.feature[id_left_child],tree.threshold[id_left_child],'L'),\n",
    "        #        (tree.feature[id_right_child],tree.threshold[id_right_child],'R'),\n",
    "        #        ]\n",
    "        children = [\n",
    "            explore_tree(tree,id_left_child,'L'),\n",
    "            explore_tree(tree,id_right_child,'R')\n",
    "        ]\n",
    "    else:\n",
    "        return Node(feature=tree.feature[node_id],treshold=tree.threshold[node_id],side=side,node_id=node_id)\n",
    "    \n",
    "    return Node(tree.feature[node_id],tree.threshold[node_id],side,node_id,*children)"
   ]
  },
  {
   "cell_type": "code",
   "execution_count": null,
   "metadata": {},
   "outputs": [],
   "source": [
    "res = explore_tree(tree=tree,node_id=0,side='Root')\n"
   ]
  },
  {
   "cell_type": "code",
   "execution_count": null,
   "metadata": {},
   "outputs": [],
   "source": [
    "res.children"
   ]
  },
  {
   "cell_type": "code",
   "execution_count": null,
   "metadata": {},
   "outputs": [],
   "source": [
    "res.children[0].feature\n",
    "\n"
   ]
  },
  {
   "cell_type": "raw",
   "metadata": {},
   "source": [
    "def generate_longest_chain_rules(tree,rule,tree_structure=[[]]):\n",
    "    \n",
    "    \n",
    "    # = [[rule_left],[rule_right]]\n",
    "    if rule.feature != -2:\n",
    "        rule_left = (rule.feature,rule.treshold,'L')\n",
    "        rule_right = (rule.feature,rule.treshold,'R')\n",
    "        n_rules = len(tree_structure)\n",
    "        tree_structure.extend(tree_structure)\n",
    "        for j in range(n_rules):\n",
    "            tree_structure[j].append(rule_left)\n",
    "            tree_structure[j+n_rules].append(rule_right)\n",
    "\n",
    "        #generate_longest_chain_rules(tree,rule,tree_structure=[[]])\n",
    "    else:\n",
    "        return tree_structure\n",
    "    \n",
    "    "
   ]
  },
  {
   "cell_type": "code",
   "execution_count": null,
   "metadata": {},
   "outputs": [],
   "source": [
    "tree_structure = [[]]\n",
    "stack = [(res,0)]  # start with the root node id (0) and its depth (0)\n",
    "depth = 0\n",
    "while len(stack) > 0:\n",
    "    curr_rule,indice_in_tree_struct = stack.pop()\n",
    "    is_split_node = (curr_rule.feature != -2)\n",
    "\n",
    "    if is_split_node:\n",
    "        rule_left = (curr_rule.feature,curr_rule.treshold,'L')\n",
    "        rule_right = (curr_rule.feature,curr_rule.treshold,'R')\n",
    "        common_path_rules = tree_structure[indice_in_tree_struct].copy()\n",
    "        common_path_rules.append(rule_right)\n",
    "        tree_structure.append(common_path_rules) ## DROITE : Ajouté à la fin\n",
    "        tree_structure[indice_in_tree_struct].append(rule_left) ## GAUCHE  : On le rajoute selon indice_in_tree_struct\n",
    "\n",
    "        stack.append((curr_rule.children[0],indice_in_tree_struct))\n",
    "        stack.append(( curr_rule.children[1],len(tree_structure)-1 ))\n",
    "    else:\n",
    "        #print('c')\n",
    "        continue"
   ]
  },
  {
   "cell_type": "code",
   "execution_count": null,
   "metadata": {
    "scrolled": true
   },
   "outputs": [],
   "source": [
    "tree_structure"
   ]
  },
  {
   "cell_type": "code",
   "execution_count": null,
   "metadata": {},
   "outputs": [],
   "source": [
    "len(tree_structure)"
   ]
  },
  {
   "cell_type": "code",
   "execution_count": null,
   "metadata": {},
   "outputs": [],
   "source": [
    "all_paths_list = []\n",
    "for i in range(len(tree_structure)):\n",
    "    #print('*****'*10)\n",
    "    #print(tree_structure[i])\n",
    "    max_size_curr_path = len(tree_structure[i])\n",
    "    #for k in range()\n",
    "    for j in range(max_size_curr_path): ## fonction\n",
    "        #print('####')\n",
    "        #print('curr sous path :', tree_structure[i][:(max_size_curr_path-j)])\n",
    "        all_paths_list.append(tree_structure[i][:(max_size_curr_path-j)])"
   ]
  },
  {
   "cell_type": "code",
   "execution_count": null,
   "metadata": {
    "scrolled": true
   },
   "outputs": [],
   "source": [
    "all_paths_list"
   ]
  },
  {
   "cell_type": "code",
   "execution_count": null,
   "metadata": {
    "scrolled": true
   },
   "outputs": [],
   "source": [
    "def split_sub_rules(path,is_removing_singleton=False):\n",
    "    list_sub_path = []\n",
    "    max_size_curr_path = len(path)\n",
    "    if is_removing_singleton:\n",
    "        int_to_add = 1\n",
    "    else:\n",
    "        int_to_add = 0\n",
    "    for j in range(max_size_curr_path-int_to_add):\n",
    "        list_sub_path.append(path[:(max_size_curr_path-j)])\n",
    "    return list_sub_path\n",
    "\n",
    "\n",
    "all_paths_list = []\n",
    "for i in range(len(tree_structure)):\n",
    "    print('*****'*10)\n",
    "    curr_path = tree_structure[i]\n",
    "    max_size_curr_path = len(curr_path)\n",
    "    \n",
    "    for k in range(max_size_curr_path):\n",
    "        list_sub_path = split_sub_rules(curr_path[k:],is_removing_singleton=False)\n",
    "        print('ici : ', list_sub_path)\n",
    "        all_paths_list.extend(list_sub_path)\n",
    "\n",
    "    ## CAS plus complexes :\n",
    "    if max_size_curr_path ==1:\n",
    "        #all_paths_list.append(curr_path)\n",
    "        print(\"SKIIIIP\")\n",
    "        continue\n",
    "    else:\n",
    "        curr_path_size_pair = ( (max_size_curr_path%2)==0)\n",
    "        print('TAIIIILLE : ',max_size_curr_path)\n",
    "\n",
    "        if curr_path_size_pair:\n",
    "            print('aa')\n",
    "            #list_sub_path = split_sub_rules(curr_path)\n",
    "            #all_paths_list.extend(list_sub_path)          \n",
    "            for k in range(1, (max_size_curr_path//2) ):\n",
    "                print('curr path : ',curr_path[k:max_size_curr_path-k])\n",
    "                list_sub_path = split_sub_rules(curr_path[k:max_size_curr_path-k],is_removing_singleton=True)\n",
    "                print('list_sub_path : ',list_sub_path)\n",
    "                all_paths_list.extend(list_sub_path)\n",
    "        else:\n",
    "            print('b')\n",
    "            #list_sub_path = split_sub_rules(curr_path)\n",
    "            #all_paths_list.extend(list_sub_path)\n",
    "            for k in range(1,(max_size_curr_path//2) ):\n",
    "                print('curr path : ',curr_path[k:max_size_curr_path-k])\n",
    "                list_sub_path = split_sub_rules(curr_path[k:max_size_curr_path-k],is_removing_singleton=True)\n",
    "                all_paths_list.extend(list_sub_path)\n",
    "                print('list_sub_path : ',list_sub_path)\n",
    "                if k == (max_size_curr_path//2): #case odd last \n",
    "                    list_sub_path = split_sub_rules(curr_path[k:max_size_curr_path-(k-1)],is_removing_singleton=True)\n",
    "                    print('list_sub_path : ',list_sub_path)\n",
    "                    all_paths_list.extend(list_sub_path)\n",
    "    print('end iteration all_paths_list : ',all_paths_list)\n",
    "        "
   ]
  },
  {
   "cell_type": "code",
   "execution_count": null,
   "metadata": {},
   "outputs": [],
   "source": [
    "len(tree_structure)"
   ]
  },
  {
   "cell_type": "code",
   "execution_count": null,
   "metadata": {},
   "outputs": [],
   "source": [
    "3 // 2"
   ]
  },
  {
   "cell_type": "code",
   "execution_count": null,
   "metadata": {},
   "outputs": [],
   "source": [
    "tree_structure[1]"
   ]
  },
  {
   "cell_type": "code",
   "execution_count": null,
   "metadata": {},
   "outputs": [],
   "source": [
    "tree_structure[1][1:-1]"
   ]
  },
  {
   "cell_type": "code",
   "execution_count": null,
   "metadata": {
    "scrolled": true
   },
   "outputs": [],
   "source": [
    "all_paths_list"
   ]
  },
  {
   "cell_type": "code",
   "execution_count": null,
   "metadata": {},
   "outputs": [],
   "source": [
    "len(all_paths_list)"
   ]
  },
  {
   "cell_type": "code",
   "execution_count": null,
   "metadata": {},
   "outputs": [],
   "source": [
    "print(len(tree_structure[0]),len(tree_structure[1]),len(tree_structure[2]),len(tree_structure[3]),len(tree_structure[4]),\n",
    "     len(tree_structure[5]),len(tree_structure[6]))"
   ]
  },
  {
   "cell_type": "code",
   "execution_count": null,
   "metadata": {},
   "outputs": [],
   "source": [
    "import math"
   ]
  },
  {
   "cell_type": "code",
   "execution_count": null,
   "metadata": {},
   "outputs": [],
   "source": [
    "1 + (3*4)/2 + (4*5/2)+1 + 3*4/2 + (4*5/2)+1 + (4*5/2)+1 + (4*5/2)+1"
   ]
  },
  {
   "cell_type": "code",
   "execution_count": null,
   "metadata": {},
   "outputs": [],
   "source": [
    "1 + 6 + 11 + 6 + 11 + 11 + 11"
   ]
  },
  {
   "cell_type": "code",
   "execution_count": null,
   "metadata": {},
   "outputs": [],
   "source": [
    "all_paths_list_str = [str(elem) for elem in all_paths_list]"
   ]
  },
  {
   "cell_type": "code",
   "execution_count": null,
   "metadata": {},
   "outputs": [],
   "source": [
    "unique_str_rules,indices_rules,count_rules = np.unique(all_paths_list_str,return_counts=True,return_index=True)"
   ]
  },
  {
   "cell_type": "code",
   "execution_count": null,
   "metadata": {
    "scrolled": true
   },
   "outputs": [],
   "source": [
    "unique_str_rules"
   ]
  },
  {
   "cell_type": "code",
   "execution_count": null,
   "metadata": {},
   "outputs": [],
   "source": [
    "len(unique_str_rules)"
   ]
  },
  {
   "cell_type": "code",
   "execution_count": null,
   "metadata": {},
   "outputs": [],
   "source": [
    "count_rules"
   ]
  },
  {
   "cell_type": "code",
   "execution_count": null,
   "metadata": {},
   "outputs": [],
   "source": [
    "-np.sort(-(count_rules / len(count_rules))) > 0.09"
   ]
  },
  {
   "cell_type": "code",
   "execution_count": null,
   "metadata": {},
   "outputs": [],
   "source": [
    "(-np.sort(-(count_rules / len(count_rules))) > 0.09).sum()"
   ]
  },
  {
   "cell_type": "code",
   "execution_count": null,
   "metadata": {},
   "outputs": [],
   "source": [
    "len(count_rules)"
   ]
  },
  {
   "cell_type": "code",
   "execution_count": null,
   "metadata": {},
   "outputs": [],
   "source": [
    "count_rules[23]"
   ]
  },
  {
   "cell_type": "code",
   "execution_count": null,
   "metadata": {},
   "outputs": [],
   "source": [
    "indices_rules"
   ]
  },
  {
   "cell_type": "code",
   "execution_count": null,
   "metadata": {},
   "outputs": [],
   "source": [
    "np.sort(-count_rules)"
   ]
  },
  {
   "cell_type": "code",
   "execution_count": null,
   "metadata": {},
   "outputs": [],
   "source": [
    "count_sort_ind = np.argsort(-count_rules)\n",
    "count_sort_ind"
   ]
  },
  {
   "cell_type": "code",
   "execution_count": null,
   "metadata": {},
   "outputs": [],
   "source": [
    "count_sort_ind[:10]"
   ]
  },
  {
   "cell_type": "code",
   "execution_count": null,
   "metadata": {},
   "outputs": [],
   "source": [
    "count_sort_ind[:1]"
   ]
  },
  {
   "cell_type": "code",
   "execution_count": null,
   "metadata": {},
   "outputs": [],
   "source": [
    "all_paths_list[47]"
   ]
  },
  {
   "cell_type": "code",
   "execution_count": null,
   "metadata": {},
   "outputs": [],
   "source": [
    "all_paths_list[81]"
   ]
  },
  {
   "cell_type": "markdown",
   "metadata": {},
   "source": [
    "selected_rules_indices = count_sort_ind[:10]\n",
    "selected_rules = [all_paths_list[i] for i in selected_rules_indices] ## pas utile ici. Le faire en bas.\n",
    "selected_rules"
   ]
  },
  {
   "cell_type": "code",
   "execution_count": null,
   "metadata": {},
   "outputs": [],
   "source": [
    "def from_rules_to_constraint(rule):\n",
    "    dimension = rule[0]\n",
    "    treshold = rule[1]\n",
    "    sign = rule[2]\n",
    "    return dimension,treshold,sign"
   ]
  },
  {
   "cell_type": "code",
   "execution_count": null,
   "metadata": {},
   "outputs": [],
   "source": [
    "dimension,treshold,sign = from_rules_to_constraint(rule=all_paths_list[47][0])\n",
    "dimension,treshold,sign"
   ]
  },
  {
   "cell_type": "code",
   "execution_count": null,
   "metadata": {},
   "outputs": [],
   "source": [
    "(X_train[:,dimension]<=treshold)"
   ]
  },
  {
   "cell_type": "code",
   "execution_count": null,
   "metadata": {},
   "outputs": [],
   "source": [
    "(X_train[:,dimension]<=treshold) & (X_train[:,dimension]<=treshold-1)"
   ]
  },
  {
   "cell_type": "code",
   "execution_count": null,
   "metadata": {},
   "outputs": [],
   "source": [
    "((X_train[:,dimension]<=treshold) & (X_train[:,dimension]<=treshold-1)).shape"
   ]
  },
  {
   "cell_type": "code",
   "execution_count": null,
   "metadata": {},
   "outputs": [],
   "source": [
    "X_train.shape"
   ]
  },
  {
   "cell_type": "code",
   "execution_count": null,
   "metadata": {},
   "outputs": [],
   "source": [
    "X_train[(X_train[:,dimension]<=treshold) & (X_train[:,dimension]<=treshold-1)]"
   ]
  },
  {
   "cell_type": "code",
   "execution_count": null,
   "metadata": {},
   "outputs": [],
   "source": []
  },
  {
   "cell_type": "code",
   "execution_count": null,
   "metadata": {},
   "outputs": [],
   "source": [
    "def generate_single_rule_mask(X,dimension,treshold,sign):\n",
    "    if sign=='L':\n",
    "        return (X[:,dimension]<=treshold) #.mean()\n",
    "    else:\n",
    "        return (X[:,dimension]>treshold)#.mean()\n"
   ]
  },
  {
   "cell_type": "code",
   "execution_count": null,
   "metadata": {
    "scrolled": true
   },
   "outputs": [],
   "source": [
    "from operator import and_\n",
    "from functools import reduce\n",
    "from collections import Counter\n",
    "list_mask_by_rules = []\n",
    "for indice in count_sort_ind[:10]:#for loop for getting all the values in train passing the rules\n",
    "    current_rules = all_paths_list[indice]\n",
    "    list_mask=[]\n",
    "    for j in range(len(current_rules)):\n",
    "        print(current_rules)\n",
    "        print(current_rules[j])\n",
    "        dimension,treshold,sign = from_rules_to_constraint(rule=current_rules[j])\n",
    "        mask = generate_single_rule_mask(X=X_train,dimension=dimension,treshold=treshold,sign=sign)\n",
    "        list_mask.append(mask)\n",
    "    final_mask = reduce(and_, list_mask)\n",
    "    list_mask_by_rules.append(final_mask)\n",
    "    print(\"########\")\n",
    "    #print((y_train[final_mask]).sum() / len(y_train[final_mask])) #binary case\n",
    "    n_classe=3\n",
    "    y_train_rule = y_train[final_mask]\n",
    "    print(y_train_rule)\n",
    "    for cl in range(n_classe):# nb de classe\n",
    "        print('Class ',cl,' : ',len(y_train_rule[y_train_rule==cl]) / len(y_train_rule)) #binary case\n",
    "    print(Counter(y_train_rule))\n",
    "    print(Counter(y_train_rule).most_common(1)[0][0])\n",
    "    "
   ]
  },
  {
   "cell_type": "code",
   "execution_count": null,
   "metadata": {},
   "outputs": [],
   "source": [
    "np.unique(y_train)"
   ]
  },
  {
   "cell_type": "code",
   "execution_count": null,
   "metadata": {},
   "outputs": [],
   "source": [
    "np.mean(list_mask_by_rules,axis=1)"
   ]
  },
  {
   "cell_type": "code",
   "execution_count": null,
   "metadata": {},
   "outputs": [],
   "source": [
    "np.mean(list_mask_by_rules,axis=1).argmax()"
   ]
  },
  {
   "cell_type": "code",
   "execution_count": null,
   "metadata": {},
   "outputs": [],
   "source": [
    "np.mean(list_mask_by_rules,axis=1)"
   ]
  },
  {
   "cell_type": "code",
   "execution_count": null,
   "metadata": {},
   "outputs": [],
   "source": [
    "y_train.dtype"
   ]
  },
  {
   "cell_type": "code",
   "execution_count": null,
   "metadata": {
    "scrolled": true
   },
   "outputs": [],
   "source": [
    "y_train.dtype == int"
   ]
  },
  {
   "cell_type": "code",
   "execution_count": null,
   "metadata": {},
   "outputs": [],
   "source": [
    "all_paths_list[:10]"
   ]
  },
  {
   "cell_type": "code",
   "execution_count": null,
   "metadata": {},
   "outputs": [],
   "source": [
    "def get_probas_rules(X,rules):\n",
    "    list_mask=[]\n",
    "    for j in range(len(rules)):\n",
    "        dimension,treshold,sign = from_rules_to_constraint(rule=rules[j])\n",
    "        mask = generate_single_rule_mask(X=X,dimension=dimension,treshold=treshold,sign=sign)\n",
    "        list_mask.append(mask)\n",
    "    final_mask = reduce(and_, list_mask)\n",
    "    return final_mask\n",
    "    "
   ]
  },
  {
   "cell_type": "code",
   "execution_count": null,
   "metadata": {},
   "outputs": [],
   "source": [
    "aa = [2,3,4]\n",
    "bb = [4,6,8]"
   ]
  },
  {
   "cell_type": "code",
   "execution_count": null,
   "metadata": {
    "scrolled": true
   },
   "outputs": [],
   "source": [
    "cc = np.array([np.random.uniform(low=aa[i],high=bb[i],size=(10)) for i in range(len(aa))]).T\n",
    "cc"
   ]
  },
  {
   "cell_type": "code",
   "execution_count": null,
   "metadata": {},
   "outputs": [],
   "source": [
    "cc.T"
   ]
  },
  {
   "cell_type": "code",
   "execution_count": null,
   "metadata": {},
   "outputs": [],
   "source": [
    "cc .shape"
   ]
  },
  {
   "cell_type": "code",
   "execution_count": null,
   "metadata": {},
   "outputs": [],
   "source": [
    "probas = np.zeros(len(all_paths_list[:10]))\n",
    "for i,rules in enumerate(all_paths_list[:10]):\n",
    "    mask = get_probas_rules(X=X_train,rules=rules)\n",
    "    X_train_valid = X_train[mask]\n",
    "    probas[i] = len(X_train_valid) / len(X_train)\n",
    "probas    "
   ]
  },
  {
   "cell_type": "code",
   "execution_count": null,
   "metadata": {},
   "outputs": [],
   "source": [
    "all_paths_list[0]"
   ]
  },
  {
   "cell_type": "code",
   "execution_count": null,
   "metadata": {},
   "outputs": [],
   "source": [
    "all_paths_list[1]"
   ]
  },
  {
   "cell_type": "code",
   "execution_count": null,
   "metadata": {},
   "outputs": [],
   "source": [
    "aa= [1,2,3,4,5,6]\n",
    "aa[3:8]"
   ]
  },
  {
   "cell_type": "code",
   "execution_count": null,
   "metadata": {},
   "outputs": [],
   "source": [
    "all_paths_list[0]+all_paths_list[1]"
   ]
  },
  {
   "cell_type": "code",
   "execution_count": null,
   "metadata": {},
   "outputs": [],
   "source": [
    "if not False:\n",
    "    print('a')"
   ]
  },
  {
   "cell_type": "markdown",
   "metadata": {},
   "source": [
    "## Class : "
   ]
  },
  {
   "cell_type": "markdown",
   "metadata": {},
   "source": [
    "### Dtree :"
   ]
  },
  {
   "cell_type": "code",
   "execution_count": null,
   "metadata": {},
   "outputs": [],
   "source": [
    "from sklearn.metrics import average_precision_score, accuracy_score,roc_auc_score"
   ]
  },
  {
   "cell_type": "code",
   "execution_count": null,
   "metadata": {},
   "outputs": [],
   "source": [
    "from pysirus.models._QuantileSplitter import QuantileBestSplitter"
   ]
  },
  {
   "cell_type": "code",
   "execution_count": null,
   "metadata": {},
   "outputs": [],
   "source": [
    "X_train_original"
   ]
  },
  {
   "cell_type": "code",
   "execution_count": null,
   "metadata": {},
   "outputs": [],
   "source": [
    "clf_dtree = DecisionTreeClassifier(max_depth=10, random_state=0)\n",
    "clf_dtree.fit(X_train_original, y_train)\n",
    "y_pred_dtree = clf_dtree.predict(X_test)\n",
    "y_pred_proba_dtree = clf_dtree.predict_proba(X_test)\n",
    "print('PR AUC :', average_precision_score(y_test, y_pred_proba_dtree))\n",
    "print('ROC AUC :', roc_auc_score(y_test, y_pred_proba_dtree,average='micro',multi_class='ovr'))\n",
    "print('Accuracy :', accuracy_score(y_test, y_pred_dtree))"
   ]
  },
  {
   "cell_type": "code",
   "execution_count": null,
   "metadata": {
    "scrolled": true
   },
   "outputs": [],
   "source": [
    "STree = SirusDTreeClassifier(max_depth=10, random_state=0)\n",
    "#unique_str_rules_test,indices_rules_test,count_rules_test = STree.fit(X_train_original,y_train)\n",
    "STree.fit(X_train_original,y_train,quantile=10)"
   ]
  },
  {
   "cell_type": "code",
   "execution_count": null,
   "metadata": {
    "scrolled": true
   },
   "outputs": [],
   "source": [
    "STree.print_rules(max_rules=10)"
   ]
  },
  {
   "cell_type": "code",
   "execution_count": null,
   "metadata": {
    "scrolled": true
   },
   "outputs": [],
   "source": [
    "y_pred_sirus = STree.predict(X_test)\n",
    "y_pred_proba_sirus = STree.predict_proba(X_test)\n",
    "print('PR AUC :', average_precision_score(y_test, y_pred_proba_sirus))\n",
    "print('ROC AUC :', roc_auc_score(y_test, y_pred_proba_sirus,average='micro',multi_class='ovr'))\n",
    "print('Accuracy :', accuracy_score(y_test, y_pred_sirus))"
   ]
  },
  {
   "cell_type": "code",
   "execution_count": null,
   "metadata": {
    "scrolled": true
   },
   "outputs": [],
   "source": [
    "STree = SirusDTreeClassifier(max_depth=10, random_state=0,splitter=\"quantile\")\n",
    "#unique_str_rules_test,indices_rules_test,count_rules_test = STree.fit(X_train_original,y_train)\n",
    "STree.fit(X_train_original,y_train,quantile=10)\n",
    "y_pred_sirus = STree.predict(X_test)\n",
    "y_pred_proba_sirus = STree.predict_proba(X_test)\n",
    "print('PR AUC :', average_precision_score(y_test, y_pred_proba_sirus))\n",
    "print('ROC AUC :', roc_auc_score(y_test, y_pred_proba_sirus,average='micro',multi_class='ovr'))\n",
    "print('Accuracy :', accuracy_score(y_test, y_pred_sirus))"
   ]
  },
  {
   "cell_type": "code",
   "execution_count": null,
   "metadata": {
    "scrolled": true
   },
   "outputs": [],
   "source": [
    "STree.print_rules(max_rules=10)"
   ]
  },
  {
   "cell_type": "code",
   "execution_count": null,
   "metadata": {},
   "outputs": [],
   "source": [
    "from sklearn.tree._splitter import Splitter"
   ]
  },
  {
   "cell_type": "code",
   "execution_count": null,
   "metadata": {},
   "outputs": [],
   "source": [
    "from sklearn.tree._criterion import Criterion\n"
   ]
  },
  {
   "cell_type": "code",
   "execution_count": null,
   "metadata": {},
   "outputs": [],
   "source": [
    "splitter = Splitter(Criterion('gini'),2,3,4,5,None)"
   ]
  },
  {
   "cell_type": "code",
   "execution_count": null,
   "metadata": {},
   "outputs": [],
   "source": [
    "isinstance(splitter, Splitter)"
   ]
  },
  {
   "cell_type": "code",
   "execution_count": null,
   "metadata": {},
   "outputs": [],
   "source": [
    "splitterAbd = QuantileBestSplitter(Criterion('gini'),2,3,4,5,None)"
   ]
  },
  {
   "cell_type": "code",
   "execution_count": null,
   "metadata": {},
   "outputs": [],
   "source": [
    "isinstance(splitterAbd, Splitter)"
   ]
  },
  {
   "cell_type": "code",
   "execution_count": null,
   "metadata": {},
   "outputs": [],
   "source": []
  },
  {
   "cell_type": "code",
   "execution_count": null,
   "metadata": {},
   "outputs": [],
   "source": []
  },
  {
   "cell_type": "code",
   "execution_count": null,
   "metadata": {},
   "outputs": [],
   "source": []
  },
  {
   "cell_type": "code",
   "execution_count": null,
   "metadata": {},
   "outputs": [],
   "source": []
  },
  {
   "cell_type": "markdown",
   "metadata": {},
   "source": [
    "### Ensemble : "
   ]
  },
  {
   "cell_type": "code",
   "execution_count": null,
   "metadata": {},
   "outputs": [],
   "source": [
    "from sklearn.ensemble import RandomForestClassifier,GradientBoostingClassifier"
   ]
  },
  {
   "cell_type": "code",
   "execution_count": null,
   "metadata": {},
   "outputs": [],
   "source": [
    "from pysirus.models.basic import SirusRFClassifier,SirusGBClassifier"
   ]
  },
  {
   "cell_type": "code",
   "execution_count": null,
   "metadata": {},
   "outputs": [],
   "source": [
    "clf_rf = RandomForestClassifier(max_depth=10, random_state=0)\n",
    "clf_rf.fit(X_train_original, y_train)\n",
    "y_pred_dtree = clf_rf.predict(X_test)\n",
    "y_pred_proba_dtree = clf_rf.predict_proba(X_test)\n",
    "print('PR AUC :', average_precision_score(y_test, y_pred_proba_dtree))\n",
    "print('ROC AUC :', roc_auc_score(y_test, y_pred_proba_dtree,average='micro',multi_class='ovr'))\n",
    "print('Accuracy :', accuracy_score(y_test, y_pred_dtree))"
   ]
  },
  {
   "cell_type": "code",
   "execution_count": null,
   "metadata": {},
   "outputs": [],
   "source": [
    "clf_gb = GradientBoostingClassifier(random_state=0)\n",
    "clf_gb.fit(X_train_original, y_train)\n",
    "y_pred_dtree = clf_gb.predict(X_test)\n",
    "y_pred_proba_dtree = clf_gb.predict_proba(X_test)\n",
    "print('PR AUC :', average_precision_score(y_test, y_pred_proba_dtree))\n",
    "print('ROC AUC :', roc_auc_score(y_test, y_pred_proba_dtree,average='micro',multi_class='ovr'))\n",
    "print('Accuracy :', accuracy_score(y_test, y_pred_dtree))"
   ]
  },
  {
   "cell_type": "code",
   "execution_count": null,
   "metadata": {},
   "outputs": [],
   "source": []
  },
  {
   "cell_type": "code",
   "execution_count": null,
   "metadata": {},
   "outputs": [],
   "source": []
  },
  {
   "cell_type": "raw",
   "metadata": {
    "scrolled": true
   },
   "source": [
    "RFSirus = SirusRFClassifier(max_depth=10, random_state=0,splitter=\"quantile\")\n",
    "start = time.time()\n",
    "RFSirus.fit(X_train_original,y_train,quantile=10)\n",
    "end = time.time()\n",
    "y_pred_sirus = RFSirus.predict(X_test)\n",
    "y_pred_proba_sirus = RFSirus.predict_proba(X_test)\n",
    "print('PR AUC :', average_precision_score(y_test, y_pred_proba_sirus))\n",
    "print('ROC AUC :', roc_auc_score(y_test, y_pred_proba_sirus,average='micro',multi_class='ovr'))\n",
    "print('Accuracy :', accuracy_score(y_test, y_pred_sirus))\n",
    "time_1 = end-start\n",
    "print('Fitting time = ',time_1 ,'s')"
   ]
  },
  {
   "cell_type": "code",
   "execution_count": null,
   "metadata": {
    "scrolled": true
   },
   "outputs": [],
   "source": [
    "RFSirus = SirusRFClassifier(max_depth=10, random_state=0,splitter=\"quantile\")\n",
    "start = time.time()\n",
    "RFSirus.fit(X_train_original,y_train,quantile=10,batch_size_post_treatment=50,p0=0.01)\n",
    "end = time.time()\n",
    "y_pred_sirus = RFSirus.predict(X_test)\n",
    "y_pred_proba_sirus = RFSirus.predict_proba(X_test)\n",
    "print('PR AUC :', average_precision_score(y_test, y_pred_proba_sirus))\n",
    "print('ROC AUC :', roc_auc_score(y_test, y_pred_proba_sirus,average='micro',multi_class='ovr'))\n",
    "print('Accuracy :', accuracy_score(y_test, y_pred_sirus))\n",
    "time_2 = end-start\n",
    "print('Fitting time = ',time_2 ,'s')"
   ]
  },
  {
   "cell_type": "code",
   "execution_count": null,
   "metadata": {},
   "outputs": [],
   "source": [
    "RFSirus.n_rules"
   ]
  },
  {
   "cell_type": "code",
   "execution_count": null,
   "metadata": {
    "scrolled": true
   },
   "outputs": [],
   "source": [
    "RFSirus.print_rules(max_rules=10)"
   ]
  },
  {
   "cell_type": "raw",
   "metadata": {
    "scrolled": true
   },
   "source": [
    "GBSirus = SirusGBClassifier(max_depth=10, random_state=0,splitter=\"best\")\n",
    "start = time.time()\n",
    "GBSirus.fit(X_train_original,y_train,quantile=10)\n",
    "end = time.time()\n",
    "y_pred_sirus = GBSirus.predict(X_test)\n",
    "y_pred_proba_sirus = GBSirus.predict_proba(X_test)\n",
    "print('PR AUC :', average_precision_score(y_test, y_pred_proba_sirus))\n",
    "print('ROC AUC :', roc_auc_score(y_test, y_pred_proba_sirus,average='micro',multi_class='ovr'))\n",
    "print('Accuracy :', accuracy_score(y_test, y_pred_sirus))\n",
    "print('GBSirus.n_rules : ',GBSirus.n_rules)\n",
    "time_3 = end-start\n",
    "print('Fitting time = ',time_3 ,'s')"
   ]
  },
  {
   "cell_type": "raw",
   "metadata": {
    "scrolled": true
   },
   "source": [
    "GBSirus.print_rules(max_rules=10)"
   ]
  },
  {
   "cell_type": "code",
   "execution_count": null,
   "metadata": {
    "scrolled": true
   },
   "outputs": [],
   "source": [
    "GBSirus = SirusGBClassifier(max_depth=10, random_state=0,splitter=\"quantile\")\n",
    "start = time.time()\n",
    "GBSirus.fit(X_train_original,y_train,quantile=10,batch_size_post_treatment=50,p0=0.01)\n",
    "end = time.time()\n",
    "y_pred_sirus = GBSirus.predict(X_test)\n",
    "y_pred_proba_sirus = GBSirus.predict_proba(X_test)\n",
    "print('PR AUC :', average_precision_score(y_test, y_pred_proba_sirus))\n",
    "print('Accuracy :', accuracy_score(y_test, y_pred_sirus))\n",
    "print('GBSirus.n_rules : ',GBSirus.n_rules)\n",
    "time_4 = end-start\n",
    "print('Fitting time = ',time_4 ,'s')"
   ]
  },
  {
   "cell_type": "code",
   "execution_count": null,
   "metadata": {
    "scrolled": true
   },
   "outputs": [],
   "source": [
    "GBSirus.print_rules(max_rules=10)"
   ]
  },
  {
   "cell_type": "code",
   "execution_count": null,
   "metadata": {
    "scrolled": true
   },
   "outputs": [],
   "source": [
    "GBSirus.n_rules"
   ]
  },
  {
   "cell_type": "code",
   "execution_count": null,
   "metadata": {},
   "outputs": [],
   "source": [
    "y_pred_proba_sirus.sum(axis=1)"
   ]
  },
  {
   "cell_type": "code",
   "execution_count": null,
   "metadata": {},
   "outputs": [],
   "source": [
    "print('ROC AUC :', roc_auc_score(y_test, y_pred_proba_sirus,average='micro',multi_class='ovr'))"
   ]
  },
  {
   "cell_type": "code",
   "execution_count": null,
   "metadata": {},
   "outputs": [],
   "source": [
    "print('a')"
   ]
  },
  {
   "cell_type": "code",
   "execution_count": null,
   "metadata": {},
   "outputs": [],
   "source": []
  },
  {
   "cell_type": "code",
   "execution_count": null,
   "metadata": {},
   "outputs": [],
   "source": []
  }
 ],
 "metadata": {
  "kernelspec": {
   "display_name": "Python 3 (ipykernel)",
   "language": "python",
   "name": "python3"
  },
  "language_info": {
   "codemirror_mode": {
    "name": "ipython",
    "version": 3
   },
   "file_extension": ".py",
   "mimetype": "text/x-python",
   "name": "python",
   "nbconvert_exporter": "python",
   "pygments_lexer": "ipython3",
   "version": "3.11.9"
  }
 },
 "nbformat": 4,
 "nbformat_minor": 4
}
